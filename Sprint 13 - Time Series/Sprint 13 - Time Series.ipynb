{
 "cells": [
  {
   "cell_type": "markdown",
   "metadata": {},
   "source": [
    "# Time Series\n",
    "\n",
    "Sweet Lift Taxi company has collected historical data on taxi orders at airports. To attract more drivers during peak hours, we need to predict the amount of taxi orders for the next hour. Build a model for such a prediction.\n",
    "\n",
    "The RMSE metric on the test set should not be more than 48.\n",
    "\n",
    "## Project instructions\n",
    "\n",
    "1. Download the data and resample it by one hour.\n",
    "2. Analyze the data.\n",
    "3. Train different models with different hyperparameters. The test sample should be 10% of the initial dataset. \n",
    "4. Test the data using the test sample and provide a conclusion.\n",
    "\n",
    "## Data description\n",
    "\n",
    "The data is stored in file `taxi.csv`. The number of orders is in the '*num_orders*' column."
   ]
  },
  {
   "cell_type": "markdown",
   "metadata": {},
   "source": [
    "## Preparation"
   ]
  },
  {
   "cell_type": "code",
   "execution_count": 1,
   "metadata": {},
   "outputs": [],
   "source": [
    "import numpy as np\n",
    "import pandas as pd\n",
    "import matplotlib.pyplot as plt\n",
    "import seaborn as sns\n",
    "\n",
    "from sklearn.model_selection import train_test_split, GridSearchCV, TimeSeriesSplit\n",
    "from sklearn.metrics import mean_squared_error\n",
    "from sklearn.linear_model import LinearRegression\n",
    "from sklearn.tree import DecisionTreeRegressor\n",
    "from sklearn.ensemble import RandomForestRegressor\n",
    "\n",
    "from statsmodels.graphics.tsaplots import plot_acf\n",
    "from statsmodels.graphics.tsaplots import plot_pacf\n",
    "from statsmodels.tsa.seasonal import seasonal_decompose\n",
    "from statsmodels.tsa.arima.model import ARIMA\n",
    "from pmdarima import auto_arima"
   ]
  },
  {
   "cell_type": "code",
   "execution_count": 2,
   "metadata": {
    "scrolled": false
   },
   "outputs": [
    {
     "name": "stdout",
     "output_type": "stream",
     "text": [
      "True\n",
      "<class 'pandas.core.frame.DataFrame'>\n",
      "DatetimeIndex: 26496 entries, 2018-03-01 00:00:00 to 2018-08-31 23:50:00\n",
      "Data columns (total 1 columns):\n",
      " #   Column      Non-Null Count  Dtype\n",
      "---  ------      --------------  -----\n",
      " 0   num_orders  26496 non-null  int64\n",
      "dtypes: int64(1)\n",
      "memory usage: 414.0 KB\n"
     ]
    },
    {
     "data": {
      "text/html": [
       "<div>\n",
       "<style scoped>\n",
       "    .dataframe tbody tr th:only-of-type {\n",
       "        vertical-align: middle;\n",
       "    }\n",
       "\n",
       "    .dataframe tbody tr th {\n",
       "        vertical-align: top;\n",
       "    }\n",
       "\n",
       "    .dataframe thead th {\n",
       "        text-align: right;\n",
       "    }\n",
       "</style>\n",
       "<table border=\"1\" class=\"dataframe\">\n",
       "  <thead>\n",
       "    <tr style=\"text-align: right;\">\n",
       "      <th></th>\n",
       "      <th>num_orders</th>\n",
       "    </tr>\n",
       "    <tr>\n",
       "      <th>datetime</th>\n",
       "      <th></th>\n",
       "    </tr>\n",
       "  </thead>\n",
       "  <tbody>\n",
       "    <tr>\n",
       "      <th>2018-03-01 00:00:00</th>\n",
       "      <td>9</td>\n",
       "    </tr>\n",
       "    <tr>\n",
       "      <th>2018-03-01 00:10:00</th>\n",
       "      <td>14</td>\n",
       "    </tr>\n",
       "    <tr>\n",
       "      <th>2018-03-01 00:20:00</th>\n",
       "      <td>28</td>\n",
       "    </tr>\n",
       "    <tr>\n",
       "      <th>2018-03-01 00:30:00</th>\n",
       "      <td>20</td>\n",
       "    </tr>\n",
       "    <tr>\n",
       "      <th>2018-03-01 00:40:00</th>\n",
       "      <td>32</td>\n",
       "    </tr>\n",
       "  </tbody>\n",
       "</table>\n",
       "</div>"
      ],
      "text/plain": [
       "                     num_orders\n",
       "datetime                       \n",
       "2018-03-01 00:00:00           9\n",
       "2018-03-01 00:10:00          14\n",
       "2018-03-01 00:20:00          28\n",
       "2018-03-01 00:30:00          20\n",
       "2018-03-01 00:40:00          32"
      ]
     },
     "execution_count": 2,
     "metadata": {},
     "output_type": "execute_result"
    }
   ],
   "source": [
    "data = pd.read_csv('taxi.csv', index_col=[0], parse_dates=[0])\n",
    "data.sort_index(inplace=True)\n",
    "print(data.index.is_monotonic)\n",
    "data.info()\n",
    "data.head()"
   ]
  },
  {
   "cell_type": "markdown",
   "metadata": {},
   "source": [
    "The time series contains 2 columns with 26496 entries each, with no missing values. \n",
    "\n",
    "**Index:**\n",
    "- `datetime` - datetime data stored in 10 minute increments\n",
    "\n",
    "**Data:**\n",
    "- `num_orders` - number of orders completed at the specified time\n",
    "\n",
    "The dataset will be resampled into 1 hour increments:"
   ]
  },
  {
   "cell_type": "code",
   "execution_count": 3,
   "metadata": {},
   "outputs": [
    {
     "data": {
      "text/html": [
       "<div>\n",
       "<style scoped>\n",
       "    .dataframe tbody tr th:only-of-type {\n",
       "        vertical-align: middle;\n",
       "    }\n",
       "\n",
       "    .dataframe tbody tr th {\n",
       "        vertical-align: top;\n",
       "    }\n",
       "\n",
       "    .dataframe thead th {\n",
       "        text-align: right;\n",
       "    }\n",
       "</style>\n",
       "<table border=\"1\" class=\"dataframe\">\n",
       "  <thead>\n",
       "    <tr style=\"text-align: right;\">\n",
       "      <th></th>\n",
       "      <th>num_orders</th>\n",
       "    </tr>\n",
       "    <tr>\n",
       "      <th>datetime</th>\n",
       "      <th></th>\n",
       "    </tr>\n",
       "  </thead>\n",
       "  <tbody>\n",
       "    <tr>\n",
       "      <th>2018-03-01 00:00:00</th>\n",
       "      <td>124</td>\n",
       "    </tr>\n",
       "    <tr>\n",
       "      <th>2018-03-01 01:00:00</th>\n",
       "      <td>85</td>\n",
       "    </tr>\n",
       "    <tr>\n",
       "      <th>2018-03-01 02:00:00</th>\n",
       "      <td>71</td>\n",
       "    </tr>\n",
       "    <tr>\n",
       "      <th>2018-03-01 03:00:00</th>\n",
       "      <td>66</td>\n",
       "    </tr>\n",
       "    <tr>\n",
       "      <th>2018-03-01 04:00:00</th>\n",
       "      <td>43</td>\n",
       "    </tr>\n",
       "  </tbody>\n",
       "</table>\n",
       "</div>"
      ],
      "text/plain": [
       "                     num_orders\n",
       "datetime                       \n",
       "2018-03-01 00:00:00         124\n",
       "2018-03-01 01:00:00          85\n",
       "2018-03-01 02:00:00          71\n",
       "2018-03-01 03:00:00          66\n",
       "2018-03-01 04:00:00          43"
      ]
     },
     "execution_count": 3,
     "metadata": {},
     "output_type": "execute_result"
    }
   ],
   "source": [
    "data = data.resample('1H').sum()\n",
    "data.head()"
   ]
  },
  {
   "cell_type": "markdown",
   "metadata": {},
   "source": [
    "The function `make_features` will be created now to create the neccesary features to train the models:"
   ]
  },
  {
   "cell_type": "code",
   "execution_count": 4,
   "metadata": {},
   "outputs": [],
   "source": [
    "def make_features(data, max_lag, rolling_mean_size):\n",
    "    data['month'] = data.index.month\n",
    "    data['day'] = data.index.day\n",
    "    data['dayofweek'] = data.index.dayofweek\n",
    "    data['hour'] = data.index.hour\n",
    "    \n",
    "    for lag in range(1, max_lag + 1):\n",
    "        data[f'lag_{lag}'] = data['num_orders'].shift(lag)\n",
    "    \n",
    "    for size in rolling_mean_size:\n",
    "        data[f'rolling_mean_{size}'] = (data['num_orders'].shift().rolling(size).mean())"
   ]
  },
  {
   "cell_type": "markdown",
   "metadata": {},
   "source": [
    "## Analysis"
   ]
  },
  {
   "cell_type": "code",
   "execution_count": 5,
   "metadata": {},
   "outputs": [
    {
     "data": {
      "image/png": "[encoded data removed]",
      "text/plain": [
       "<Figure size 1000x600 with 1 Axes>"
      ]
     },
     "metadata": {},
     "output_type": "display_data"
    }
   ],
   "source": [
    "plt.figure(figsize=(10,6))\n",
    "\n",
    "rolling = data.copy()\n",
    "rolling['rolling_mean'] = data['num_orders'].rolling(24).mean()\n",
    "rolling['rolling_std'] = data['num_orders'].rolling(24).std()\n",
    "\n",
    "rolling.plot(ax=plt.gca())\n",
    "plt.ylabel('Orders')\n",
    "plt.xlabel('Time (In Hours)')\n",
    "plt.title('Airport Rides')\n",
    "plt.show()"
   ]
  },
  {
   "cell_type": "markdown",
   "metadata": {},
   "source": [
    "The data seems random but the rolling mean indicates an overall upward trend and seem to indicate seasonality."
   ]
  },
  {
   "cell_type": "code",
   "execution_count": 6,
   "metadata": {},
   "outputs": [
    {
     "data": {
      "image/png": "[encoded data removed]",
      "text/plain": [
       "<Figure size 1000x700 with 3 Axes>"
      ]
     },
     "metadata": {},
     "output_type": "display_data"
    }
   ],
   "source": [
    "decomposed_data = seasonal_decompose(data)\n",
    "plt.figure(figsize=(10,7))\n",
    "\n",
    "plt.subplot(311)\n",
    "decomposed_data.trend.plot(ax=plt.gca())\n",
    "plt.title('Trend')\n",
    "\n",
    "plt.subplot(312)\n",
    "decomposed_data.seasonal.plot(ax=plt.gca())\n",
    "plt.title('Seasonality')\n",
    "\n",
    "plt.subplot(313)\n",
    "decomposed_data.resid.plot(ax=plt.gca())\n",
    "plt.title('Residuals')\n",
    "\n",
    "plt.tight_layout()\n",
    "plt.show()"
   ]
  },
  {
   "cell_type": "markdown",
   "metadata": {},
   "source": [
    "Decomposing the data has shown what the rolling mean hinted at; the data trends upward and there is a relatively short seasonality to the data."
   ]
  },
  {
   "cell_type": "code",
   "execution_count": 7,
   "metadata": {
    "scrolled": false
   },
   "outputs": [
    {
     "data": {
      "image/png": "[encoded data removed]",
      "text/plain": [
       "<Figure size 1500x700 with 1 Axes>"
      ]
     },
     "metadata": {},
     "output_type": "display_data"
    }
   ],
   "source": [
    "seasonal = decomposed_data.seasonal['2018-03-01':'2018-03-07']\n",
    "\n",
    "plt.figure(figsize=(15,7))\n",
    "seasonal.plot(ax=plt.gca())\n",
    "plt.title('Seasonality over 1 Week')\n",
    "plt.show()"
   ]
  },
  {
   "cell_type": "markdown",
   "metadata": {},
   "source": [
    "This graph more clearly indicates that the optimal seasonality will be the 24 hour day."
   ]
  },
  {
   "cell_type": "markdown",
   "metadata": {},
   "source": [
    "## Training\n",
    "\n",
    "The `make_features` function will be applied and then the data split at a test ratio of 10%"
   ]
  },
  {
   "cell_type": "code",
   "execution_count": 8,
   "metadata": {},
   "outputs": [
    {
     "name": "stdout",
     "output_type": "stream",
     "text": [
      "(3974, 10)\n",
      "(442, 10)\n"
     ]
    },
    {
     "data": {
      "text/html": [
       "<div>\n",
       "<style scoped>\n",
       "    .dataframe tbody tr th:only-of-type {\n",
       "        vertical-align: middle;\n",
       "    }\n",
       "\n",
       "    .dataframe tbody tr th {\n",
       "        vertical-align: top;\n",
       "    }\n",
       "\n",
       "    .dataframe thead th {\n",
       "        text-align: right;\n",
       "    }\n",
       "</style>\n",
       "<table border=\"1\" class=\"dataframe\">\n",
       "  <thead>\n",
       "    <tr style=\"text-align: right;\">\n",
       "      <th></th>\n",
       "      <th>num_orders</th>\n",
       "      <th>month</th>\n",
       "      <th>day</th>\n",
       "      <th>dayofweek</th>\n",
       "      <th>hour</th>\n",
       "      <th>lag_1</th>\n",
       "      <th>lag_2</th>\n",
       "      <th>lag_3</th>\n",
       "      <th>lag_4</th>\n",
       "      <th>rolling_mean_24</th>\n",
       "    </tr>\n",
       "    <tr>\n",
       "      <th>datetime</th>\n",
       "      <th></th>\n",
       "      <th></th>\n",
       "      <th></th>\n",
       "      <th></th>\n",
       "      <th></th>\n",
       "      <th></th>\n",
       "      <th></th>\n",
       "      <th></th>\n",
       "      <th></th>\n",
       "      <th></th>\n",
       "    </tr>\n",
       "  </thead>\n",
       "  <tbody>\n",
       "    <tr>\n",
       "      <th>2018-03-01 00:00:00</th>\n",
       "      <td>124</td>\n",
       "      <td>3</td>\n",
       "      <td>1</td>\n",
       "      <td>3</td>\n",
       "      <td>0</td>\n",
       "      <td>0.0</td>\n",
       "      <td>0.0</td>\n",
       "      <td>0.0</td>\n",
       "      <td>0.0</td>\n",
       "      <td>0.0</td>\n",
       "    </tr>\n",
       "    <tr>\n",
       "      <th>2018-03-01 01:00:00</th>\n",
       "      <td>85</td>\n",
       "      <td>3</td>\n",
       "      <td>1</td>\n",
       "      <td>3</td>\n",
       "      <td>1</td>\n",
       "      <td>124.0</td>\n",
       "      <td>0.0</td>\n",
       "      <td>0.0</td>\n",
       "      <td>0.0</td>\n",
       "      <td>0.0</td>\n",
       "    </tr>\n",
       "    <tr>\n",
       "      <th>2018-03-01 02:00:00</th>\n",
       "      <td>71</td>\n",
       "      <td>3</td>\n",
       "      <td>1</td>\n",
       "      <td>3</td>\n",
       "      <td>2</td>\n",
       "      <td>85.0</td>\n",
       "      <td>124.0</td>\n",
       "      <td>0.0</td>\n",
       "      <td>0.0</td>\n",
       "      <td>0.0</td>\n",
       "    </tr>\n",
       "    <tr>\n",
       "      <th>2018-03-01 03:00:00</th>\n",
       "      <td>66</td>\n",
       "      <td>3</td>\n",
       "      <td>1</td>\n",
       "      <td>3</td>\n",
       "      <td>3</td>\n",
       "      <td>71.0</td>\n",
       "      <td>85.0</td>\n",
       "      <td>124.0</td>\n",
       "      <td>0.0</td>\n",
       "      <td>0.0</td>\n",
       "    </tr>\n",
       "    <tr>\n",
       "      <th>2018-03-01 04:00:00</th>\n",
       "      <td>43</td>\n",
       "      <td>3</td>\n",
       "      <td>1</td>\n",
       "      <td>3</td>\n",
       "      <td>4</td>\n",
       "      <td>66.0</td>\n",
       "      <td>71.0</td>\n",
       "      <td>85.0</td>\n",
       "      <td>124.0</td>\n",
       "      <td>0.0</td>\n",
       "    </tr>\n",
       "  </tbody>\n",
       "</table>\n",
       "</div>"
      ],
      "text/plain": [
       "                     num_orders  month  day  dayofweek  hour  lag_1  lag_2  \\\n",
       "datetime                                                                     \n",
       "2018-03-01 00:00:00         124      3    1          3     0    0.0    0.0   \n",
       "2018-03-01 01:00:00          85      3    1          3     1  124.0    0.0   \n",
       "2018-03-01 02:00:00          71      3    1          3     2   85.0  124.0   \n",
       "2018-03-01 03:00:00          66      3    1          3     3   71.0   85.0   \n",
       "2018-03-01 04:00:00          43      3    1          3     4   66.0   71.0   \n",
       "\n",
       "                     lag_3  lag_4  rolling_mean_24  \n",
       "datetime                                            \n",
       "2018-03-01 00:00:00    0.0    0.0              0.0  \n",
       "2018-03-01 01:00:00    0.0    0.0              0.0  \n",
       "2018-03-01 02:00:00    0.0    0.0              0.0  \n",
       "2018-03-01 03:00:00  124.0    0.0              0.0  \n",
       "2018-03-01 04:00:00   85.0  124.0              0.0  "
      ]
     },
     "metadata": {},
     "output_type": "display_data"
    },
    {
     "data": {
      "text/html": [
       "<div>\n",
       "<style scoped>\n",
       "    .dataframe tbody tr th:only-of-type {\n",
       "        vertical-align: middle;\n",
       "    }\n",
       "\n",
       "    .dataframe tbody tr th {\n",
       "        vertical-align: top;\n",
       "    }\n",
       "\n",
       "    .dataframe thead th {\n",
       "        text-align: right;\n",
       "    }\n",
       "</style>\n",
       "<table border=\"1\" class=\"dataframe\">\n",
       "  <thead>\n",
       "    <tr style=\"text-align: right;\">\n",
       "      <th></th>\n",
       "      <th>num_orders</th>\n",
       "      <th>month</th>\n",
       "      <th>day</th>\n",
       "      <th>dayofweek</th>\n",
       "      <th>hour</th>\n",
       "      <th>lag_1</th>\n",
       "      <th>lag_2</th>\n",
       "      <th>lag_3</th>\n",
       "      <th>lag_4</th>\n",
       "      <th>rolling_mean_24</th>\n",
       "    </tr>\n",
       "    <tr>\n",
       "      <th>datetime</th>\n",
       "      <th></th>\n",
       "      <th></th>\n",
       "      <th></th>\n",
       "      <th></th>\n",
       "      <th></th>\n",
       "      <th></th>\n",
       "      <th></th>\n",
       "      <th></th>\n",
       "      <th></th>\n",
       "      <th></th>\n",
       "    </tr>\n",
       "  </thead>\n",
       "  <tbody>\n",
       "    <tr>\n",
       "      <th>2018-08-13 14:00:00</th>\n",
       "      <td>102</td>\n",
       "      <td>8</td>\n",
       "      <td>13</td>\n",
       "      <td>0</td>\n",
       "      <td>14</td>\n",
       "      <td>119.0</td>\n",
       "      <td>92.0</td>\n",
       "      <td>144.0</td>\n",
       "      <td>156.0</td>\n",
       "      <td>138.541667</td>\n",
       "    </tr>\n",
       "    <tr>\n",
       "      <th>2018-08-13 15:00:00</th>\n",
       "      <td>175</td>\n",
       "      <td>8</td>\n",
       "      <td>13</td>\n",
       "      <td>0</td>\n",
       "      <td>15</td>\n",
       "      <td>102.0</td>\n",
       "      <td>119.0</td>\n",
       "      <td>92.0</td>\n",
       "      <td>144.0</td>\n",
       "      <td>138.458333</td>\n",
       "    </tr>\n",
       "    <tr>\n",
       "      <th>2018-08-13 16:00:00</th>\n",
       "      <td>144</td>\n",
       "      <td>8</td>\n",
       "      <td>13</td>\n",
       "      <td>0</td>\n",
       "      <td>16</td>\n",
       "      <td>175.0</td>\n",
       "      <td>102.0</td>\n",
       "      <td>119.0</td>\n",
       "      <td>92.0</td>\n",
       "      <td>139.541667</td>\n",
       "    </tr>\n",
       "    <tr>\n",
       "      <th>2018-08-13 17:00:00</th>\n",
       "      <td>152</td>\n",
       "      <td>8</td>\n",
       "      <td>13</td>\n",
       "      <td>0</td>\n",
       "      <td>17</td>\n",
       "      <td>144.0</td>\n",
       "      <td>175.0</td>\n",
       "      <td>102.0</td>\n",
       "      <td>119.0</td>\n",
       "      <td>139.166667</td>\n",
       "    </tr>\n",
       "    <tr>\n",
       "      <th>2018-08-13 18:00:00</th>\n",
       "      <td>104</td>\n",
       "      <td>8</td>\n",
       "      <td>13</td>\n",
       "      <td>0</td>\n",
       "      <td>18</td>\n",
       "      <td>152.0</td>\n",
       "      <td>144.0</td>\n",
       "      <td>175.0</td>\n",
       "      <td>102.0</td>\n",
       "      <td>140.708333</td>\n",
       "    </tr>\n",
       "  </tbody>\n",
       "</table>\n",
       "</div>"
      ],
      "text/plain": [
       "                     num_orders  month  day  dayofweek  hour  lag_1  lag_2  \\\n",
       "datetime                                                                     \n",
       "2018-08-13 14:00:00         102      8   13          0    14  119.0   92.0   \n",
       "2018-08-13 15:00:00         175      8   13          0    15  102.0  119.0   \n",
       "2018-08-13 16:00:00         144      8   13          0    16  175.0  102.0   \n",
       "2018-08-13 17:00:00         152      8   13          0    17  144.0  175.0   \n",
       "2018-08-13 18:00:00         104      8   13          0    18  152.0  144.0   \n",
       "\n",
       "                     lag_3  lag_4  rolling_mean_24  \n",
       "datetime                                            \n",
       "2018-08-13 14:00:00  144.0  156.0       138.541667  \n",
       "2018-08-13 15:00:00   92.0  144.0       138.458333  \n",
       "2018-08-13 16:00:00  119.0   92.0       139.541667  \n",
       "2018-08-13 17:00:00  102.0  119.0       139.166667  \n",
       "2018-08-13 18:00:00  175.0  102.0       140.708333  "
      ]
     },
     "metadata": {},
     "output_type": "display_data"
    }
   ],
   "source": [
    "make_features(data, 4, [24])\n",
    "data = data.fillna(0)\n",
    "train, test = train_test_split(data, shuffle=False, test_size=0.1)\n",
    "print(train.shape)\n",
    "print(test.shape)\n",
    "display(train.head())\n",
    "display(test.head())"
   ]
  },
  {
   "cell_type": "code",
   "execution_count": 9,
   "metadata": {},
   "outputs": [
    {
     "name": "stdout",
     "output_type": "stream",
     "text": [
      "(3974, 9)\n",
      "(3974,)\n",
      "(442, 9)\n",
      "(442,)\n"
     ]
    }
   ],
   "source": [
    "X_train = train.drop('num_orders', axis=1)\n",
    "y_train = train['num_orders']\n",
    "X_test = test.drop('num_orders', axis=1)\n",
    "y_test = test['num_orders']\n",
    "\n",
    "print(X_train.shape, y_train.shape, X_test.shape, y_test.shape, sep='\\n')"
   ]
  },
  {
   "cell_type": "markdown",
   "metadata": {},
   "source": [
    "Now the data is ready to train the models:"
   ]
  },
  {
   "cell_type": "code",
   "execution_count": 10,
   "metadata": {
    "scrolled": true
   },
   "outputs": [
    {
     "name": "stdout",
     "output_type": "stream",
     "text": [
      "LinearRegression(n_jobs=-1) \n",
      "\n",
      "RMSE for Linear Regression model: 31.385\n"
     ]
    }
   ],
   "source": [
    "# Initializing cross_validator\n",
    "cross_validator = TimeSeriesSplit(n_splits=5)\n",
    "\n",
    "# Creating LinearRegression param grid\n",
    "line_params = {\n",
    "    'n_jobs':[-1]\n",
    "}\n",
    "\n",
    "# Initializing LinearRegression and its GridSearchCV\n",
    "linreg = LinearRegression()\n",
    "line_grid = GridSearchCV(linreg, param_grid=line_params, scoring='neg_root_mean_squared_error', cv=cross_validator)\n",
    "line_grid.fit(X_train, y_train)\n",
    "\n",
    "print(line_grid.best_estimator_, '\\n')\n",
    "print(f'RMSE for Linear Regression model: {-line_grid.best_score_:.3f}')"
   ]
  },
  {
   "cell_type": "code",
   "execution_count": 11,
   "metadata": {},
   "outputs": [
    {
     "name": "stdout",
     "output_type": "stream",
     "text": [
      "DecisionTreeRegressor(max_depth=6, random_state=17) \n",
      "\n",
      "Best Decision Tree RMSE: 28.761\n"
     ]
    }
   ],
   "source": [
    "# Creating DecisionTree param grid\n",
    "tree_params = {\n",
    "    'max_depth':[depth for depth in range(1,16)]\n",
    "}\n",
    "\n",
    "# Initializing DecisionTree and its GridSearchCV\n",
    "tree_model = DecisionTreeRegressor(random_state=17)\n",
    "tree_grid = GridSearchCV(tree_model, param_grid=tree_params, scoring='neg_root_mean_squared_error', cv=cross_validator)\n",
    "tree_grid.fit(X_train, y_train)\n",
    "\n",
    "print(tree_grid.best_estimator_, '\\n')\n",
    "print(f'Best Decision Tree RMSE: {-tree_grid.best_score_:.3f}')"
   ]
  },
  {
   "cell_type": "code",
   "execution_count": 12,
   "metadata": {
    "scrolled": true
   },
   "outputs": [
    {
     "name": "stdout",
     "output_type": "stream",
     "text": [
      "RandomForestRegressor(max_depth=20, min_samples_leaf=2, random_state=17) \n",
      "\n",
      "Best Decision Tree RMSE: 25.007\n"
     ]
    }
   ],
   "source": [
    "# Creating RandomForest param grid\n",
    "forest_params = {\n",
    "    'max_depth':[depth for depth in range(5, 25, 5)],\n",
    "    'n_estimators':[n for n in range(20, 200, 20)],\n",
    "    'min_samples_leaf':[2, 4]\n",
    "}\n",
    "\n",
    "# Initializing RandomForest and its GridSearchCV\n",
    "forest_model = RandomForestRegressor(random_state=17)\n",
    "forest_grid = GridSearchCV(forest_model, param_grid=forest_params, scoring='neg_root_mean_squared_error', cv=cross_validator)\n",
    "forest_grid.fit(X_train, y_train)\n",
    "\n",
    "print(forest_grid.best_estimator_, '\\n')\n",
    "print(f'Best Decision Tree RMSE: {-forest_grid.best_score_:.3f}')"
   ]
  },
  {
   "cell_type": "code",
   "execution_count": 13,
   "metadata": {},
   "outputs": [
    {
     "name": "stdout",
     "output_type": "stream",
     "text": [
      "Performing stepwise search to minimize aic\n",
      " ARIMA(2,1,2)(0,0,0)[0] intercept   : AIC=inf, Time=9.81 sec\n",
      " ARIMA(0,1,0)(0,0,0)[0] intercept   : AIC=39785.522, Time=0.11 sec\n",
      " ARIMA(1,1,0)(0,0,0)[0] intercept   : AIC=39407.923, Time=0.05 sec\n",
      " ARIMA(0,1,1)(0,0,0)[0] intercept   : AIC=39248.315, Time=0.53 sec\n",
      " ARIMA(0,1,0)(0,0,0)[0]             : AIC=39783.522, Time=0.03 sec\n",
      " ARIMA(1,1,1)(0,0,0)[0] intercept   : AIC=inf, Time=1.57 sec\n",
      " ARIMA(0,1,2)(0,0,0)[0] intercept   : AIC=inf, Time=3.60 sec\n",
      " ARIMA(1,1,2)(0,0,0)[0] intercept   : AIC=inf, Time=5.30 sec\n",
      " ARIMA(0,1,1)(0,0,0)[0]             : AIC=39246.314, Time=0.29 sec\n",
      " ARIMA(1,1,1)(0,0,0)[0]             : AIC=inf, Time=0.60 sec\n",
      " ARIMA(0,1,2)(0,0,0)[0]             : AIC=inf, Time=1.53 sec\n",
      " ARIMA(1,1,0)(0,0,0)[0]             : AIC=39405.923, Time=0.11 sec\n",
      " ARIMA(1,1,2)(0,0,0)[0]             : AIC=inf, Time=1.58 sec\n",
      "\n",
      "Best model:  ARIMA(0,1,1)(0,0,0)[0]          \n",
      "Total fit time: 25.113 seconds\n",
      "maxiter: 50\n",
      "method: lbfgs\n",
      "order: (0, 1, 1)\n",
      "out_of_sample_size: 0\n",
      "scoring: mse\n",
      "scoring_args: {}\n",
      "seasonal_order: (0, 0, 0, 0)\n",
      "start_params: None\n",
      "suppress_warnings: True\n",
      "trend: None\n",
      "with_intercept: False\n"
     ]
    }
   ],
   "source": [
    "best_order = auto_arima(y=y_train, trace=True, seasonal=True, suppress_warnings=True)\n",
    "arima_params = best_order.get_params()\n",
    "for key, value in arima_params.items():\n",
    "    print(f\"{key}: {value}\")"
   ]
  },
  {
   "cell_type": "code",
   "execution_count": 14,
   "metadata": {
    "scrolled": false
   },
   "outputs": [
    {
     "name": "stderr",
     "output_type": "stream",
     "text": [
      "/opt/conda/envs/python3/lib/python3.9/site-packages/statsmodels/base/model.py:604: ConvergenceWarning: Maximum Likelihood optimization failed to converge. Check mle_retvals\n",
      "  warnings.warn(\"Maximum Likelihood optimization failed to \"\n"
     ]
    },
    {
     "data": {
      "text/html": [
       "<table class=\"simpletable\">\n",
       "<caption>SARIMAX Results</caption>\n",
       "<tr>\n",
       "  <th>Dep. Variable:</th>      <td>num_orders</td>    <th>  No. Observations:  </th>    <td>3974</td>   \n",
       "</tr>\n",
       "<tr>\n",
       "  <th>Model:</th>            <td>ARIMA(0, 1, 1)</td>  <th>  Log Likelihood     </th> <td>-19349.741</td>\n",
       "</tr>\n",
       "<tr>\n",
       "  <th>Date:</th>            <td>Fri, 13 Sep 2024</td> <th>  AIC                </th>  <td>38721.482</td>\n",
       "</tr>\n",
       "<tr>\n",
       "  <th>Time:</th>                <td>16:01:38</td>     <th>  BIC                </th>  <td>38790.642</td>\n",
       "</tr>\n",
       "<tr>\n",
       "  <th>Sample:</th>             <td>03-01-2018</td>    <th>  HQIC               </th>  <td>38746.006</td>\n",
       "</tr>\n",
       "<tr>\n",
       "  <th></th>                   <td>- 08-13-2018</td>   <th>                     </th>      <td> </td>    \n",
       "</tr>\n",
       "<tr>\n",
       "  <th>Covariance Type:</th>        <td>opg</td>       <th>                     </th>      <td> </td>    \n",
       "</tr>\n",
       "</table>\n",
       "<table class=\"simpletable\">\n",
       "<tr>\n",
       "         <td></td>            <th>coef</th>     <th>std err</th>      <th>z</th>      <th>P>|z|</th>  <th>[0.025</th>    <th>0.975]</th>  \n",
       "</tr>\n",
       "<tr>\n",
       "  <th>month</th>           <td>  -67.5210</td> <td>  423.248</td> <td>   -0.160</td> <td> 0.873</td> <td> -897.072</td> <td>  762.030</td>\n",
       "</tr>\n",
       "<tr>\n",
       "  <th>day</th>             <td>   -1.6394</td> <td>   13.846</td> <td>   -0.118</td> <td> 0.906</td> <td>  -28.777</td> <td>   25.499</td>\n",
       "</tr>\n",
       "<tr>\n",
       "  <th>dayofweek</th>       <td>   -1.9807</td> <td>    0.911</td> <td>   -2.174</td> <td> 0.030</td> <td>   -3.766</td> <td>   -0.195</td>\n",
       "</tr>\n",
       "<tr>\n",
       "  <th>hour</th>            <td>   -2.0132</td> <td>    0.584</td> <td>   -3.445</td> <td> 0.001</td> <td>   -3.159</td> <td>   -0.868</td>\n",
       "</tr>\n",
       "<tr>\n",
       "  <th>lag_1</th>           <td>   -0.5656</td> <td>    0.033</td> <td>  -16.934</td> <td> 0.000</td> <td>   -0.631</td> <td>   -0.500</td>\n",
       "</tr>\n",
       "<tr>\n",
       "  <th>lag_2</th>           <td>   -0.2735</td> <td>    0.019</td> <td>  -14.046</td> <td> 0.000</td> <td>   -0.312</td> <td>   -0.235</td>\n",
       "</tr>\n",
       "<tr>\n",
       "  <th>lag_3</th>           <td>   -0.2385</td> <td>    0.017</td> <td>  -14.219</td> <td> 0.000</td> <td>   -0.271</td> <td>   -0.206</td>\n",
       "</tr>\n",
       "<tr>\n",
       "  <th>lag_4</th>           <td>   -0.1608</td> <td>    0.013</td> <td>  -12.102</td> <td> 0.000</td> <td>   -0.187</td> <td>   -0.135</td>\n",
       "</tr>\n",
       "<tr>\n",
       "  <th>rolling_mean_24</th> <td>   -4.2345</td> <td>    0.090</td> <td>  -47.186</td> <td> 0.000</td> <td>   -4.410</td> <td>   -4.059</td>\n",
       "</tr>\n",
       "<tr>\n",
       "  <th>ma.L1</th>           <td>    0.2599</td> <td>    0.034</td> <td>    7.613</td> <td> 0.000</td> <td>    0.193</td> <td>    0.327</td>\n",
       "</tr>\n",
       "<tr>\n",
       "  <th>sigma2</th>          <td>  995.6110</td> <td>   17.878</td> <td>   55.689</td> <td> 0.000</td> <td>  960.570</td> <td> 1030.651</td>\n",
       "</tr>\n",
       "</table>\n",
       "<table class=\"simpletable\">\n",
       "<tr>\n",
       "  <th>Ljung-Box (L1) (Q):</th>     <td>0.53</td> <th>  Jarque-Bera (JB):  </th> <td>535.36</td>\n",
       "</tr>\n",
       "<tr>\n",
       "  <th>Prob(Q):</th>                <td>0.47</td> <th>  Prob(JB):          </th>  <td>0.00</td> \n",
       "</tr>\n",
       "<tr>\n",
       "  <th>Heteroskedasticity (H):</th> <td>1.65</td> <th>  Skew:              </th>  <td>0.16</td> \n",
       "</tr>\n",
       "<tr>\n",
       "  <th>Prob(H) (two-sided):</th>    <td>0.00</td> <th>  Kurtosis:          </th>  <td>4.77</td> \n",
       "</tr>\n",
       "</table><br/><br/>Warnings:<br/>[1] Covariance matrix calculated using the outer product of gradients (complex-step)."
      ],
      "text/plain": [
       "<class 'statsmodels.iolib.summary.Summary'>\n",
       "\"\"\"\n",
       "                               SARIMAX Results                                \n",
       "==============================================================================\n",
       "Dep. Variable:             num_orders   No. Observations:                 3974\n",
       "Model:                 ARIMA(0, 1, 1)   Log Likelihood              -19349.741\n",
       "Date:                Fri, 13 Sep 2024   AIC                          38721.482\n",
       "Time:                        16:01:38   BIC                          38790.642\n",
       "Sample:                    03-01-2018   HQIC                         38746.006\n",
       "                         - 08-13-2018                                         \n",
       "Covariance Type:                  opg                                         \n",
       "===================================================================================\n",
       "                      coef    std err          z      P>|z|      [0.025      0.975]\n",
       "-----------------------------------------------------------------------------------\n",
       "month             -67.5210    423.248     -0.160      0.873    -897.072     762.030\n",
       "day                -1.6394     13.846     -0.118      0.906     -28.777      25.499\n",
       "dayofweek          -1.9807      0.911     -2.174      0.030      -3.766      -0.195\n",
       "hour               -2.0132      0.584     -3.445      0.001      -3.159      -0.868\n",
       "lag_1              -0.5656      0.033    -16.934      0.000      -0.631      -0.500\n",
       "lag_2              -0.2735      0.019    -14.046      0.000      -0.312      -0.235\n",
       "lag_3              -0.2385      0.017    -14.219      0.000      -0.271      -0.206\n",
       "lag_4              -0.1608      0.013    -12.102      0.000      -0.187      -0.135\n",
       "rolling_mean_24    -4.2345      0.090    -47.186      0.000      -4.410      -4.059\n",
       "ma.L1               0.2599      0.034      7.613      0.000       0.193       0.327\n",
       "sigma2            995.6110     17.878     55.689      0.000     960.570    1030.651\n",
       "===================================================================================\n",
       "Ljung-Box (L1) (Q):                   0.53   Jarque-Bera (JB):               535.36\n",
       "Prob(Q):                              0.47   Prob(JB):                         0.00\n",
       "Heteroskedasticity (H):               1.65   Skew:                             0.16\n",
       "Prob(H) (two-sided):                  0.00   Kurtosis:                         4.77\n",
       "===================================================================================\n",
       "\n",
       "Warnings:\n",
       "[1] Covariance matrix calculated using the outer product of gradients (complex-step).\n",
       "\"\"\""
      ]
     },
     "execution_count": 14,
     "metadata": {},
     "output_type": "execute_result"
    }
   ],
   "source": [
    "arima_model = ARIMA(y_train, exog=X_train, order=arima_params['order'])\n",
    "arima_model = arima_model.fit()\n",
    "arima_model.summary()"
   ]
  },
  {
   "cell_type": "markdown",
   "metadata": {},
   "source": [
    "## Testing"
   ]
  },
  {
   "cell_type": "markdown",
   "metadata": {},
   "source": [
    "**Sanity Check:**\n",
    "\n",
    "In order to ensure models preform better than random chance, 2 sanity checks will be preformed:\n",
    "\n",
    "1. All values of the test sample are predicted with the same number (a constant).\n",
    "2. The new value x(t) is predicted by the previous value in the series, defined as x(t-1)."
   ]
  },
  {
   "cell_type": "code",
   "execution_count": 15,
   "metadata": {},
   "outputs": [
    {
     "name": "stdout",
     "output_type": "stream",
     "text": [
      "Constant Sanity RMSE: 76.04321743365394\n",
      "Shift Sanity RMSE: 41.645746987280496\n"
     ]
    }
   ],
   "source": [
    "pred_mean = np.ones(test.shape) * train['num_orders'].mean()\n",
    "print('Constant Sanity RMSE:', mean_squared_error(test, pred_mean) ** 0.5)\n",
    "\n",
    "pred_previous = test.shift()\n",
    "pred_previous.iloc[0] = train.iloc[-1]\n",
    "print('Shift Sanity RMSE:', mean_squared_error(test, pred_previous) ** 0.5)"
   ]
  },
  {
   "cell_type": "code",
   "execution_count": 16,
   "metadata": {},
   "outputs": [
    {
     "data": {
      "text/plain": [
       "'RMSE: 51.650031992393345'"
      ]
     },
     "execution_count": 16,
     "metadata": {},
     "output_type": "execute_result"
    }
   ],
   "source": [
    "line_test = line_grid.predict(X_test)\n",
    "line_test_score = mean_squared_error(y_test, line_test) ** 0.5\n",
    "f'RMSE: {line_test_score}'"
   ]
  },
  {
   "cell_type": "code",
   "execution_count": 17,
   "metadata": {},
   "outputs": [
    {
     "data": {
      "text/plain": [
       "'RMSE: 52.16186036260719'"
      ]
     },
     "execution_count": 17,
     "metadata": {},
     "output_type": "execute_result"
    }
   ],
   "source": [
    "tree_test = tree_grid.predict(X_test)\n",
    "tree_test_score = mean_squared_error(y_test, tree_test) ** 0.5\n",
    "f'RMSE: {tree_test_score}'"
   ]
  },
  {
   "cell_type": "code",
   "execution_count": 18,
   "metadata": {},
   "outputs": [
    {
     "data": {
      "text/plain": [
       "'RMSE: 46.618204579991634'"
      ]
     },
     "execution_count": 18,
     "metadata": {},
     "output_type": "execute_result"
    }
   ],
   "source": [
    "forest_test = forest_grid.predict(X_test)\n",
    "forest_test_score = mean_squared_error(y_test, forest_test) ** 0.5\n",
    "f'RMSE: {forest_test_score}'"
   ]
  },
  {
   "cell_type": "code",
   "execution_count": 19,
   "metadata": {
    "scrolled": false
   },
   "outputs": [
    {
     "data": {
      "text/plain": [
       "'RMSE: 146.7579642785815'"
      ]
     },
     "execution_count": 19,
     "metadata": {},
     "output_type": "execute_result"
    }
   ],
   "source": [
    "arima_test = arima_model.predict(start=len(train), end=len(train) + len(test) - 1, exog=X_test)\n",
    "arima_test_score = mean_squared_error(y_test, arima_test) ** 0.5\n",
    "f'RMSE: {arima_test_score}'"
   ]
  },
  {
   "cell_type": "markdown",
   "metadata": {},
   "source": [
    "The Random Forest Model achieved an RMSE of 46.618 with the test data. The other models all scored over 50 with ARIMA scoring a measily 146.758."
   ]
  },
  {
   "cell_type": "markdown",
   "metadata": {},
   "source": [
    "# Review checklist"
   ]
  },
  {
   "cell_type": "markdown",
   "metadata": {},
   "source": [
    "- [x]  Jupyter Notebook is open\n",
    "- [x]  The code is error-free\n",
    "- [x]  The cells with the code have been arranged in order of execution\n",
    "- [x]  The data has been downloaded and prepared\n",
    "- [x]  The data has been analyzed\n",
    "- [x]  The model has been trained and hyperparameters have been selected\n",
    "- [x]  The models have been evaluated. Conclusion has been provided\n",
    "- [x] *RMSE* for the test set is not more than 48"
   ]
  }
 ],
 "metadata": {
  "ExecuteTimeLog": [
   {
    "duration": 175,
    "start_time": "2024-09-10T16:32:59.227Z"
   },
   {
    "duration": 343,
    "start_time": "2024-09-10T16:33:01.255Z"
   },
   {
    "duration": 40,
    "start_time": "2024-09-10T16:33:01.600Z"
   },
   {
    "duration": 26,
    "start_time": "2024-09-10T16:33:27.298Z"
   },
   {
    "duration": 27,
    "start_time": "2024-09-10T16:37:54.375Z"
   },
   {
    "duration": 30,
    "start_time": "2024-09-10T16:38:17.928Z"
   },
   {
    "duration": 2381,
    "start_time": "2024-09-10T16:42:27.073Z"
   },
   {
    "duration": 193,
    "start_time": "2024-09-10T16:45:53.418Z"
   },
   {
    "duration": 184,
    "start_time": "2024-09-10T16:46:08.611Z"
   },
   {
    "duration": 158,
    "start_time": "2024-09-11T14:24:15.265Z"
   },
   {
    "duration": 776,
    "start_time": "2024-09-11T14:24:20.481Z"
   },
   {
    "duration": 48,
    "start_time": "2024-09-11T14:24:21.261Z"
   },
   {
    "duration": 6,
    "start_time": "2024-09-11T14:24:21.311Z"
   },
   {
    "duration": 21,
    "start_time": "2024-09-11T14:24:46.638Z"
   },
   {
    "duration": 536,
    "start_time": "2024-09-11T14:27:22.844Z"
   },
   {
    "duration": 28,
    "start_time": "2024-09-11T14:27:32.505Z"
   },
   {
    "duration": 49,
    "start_time": "2024-09-11T14:28:04.961Z"
   },
   {
    "duration": 2098,
    "start_time": "2024-09-11T14:28:06.236Z"
   },
   {
    "duration": 4,
    "start_time": "2024-09-11T14:28:40.656Z"
   },
   {
    "duration": 26,
    "start_time": "2024-09-11T14:28:43.363Z"
   },
   {
    "duration": 40,
    "start_time": "2024-09-11T14:45:19.262Z"
   },
   {
    "duration": 33,
    "start_time": "2024-09-11T15:22:25.151Z"
   },
   {
    "duration": 749,
    "start_time": "2024-09-11T15:22:30.209Z"
   },
   {
    "duration": 33,
    "start_time": "2024-09-11T15:22:30.960Z"
   },
   {
    "duration": 9,
    "start_time": "2024-09-11T15:22:30.995Z"
   },
   {
    "duration": 211,
    "start_time": "2024-09-11T16:07:36.749Z"
   },
   {
    "duration": 872,
    "start_time": "2024-09-11T16:07:40.852Z"
   },
   {
    "duration": 38,
    "start_time": "2024-09-11T16:07:41.726Z"
   },
   {
    "duration": 9,
    "start_time": "2024-09-11T16:07:41.766Z"
   },
   {
    "duration": 628,
    "start_time": "2024-09-11T16:07:41.776Z"
   },
   {
    "duration": 398,
    "start_time": "2024-09-11T16:09:16.910Z"
   },
   {
    "duration": 465,
    "start_time": "2024-09-11T16:09:39.526Z"
   },
   {
    "duration": 280,
    "start_time": "2024-09-11T16:09:54.244Z"
   },
   {
    "duration": 3,
    "start_time": "2024-09-11T16:17:12.084Z"
   },
   {
    "duration": 20,
    "start_time": "2024-09-11T16:19:22.352Z"
   },
   {
    "duration": 18,
    "start_time": "2024-09-11T16:19:38.546Z"
   },
   {
    "duration": 14,
    "start_time": "2024-09-11T16:19:52.405Z"
   },
   {
    "duration": 17,
    "start_time": "2024-09-11T16:20:01.608Z"
   },
   {
    "duration": 17,
    "start_time": "2024-09-11T16:20:56.629Z"
   },
   {
    "duration": 14,
    "start_time": "2024-09-11T16:38:19.560Z"
   },
   {
    "duration": 4,
    "start_time": "2024-09-11T16:39:00.908Z"
   },
   {
    "duration": 15,
    "start_time": "2024-09-11T16:39:01.108Z"
   },
   {
    "duration": 17,
    "start_time": "2024-09-11T16:40:07.957Z"
   },
   {
    "duration": 806,
    "start_time": "2024-09-11T16:40:14.106Z"
   },
   {
    "duration": 33,
    "start_time": "2024-09-11T16:40:14.914Z"
   },
   {
    "duration": 9,
    "start_time": "2024-09-11T16:40:14.948Z"
   },
   {
    "duration": 19,
    "start_time": "2024-09-11T16:40:14.959Z"
   },
   {
    "duration": 18,
    "start_time": "2024-09-11T19:09:00.937Z"
   },
   {
    "duration": 896,
    "start_time": "2024-09-11T19:09:24.589Z"
   },
   {
    "duration": 34,
    "start_time": "2024-09-11T19:09:25.487Z"
   },
   {
    "duration": 10,
    "start_time": "2024-09-11T19:09:25.523Z"
   },
   {
    "duration": 21,
    "start_time": "2024-09-11T19:09:25.543Z"
   },
   {
    "duration": 1059,
    "start_time": "2024-09-11T19:10:25.218Z"
   },
   {
    "duration": 72,
    "start_time": "2024-09-11T19:14:55.849Z"
   },
   {
    "duration": 1067,
    "start_time": "2024-09-11T19:14:59.611Z"
   },
   {
    "duration": 33,
    "start_time": "2024-09-11T19:15:00.681Z"
   },
   {
    "duration": 26,
    "start_time": "2024-09-11T19:15:00.718Z"
   },
   {
    "duration": 23,
    "start_time": "2024-09-11T19:15:00.746Z"
   },
   {
    "duration": 7,
    "start_time": "2024-09-11T19:15:00.771Z"
   },
   {
    "duration": 426,
    "start_time": "2024-09-11T19:47:19.979Z"
   },
   {
    "duration": 397,
    "start_time": "2024-09-11T19:48:03.480Z"
   },
   {
    "duration": 321,
    "start_time": "2024-09-11T19:48:30.349Z"
   },
   {
    "duration": 440,
    "start_time": "2024-09-11T19:48:57.349Z"
   },
   {
    "duration": 570,
    "start_time": "2024-09-11T19:49:15.032Z"
   },
   {
    "duration": 473,
    "start_time": "2024-09-11T19:50:17.334Z"
   },
   {
    "duration": 477,
    "start_time": "2024-09-11T19:51:04.783Z"
   },
   {
    "duration": 628,
    "start_time": "2024-09-11T19:51:14.835Z"
   },
   {
    "duration": 682,
    "start_time": "2024-09-11T19:51:47.546Z"
   },
   {
    "duration": 608,
    "start_time": "2024-09-11T19:52:02.953Z"
   },
   {
    "duration": 559,
    "start_time": "2024-09-11T19:52:08.877Z"
   },
   {
    "duration": 647,
    "start_time": "2024-09-11T19:52:17.766Z"
   },
   {
    "duration": 505,
    "start_time": "2024-09-11T19:52:26.952Z"
   },
   {
    "duration": 548,
    "start_time": "2024-09-11T19:52:32.997Z"
   },
   {
    "duration": 715,
    "start_time": "2024-09-11T19:52:39.868Z"
   },
   {
    "duration": 549,
    "start_time": "2024-09-11T19:52:47.766Z"
   },
   {
    "duration": 130,
    "start_time": "2024-09-11T19:58:21.940Z"
   },
   {
    "duration": 123,
    "start_time": "2024-09-11T19:59:02.070Z"
   },
   {
    "duration": 122,
    "start_time": "2024-09-11T19:59:10.615Z"
   },
   {
    "duration": 1076,
    "start_time": "2024-09-11T20:36:33.552Z"
   },
   {
    "duration": 34,
    "start_time": "2024-09-11T20:36:34.630Z"
   },
   {
    "duration": 11,
    "start_time": "2024-09-11T20:36:34.665Z"
   },
   {
    "duration": 17,
    "start_time": "2024-09-11T20:36:34.677Z"
   },
   {
    "duration": 605,
    "start_time": "2024-09-11T20:36:34.696Z"
   },
   {
    "duration": 148,
    "start_time": "2024-09-11T20:36:35.304Z"
   },
   {
    "duration": 4,
    "start_time": "2024-09-11T20:37:40.682Z"
   },
   {
    "duration": 173,
    "start_time": "2024-09-11T20:46:19.728Z"
   },
   {
    "duration": 245,
    "start_time": "2024-09-11T20:47:44.494Z"
   },
   {
    "duration": 344,
    "start_time": "2024-09-11T20:47:52.033Z"
   },
   {
    "duration": 291,
    "start_time": "2024-09-11T20:47:57.643Z"
   },
   {
    "duration": 177,
    "start_time": "2024-09-11T20:48:07.723Z"
   },
   {
    "duration": 217,
    "start_time": "2024-09-11T20:48:29.577Z"
   },
   {
    "duration": 314,
    "start_time": "2024-09-11T20:48:56.133Z"
   },
   {
    "duration": 185,
    "start_time": "2024-09-11T20:49:01.904Z"
   },
   {
    "duration": 1198,
    "start_time": "2024-09-11T20:51:15.099Z"
   },
   {
    "duration": 224,
    "start_time": "2024-09-11T20:51:45.234Z"
   },
   {
    "duration": 234,
    "start_time": "2024-09-11T20:53:14.611Z"
   },
   {
    "duration": 278,
    "start_time": "2024-09-11T20:53:27.819Z"
   },
   {
    "duration": 330,
    "start_time": "2024-09-11T20:57:19.880Z"
   },
   {
    "duration": 230,
    "start_time": "2024-09-11T21:00:22.847Z"
   },
   {
    "duration": 233,
    "start_time": "2024-09-11T21:00:45.240Z"
   },
   {
    "duration": 291,
    "start_time": "2024-09-11T21:01:05.825Z"
   },
   {
    "duration": 217,
    "start_time": "2024-09-11T21:14:40.971Z"
   },
   {
    "duration": 264,
    "start_time": "2024-09-11T21:15:24.403Z"
   },
   {
    "duration": 395,
    "start_time": "2024-09-11T21:22:36.749Z"
   },
   {
    "duration": 1110,
    "start_time": "2024-09-11T21:28:59.898Z"
   },
   {
    "duration": 35,
    "start_time": "2024-09-11T21:29:01.011Z"
   },
   {
    "duration": 10,
    "start_time": "2024-09-11T21:29:01.049Z"
   },
   {
    "duration": 5,
    "start_time": "2024-09-11T21:29:01.061Z"
   },
   {
    "duration": 264,
    "start_time": "2024-09-11T21:29:01.069Z"
   },
   {
    "duration": 579,
    "start_time": "2024-09-11T21:29:01.335Z"
   },
   {
    "duration": 192,
    "start_time": "2024-09-11T21:29:01.915Z"
   },
   {
    "duration": 391,
    "start_time": "2024-09-11T21:29:02.109Z"
   },
   {
    "duration": 198,
    "start_time": "2024-09-11T21:29:02.502Z"
   },
   {
    "duration": 277,
    "start_time": "2024-09-11T21:29:02.702Z"
   },
   {
    "duration": 645,
    "start_time": "2024-09-11T21:29:02.981Z"
   },
   {
    "duration": 169,
    "start_time": "2024-09-11T21:30:36.337Z"
   },
   {
    "duration": 316,
    "start_time": "2024-09-11T21:32:47.616Z"
   },
   {
    "duration": 1097,
    "start_time": "2024-09-11T21:39:59.317Z"
   },
   {
    "duration": 38,
    "start_time": "2024-09-11T21:40:00.416Z"
   },
   {
    "duration": 11,
    "start_time": "2024-09-11T21:40:00.456Z"
   },
   {
    "duration": 4,
    "start_time": "2024-09-11T21:40:00.470Z"
   },
   {
    "duration": 295,
    "start_time": "2024-09-11T21:40:00.475Z"
   },
   {
    "duration": 654,
    "start_time": "2024-09-11T21:40:00.772Z"
   },
   {
    "duration": 184,
    "start_time": "2024-09-11T21:40:01.428Z"
   },
   {
    "duration": 309,
    "start_time": "2024-09-11T21:40:01.614Z"
   },
   {
    "duration": 219,
    "start_time": "2024-09-11T21:40:01.924Z"
   },
   {
    "duration": 269,
    "start_time": "2024-09-11T21:40:02.146Z"
   },
   {
    "duration": 266,
    "start_time": "2024-09-11T21:40:25.368Z"
   },
   {
    "duration": 721,
    "start_time": "2024-09-11T21:40:44.036Z"
   },
   {
    "duration": 593,
    "start_time": "2024-09-11T21:40:52.712Z"
   },
   {
    "duration": 5,
    "start_time": "2024-09-12T18:13:56.031Z"
   },
   {
    "duration": 5,
    "start_time": "2024-09-12T18:18:01.670Z"
   },
   {
    "duration": 265,
    "start_time": "2024-09-12T18:18:06.571Z"
   },
   {
    "duration": 9,
    "start_time": "2024-09-12T18:18:11.144Z"
   },
   {
    "duration": 16,
    "start_time": "2024-09-12T18:18:20.546Z"
   },
   {
    "duration": 6,
    "start_time": "2024-09-12T18:19:45.428Z"
   },
   {
    "duration": 5,
    "start_time": "2024-09-12T18:19:56.653Z"
   },
   {
    "duration": 6,
    "start_time": "2024-09-12T18:20:55.436Z"
   },
   {
    "duration": 21,
    "start_time": "2024-09-12T18:21:36.669Z"
   },
   {
    "duration": 12,
    "start_time": "2024-09-12T18:21:54.076Z"
   },
   {
    "duration": 16,
    "start_time": "2024-09-12T18:24:37.229Z"
   },
   {
    "duration": 1093,
    "start_time": "2024-09-12T18:24:47.017Z"
   },
   {
    "duration": 38,
    "start_time": "2024-09-12T18:24:48.112Z"
   },
   {
    "duration": 9,
    "start_time": "2024-09-12T18:24:48.152Z"
   },
   {
    "duration": 4,
    "start_time": "2024-09-12T18:24:48.164Z"
   },
   {
    "duration": 294,
    "start_time": "2024-09-12T18:24:48.170Z"
   },
   {
    "duration": 640,
    "start_time": "2024-09-12T18:24:48.466Z"
   },
   {
    "duration": 179,
    "start_time": "2024-09-12T18:24:49.110Z"
   },
   {
    "duration": 301,
    "start_time": "2024-09-12T18:24:49.291Z"
   },
   {
    "duration": 200,
    "start_time": "2024-09-12T18:24:49.594Z"
   },
   {
    "duration": 283,
    "start_time": "2024-09-12T18:24:49.798Z"
   },
   {
    "duration": 22,
    "start_time": "2024-09-12T18:24:50.083Z"
   },
   {
    "duration": 14,
    "start_time": "2024-09-12T18:24:50.107Z"
   },
   {
    "duration": 1065,
    "start_time": "2024-09-12T18:24:50.123Z"
   },
   {
    "duration": 0,
    "start_time": "2024-09-12T18:24:51.191Z"
   },
   {
    "duration": 15,
    "start_time": "2024-09-12T18:24:57.244Z"
   },
   {
    "duration": 12,
    "start_time": "2024-09-12T18:24:58.951Z"
   },
   {
    "duration": 48,
    "start_time": "2024-09-12T18:24:59.057Z"
   },
   {
    "duration": 38,
    "start_time": "2024-09-12T18:26:49.476Z"
   },
   {
    "duration": 97,
    "start_time": "2024-09-12T18:28:25.317Z"
   },
   {
    "duration": 15,
    "start_time": "2024-09-12T18:28:46.991Z"
   },
   {
    "duration": 50,
    "start_time": "2024-09-12T18:29:20.613Z"
   },
   {
    "duration": 23,
    "start_time": "2024-09-12T18:29:59.637Z"
   },
   {
    "duration": 5,
    "start_time": "2024-09-12T18:30:16.977Z"
   },
   {
    "duration": 5,
    "start_time": "2024-09-12T18:30:20.991Z"
   },
   {
    "duration": 4,
    "start_time": "2024-09-12T18:35:40.510Z"
   },
   {
    "duration": 23,
    "start_time": "2024-09-12T18:40:06.419Z"
   },
   {
    "duration": 26,
    "start_time": "2024-09-12T18:40:09.798Z"
   },
   {
    "duration": 19,
    "start_time": "2024-09-12T18:47:17.653Z"
   },
   {
    "duration": 9,
    "start_time": "2024-09-12T18:47:28.214Z"
   },
   {
    "duration": 16,
    "start_time": "2024-09-12T18:53:00.996Z"
   },
   {
    "duration": 1086,
    "start_time": "2024-09-12T18:53:05.608Z"
   },
   {
    "duration": 35,
    "start_time": "2024-09-12T18:53:06.697Z"
   },
   {
    "duration": 17,
    "start_time": "2024-09-12T18:53:06.734Z"
   },
   {
    "duration": 4,
    "start_time": "2024-09-12T18:53:06.753Z"
   },
   {
    "duration": 289,
    "start_time": "2024-09-12T18:53:06.759Z"
   },
   {
    "duration": 644,
    "start_time": "2024-09-12T18:53:07.050Z"
   },
   {
    "duration": 174,
    "start_time": "2024-09-12T18:53:07.696Z"
   },
   {
    "duration": 297,
    "start_time": "2024-09-12T18:53:07.872Z"
   },
   {
    "duration": 223,
    "start_time": "2024-09-12T18:53:08.171Z"
   },
   {
    "duration": 282,
    "start_time": "2024-09-12T18:53:08.398Z"
   },
   {
    "duration": 25,
    "start_time": "2024-09-12T18:53:08.682Z"
   },
   {
    "duration": 33,
    "start_time": "2024-09-12T18:53:08.709Z"
   },
   {
    "duration": 5,
    "start_time": "2024-09-12T18:53:08.744Z"
   },
   {
    "duration": 8,
    "start_time": "2024-09-12T18:53:08.752Z"
   },
   {
    "duration": 28,
    "start_time": "2024-09-12T18:53:08.762Z"
   },
   {
    "duration": 23,
    "start_time": "2024-09-12T19:06:26.724Z"
   },
   {
    "duration": 1108,
    "start_time": "2024-09-12T19:06:30.910Z"
   },
   {
    "duration": 36,
    "start_time": "2024-09-12T19:06:32.020Z"
   },
   {
    "duration": 11,
    "start_time": "2024-09-12T19:06:32.057Z"
   },
   {
    "duration": 4,
    "start_time": "2024-09-12T19:06:32.069Z"
   },
   {
    "duration": 293,
    "start_time": "2024-09-12T19:06:32.076Z"
   },
   {
    "duration": 634,
    "start_time": "2024-09-12T19:06:32.371Z"
   },
   {
    "duration": 177,
    "start_time": "2024-09-12T19:06:33.007Z"
   },
   {
    "duration": 299,
    "start_time": "2024-09-12T19:06:33.186Z"
   },
   {
    "duration": 206,
    "start_time": "2024-09-12T19:06:33.487Z"
   },
   {
    "duration": 286,
    "start_time": "2024-09-12T19:06:33.695Z"
   },
   {
    "duration": 26,
    "start_time": "2024-09-12T19:06:33.983Z"
   },
   {
    "duration": 11,
    "start_time": "2024-09-12T19:06:34.011Z"
   },
   {
    "duration": 21,
    "start_time": "2024-09-12T19:06:34.024Z"
   },
   {
    "duration": 9,
    "start_time": "2024-09-12T19:06:34.048Z"
   },
   {
    "duration": 87,
    "start_time": "2024-09-12T19:06:34.060Z"
   },
   {
    "duration": 244,
    "start_time": "2024-09-12T19:10:01.968Z"
   },
   {
    "duration": 1119,
    "start_time": "2024-09-12T19:11:15.688Z"
   },
   {
    "duration": 38,
    "start_time": "2024-09-12T19:11:16.809Z"
   },
   {
    "duration": 10,
    "start_time": "2024-09-12T19:11:16.849Z"
   },
   {
    "duration": 3,
    "start_time": "2024-09-12T19:11:16.861Z"
   },
   {
    "duration": 294,
    "start_time": "2024-09-12T19:11:16.867Z"
   },
   {
    "duration": 640,
    "start_time": "2024-09-12T19:11:17.163Z"
   },
   {
    "duration": 178,
    "start_time": "2024-09-12T19:11:17.805Z"
   },
   {
    "duration": 295,
    "start_time": "2024-09-12T19:11:17.984Z"
   },
   {
    "duration": 218,
    "start_time": "2024-09-12T19:11:18.281Z"
   },
   {
    "duration": 278,
    "start_time": "2024-09-12T19:11:18.501Z"
   },
   {
    "duration": 26,
    "start_time": "2024-09-12T19:11:18.781Z"
   },
   {
    "duration": 12,
    "start_time": "2024-09-12T19:11:18.809Z"
   },
   {
    "duration": 6,
    "start_time": "2024-09-12T19:11:18.842Z"
   },
   {
    "duration": 28,
    "start_time": "2024-09-12T19:11:18.851Z"
   },
   {
    "duration": 80,
    "start_time": "2024-09-12T19:11:18.881Z"
   },
   {
    "duration": 930,
    "start_time": "2024-09-12T19:13:12.097Z"
   },
   {
    "duration": 245,
    "start_time": "2024-09-12T19:15:45.966Z"
   },
   {
    "duration": 43855,
    "start_time": "2024-09-12T19:15:57.034Z"
   },
   {
    "duration": 13943,
    "start_time": "2024-09-12T19:17:05.828Z"
   },
   {
    "duration": 77925,
    "start_time": "2024-09-12T19:17:28.339Z"
   },
   {
    "duration": 16,
    "start_time": "2024-09-12T19:22:33.996Z"
   },
   {
    "duration": 1222,
    "start_time": "2024-09-12T19:22:38.279Z"
   },
   {
    "duration": 51,
    "start_time": "2024-09-12T19:22:39.504Z"
   },
   {
    "duration": 10,
    "start_time": "2024-09-12T19:22:39.560Z"
   },
   {
    "duration": 4,
    "start_time": "2024-09-12T19:22:39.572Z"
   },
   {
    "duration": 298,
    "start_time": "2024-09-12T19:22:39.578Z"
   },
   {
    "duration": 632,
    "start_time": "2024-09-12T19:22:39.878Z"
   },
   {
    "duration": 194,
    "start_time": "2024-09-12T19:22:40.512Z"
   },
   {
    "duration": 312,
    "start_time": "2024-09-12T19:22:40.707Z"
   },
   {
    "duration": 190,
    "start_time": "2024-09-12T19:22:41.021Z"
   },
   {
    "duration": 298,
    "start_time": "2024-09-12T19:22:41.213Z"
   },
   {
    "duration": 38,
    "start_time": "2024-09-12T19:22:41.514Z"
   },
   {
    "duration": 12,
    "start_time": "2024-09-12T19:22:41.554Z"
   },
   {
    "duration": 4,
    "start_time": "2024-09-12T19:22:41.569Z"
   },
   {
    "duration": 75,
    "start_time": "2024-09-12T19:22:41.575Z"
   },
   {
    "duration": 1000,
    "start_time": "2024-09-12T19:22:41.653Z"
   },
   {
    "duration": 78166,
    "start_time": "2024-09-12T19:22:42.656Z"
   },
   {
    "duration": 403,
    "start_time": "2024-09-12T19:24:00.824Z"
   },
   {
    "duration": 15,
    "start_time": "2024-09-12T19:26:13.012Z"
   },
   {
    "duration": 1217,
    "start_time": "2024-09-12T19:30:57.700Z"
   },
   {
    "duration": 51,
    "start_time": "2024-09-12T19:30:58.920Z"
   },
   {
    "duration": 9,
    "start_time": "2024-09-12T19:30:58.973Z"
   },
   {
    "duration": 3,
    "start_time": "2024-09-12T19:30:58.984Z"
   },
   {
    "duration": 305,
    "start_time": "2024-09-12T19:30:58.990Z"
   },
   {
    "duration": 636,
    "start_time": "2024-09-12T19:30:59.297Z"
   },
   {
    "duration": 183,
    "start_time": "2024-09-12T19:30:59.934Z"
   },
   {
    "duration": 311,
    "start_time": "2024-09-12T19:31:00.119Z"
   },
   {
    "duration": 213,
    "start_time": "2024-09-12T19:31:00.432Z"
   },
   {
    "duration": 272,
    "start_time": "2024-09-12T19:31:00.647Z"
   },
   {
    "duration": 42,
    "start_time": "2024-09-12T19:31:00.920Z"
   },
   {
    "duration": 12,
    "start_time": "2024-09-12T19:31:00.963Z"
   },
   {
    "duration": 5,
    "start_time": "2024-09-12T19:31:00.977Z"
   },
   {
    "duration": 65,
    "start_time": "2024-09-12T19:31:00.985Z"
   },
   {
    "duration": 1000,
    "start_time": "2024-09-12T19:31:01.052Z"
   },
   {
    "duration": 78264,
    "start_time": "2024-09-12T19:31:02.054Z"
   },
   {
    "duration": 1246,
    "start_time": "2024-09-12T19:39:42.968Z"
   },
   {
    "duration": 44,
    "start_time": "2024-09-12T19:39:44.217Z"
   },
   {
    "duration": 9,
    "start_time": "2024-09-12T19:39:44.264Z"
   },
   {
    "duration": 3,
    "start_time": "2024-09-12T19:39:44.276Z"
   },
   {
    "duration": 295,
    "start_time": "2024-09-12T19:39:44.281Z"
   },
   {
    "duration": 612,
    "start_time": "2024-09-12T19:39:44.578Z"
   },
   {
    "duration": 171,
    "start_time": "2024-09-12T19:39:45.192Z"
   },
   {
    "duration": 306,
    "start_time": "2024-09-12T19:39:45.365Z"
   },
   {
    "duration": 226,
    "start_time": "2024-09-12T19:39:45.672Z"
   },
   {
    "duration": 280,
    "start_time": "2024-09-12T19:39:45.901Z"
   },
   {
    "duration": 25,
    "start_time": "2024-09-12T19:39:46.183Z"
   },
   {
    "duration": 11,
    "start_time": "2024-09-12T19:39:46.210Z"
   },
   {
    "duration": 21,
    "start_time": "2024-09-12T19:39:46.223Z"
   },
   {
    "duration": 30,
    "start_time": "2024-09-12T19:39:46.246Z"
   },
   {
    "duration": 1030,
    "start_time": "2024-09-12T19:39:46.279Z"
   },
   {
    "duration": 78245,
    "start_time": "2024-09-12T19:39:47.311Z"
   },
   {
    "duration": 1208,
    "start_time": "2024-09-12T19:46:05.413Z"
   },
   {
    "duration": 37,
    "start_time": "2024-09-12T19:46:06.624Z"
   },
   {
    "duration": 10,
    "start_time": "2024-09-12T19:46:06.663Z"
   },
   {
    "duration": 4,
    "start_time": "2024-09-12T19:46:06.674Z"
   },
   {
    "duration": 288,
    "start_time": "2024-09-12T19:46:06.681Z"
   },
   {
    "duration": 622,
    "start_time": "2024-09-12T19:46:06.972Z"
   },
   {
    "duration": 185,
    "start_time": "2024-09-12T19:46:07.595Z"
   },
   {
    "duration": 297,
    "start_time": "2024-09-12T19:46:07.782Z"
   },
   {
    "duration": 217,
    "start_time": "2024-09-12T19:46:08.081Z"
   },
   {
    "duration": 289,
    "start_time": "2024-09-12T19:46:08.300Z"
   },
   {
    "duration": 26,
    "start_time": "2024-09-12T19:46:08.591Z"
   },
   {
    "duration": 28,
    "start_time": "2024-09-12T19:46:08.619Z"
   },
   {
    "duration": 5,
    "start_time": "2024-09-12T19:46:08.648Z"
   },
   {
    "duration": 31,
    "start_time": "2024-09-12T19:46:08.656Z"
   },
   {
    "duration": 1025,
    "start_time": "2024-09-12T19:46:08.689Z"
   },
   {
    "duration": 78380,
    "start_time": "2024-09-12T19:46:09.716Z"
   },
   {
    "duration": 6,
    "start_time": "2024-09-12T19:47:28.098Z"
   },
   {
    "duration": 6,
    "start_time": "2024-09-12T19:47:28.106Z"
   },
   {
    "duration": 29,
    "start_time": "2024-09-12T19:47:28.114Z"
   },
   {
    "duration": 279,
    "start_time": "2024-09-12T19:47:28.145Z"
   },
   {
    "duration": 195885,
    "start_time": "2024-09-12T19:51:08.050Z"
   },
   {
    "duration": 61666,
    "start_time": "2024-09-12T19:54:56.394Z"
   },
   {
    "duration": 23790,
    "start_time": "2024-09-12T19:56:03.177Z"
   },
   {
    "duration": 24148,
    "start_time": "2024-09-12T19:57:09.305Z"
   },
   {
    "duration": 5,
    "start_time": "2024-09-12T20:05:54.355Z"
   },
   {
    "duration": 22264,
    "start_time": "2024-09-12T20:09:14.179Z"
   },
   {
    "duration": 21942,
    "start_time": "2024-09-12T20:13:06.010Z"
   },
   {
    "duration": 1193,
    "start_time": "2024-09-12T20:15:11.011Z"
   },
   {
    "duration": 44,
    "start_time": "2024-09-12T20:15:12.207Z"
   },
   {
    "duration": 12,
    "start_time": "2024-09-12T20:15:12.253Z"
   },
   {
    "duration": 4,
    "start_time": "2024-09-12T20:15:12.267Z"
   },
   {
    "duration": 291,
    "start_time": "2024-09-12T20:15:12.272Z"
   },
   {
    "duration": 630,
    "start_time": "2024-09-12T20:15:12.565Z"
   },
   {
    "duration": 184,
    "start_time": "2024-09-12T20:15:13.198Z"
   },
   {
    "duration": 300,
    "start_time": "2024-09-12T20:15:13.384Z"
   },
   {
    "duration": 203,
    "start_time": "2024-09-12T20:15:13.686Z"
   },
   {
    "duration": 275,
    "start_time": "2024-09-12T20:15:13.894Z"
   },
   {
    "duration": 26,
    "start_time": "2024-09-12T20:15:14.171Z"
   },
   {
    "duration": 11,
    "start_time": "2024-09-12T20:15:14.199Z"
   },
   {
    "duration": 5,
    "start_time": "2024-09-12T20:15:14.212Z"
   },
   {
    "duration": 28,
    "start_time": "2024-09-12T20:15:14.242Z"
   },
   {
    "duration": 1020,
    "start_time": "2024-09-12T20:15:14.272Z"
   },
   {
    "duration": 78274,
    "start_time": "2024-09-12T20:15:15.294Z"
   },
   {
    "duration": 1218,
    "start_time": "2024-09-12T20:20:46.514Z"
   },
   {
    "duration": 51,
    "start_time": "2024-09-12T20:20:47.734Z"
   },
   {
    "duration": 10,
    "start_time": "2024-09-12T20:20:47.786Z"
   },
   {
    "duration": 4,
    "start_time": "2024-09-12T20:20:47.798Z"
   },
   {
    "duration": 303,
    "start_time": "2024-09-12T20:20:47.804Z"
   },
   {
    "duration": 629,
    "start_time": "2024-09-12T20:20:48.109Z"
   },
   {
    "duration": 176,
    "start_time": "2024-09-12T20:20:48.743Z"
   },
   {
    "duration": 327,
    "start_time": "2024-09-12T20:20:48.921Z"
   },
   {
    "duration": 239,
    "start_time": "2024-09-12T20:20:49.251Z"
   },
   {
    "duration": 266,
    "start_time": "2024-09-12T20:20:49.494Z"
   },
   {
    "duration": 25,
    "start_time": "2024-09-12T20:20:49.762Z"
   },
   {
    "duration": 12,
    "start_time": "2024-09-12T20:20:49.789Z"
   },
   {
    "duration": 5,
    "start_time": "2024-09-12T20:20:49.803Z"
   },
   {
    "duration": 58,
    "start_time": "2024-09-12T20:20:49.810Z"
   },
   {
    "duration": 1031,
    "start_time": "2024-09-12T20:20:49.870Z"
   },
   {
    "duration": 78148,
    "start_time": "2024-09-12T20:20:50.904Z"
   },
   {
    "duration": 26702,
    "start_time": "2024-09-12T20:22:09.054Z"
   },
   {
    "duration": 335,
    "start_time": "2024-09-12T20:22:35.760Z"
   },
   {
    "duration": 0,
    "start_time": "2024-09-12T20:22:36.097Z"
   },
   {
    "duration": 0,
    "start_time": "2024-09-12T20:22:36.099Z"
   },
   {
    "duration": 0,
    "start_time": "2024-09-12T20:22:36.100Z"
   },
   {
    "duration": 0,
    "start_time": "2024-09-12T20:22:36.102Z"
   },
   {
    "duration": 16,
    "start_time": "2024-09-12T20:23:16.512Z"
   },
   {
    "duration": 156,
    "start_time": "2024-09-12T20:24:07.556Z"
   },
   {
    "duration": 5,
    "start_time": "2024-09-12T20:24:15.853Z"
   },
   {
    "duration": 165,
    "start_time": "2024-09-12T20:25:31.705Z"
   },
   {
    "duration": 4,
    "start_time": "2024-09-12T20:26:11.369Z"
   },
   {
    "duration": 206,
    "start_time": "2024-09-12T20:26:23.953Z"
   },
   {
    "duration": 53,
    "start_time": "2024-09-12T20:27:09.930Z"
   },
   {
    "duration": 335,
    "start_time": "2024-09-12T20:27:16.151Z"
   },
   {
    "duration": 6,
    "start_time": "2024-09-12T20:29:01.919Z"
   },
   {
    "duration": 8,
    "start_time": "2024-09-12T20:29:02.056Z"
   },
   {
    "duration": 14,
    "start_time": "2024-09-12T20:29:02.174Z"
   },
   {
    "duration": 355,
    "start_time": "2024-09-12T20:29:02.305Z"
   },
   {
    "duration": 492,
    "start_time": "2024-09-12T20:29:37.119Z"
   },
   {
    "duration": 15,
    "start_time": "2024-09-12T20:31:38.286Z"
   },
   {
    "duration": 4,
    "start_time": "2024-09-12T20:31:48.783Z"
   },
   {
    "duration": 171,
    "start_time": "2024-09-12T20:31:57.201Z"
   },
   {
    "duration": 347,
    "start_time": "2024-09-12T20:34:33.057Z"
   },
   {
    "duration": 1235,
    "start_time": "2024-09-12T20:46:30.567Z"
   },
   {
    "duration": 33,
    "start_time": "2024-09-12T20:46:31.804Z"
   },
   {
    "duration": 12,
    "start_time": "2024-09-12T20:46:31.839Z"
   },
   {
    "duration": 3,
    "start_time": "2024-09-12T20:46:31.853Z"
   },
   {
    "duration": 294,
    "start_time": "2024-09-12T20:46:31.858Z"
   },
   {
    "duration": 641,
    "start_time": "2024-09-12T20:46:32.154Z"
   },
   {
    "duration": 177,
    "start_time": "2024-09-12T20:46:32.798Z"
   },
   {
    "duration": 310,
    "start_time": "2024-09-12T20:46:32.977Z"
   },
   {
    "duration": 208,
    "start_time": "2024-09-12T20:46:33.292Z"
   },
   {
    "duration": 277,
    "start_time": "2024-09-12T20:46:33.504Z"
   },
   {
    "duration": 25,
    "start_time": "2024-09-12T20:46:33.784Z"
   },
   {
    "duration": 11,
    "start_time": "2024-09-12T20:46:33.810Z"
   },
   {
    "duration": 7,
    "start_time": "2024-09-12T20:46:33.843Z"
   },
   {
    "duration": 29,
    "start_time": "2024-09-12T20:46:33.853Z"
   },
   {
    "duration": 1019,
    "start_time": "2024-09-12T20:46:33.884Z"
   },
   {
    "duration": 78213,
    "start_time": "2024-09-12T20:46:34.905Z"
   },
   {
    "duration": 23422,
    "start_time": "2024-09-12T20:47:53.120Z"
   },
   {
    "duration": 34404,
    "start_time": "2024-09-12T20:48:16.546Z"
   },
   {
    "duration": 0,
    "start_time": "2024-09-12T20:48:50.952Z"
   },
   {
    "duration": 0,
    "start_time": "2024-09-12T20:48:50.954Z"
   },
   {
    "duration": 0,
    "start_time": "2024-09-12T20:48:50.956Z"
   },
   {
    "duration": 0,
    "start_time": "2024-09-12T20:48:50.957Z"
   },
   {
    "duration": 33030,
    "start_time": "2024-09-12T20:51:18.038Z"
   },
   {
    "duration": 5,
    "start_time": "2024-09-12T20:52:02.287Z"
   },
   {
    "duration": 6,
    "start_time": "2024-09-12T20:52:02.424Z"
   },
   {
    "duration": 13,
    "start_time": "2024-09-12T20:52:02.564Z"
   },
   {
    "duration": 26,
    "start_time": "2024-09-12T20:52:03.137Z"
   },
   {
    "duration": 1201,
    "start_time": "2024-09-12T20:53:01.002Z"
   },
   {
    "duration": 37,
    "start_time": "2024-09-12T20:53:02.206Z"
   },
   {
    "duration": 10,
    "start_time": "2024-09-12T20:53:02.244Z"
   },
   {
    "duration": 4,
    "start_time": "2024-09-12T20:53:02.255Z"
   },
   {
    "duration": 301,
    "start_time": "2024-09-12T20:53:02.262Z"
   },
   {
    "duration": 639,
    "start_time": "2024-09-12T20:53:02.564Z"
   },
   {
    "duration": 175,
    "start_time": "2024-09-12T20:53:03.205Z"
   },
   {
    "duration": 25,
    "start_time": "2024-09-12T20:53:03.382Z"
   },
   {
    "duration": 12,
    "start_time": "2024-09-12T20:53:03.409Z"
   },
   {
    "duration": 5,
    "start_time": "2024-09-12T20:53:03.443Z"
   },
   {
    "duration": 28,
    "start_time": "2024-09-12T20:53:03.449Z"
   },
   {
    "duration": 1006,
    "start_time": "2024-09-12T20:53:03.480Z"
   },
   {
    "duration": 266714,
    "start_time": "2024-09-12T20:53:04.488Z"
   },
   {
    "duration": 25241,
    "start_time": "2024-09-12T20:57:31.205Z"
   },
   {
    "duration": 29705,
    "start_time": "2024-09-12T20:57:56.449Z"
   },
   {
    "duration": 7,
    "start_time": "2024-09-12T20:58:26.156Z"
   },
   {
    "duration": 6,
    "start_time": "2024-09-12T20:58:26.165Z"
   },
   {
    "duration": 15,
    "start_time": "2024-09-12T20:58:26.173Z"
   },
   {
    "duration": 25,
    "start_time": "2024-09-12T20:58:26.244Z"
   },
   {
    "duration": 606,
    "start_time": "2024-09-12T21:07:21.991Z"
   },
   {
    "duration": 1174,
    "start_time": "2024-09-12T21:07:29.121Z"
   },
   {
    "duration": 34,
    "start_time": "2024-09-12T21:07:30.298Z"
   },
   {
    "duration": 10,
    "start_time": "2024-09-12T21:07:30.342Z"
   },
   {
    "duration": 3,
    "start_time": "2024-09-12T21:07:30.354Z"
   },
   {
    "duration": 315,
    "start_time": "2024-09-12T21:07:30.360Z"
   },
   {
    "duration": 621,
    "start_time": "2024-09-12T21:07:30.677Z"
   },
   {
    "duration": 176,
    "start_time": "2024-09-12T21:07:31.300Z"
   },
   {
    "duration": 26,
    "start_time": "2024-09-12T21:07:31.479Z"
   },
   {
    "duration": 12,
    "start_time": "2024-09-12T21:07:31.507Z"
   },
   {
    "duration": 25,
    "start_time": "2024-09-12T21:07:31.521Z"
   },
   {
    "duration": 29,
    "start_time": "2024-09-12T21:07:31.548Z"
   },
   {
    "duration": 1011,
    "start_time": "2024-09-12T21:07:31.579Z"
   },
   {
    "duration": 124266,
    "start_time": "2024-09-12T21:07:32.592Z"
   },
   {
    "duration": 0,
    "start_time": "2024-09-12T21:09:36.861Z"
   },
   {
    "duration": 0,
    "start_time": "2024-09-12T21:09:36.863Z"
   },
   {
    "duration": 0,
    "start_time": "2024-09-12T21:09:36.865Z"
   },
   {
    "duration": 0,
    "start_time": "2024-09-12T21:09:36.866Z"
   },
   {
    "duration": 0,
    "start_time": "2024-09-12T21:09:36.867Z"
   },
   {
    "duration": 0,
    "start_time": "2024-09-12T21:09:36.869Z"
   },
   {
    "duration": 0,
    "start_time": "2024-09-12T21:09:36.871Z"
   },
   {
    "duration": 1227,
    "start_time": "2024-09-12T21:09:45.380Z"
   },
   {
    "duration": 39,
    "start_time": "2024-09-12T21:09:46.609Z"
   },
   {
    "duration": 9,
    "start_time": "2024-09-12T21:09:46.650Z"
   },
   {
    "duration": 4,
    "start_time": "2024-09-12T21:09:47.482Z"
   },
   {
    "duration": 568,
    "start_time": "2024-09-12T21:09:49.088Z"
   },
   {
    "duration": 269,
    "start_time": "2024-09-12T21:11:09.774Z"
   },
   {
    "duration": 17,
    "start_time": "2024-09-12T21:18:28.911Z"
   },
   {
    "duration": 25,
    "start_time": "2024-09-12T21:18:35.984Z"
   },
   {
    "duration": 10,
    "start_time": "2024-09-12T21:18:37.039Z"
   },
   {
    "duration": 11,
    "start_time": "2024-09-12T21:18:45.241Z"
   },
   {
    "duration": 18,
    "start_time": "2024-09-12T21:22:25.094Z"
   },
   {
    "duration": 19,
    "start_time": "2024-09-12T21:22:25.255Z"
   },
   {
    "duration": 15,
    "start_time": "2024-09-12T21:22:25.419Z"
   },
   {
    "duration": 1265,
    "start_time": "2024-09-12T21:22:33.371Z"
   },
   {
    "duration": 34,
    "start_time": "2024-09-12T21:22:34.639Z"
   },
   {
    "duration": 9,
    "start_time": "2024-09-12T21:22:34.675Z"
   },
   {
    "duration": 4,
    "start_time": "2024-09-12T21:22:34.686Z"
   },
   {
    "duration": 289,
    "start_time": "2024-09-12T21:22:34.692Z"
   },
   {
    "duration": 629,
    "start_time": "2024-09-12T21:22:34.983Z"
   },
   {
    "duration": 175,
    "start_time": "2024-09-12T21:22:35.614Z"
   },
   {
    "duration": 25,
    "start_time": "2024-09-12T21:22:35.791Z"
   },
   {
    "duration": 5,
    "start_time": "2024-09-12T21:22:35.818Z"
   },
   {
    "duration": 47,
    "start_time": "2024-09-12T21:22:35.825Z"
   },
   {
    "duration": 1022,
    "start_time": "2024-09-12T21:22:35.875Z"
   },
   {
    "duration": 267045,
    "start_time": "2024-09-12T21:22:36.899Z"
   },
   {
    "duration": 24300,
    "start_time": "2024-09-12T21:27:03.946Z"
   },
   {
    "duration": 29017,
    "start_time": "2024-09-12T21:27:28.249Z"
   },
   {
    "duration": 80,
    "start_time": "2024-09-12T21:27:57.268Z"
   },
   {
    "duration": 5,
    "start_time": "2024-09-12T21:27:57.350Z"
   },
   {
    "duration": 6,
    "start_time": "2024-09-12T21:27:57.358Z"
   },
   {
    "duration": 14,
    "start_time": "2024-09-12T21:27:57.366Z"
   },
   {
    "duration": 62,
    "start_time": "2024-09-12T21:27:57.382Z"
   },
   {
    "duration": 2871,
    "start_time": "2024-09-13T15:57:58.246Z"
   },
   {
    "duration": 36,
    "start_time": "2024-09-13T15:58:01.119Z"
   },
   {
    "duration": 14,
    "start_time": "2024-09-13T15:58:01.157Z"
   },
   {
    "duration": 3,
    "start_time": "2024-09-13T15:58:01.173Z"
   },
   {
    "duration": 314,
    "start_time": "2024-09-13T15:58:01.177Z"
   },
   {
    "duration": 529,
    "start_time": "2024-09-13T15:58:01.493Z"
   },
   {
    "duration": 258,
    "start_time": "2024-09-13T15:58:02.024Z"
   },
   {
    "duration": 23,
    "start_time": "2024-09-13T15:58:02.284Z"
   },
   {
    "duration": 4,
    "start_time": "2024-09-13T15:58:02.309Z"
   },
   {
    "duration": 59,
    "start_time": "2024-09-13T15:58:02.316Z"
   },
   {
    "duration": 699,
    "start_time": "2024-09-13T15:58:02.376Z"
   },
   {
    "duration": 167188,
    "start_time": "2024-09-13T15:58:03.076Z"
   },
   {
    "duration": 25118,
    "start_time": "2024-09-13T16:00:50.270Z"
   },
   {
    "duration": 23596,
    "start_time": "2024-09-13T16:01:15.390Z"
   },
   {
    "duration": 10,
    "start_time": "2024-09-13T16:01:38.988Z"
   },
   {
    "duration": 5,
    "start_time": "2024-09-13T16:01:39.000Z"
   },
   {
    "duration": 4,
    "start_time": "2024-09-13T16:01:39.070Z"
   },
   {
    "duration": 10,
    "start_time": "2024-09-13T16:01:39.076Z"
   },
   {
    "duration": 19,
    "start_time": "2024-09-13T16:01:39.088Z"
   }
  ],
  "kernelspec": {
   "display_name": "Python 3 (ipykernel)",
   "language": "python",
   "name": "python3"
  },
  "language_info": {
   "codemirror_mode": {
    "name": "ipython",
    "version": 3
   },
   "file_extension": ".py",
   "mimetype": "text/x-python",
   "name": "python",
   "nbconvert_exporter": "python",
   "pygments_lexer": "ipython3",
   "version": "3.9.19"
  },
  "toc": {
   "base_numbering": 1,
   "nav_menu": {},
   "number_sections": true,
   "sideBar": true,
   "skip_h1_title": true,
   "title_cell": "Table of Contents",
   "title_sidebar": "Contents",
   "toc_cell": false,
   "toc_position": {},
   "toc_section_display": true,
   "toc_window_display": false
  }
 },
 "nbformat": 4,
 "nbformat_minor": 2
}
