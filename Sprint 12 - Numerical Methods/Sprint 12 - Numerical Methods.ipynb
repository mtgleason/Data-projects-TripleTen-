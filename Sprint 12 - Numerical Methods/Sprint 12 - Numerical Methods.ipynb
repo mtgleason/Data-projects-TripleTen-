{
 "cells": [
  {
   "cell_type": "markdown",
   "metadata": {},
   "source": [
    "# Numerical Methods\n",
    "\n",
    "Rusty Bargain used car sales service is developing an app to attract new customers. In that app, you can quickly find out the market value of your car. You have access to historical data: technical specifications, trim versions, and prices. You need to build the model to determine the value. \n",
    "\n",
    "Rusty Bargain is interested in:\n",
    "\n",
    "- the quality of the prediction;\n",
    "- the speed of the prediction;\n",
    "- the time required for training"
   ]
  },
  {
   "cell_type": "markdown",
   "metadata": {},
   "source": [
    "## Data preparation\n",
    "\n",
    "### Data Loading"
   ]
  },
  {
   "cell_type": "code",
   "execution_count": 25,
   "metadata": {},
   "outputs": [],
   "source": [
    "# Importing Libraries\n",
    "import time\n",
    "import pandas as pd\n",
    "import numpy as np\n",
    "\n",
    "from sklearn.preprocessing import OrdinalEncoder, StandardScaler\n",
    "from sklearn.model_selection import train_test_split, GridSearchCV, KFold\n",
    "from sklearn.metrics import mean_squared_error\n",
    "\n",
    "from sklearn.linear_model import LinearRegression\n",
    "from sklearn.tree import DecisionTreeRegressor\n",
    "from sklearn.ensemble import RandomForestRegressor\n",
    "import lightgbm as lgb\n",
    "from catboost import CatBoostRegressor"
   ]
  },
  {
   "cell_type": "code",
   "execution_count": 26,
   "metadata": {
    "scrolled": false
   },
   "outputs": [
    {
     "name": "stdout",
     "output_type": "stream",
     "text": [
      "<class 'pandas.core.frame.DataFrame'>\n",
      "RangeIndex: 354369 entries, 0 to 354368\n",
      "Data columns (total 16 columns):\n",
      " #   Column             Non-Null Count   Dtype \n",
      "---  ------             --------------   ----- \n",
      " 0   DateCrawled        354369 non-null  object\n",
      " 1   Price              354369 non-null  int64 \n",
      " 2   VehicleType        316879 non-null  object\n",
      " 3   RegistrationYear   354369 non-null  int64 \n",
      " 4   Gearbox            334536 non-null  object\n",
      " 5   Power              354369 non-null  int64 \n",
      " 6   Model              334664 non-null  object\n",
      " 7   Mileage            354369 non-null  int64 \n",
      " 8   RegistrationMonth  354369 non-null  int64 \n",
      " 9   FuelType           321474 non-null  object\n",
      " 10  Brand              354369 non-null  object\n",
      " 11  NotRepaired        283215 non-null  object\n",
      " 12  DateCreated        354369 non-null  object\n",
      " 13  NumberOfPictures   354369 non-null  int64 \n",
      " 14  PostalCode         354369 non-null  int64 \n",
      " 15  LastSeen           354369 non-null  object\n",
      "dtypes: int64(7), object(9)\n",
      "memory usage: 43.3+ MB\n"
     ]
    },
    {
     "data": {
      "text/html": [
       "<div>\n",
       "<style scoped>\n",
       "    .dataframe tbody tr th:only-of-type {\n",
       "        vertical-align: middle;\n",
       "    }\n",
       "\n",
       "    .dataframe tbody tr th {\n",
       "        vertical-align: top;\n",
       "    }\n",
       "\n",
       "    .dataframe thead th {\n",
       "        text-align: right;\n",
       "    }\n",
       "</style>\n",
       "<table border=\"1\" class=\"dataframe\">\n",
       "  <thead>\n",
       "    <tr style=\"text-align: right;\">\n",
       "      <th></th>\n",
       "      <th>DateCrawled</th>\n",
       "      <th>Price</th>\n",
       "      <th>VehicleType</th>\n",
       "      <th>RegistrationYear</th>\n",
       "      <th>Gearbox</th>\n",
       "      <th>Power</th>\n",
       "      <th>Model</th>\n",
       "      <th>Mileage</th>\n",
       "      <th>RegistrationMonth</th>\n",
       "      <th>FuelType</th>\n",
       "      <th>Brand</th>\n",
       "      <th>NotRepaired</th>\n",
       "      <th>DateCreated</th>\n",
       "      <th>NumberOfPictures</th>\n",
       "      <th>PostalCode</th>\n",
       "      <th>LastSeen</th>\n",
       "    </tr>\n",
       "  </thead>\n",
       "  <tbody>\n",
       "    <tr>\n",
       "      <th>0</th>\n",
       "      <td>24/03/2016 11:52</td>\n",
       "      <td>480</td>\n",
       "      <td>NaN</td>\n",
       "      <td>1993</td>\n",
       "      <td>manual</td>\n",
       "      <td>0</td>\n",
       "      <td>golf</td>\n",
       "      <td>150000</td>\n",
       "      <td>0</td>\n",
       "      <td>petrol</td>\n",
       "      <td>volkswagen</td>\n",
       "      <td>NaN</td>\n",
       "      <td>24/03/2016 00:00</td>\n",
       "      <td>0</td>\n",
       "      <td>70435</td>\n",
       "      <td>07/04/2016 03:16</td>\n",
       "    </tr>\n",
       "    <tr>\n",
       "      <th>1</th>\n",
       "      <td>24/03/2016 10:58</td>\n",
       "      <td>18300</td>\n",
       "      <td>coupe</td>\n",
       "      <td>2011</td>\n",
       "      <td>manual</td>\n",
       "      <td>190</td>\n",
       "      <td>NaN</td>\n",
       "      <td>125000</td>\n",
       "      <td>5</td>\n",
       "      <td>gasoline</td>\n",
       "      <td>audi</td>\n",
       "      <td>yes</td>\n",
       "      <td>24/03/2016 00:00</td>\n",
       "      <td>0</td>\n",
       "      <td>66954</td>\n",
       "      <td>07/04/2016 01:46</td>\n",
       "    </tr>\n",
       "    <tr>\n",
       "      <th>2</th>\n",
       "      <td>14/03/2016 12:52</td>\n",
       "      <td>9800</td>\n",
       "      <td>suv</td>\n",
       "      <td>2004</td>\n",
       "      <td>auto</td>\n",
       "      <td>163</td>\n",
       "      <td>grand</td>\n",
       "      <td>125000</td>\n",
       "      <td>8</td>\n",
       "      <td>gasoline</td>\n",
       "      <td>jeep</td>\n",
       "      <td>NaN</td>\n",
       "      <td>14/03/2016 00:00</td>\n",
       "      <td>0</td>\n",
       "      <td>90480</td>\n",
       "      <td>05/04/2016 12:47</td>\n",
       "    </tr>\n",
       "    <tr>\n",
       "      <th>3</th>\n",
       "      <td>17/03/2016 16:54</td>\n",
       "      <td>1500</td>\n",
       "      <td>small</td>\n",
       "      <td>2001</td>\n",
       "      <td>manual</td>\n",
       "      <td>75</td>\n",
       "      <td>golf</td>\n",
       "      <td>150000</td>\n",
       "      <td>6</td>\n",
       "      <td>petrol</td>\n",
       "      <td>volkswagen</td>\n",
       "      <td>no</td>\n",
       "      <td>17/03/2016 00:00</td>\n",
       "      <td>0</td>\n",
       "      <td>91074</td>\n",
       "      <td>17/03/2016 17:40</td>\n",
       "    </tr>\n",
       "    <tr>\n",
       "      <th>4</th>\n",
       "      <td>31/03/2016 17:25</td>\n",
       "      <td>3600</td>\n",
       "      <td>small</td>\n",
       "      <td>2008</td>\n",
       "      <td>manual</td>\n",
       "      <td>69</td>\n",
       "      <td>fabia</td>\n",
       "      <td>90000</td>\n",
       "      <td>7</td>\n",
       "      <td>gasoline</td>\n",
       "      <td>skoda</td>\n",
       "      <td>no</td>\n",
       "      <td>31/03/2016 00:00</td>\n",
       "      <td>0</td>\n",
       "      <td>60437</td>\n",
       "      <td>06/04/2016 10:17</td>\n",
       "    </tr>\n",
       "  </tbody>\n",
       "</table>\n",
       "</div>"
      ],
      "text/plain": [
       "        DateCrawled  Price VehicleType  RegistrationYear Gearbox  Power  \\\n",
       "0  24/03/2016 11:52    480         NaN              1993  manual      0   \n",
       "1  24/03/2016 10:58  18300       coupe              2011  manual    190   \n",
       "2  14/03/2016 12:52   9800         suv              2004    auto    163   \n",
       "3  17/03/2016 16:54   1500       small              2001  manual     75   \n",
       "4  31/03/2016 17:25   3600       small              2008  manual     69   \n",
       "\n",
       "   Model  Mileage  RegistrationMonth  FuelType       Brand NotRepaired  \\\n",
       "0   golf   150000                  0    petrol  volkswagen         NaN   \n",
       "1    NaN   125000                  5  gasoline        audi         yes   \n",
       "2  grand   125000                  8  gasoline        jeep         NaN   \n",
       "3   golf   150000                  6    petrol  volkswagen          no   \n",
       "4  fabia    90000                  7  gasoline       skoda          no   \n",
       "\n",
       "        DateCreated  NumberOfPictures  PostalCode          LastSeen  \n",
       "0  24/03/2016 00:00                 0       70435  07/04/2016 03:16  \n",
       "1  24/03/2016 00:00                 0       66954  07/04/2016 01:46  \n",
       "2  14/03/2016 00:00                 0       90480  05/04/2016 12:47  \n",
       "3  17/03/2016 00:00                 0       91074  17/03/2016 17:40  \n",
       "4  31/03/2016 00:00                 0       60437  06/04/2016 10:17  "
      ]
     },
     "execution_count": 26,
     "metadata": {},
     "output_type": "execute_result"
    }
   ],
   "source": [
    "# Loading Data\n",
    "data = pd.read_csv('car_data.csv')\n",
    "data.info()\n",
    "data.head()"
   ]
  },
  {
   "cell_type": "markdown",
   "metadata": {},
   "source": [
    "The data contains 354369 entries each with 16 columns, which will be split into the following categories: \n",
    "\n",
    "**Features:**\n",
    "- `DateCrawled` — date profile was downloaded from the database\n",
    "- `VehicleType` — vehicle body type\n",
    "- `RegistrationYear` — vehicle registration year\n",
    "- `Gearbox` — gearbox type\n",
    "- `Power` — power (hp)\n",
    "- `Model` — vehicle model\n",
    "- `Mileage` — odometer reading (measured in km due to dataset's regional specifics)\n",
    "- `RegistrationMonth` — vehicle registration month\n",
    "- `FuelType` — fuel type\n",
    "- `Brand` — vehicle brand\n",
    "- `NotRepaired` — vehicle repaired or not\n",
    "- `DateCreated` — date of profile creation\n",
    "- `NumberOfPictures` — number of vehicle pictures\n",
    "- `PostalCode` — postal code of profile owner (user)\n",
    "- `LastSeen` — date of the last activity of the user\n",
    "\n",
    "**Target:**\n",
    "- `Price` — price (in Euro)\n",
    "\n",
    "Column names will be renamed for readability, then datatypes will be corrected:"
   ]
  },
  {
   "cell_type": "code",
   "execution_count": 27,
   "metadata": {
    "scrolled": false
   },
   "outputs": [
    {
     "name": "stdout",
     "output_type": "stream",
     "text": [
      "Index(['date_crawled', 'price', 'vehicle_type', 'registration_year', 'gearbox',\n",
      "       'power', 'model', 'mileage', 'registration_month', 'fuel_type', 'brand',\n",
      "       'not_repaired', 'date_created', 'num_of_pictures', 'postal_code',\n",
      "       'last_seen'],\n",
      "      dtype='object')\n"
     ]
    },
    {
     "data": {
      "text/plain": [
       "date_crawled                  object\n",
       "price                          int64\n",
       "vehicle_type                  object\n",
       "registration_year              int64\n",
       "gearbox                       object\n",
       "power                          int64\n",
       "model                         object\n",
       "mileage                        int64\n",
       "registration_month             int64\n",
       "fuel_type                     object\n",
       "brand                         object\n",
       "not_repaired                  object\n",
       "date_created          datetime64[ns]\n",
       "num_of_pictures                int64\n",
       "postal_code                    int64\n",
       "last_seen                     object\n",
       "dtype: object"
      ]
     },
     "execution_count": 27,
     "metadata": {},
     "output_type": "execute_result"
    }
   ],
   "source": [
    "# Renaming columns\n",
    "data = data.rename(columns={'DateCrawled':'date_crawled','Price':'price','VehicleType':'vehicle_type','RegistrationYear':'registration_year','Gearbox':'gearbox','Power':'power','Model':'model','Mileage':'mileage','RegistrationMonth':'registration_month','FuelType':'fuel_type','Brand':'brand','NotRepaired':'not_repaired','DateCreated':'date_created','NumberOfPictures':'num_of_pictures','PostalCode':'postal_code','LastSeen':'last_seen'})\n",
    "print(data.columns)\n",
    "\n",
    "# Converting to datetime\n",
    "data['date_created'] = pd.to_datetime(data['date_created'], dayfirst=True)\n",
    "data.dtypes"
   ]
  },
  {
   "cell_type": "markdown",
   "metadata": {},
   "source": [
    "### Missing & Duplicate Values"
   ]
  },
  {
   "cell_type": "code",
   "execution_count": 28,
   "metadata": {},
   "outputs": [
    {
     "name": "stdout",
     "output_type": "stream",
     "text": [
      "date_crawled              0\n",
      "price                     0\n",
      "vehicle_type          37490\n",
      "registration_year         0\n",
      "gearbox               19833\n",
      "power                     0\n",
      "model                 19705\n",
      "mileage                   0\n",
      "registration_month        0\n",
      "fuel_type             32895\n",
      "brand                     0\n",
      "not_repaired          71154\n",
      "date_created              0\n",
      "num_of_pictures           0\n",
      "postal_code               0\n",
      "last_seen                 0\n",
      "dtype: int64\n"
     ]
    }
   ],
   "source": [
    "print(data.isna().sum())\n",
    "missing_cols = ['vehicle_type', 'model', 'fuel_type', 'gearbox', 'not_repaired']"
   ]
  },
  {
   "cell_type": "markdown",
   "metadata": {},
   "source": [
    "All the columns with missing values are the object dtype. Further analysis is necessary."
   ]
  },
  {
   "cell_type": "code",
   "execution_count": 29,
   "metadata": {
    "scrolled": false
   },
   "outputs": [
    {
     "name": "stdout",
     "output_type": "stream",
     "text": [
      "\n",
      "vehicle_type\n",
      "sedan          91457\n",
      "small          79831\n",
      "wagon          65166\n",
      "bus            28775\n",
      "convertible    20203\n",
      "coupe          16163\n",
      "suv            11996\n",
      "other           3288\n",
      "Name: count, dtype: int64\n",
      "\n",
      "model\n",
      "golf                  29232\n",
      "other                 24421\n",
      "3er                   19761\n",
      "polo                  13066\n",
      "corsa                 12570\n",
      "                      ...  \n",
      "i3                        8\n",
      "serie_3                   4\n",
      "rangerover                4\n",
      "range_rover_evoque        2\n",
      "serie_1                   2\n",
      "Name: count, Length: 250, dtype: int64\n",
      "\n",
      "fuel_type\n",
      "petrol      216352\n",
      "gasoline     98720\n",
      "lpg           5310\n",
      "cng            565\n",
      "hybrid         233\n",
      "other          204\n",
      "electric        90\n",
      "Name: count, dtype: int64\n",
      "\n",
      "gearbox\n",
      "manual    268251\n",
      "auto       66285\n",
      "Name: count, dtype: int64\n",
      "\n",
      "not_repaired\n",
      "no     247161\n",
      "yes     36054\n",
      "Name: count, dtype: int64\n"
     ]
    }
   ],
   "source": [
    "for col in missing_cols:\n",
    "    print()\n",
    "    print(data[col].value_counts())"
   ]
  },
  {
   "cell_type": "markdown",
   "metadata": {},
   "source": [
    "The `vehicle_type`, `model` and `fuel_type` columns have an `other` value that missing values will be replaced with. The remaining columns will have missing values filled in with `unknown`."
   ]
  },
  {
   "cell_type": "code",
   "execution_count": 30,
   "metadata": {
    "scrolled": true
   },
   "outputs": [
    {
     "data": {
      "text/plain": [
       "date_crawled          0\n",
       "price                 0\n",
       "vehicle_type          0\n",
       "registration_year     0\n",
       "gearbox               0\n",
       "power                 0\n",
       "model                 0\n",
       "mileage               0\n",
       "registration_month    0\n",
       "fuel_type             0\n",
       "brand                 0\n",
       "not_repaired          0\n",
       "date_created          0\n",
       "num_of_pictures       0\n",
       "postal_code           0\n",
       "last_seen             0\n",
       "dtype: int64"
      ]
     },
     "execution_count": 30,
     "metadata": {},
     "output_type": "execute_result"
    }
   ],
   "source": [
    "# Filling missing data\n",
    "data[missing_cols[:3]] = data[missing_cols[:3]].fillna('other')\n",
    "data[missing_cols[3:]] = data[missing_cols[3:]].fillna('unknown')\n",
    "del missing_cols\n",
    "\n",
    "data.isna().sum()"
   ]
  },
  {
   "cell_type": "code",
   "execution_count": 31,
   "metadata": {
    "scrolled": false
   },
   "outputs": [
    {
     "name": "stdout",
     "output_type": "stream",
     "text": [
      "Number of duplicate rows: 263\n"
     ]
    }
   ],
   "source": [
    "print('Number of duplicate rows:', data.duplicated().sum())"
   ]
  },
  {
   "cell_type": "code",
   "execution_count": 32,
   "metadata": {},
   "outputs": [
    {
     "name": "stdout",
     "output_type": "stream",
     "text": [
      "Number of duplicate rows: 0\n"
     ]
    }
   ],
   "source": [
    "data.drop_duplicates(inplace=True)\n",
    "print('Number of duplicate rows:', data.duplicated().sum())"
   ]
  },
  {
   "cell_type": "code",
   "execution_count": 33,
   "metadata": {
    "scrolled": true
   },
   "outputs": [
    {
     "data": {
      "text/html": [
       "<div>\n",
       "<style scoped>\n",
       "    .dataframe tbody tr th:only-of-type {\n",
       "        vertical-align: middle;\n",
       "    }\n",
       "\n",
       "    .dataframe tbody tr th {\n",
       "        vertical-align: top;\n",
       "    }\n",
       "\n",
       "    .dataframe thead th {\n",
       "        text-align: right;\n",
       "    }\n",
       "</style>\n",
       "<table border=\"1\" class=\"dataframe\">\n",
       "  <thead>\n",
       "    <tr style=\"text-align: right;\">\n",
       "      <th></th>\n",
       "      <th>price</th>\n",
       "      <th>registration_year</th>\n",
       "      <th>power</th>\n",
       "      <th>mileage</th>\n",
       "      <th>registration_month</th>\n",
       "      <th>date_created</th>\n",
       "      <th>num_of_pictures</th>\n",
       "      <th>postal_code</th>\n",
       "    </tr>\n",
       "  </thead>\n",
       "  <tbody>\n",
       "    <tr>\n",
       "      <th>count</th>\n",
       "      <td>354106.000000</td>\n",
       "      <td>354106.000000</td>\n",
       "      <td>354106.000000</td>\n",
       "      <td>354106.000000</td>\n",
       "      <td>354106.00000</td>\n",
       "      <td>354106</td>\n",
       "      <td>354106.0</td>\n",
       "      <td>354106.000000</td>\n",
       "    </tr>\n",
       "    <tr>\n",
       "      <th>mean</th>\n",
       "      <td>4416.443785</td>\n",
       "      <td>2004.235379</td>\n",
       "      <td>110.089750</td>\n",
       "      <td>128211.750154</td>\n",
       "      <td>5.71417</td>\n",
       "      <td>2016-03-20 19:11:16.129746944</td>\n",
       "      <td>0.0</td>\n",
       "      <td>50507.195148</td>\n",
       "    </tr>\n",
       "    <tr>\n",
       "      <th>min</th>\n",
       "      <td>0.000000</td>\n",
       "      <td>1000.000000</td>\n",
       "      <td>0.000000</td>\n",
       "      <td>5000.000000</td>\n",
       "      <td>0.00000</td>\n",
       "      <td>2014-03-10 00:00:00</td>\n",
       "      <td>0.0</td>\n",
       "      <td>1067.000000</td>\n",
       "    </tr>\n",
       "    <tr>\n",
       "      <th>25%</th>\n",
       "      <td>1050.000000</td>\n",
       "      <td>1999.000000</td>\n",
       "      <td>69.000000</td>\n",
       "      <td>125000.000000</td>\n",
       "      <td>3.00000</td>\n",
       "      <td>2016-03-13 00:00:00</td>\n",
       "      <td>0.0</td>\n",
       "      <td>30165.000000</td>\n",
       "    </tr>\n",
       "    <tr>\n",
       "      <th>50%</th>\n",
       "      <td>2700.000000</td>\n",
       "      <td>2003.000000</td>\n",
       "      <td>105.000000</td>\n",
       "      <td>150000.000000</td>\n",
       "      <td>6.00000</td>\n",
       "      <td>2016-03-21 00:00:00</td>\n",
       "      <td>0.0</td>\n",
       "      <td>49406.000000</td>\n",
       "    </tr>\n",
       "    <tr>\n",
       "      <th>75%</th>\n",
       "      <td>6400.000000</td>\n",
       "      <td>2008.000000</td>\n",
       "      <td>143.000000</td>\n",
       "      <td>150000.000000</td>\n",
       "      <td>9.00000</td>\n",
       "      <td>2016-03-29 00:00:00</td>\n",
       "      <td>0.0</td>\n",
       "      <td>71083.000000</td>\n",
       "    </tr>\n",
       "    <tr>\n",
       "      <th>max</th>\n",
       "      <td>20000.000000</td>\n",
       "      <td>9999.000000</td>\n",
       "      <td>20000.000000</td>\n",
       "      <td>150000.000000</td>\n",
       "      <td>12.00000</td>\n",
       "      <td>2016-04-07 00:00:00</td>\n",
       "      <td>0.0</td>\n",
       "      <td>99998.000000</td>\n",
       "    </tr>\n",
       "    <tr>\n",
       "      <th>std</th>\n",
       "      <td>4514.340636</td>\n",
       "      <td>90.261295</td>\n",
       "      <td>189.915231</td>\n",
       "      <td>37906.625942</td>\n",
       "      <td>3.72668</td>\n",
       "      <td>NaN</td>\n",
       "      <td>0.0</td>\n",
       "      <td>25784.231254</td>\n",
       "    </tr>\n",
       "  </tbody>\n",
       "</table>\n",
       "</div>"
      ],
      "text/plain": [
       "               price  registration_year          power        mileage  \\\n",
       "count  354106.000000      354106.000000  354106.000000  354106.000000   \n",
       "mean     4416.443785        2004.235379     110.089750  128211.750154   \n",
       "min         0.000000        1000.000000       0.000000    5000.000000   \n",
       "25%      1050.000000        1999.000000      69.000000  125000.000000   \n",
       "50%      2700.000000        2003.000000     105.000000  150000.000000   \n",
       "75%      6400.000000        2008.000000     143.000000  150000.000000   \n",
       "max     20000.000000        9999.000000   20000.000000  150000.000000   \n",
       "std      4514.340636          90.261295     189.915231   37906.625942   \n",
       "\n",
       "       registration_month                   date_created  num_of_pictures  \\\n",
       "count        354106.00000                         354106         354106.0   \n",
       "mean              5.71417  2016-03-20 19:11:16.129746944              0.0   \n",
       "min               0.00000            2014-03-10 00:00:00              0.0   \n",
       "25%               3.00000            2016-03-13 00:00:00              0.0   \n",
       "50%               6.00000            2016-03-21 00:00:00              0.0   \n",
       "75%               9.00000            2016-03-29 00:00:00              0.0   \n",
       "max              12.00000            2016-04-07 00:00:00              0.0   \n",
       "std               3.72668                            NaN              0.0   \n",
       "\n",
       "         postal_code  \n",
       "count  354106.000000  \n",
       "mean    50507.195148  \n",
       "min      1067.000000  \n",
       "25%     30165.000000  \n",
       "50%     49406.000000  \n",
       "75%     71083.000000  \n",
       "max     99998.000000  \n",
       "std     25784.231254  "
      ]
     },
     "execution_count": 33,
     "metadata": {},
     "output_type": "execute_result"
    }
   ],
   "source": [
    "data.describe()"
   ]
  },
  {
   "cell_type": "markdown",
   "metadata": {},
   "source": [
    "A few oddities stand out:\n",
    "- `registration_year` has a min value of 1000 and a max of 9999.\n",
    "- `power` has a min value of 0.\n",
    "- `registration_month` has a min value of 0, but a max of 12, making 13 months.\n",
    "- `num_of_pictures` contains only 0 values."
   ]
  },
  {
   "cell_type": "code",
   "execution_count": 34,
   "metadata": {},
   "outputs": [
    {
     "name": "stderr",
     "output_type": "stream",
     "text": [
      "C:\\Users\\m-gle\\AppData\\Local\\Temp\\ipykernel_53156\\348358983.py:9: FutureWarning: A value is trying to be set on a copy of a DataFrame or Series through chained assignment using an inplace method.\n",
      "The behavior will change in pandas 3.0. This inplace method will never work because the intermediate object on which we are setting values always behaves as a copy.\n",
      "\n",
      "For example, when doing 'df[col].method(value, inplace=True)', try using 'df.method({col: value}, inplace=True)' or df[col] = df[col].method(value) instead, to perform the operation inplace on the original object.\n",
      "\n",
      "\n",
      "  data['registration_month'].replace(0, np.nan, inplace=True)\n"
     ]
    },
    {
     "data": {
      "text/html": [
       "<div>\n",
       "<style scoped>\n",
       "    .dataframe tbody tr th:only-of-type {\n",
       "        vertical-align: middle;\n",
       "    }\n",
       "\n",
       "    .dataframe tbody tr th {\n",
       "        vertical-align: top;\n",
       "    }\n",
       "\n",
       "    .dataframe thead th {\n",
       "        text-align: right;\n",
       "    }\n",
       "</style>\n",
       "<table border=\"1\" class=\"dataframe\">\n",
       "  <thead>\n",
       "    <tr style=\"text-align: right;\">\n",
       "      <th></th>\n",
       "      <th>price</th>\n",
       "      <th>registration_year</th>\n",
       "      <th>power</th>\n",
       "      <th>mileage</th>\n",
       "      <th>registration_month</th>\n",
       "      <th>date_created</th>\n",
       "      <th>postal_code</th>\n",
       "    </tr>\n",
       "  </thead>\n",
       "  <tbody>\n",
       "    <tr>\n",
       "      <th>count</th>\n",
       "      <td>297347.000000</td>\n",
       "      <td>297347.000000</td>\n",
       "      <td>297347.000000</td>\n",
       "      <td>297347.000000</td>\n",
       "      <td>297347.000000</td>\n",
       "      <td>297347</td>\n",
       "      <td>297347.000000</td>\n",
       "    </tr>\n",
       "    <tr>\n",
       "      <th>mean</th>\n",
       "      <td>4806.474728</td>\n",
       "      <td>2002.903083</td>\n",
       "      <td>125.980464</td>\n",
       "      <td>128578.142709</td>\n",
       "      <td>6.166563</td>\n",
       "      <td>2016-03-20 19:17:03.470894080</td>\n",
       "      <td>51199.648882</td>\n",
       "    </tr>\n",
       "    <tr>\n",
       "      <th>min</th>\n",
       "      <td>0.000000</td>\n",
       "      <td>1910.000000</td>\n",
       "      <td>50.000000</td>\n",
       "      <td>5000.000000</td>\n",
       "      <td>1.000000</td>\n",
       "      <td>2015-03-20 00:00:00</td>\n",
       "      <td>1067.000000</td>\n",
       "    </tr>\n",
       "    <tr>\n",
       "      <th>25%</th>\n",
       "      <td>1299.000000</td>\n",
       "      <td>1999.000000</td>\n",
       "      <td>80.000000</td>\n",
       "      <td>125000.000000</td>\n",
       "      <td>3.000000</td>\n",
       "      <td>2016-03-13 00:00:00</td>\n",
       "      <td>30916.000000</td>\n",
       "    </tr>\n",
       "    <tr>\n",
       "      <th>50%</th>\n",
       "      <td>3100.000000</td>\n",
       "      <td>2003.000000</td>\n",
       "      <td>115.000000</td>\n",
       "      <td>150000.000000</td>\n",
       "      <td>6.000000</td>\n",
       "      <td>2016-03-21 00:00:00</td>\n",
       "      <td>50226.000000</td>\n",
       "    </tr>\n",
       "    <tr>\n",
       "      <th>75%</th>\n",
       "      <td>6990.000000</td>\n",
       "      <td>2007.000000</td>\n",
       "      <td>150.000000</td>\n",
       "      <td>150000.000000</td>\n",
       "      <td>9.000000</td>\n",
       "      <td>2016-03-29 00:00:00</td>\n",
       "      <td>72076.000000</td>\n",
       "    </tr>\n",
       "    <tr>\n",
       "      <th>max</th>\n",
       "      <td>20000.000000</td>\n",
       "      <td>2016.000000</td>\n",
       "      <td>20000.000000</td>\n",
       "      <td>150000.000000</td>\n",
       "      <td>12.000000</td>\n",
       "      <td>2016-04-07 00:00:00</td>\n",
       "      <td>99998.000000</td>\n",
       "    </tr>\n",
       "    <tr>\n",
       "      <th>std</th>\n",
       "      <td>4626.584568</td>\n",
       "      <td>6.369567</td>\n",
       "      <td>195.113059</td>\n",
       "      <td>36633.453719</td>\n",
       "      <td>3.342634</td>\n",
       "      <td>NaN</td>\n",
       "      <td>25806.939738</td>\n",
       "    </tr>\n",
       "  </tbody>\n",
       "</table>\n",
       "</div>"
      ],
      "text/plain": [
       "               price  registration_year          power        mileage  \\\n",
       "count  297347.000000      297347.000000  297347.000000  297347.000000   \n",
       "mean     4806.474728        2002.903083     125.980464  128578.142709   \n",
       "min         0.000000        1910.000000      50.000000    5000.000000   \n",
       "25%      1299.000000        1999.000000      80.000000  125000.000000   \n",
       "50%      3100.000000        2003.000000     115.000000  150000.000000   \n",
       "75%      6990.000000        2007.000000     150.000000  150000.000000   \n",
       "max     20000.000000        2016.000000   20000.000000  150000.000000   \n",
       "std      4626.584568           6.369567     195.113059   36633.453719   \n",
       "\n",
       "       registration_month                   date_created    postal_code  \n",
       "count       297347.000000                         297347  297347.000000  \n",
       "mean             6.166563  2016-03-20 19:17:03.470894080   51199.648882  \n",
       "min              1.000000            2015-03-20 00:00:00    1067.000000  \n",
       "25%              3.000000            2016-03-13 00:00:00   30916.000000  \n",
       "50%              6.000000            2016-03-21 00:00:00   50226.000000  \n",
       "75%              9.000000            2016-03-29 00:00:00   72076.000000  \n",
       "max             12.000000            2016-04-07 00:00:00   99998.000000  \n",
       "std              3.342634                            NaN   25806.939738  "
      ]
     },
     "metadata": {},
     "output_type": "display_data"
    }
   ],
   "source": [
    "# Getting the year data was collected\n",
    "current_year = data['date_created'].dt.year.max()\n",
    "\n",
    "# Remove unrealistic values\n",
    "data = data[(data['registration_year'] >= 1900) & (data['registration_year'] <= current_year)]\n",
    "data = data[data['power'] >= 50]\n",
    "\n",
    "# Filling missing 'registration_month' values\n",
    "data['registration_month'].replace(0, np.nan, inplace=True)\n",
    "data['registration_month'].fillna(data['registration_month'].mode()[0], inplace=True)\n",
    "\n",
    "# Drop non-informative columns\n",
    "data.drop(columns=['num_of_pictures'], inplace=True)\n",
    "\n",
    "display(data.describe())"
   ]
  },
  {
   "cell_type": "markdown",
   "metadata": {},
   "source": [
    "Now the data looks much cleaner, a new column named `vehicle_age` will be created."
   ]
  },
  {
   "cell_type": "code",
   "execution_count": 35,
   "metadata": {},
   "outputs": [
    {
     "data": {
      "text/html": [
       "<div>\n",
       "<style scoped>\n",
       "    .dataframe tbody tr th:only-of-type {\n",
       "        vertical-align: middle;\n",
       "    }\n",
       "\n",
       "    .dataframe tbody tr th {\n",
       "        vertical-align: top;\n",
       "    }\n",
       "\n",
       "    .dataframe thead th {\n",
       "        text-align: right;\n",
       "    }\n",
       "</style>\n",
       "<table border=\"1\" class=\"dataframe\">\n",
       "  <thead>\n",
       "    <tr style=\"text-align: right;\">\n",
       "      <th></th>\n",
       "      <th>price</th>\n",
       "      <th>registration_year</th>\n",
       "      <th>power</th>\n",
       "      <th>mileage</th>\n",
       "      <th>registration_month</th>\n",
       "      <th>date_created</th>\n",
       "      <th>postal_code</th>\n",
       "      <th>vehicle_age</th>\n",
       "    </tr>\n",
       "  </thead>\n",
       "  <tbody>\n",
       "    <tr>\n",
       "      <th>count</th>\n",
       "      <td>297347.000000</td>\n",
       "      <td>297347.000000</td>\n",
       "      <td>297347.000000</td>\n",
       "      <td>297347.000000</td>\n",
       "      <td>297347.000000</td>\n",
       "      <td>297347</td>\n",
       "      <td>297347.000000</td>\n",
       "      <td>297347.000000</td>\n",
       "    </tr>\n",
       "    <tr>\n",
       "      <th>mean</th>\n",
       "      <td>4806.474728</td>\n",
       "      <td>2002.903083</td>\n",
       "      <td>125.980464</td>\n",
       "      <td>128578.142709</td>\n",
       "      <td>6.166563</td>\n",
       "      <td>2016-03-20 19:17:03.470894080</td>\n",
       "      <td>51199.648882</td>\n",
       "      <td>13.096917</td>\n",
       "    </tr>\n",
       "    <tr>\n",
       "      <th>min</th>\n",
       "      <td>0.000000</td>\n",
       "      <td>1910.000000</td>\n",
       "      <td>50.000000</td>\n",
       "      <td>5000.000000</td>\n",
       "      <td>1.000000</td>\n",
       "      <td>2015-03-20 00:00:00</td>\n",
       "      <td>1067.000000</td>\n",
       "      <td>0.000000</td>\n",
       "    </tr>\n",
       "    <tr>\n",
       "      <th>25%</th>\n",
       "      <td>1299.000000</td>\n",
       "      <td>1999.000000</td>\n",
       "      <td>80.000000</td>\n",
       "      <td>125000.000000</td>\n",
       "      <td>3.000000</td>\n",
       "      <td>2016-03-13 00:00:00</td>\n",
       "      <td>30916.000000</td>\n",
       "      <td>9.000000</td>\n",
       "    </tr>\n",
       "    <tr>\n",
       "      <th>50%</th>\n",
       "      <td>3100.000000</td>\n",
       "      <td>2003.000000</td>\n",
       "      <td>115.000000</td>\n",
       "      <td>150000.000000</td>\n",
       "      <td>6.000000</td>\n",
       "      <td>2016-03-21 00:00:00</td>\n",
       "      <td>50226.000000</td>\n",
       "      <td>13.000000</td>\n",
       "    </tr>\n",
       "    <tr>\n",
       "      <th>75%</th>\n",
       "      <td>6990.000000</td>\n",
       "      <td>2007.000000</td>\n",
       "      <td>150.000000</td>\n",
       "      <td>150000.000000</td>\n",
       "      <td>9.000000</td>\n",
       "      <td>2016-03-29 00:00:00</td>\n",
       "      <td>72076.000000</td>\n",
       "      <td>17.000000</td>\n",
       "    </tr>\n",
       "    <tr>\n",
       "      <th>max</th>\n",
       "      <td>20000.000000</td>\n",
       "      <td>2016.000000</td>\n",
       "      <td>20000.000000</td>\n",
       "      <td>150000.000000</td>\n",
       "      <td>12.000000</td>\n",
       "      <td>2016-04-07 00:00:00</td>\n",
       "      <td>99998.000000</td>\n",
       "      <td>106.000000</td>\n",
       "    </tr>\n",
       "    <tr>\n",
       "      <th>std</th>\n",
       "      <td>4626.584568</td>\n",
       "      <td>6.369567</td>\n",
       "      <td>195.113059</td>\n",
       "      <td>36633.453719</td>\n",
       "      <td>3.342634</td>\n",
       "      <td>NaN</td>\n",
       "      <td>25806.939738</td>\n",
       "      <td>6.369567</td>\n",
       "    </tr>\n",
       "  </tbody>\n",
       "</table>\n",
       "</div>"
      ],
      "text/plain": [
       "               price  registration_year          power        mileage  \\\n",
       "count  297347.000000      297347.000000  297347.000000  297347.000000   \n",
       "mean     4806.474728        2002.903083     125.980464  128578.142709   \n",
       "min         0.000000        1910.000000      50.000000    5000.000000   \n",
       "25%      1299.000000        1999.000000      80.000000  125000.000000   \n",
       "50%      3100.000000        2003.000000     115.000000  150000.000000   \n",
       "75%      6990.000000        2007.000000     150.000000  150000.000000   \n",
       "max     20000.000000        2016.000000   20000.000000  150000.000000   \n",
       "std      4626.584568           6.369567     195.113059   36633.453719   \n",
       "\n",
       "       registration_month                   date_created    postal_code  \\\n",
       "count       297347.000000                         297347  297347.000000   \n",
       "mean             6.166563  2016-03-20 19:17:03.470894080   51199.648882   \n",
       "min              1.000000            2015-03-20 00:00:00    1067.000000   \n",
       "25%              3.000000            2016-03-13 00:00:00   30916.000000   \n",
       "50%              6.000000            2016-03-21 00:00:00   50226.000000   \n",
       "75%              9.000000            2016-03-29 00:00:00   72076.000000   \n",
       "max             12.000000            2016-04-07 00:00:00   99998.000000   \n",
       "std              3.342634                            NaN   25806.939738   \n",
       "\n",
       "         vehicle_age  \n",
       "count  297347.000000  \n",
       "mean       13.096917  \n",
       "min         0.000000  \n",
       "25%         9.000000  \n",
       "50%        13.000000  \n",
       "75%        17.000000  \n",
       "max       106.000000  \n",
       "std         6.369567  "
      ]
     },
     "metadata": {},
     "output_type": "display_data"
    }
   ],
   "source": [
    "# Creating 'vehicle_age' column\n",
    "data['vehicle_age'] = current_year - data['registration_year']\n",
    "del current_year\n",
    "display(data.describe())"
   ]
  },
  {
   "cell_type": "markdown",
   "metadata": {},
   "source": [
    "<div class=\"alert alert-block alert-success\">\n",
    "<b>Reviewer's comment</b> <a class=\"tocSkip\"></a>\n",
    "\n",
    "Very good preprocessing!\n",
    "</div>"
   ]
  },
  {
   "cell_type": "markdown",
   "metadata": {},
   "source": [
    "### Data Encoding\n",
    "\n",
    "In order to train the models, `object` data will need to be converted to numeric dtypes. OHE will be used for the columns with a small amount of entries: `gearbox`, `fuel_type`and `not_repaired`."
   ]
  },
  {
   "cell_type": "code",
   "execution_count": 36,
   "metadata": {},
   "outputs": [
    {
     "data": {
      "text/html": [
       "<div>\n",
       "<style scoped>\n",
       "    .dataframe tbody tr th:only-of-type {\n",
       "        vertical-align: middle;\n",
       "    }\n",
       "\n",
       "    .dataframe tbody tr th {\n",
       "        vertical-align: top;\n",
       "    }\n",
       "\n",
       "    .dataframe thead th {\n",
       "        text-align: right;\n",
       "    }\n",
       "</style>\n",
       "<table border=\"1\" class=\"dataframe\">\n",
       "  <thead>\n",
       "    <tr style=\"text-align: right;\">\n",
       "      <th></th>\n",
       "      <th>date_crawled</th>\n",
       "      <th>price</th>\n",
       "      <th>vehicle_type</th>\n",
       "      <th>registration_year</th>\n",
       "      <th>power</th>\n",
       "      <th>model</th>\n",
       "      <th>mileage</th>\n",
       "      <th>registration_month</th>\n",
       "      <th>brand</th>\n",
       "      <th>date_created</th>\n",
       "      <th>...</th>\n",
       "      <th>fuel_type_cng</th>\n",
       "      <th>fuel_type_electric</th>\n",
       "      <th>fuel_type_gasoline</th>\n",
       "      <th>fuel_type_hybrid</th>\n",
       "      <th>fuel_type_lpg</th>\n",
       "      <th>fuel_type_other</th>\n",
       "      <th>fuel_type_petrol</th>\n",
       "      <th>not_repaired_no</th>\n",
       "      <th>not_repaired_unknown</th>\n",
       "      <th>not_repaired_yes</th>\n",
       "    </tr>\n",
       "  </thead>\n",
       "  <tbody>\n",
       "    <tr>\n",
       "      <th>0</th>\n",
       "      <td>24/03/2016 10:58</td>\n",
       "      <td>18300</td>\n",
       "      <td>coupe</td>\n",
       "      <td>2011</td>\n",
       "      <td>190</td>\n",
       "      <td>other</td>\n",
       "      <td>125000</td>\n",
       "      <td>5.0</td>\n",
       "      <td>audi</td>\n",
       "      <td>2016-03-24</td>\n",
       "      <td>...</td>\n",
       "      <td>False</td>\n",
       "      <td>False</td>\n",
       "      <td>True</td>\n",
       "      <td>False</td>\n",
       "      <td>False</td>\n",
       "      <td>False</td>\n",
       "      <td>False</td>\n",
       "      <td>False</td>\n",
       "      <td>False</td>\n",
       "      <td>True</td>\n",
       "    </tr>\n",
       "    <tr>\n",
       "      <th>1</th>\n",
       "      <td>14/03/2016 12:52</td>\n",
       "      <td>9800</td>\n",
       "      <td>suv</td>\n",
       "      <td>2004</td>\n",
       "      <td>163</td>\n",
       "      <td>grand</td>\n",
       "      <td>125000</td>\n",
       "      <td>8.0</td>\n",
       "      <td>jeep</td>\n",
       "      <td>2016-03-14</td>\n",
       "      <td>...</td>\n",
       "      <td>False</td>\n",
       "      <td>False</td>\n",
       "      <td>True</td>\n",
       "      <td>False</td>\n",
       "      <td>False</td>\n",
       "      <td>False</td>\n",
       "      <td>False</td>\n",
       "      <td>False</td>\n",
       "      <td>True</td>\n",
       "      <td>False</td>\n",
       "    </tr>\n",
       "    <tr>\n",
       "      <th>2</th>\n",
       "      <td>17/03/2016 16:54</td>\n",
       "      <td>1500</td>\n",
       "      <td>small</td>\n",
       "      <td>2001</td>\n",
       "      <td>75</td>\n",
       "      <td>golf</td>\n",
       "      <td>150000</td>\n",
       "      <td>6.0</td>\n",
       "      <td>volkswagen</td>\n",
       "      <td>2016-03-17</td>\n",
       "      <td>...</td>\n",
       "      <td>False</td>\n",
       "      <td>False</td>\n",
       "      <td>False</td>\n",
       "      <td>False</td>\n",
       "      <td>False</td>\n",
       "      <td>False</td>\n",
       "      <td>True</td>\n",
       "      <td>True</td>\n",
       "      <td>False</td>\n",
       "      <td>False</td>\n",
       "    </tr>\n",
       "    <tr>\n",
       "      <th>3</th>\n",
       "      <td>31/03/2016 17:25</td>\n",
       "      <td>3600</td>\n",
       "      <td>small</td>\n",
       "      <td>2008</td>\n",
       "      <td>69</td>\n",
       "      <td>fabia</td>\n",
       "      <td>90000</td>\n",
       "      <td>7.0</td>\n",
       "      <td>skoda</td>\n",
       "      <td>2016-03-31</td>\n",
       "      <td>...</td>\n",
       "      <td>False</td>\n",
       "      <td>False</td>\n",
       "      <td>True</td>\n",
       "      <td>False</td>\n",
       "      <td>False</td>\n",
       "      <td>False</td>\n",
       "      <td>False</td>\n",
       "      <td>True</td>\n",
       "      <td>False</td>\n",
       "      <td>False</td>\n",
       "    </tr>\n",
       "    <tr>\n",
       "      <th>4</th>\n",
       "      <td>04/04/2016 17:36</td>\n",
       "      <td>650</td>\n",
       "      <td>sedan</td>\n",
       "      <td>1995</td>\n",
       "      <td>102</td>\n",
       "      <td>3er</td>\n",
       "      <td>150000</td>\n",
       "      <td>10.0</td>\n",
       "      <td>bmw</td>\n",
       "      <td>2016-04-04</td>\n",
       "      <td>...</td>\n",
       "      <td>False</td>\n",
       "      <td>False</td>\n",
       "      <td>False</td>\n",
       "      <td>False</td>\n",
       "      <td>False</td>\n",
       "      <td>False</td>\n",
       "      <td>True</td>\n",
       "      <td>False</td>\n",
       "      <td>False</td>\n",
       "      <td>True</td>\n",
       "    </tr>\n",
       "  </tbody>\n",
       "</table>\n",
       "<p>5 rows × 26 columns</p>\n",
       "</div>"
      ],
      "text/plain": [
       "       date_crawled  price vehicle_type  registration_year  power  model  \\\n",
       "0  24/03/2016 10:58  18300        coupe               2011    190  other   \n",
       "1  14/03/2016 12:52   9800          suv               2004    163  grand   \n",
       "2  17/03/2016 16:54   1500        small               2001     75   golf   \n",
       "3  31/03/2016 17:25   3600        small               2008     69  fabia   \n",
       "4  04/04/2016 17:36    650        sedan               1995    102    3er   \n",
       "\n",
       "   mileage  registration_month       brand date_created  ...  fuel_type_cng  \\\n",
       "0   125000                 5.0        audi   2016-03-24  ...          False   \n",
       "1   125000                 8.0        jeep   2016-03-14  ...          False   \n",
       "2   150000                 6.0  volkswagen   2016-03-17  ...          False   \n",
       "3    90000                 7.0       skoda   2016-03-31  ...          False   \n",
       "4   150000                10.0         bmw   2016-04-04  ...          False   \n",
       "\n",
       "  fuel_type_electric  fuel_type_gasoline  fuel_type_hybrid  fuel_type_lpg  \\\n",
       "0              False                True             False          False   \n",
       "1              False                True             False          False   \n",
       "2              False               False             False          False   \n",
       "3              False                True             False          False   \n",
       "4              False               False             False          False   \n",
       "\n",
       "   fuel_type_other  fuel_type_petrol  not_repaired_no  not_repaired_unknown  \\\n",
       "0            False             False            False                 False   \n",
       "1            False             False            False                  True   \n",
       "2            False              True             True                 False   \n",
       "3            False             False             True                 False   \n",
       "4            False              True            False                 False   \n",
       "\n",
       "   not_repaired_yes  \n",
       "0              True  \n",
       "1             False  \n",
       "2             False  \n",
       "3             False  \n",
       "4              True  \n",
       "\n",
       "[5 rows x 26 columns]"
      ]
     },
     "execution_count": 36,
     "metadata": {},
     "output_type": "execute_result"
    }
   ],
   "source": [
    "# Creating a list of string columns to encode\n",
    "columns_to_encode = ['gearbox', 'fuel_type', 'not_repaired', 'brand', 'vehicle_type', 'model']\n",
    "\n",
    "# Encoding data using OHE for Linear Regression\n",
    "encoded_data = pd.get_dummies(data[columns_to_encode[:3]])\n",
    "encoded_data = data.drop(columns_to_encode[:3], axis=1).merge(encoded_data, on=data.index).drop('key_0', axis=1)\n",
    "encoded_data.head()"
   ]
  },
  {
   "cell_type": "markdown",
   "metadata": {},
   "source": [
    "The remaining features will be encoded via Ordinal Encoding."
   ]
  },
  {
   "cell_type": "code",
   "execution_count": 37,
   "metadata": {},
   "outputs": [
    {
     "data": {
      "text/html": [
       "<div>\n",
       "<style scoped>\n",
       "    .dataframe tbody tr th:only-of-type {\n",
       "        vertical-align: middle;\n",
       "    }\n",
       "\n",
       "    .dataframe tbody tr th {\n",
       "        vertical-align: top;\n",
       "    }\n",
       "\n",
       "    .dataframe thead th {\n",
       "        text-align: right;\n",
       "    }\n",
       "</style>\n",
       "<table border=\"1\" class=\"dataframe\">\n",
       "  <thead>\n",
       "    <tr style=\"text-align: right;\">\n",
       "      <th></th>\n",
       "      <th>key_0</th>\n",
       "      <th>date_crawled</th>\n",
       "      <th>price</th>\n",
       "      <th>registration_year</th>\n",
       "      <th>power</th>\n",
       "      <th>mileage</th>\n",
       "      <th>registration_month</th>\n",
       "      <th>date_created</th>\n",
       "      <th>postal_code</th>\n",
       "      <th>last_seen</th>\n",
       "      <th>...</th>\n",
       "      <th>fuel_type_hybrid</th>\n",
       "      <th>fuel_type_lpg</th>\n",
       "      <th>fuel_type_other</th>\n",
       "      <th>fuel_type_petrol</th>\n",
       "      <th>not_repaired_no</th>\n",
       "      <th>not_repaired_unknown</th>\n",
       "      <th>not_repaired_yes</th>\n",
       "      <th>brand</th>\n",
       "      <th>vehicle_type</th>\n",
       "      <th>model</th>\n",
       "    </tr>\n",
       "  </thead>\n",
       "  <tbody>\n",
       "    <tr>\n",
       "      <th>0</th>\n",
       "      <td>1</td>\n",
       "      <td>24/03/2016 10:58</td>\n",
       "      <td>18300</td>\n",
       "      <td>2011</td>\n",
       "      <td>190</td>\n",
       "      <td>125000</td>\n",
       "      <td>5.0</td>\n",
       "      <td>2016-03-24</td>\n",
       "      <td>66954</td>\n",
       "      <td>07/04/2016 01:46</td>\n",
       "      <td>...</td>\n",
       "      <td>False</td>\n",
       "      <td>False</td>\n",
       "      <td>False</td>\n",
       "      <td>False</td>\n",
       "      <td>False</td>\n",
       "      <td>False</td>\n",
       "      <td>True</td>\n",
       "      <td>1.0</td>\n",
       "      <td>2.0</td>\n",
       "      <td>166.0</td>\n",
       "    </tr>\n",
       "    <tr>\n",
       "      <th>1</th>\n",
       "      <td>2</td>\n",
       "      <td>14/03/2016 12:52</td>\n",
       "      <td>9800</td>\n",
       "      <td>2004</td>\n",
       "      <td>163</td>\n",
       "      <td>125000</td>\n",
       "      <td>8.0</td>\n",
       "      <td>2016-03-14</td>\n",
       "      <td>90480</td>\n",
       "      <td>05/04/2016 12:47</td>\n",
       "      <td>...</td>\n",
       "      <td>False</td>\n",
       "      <td>False</td>\n",
       "      <td>False</td>\n",
       "      <td>False</td>\n",
       "      <td>False</td>\n",
       "      <td>True</td>\n",
       "      <td>False</td>\n",
       "      <td>14.0</td>\n",
       "      <td>6.0</td>\n",
       "      <td>117.0</td>\n",
       "    </tr>\n",
       "    <tr>\n",
       "      <th>2</th>\n",
       "      <td>3</td>\n",
       "      <td>17/03/2016 16:54</td>\n",
       "      <td>1500</td>\n",
       "      <td>2001</td>\n",
       "      <td>75</td>\n",
       "      <td>150000</td>\n",
       "      <td>6.0</td>\n",
       "      <td>2016-03-17</td>\n",
       "      <td>91074</td>\n",
       "      <td>17/03/2016 17:40</td>\n",
       "      <td>...</td>\n",
       "      <td>False</td>\n",
       "      <td>False</td>\n",
       "      <td>False</td>\n",
       "      <td>True</td>\n",
       "      <td>True</td>\n",
       "      <td>False</td>\n",
       "      <td>False</td>\n",
       "      <td>38.0</td>\n",
       "      <td>5.0</td>\n",
       "      <td>116.0</td>\n",
       "    </tr>\n",
       "    <tr>\n",
       "      <th>3</th>\n",
       "      <td>4</td>\n",
       "      <td>31/03/2016 17:25</td>\n",
       "      <td>3600</td>\n",
       "      <td>2008</td>\n",
       "      <td>69</td>\n",
       "      <td>90000</td>\n",
       "      <td>7.0</td>\n",
       "      <td>2016-03-31</td>\n",
       "      <td>60437</td>\n",
       "      <td>06/04/2016 10:17</td>\n",
       "      <td>...</td>\n",
       "      <td>False</td>\n",
       "      <td>False</td>\n",
       "      <td>False</td>\n",
       "      <td>False</td>\n",
       "      <td>True</td>\n",
       "      <td>False</td>\n",
       "      <td>False</td>\n",
       "      <td>31.0</td>\n",
       "      <td>5.0</td>\n",
       "      <td>101.0</td>\n",
       "    </tr>\n",
       "    <tr>\n",
       "      <th>4</th>\n",
       "      <td>5</td>\n",
       "      <td>04/04/2016 17:36</td>\n",
       "      <td>650</td>\n",
       "      <td>1995</td>\n",
       "      <td>102</td>\n",
       "      <td>150000</td>\n",
       "      <td>10.0</td>\n",
       "      <td>2016-04-04</td>\n",
       "      <td>33775</td>\n",
       "      <td>06/04/2016 19:17</td>\n",
       "      <td>...</td>\n",
       "      <td>False</td>\n",
       "      <td>False</td>\n",
       "      <td>False</td>\n",
       "      <td>True</td>\n",
       "      <td>False</td>\n",
       "      <td>False</td>\n",
       "      <td>True</td>\n",
       "      <td>2.0</td>\n",
       "      <td>4.0</td>\n",
       "      <td>11.0</td>\n",
       "    </tr>\n",
       "  </tbody>\n",
       "</table>\n",
       "<p>5 rows × 27 columns</p>\n",
       "</div>"
      ],
      "text/plain": [
       "   key_0      date_crawled  price  registration_year  power  mileage  \\\n",
       "0      1  24/03/2016 10:58  18300               2011    190   125000   \n",
       "1      2  14/03/2016 12:52   9800               2004    163   125000   \n",
       "2      3  17/03/2016 16:54   1500               2001     75   150000   \n",
       "3      4  31/03/2016 17:25   3600               2008     69    90000   \n",
       "4      5  04/04/2016 17:36    650               1995    102   150000   \n",
       "\n",
       "   registration_month date_created  postal_code         last_seen  ...  \\\n",
       "0                 5.0   2016-03-24        66954  07/04/2016 01:46  ...   \n",
       "1                 8.0   2016-03-14        90480  05/04/2016 12:47  ...   \n",
       "2                 6.0   2016-03-17        91074  17/03/2016 17:40  ...   \n",
       "3                 7.0   2016-03-31        60437  06/04/2016 10:17  ...   \n",
       "4                10.0   2016-04-04        33775  06/04/2016 19:17  ...   \n",
       "\n",
       "   fuel_type_hybrid  fuel_type_lpg  fuel_type_other  fuel_type_petrol  \\\n",
       "0             False          False            False             False   \n",
       "1             False          False            False             False   \n",
       "2             False          False            False              True   \n",
       "3             False          False            False             False   \n",
       "4             False          False            False              True   \n",
       "\n",
       "   not_repaired_no  not_repaired_unknown  not_repaired_yes  brand  \\\n",
       "0            False                 False              True    1.0   \n",
       "1            False                  True             False   14.0   \n",
       "2             True                 False             False   38.0   \n",
       "3             True                 False             False   31.0   \n",
       "4            False                 False              True    2.0   \n",
       "\n",
       "   vehicle_type  model  \n",
       "0           2.0  166.0  \n",
       "1           6.0  117.0  \n",
       "2           5.0  116.0  \n",
       "3           5.0  101.0  \n",
       "4           4.0   11.0  \n",
       "\n",
       "[5 rows x 27 columns]"
      ]
     },
     "execution_count": 37,
     "metadata": {},
     "output_type": "execute_result"
    }
   ],
   "source": [
    "# Preparing features using ordinal encoding for other simple algorithms \n",
    "encoder = OrdinalEncoder()\n",
    "encoder.fit(data[columns_to_encode[3:]])\n",
    "encoded_columns = pd.DataFrame(encoder.transform(data[columns_to_encode[3:]]), columns=data[columns_to_encode[3:]].columns)\n",
    "\n",
    "# Creating data_ordinal\n",
    "data_ordinal = encoded_data.drop(columns_to_encode[3:], axis=1).merge(encoded_columns, on=data.index)\n",
    "\n",
    "data_ordinal.head(5)"
   ]
  },
  {
   "cell_type": "markdown",
   "metadata": {},
   "source": [
    "<div class=\"alert alert-block alert-success\">\n",
    "<b>Reviewer's comment</b> <a class=\"tocSkip\"></a>\n",
    "\n",
    "Well done!\n",
    "    \n",
    "Pro tip: it's better to fit encoders only on train dataframe to avoid leaks.\n",
    "</div>"
   ]
  },
  {
   "cell_type": "markdown",
   "metadata": {},
   "source": [
    "### Splitting data\n",
    "\n",
    "In order to train the model properly the data will be split into training and test sets at a ratio of $4:1$ respectively. The models will be trained using cross validation which allows the models to be tested on data is has not had access to, ensuring the effectiveness of the model."
   ]
  },
  {
   "cell_type": "code",
   "execution_count": 38,
   "metadata": {},
   "outputs": [
    {
     "name": "stdout",
     "output_type": "stream",
     "text": [
      "Data Training Ratio: 0.80%\n",
      "Data Test Ratio: 0.20%\n"
     ]
    }
   ],
   "source": [
    "# Setting ordinal_features and ordinal_target\n",
    "ordinal_features = data_ordinal.drop(['price', 'date_crawled', 'date_created', 'last_seen', 'key_0'], axis=1)\n",
    "ordinal_target = data_ordinal['price']\n",
    "\n",
    "# Scaling data between 0 - 1\n",
    "scaler = StandardScaler()\n",
    "ordinal_features = scaler.fit_transform(ordinal_features)\n",
    "\n",
    "# Splitting data_ordinal into training and test sets\n",
    "ordinal_features_train, ordinal_features_test, ordinal_target_train, ordinal_target_test = train_test_split(ordinal_features, ordinal_target, test_size=0.2, random_state=1492)\n",
    "print(f'Data Training Ratio: {len(ordinal_features_train)/len(data_ordinal):.2f}%')\n",
    "print(f'Data Test Ratio: {len(ordinal_features_test)/len(data_ordinal):.2f}%')"
   ]
  },
  {
   "cell_type": "markdown",
   "metadata": {},
   "source": [
    "## Model training\n",
    "\n",
    "5 Different ML models will be used for the purposes of this project. The target value is the price of the vehicle, which means this is a regression task.\n",
    "\n",
    "The models include:\n",
    "\n",
    "- `LinearRegression`\n",
    "- `DecisionTreeRegressor`\n",
    "- `RandomForestRegressor`\n",
    "- `LGBMRegressor`\n",
    "- `CatBoostRegressor`\n",
    "\n",
    "Each model will be trained with a cross validator with 5 splits to ensure the models are trained on as much data as possible. Using the `GridSearchCV` class, the models will be cross validated and hyperparameters will be tuned using the `param_grid` parameter.\n",
    "\n",
    "Due to the nature of `LinearRegression`, it will be used as the sanity check for the purposes of this project."
   ]
  },
  {
   "cell_type": "code",
   "execution_count": 39,
   "metadata": {},
   "outputs": [
    {
     "name": "stdout",
     "output_type": "stream",
     "text": [
      "LinearRegression(n_jobs=-1) \n",
      "\n",
      "RMSE for Linear Regression model: 3409.355 \n",
      "\n",
      "Time to train: 1.04 secs\n"
     ]
    }
   ],
   "source": [
    "# Creating KFold instance\n",
    "cross_validator = KFold(n_splits=5, shuffle=True, random_state=17)\n",
    "\n",
    "# Creating LinearRegression param grid\n",
    "line_params = {\n",
    "    'n_jobs':[-1]\n",
    "}\n",
    "\n",
    "# Initializing LinearRegression and its GridSearchCV\n",
    "linreg = LinearRegression()\n",
    "line_grid = GridSearchCV(linreg, param_grid=line_params, scoring='neg_root_mean_squared_error', cv=cross_validator)\n",
    "\n",
    "# Training model\n",
    "start_time = time.time()\n",
    "line_grid.fit(ordinal_features_train, ordinal_target_train)\n",
    "linreg_time = time.time() - start_time\n",
    "\n",
    "print(line_grid.best_estimator_, '\\n')\n",
    "print(f'RMSE for Linear Regression model: {-line_grid.best_score_:.3f}', '\\n')\n",
    "print(f'Time to train: {linreg_time:.2f} secs')"
   ]
  },
  {
   "cell_type": "code",
   "execution_count": null,
   "metadata": {},
   "outputs": [],
   "source": [
    "#  Creating DecisionTree param grid\n",
    "param_grid_tree = {'max_depth':[depth for depth in range(1,16)]}\n",
    "\n",
    "# Initializing DecisionTree and its GridSearchCV\n",
    "tree_model = DecisionTreeRegressor(random_state=17)\n",
    "tree_grid = GridSearchCV(tree_model, param_grid=param_grid_tree, scoring='neg_root_mean_squared_error', cv=cross_validator)\n",
    "\n",
    "# Training model\n",
    "start_time = time.time()\n",
    "tree_grid.fit(ordinal_features_train, ordinal_target_train)\n",
    "tree_time = time.time() - start_time\n",
    "\n",
    "print(tree_grid.best_estimator_, '\\n')\n",
    "print(f'Best Decision Tree RMSE: {-tree_grid.best_score_:.3f}', '\\n')\n",
    "print(f'Time to train: {tree_time:.2f} secs')"
   ]
  },
  {
   "cell_type": "code",
   "execution_count": 17,
   "metadata": {
    "scrolled": true
   },
   "outputs": [
    {
     "name": "stdout",
     "output_type": "stream",
     "text": [
      "RandomForestRegressor(max_depth=15, min_samples_leaf=2, n_estimators=80,\n",
      "                      random_state=17) \n",
      "\n",
      "Best Random Forest RMSE: 1733.956 \n",
      "\n",
      "Time to train: 2949.21 secs\n"
     ]
    }
   ],
   "source": [
    "# Creating RandomForest param grid\n",
    "param_grid_forest = {\n",
    "    'max_depth':[9, 12, 15],\n",
    "    'n_estimators':[10, 40, 80],\n",
    "    'min_samples_leaf':[2, 4]\n",
    "                    }\n",
    "\n",
    "# Initializing RandomForest and its GridSearchCV\n",
    "forest_model = RandomForestRegressor(random_state=17)\n",
    "forest_grid = GridSearchCV(forest_model, param_grid=param_grid_forest, scoring='neg_root_mean_squared_error', cv=cross_validator)\n",
    "\n",
    "# Training model\n",
    "start_time = time.time()\n",
    "forest_grid.fit(ordinal_features_train, ordinal_target_train)\n",
    "forest_time = time.time() - start_time\n",
    "\n",
    "print(forest_grid.best_estimator_, '\\n')\n",
    "print(f'Best Random Forest RMSE: {-forest_grid.best_score_:.3f}', '\\n')\n",
    "print(f'Time to train: {forest_time:.2f} secs')"
   ]
  },
  {
   "cell_type": "code",
   "execution_count": 18,
   "metadata": {
    "scrolled": true
   },
   "outputs": [
    {
     "name": "stdout",
     "output_type": "stream",
     "text": [
      "[LightGBM] [Info] Auto-choosing row-wise multi-threading, the overhead of testing was 0.008041 seconds.\n",
      "You can set `force_row_wise=true` to remove the overhead.\n",
      "And if memory is not enough, you can set `force_col_wise=true`.\n",
      "[LightGBM] [Info] Total Bins 1010\n",
      "[LightGBM] [Info] Number of data points in the train set: 190301, number of used features: 22\n",
      "[LightGBM] [Info] Start training from score 4810.056295\n",
      "[LightGBM] [Info] Auto-choosing row-wise multi-threading, the overhead of testing was 0.006517 seconds.\n",
      "You can set `force_row_wise=true` to remove the overhead.\n",
      "And if memory is not enough, you can set `force_col_wise=true`.\n",
      "[LightGBM] [Info] Total Bins 1013\n",
      "[LightGBM] [Info] Number of data points in the train set: 190301, number of used features: 22\n",
      "[LightGBM] [Info] Start training from score 4813.838051\n",
      "[LightGBM] [Info] Auto-choosing row-wise multi-threading, the overhead of testing was 0.007274 seconds.\n",
      "You can set `force_row_wise=true` to remove the overhead.\n",
      "And if memory is not enough, you can set `force_col_wise=true`.\n",
      "[LightGBM] [Info] Total Bins 1011\n",
      "[LightGBM] [Info] Number of data points in the train set: 190302, number of used features: 22\n",
      "[LightGBM] [Info] Start training from score 4803.505786\n",
      "[LightGBM] [Info] Auto-choosing row-wise multi-threading, the overhead of testing was 0.007354 seconds.\n",
      "You can set `force_row_wise=true` to remove the overhead.\n",
      "And if memory is not enough, you can set `force_col_wise=true`.\n",
      "[LightGBM] [Info] Total Bins 1010\n",
      "[LightGBM] [Info] Number of data points in the train set: 190302, number of used features: 22\n",
      "[LightGBM] [Info] Start training from score 4808.829776\n",
      "[LightGBM] [Info] Auto-choosing row-wise multi-threading, the overhead of testing was 0.007696 seconds.\n",
      "You can set `force_row_wise=true` to remove the overhead.\n",
      "And if memory is not enough, you can set `force_col_wise=true`.\n",
      "[LightGBM] [Info] Total Bins 1011\n",
      "[LightGBM] [Info] Number of data points in the train set: 190302, number of used features: 22\n",
      "[LightGBM] [Info] Start training from score 4809.978539\n",
      "[LightGBM] [Info] Auto-choosing col-wise multi-threading, the overhead of testing was 0.014855 seconds.\n",
      "You can set `force_col_wise=true` to remove the overhead.\n",
      "[LightGBM] [Info] Total Bins 1010\n",
      "[LightGBM] [Info] Number of data points in the train set: 190301, number of used features: 22\n",
      "[LightGBM] [Info] Start training from score 4810.056295\n",
      "[LightGBM] [Info] Auto-choosing row-wise multi-threading, the overhead of testing was 0.007296 seconds.\n",
      "You can set `force_row_wise=true` to remove the overhead.\n",
      "And if memory is not enough, you can set `force_col_wise=true`.\n",
      "[LightGBM] [Info] Total Bins 1013\n",
      "[LightGBM] [Info] Number of data points in the train set: 190301, number of used features: 22\n",
      "[LightGBM] [Info] Start training from score 4813.838051\n",
      "[LightGBM] [Info] Auto-choosing row-wise multi-threading, the overhead of testing was 0.006703 seconds.\n",
      "You can set `force_row_wise=true` to remove the overhead.\n",
      "And if memory is not enough, you can set `force_col_wise=true`.\n",
      "[LightGBM] [Info] Total Bins 1011\n",
      "[LightGBM] [Info] Number of data points in the train set: 190302, number of used features: 22\n",
      "[LightGBM] [Info] Start training from score 4803.505786\n",
      "[LightGBM] [Info] Auto-choosing row-wise multi-threading, the overhead of testing was 0.007448 seconds.\n",
      "You can set `force_row_wise=true` to remove the overhead.\n",
      "And if memory is not enough, you can set `force_col_wise=true`.\n",
      "[LightGBM] [Info] Total Bins 1010\n",
      "[LightGBM] [Info] Number of data points in the train set: 190302, number of used features: 22\n",
      "[LightGBM] [Info] Start training from score 4808.829776\n",
      "[LightGBM] [Info] Auto-choosing row-wise multi-threading, the overhead of testing was 0.007694 seconds.\n",
      "You can set `force_row_wise=true` to remove the overhead.\n",
      "And if memory is not enough, you can set `force_col_wise=true`.\n",
      "[LightGBM] [Info] Total Bins 1011\n",
      "[LightGBM] [Info] Number of data points in the train set: 190302, number of used features: 22\n",
      "[LightGBM] [Info] Start training from score 4809.978539\n",
      "[LightGBM] [Info] Auto-choosing row-wise multi-threading, the overhead of testing was 0.007276 seconds.\n",
      "You can set `force_row_wise=true` to remove the overhead.\n",
      "And if memory is not enough, you can set `force_col_wise=true`.\n",
      "[LightGBM] [Info] Total Bins 1010\n",
      "[LightGBM] [Info] Number of data points in the train set: 190301, number of used features: 22\n",
      "[LightGBM] [Info] Start training from score 4810.056295\n",
      "[LightGBM] [Info] Auto-choosing row-wise multi-threading, the overhead of testing was 0.006595 seconds.\n",
      "You can set `force_row_wise=true` to remove the overhead.\n",
      "And if memory is not enough, you can set `force_col_wise=true`.\n",
      "[LightGBM] [Info] Total Bins 1013\n",
      "[LightGBM] [Info] Number of data points in the train set: 190301, number of used features: 22\n",
      "[LightGBM] [Info] Start training from score 4813.838051\n",
      "[LightGBM] [Info] Auto-choosing row-wise multi-threading, the overhead of testing was 0.008471 seconds.\n",
      "You can set `force_row_wise=true` to remove the overhead.\n",
      "And if memory is not enough, you can set `force_col_wise=true`.\n",
      "[LightGBM] [Info] Total Bins 1011\n",
      "[LightGBM] [Info] Number of data points in the train set: 190302, number of used features: 22\n",
      "[LightGBM] [Info] Start training from score 4803.505786\n",
      "[LightGBM] [Info] Auto-choosing row-wise multi-threading, the overhead of testing was 0.006612 seconds.\n",
      "You can set `force_row_wise=true` to remove the overhead.\n",
      "And if memory is not enough, you can set `force_col_wise=true`.\n",
      "[LightGBM] [Info] Total Bins 1010\n",
      "[LightGBM] [Info] Number of data points in the train set: 190302, number of used features: 22\n",
      "[LightGBM] [Info] Start training from score 4808.829776\n",
      "[LightGBM] [Info] Auto-choosing row-wise multi-threading, the overhead of testing was 0.006174 seconds.\n",
      "You can set `force_row_wise=true` to remove the overhead.\n",
      "And if memory is not enough, you can set `force_col_wise=true`.\n",
      "[LightGBM] [Info] Total Bins 1011\n",
      "[LightGBM] [Info] Number of data points in the train set: 190302, number of used features: 22\n",
      "[LightGBM] [Info] Start training from score 4809.978539\n",
      "[LightGBM] [Info] Auto-choosing row-wise multi-threading, the overhead of testing was 0.007851 seconds.\n",
      "You can set `force_row_wise=true` to remove the overhead.\n",
      "And if memory is not enough, you can set `force_col_wise=true`.\n",
      "[LightGBM] [Info] Total Bins 1010\n",
      "[LightGBM] [Info] Number of data points in the train set: 190301, number of used features: 22\n",
      "[LightGBM] [Info] Start training from score 4810.056295\n",
      "[LightGBM] [Info] Auto-choosing row-wise multi-threading, the overhead of testing was 0.007125 seconds.\n",
      "You can set `force_row_wise=true` to remove the overhead.\n",
      "And if memory is not enough, you can set `force_col_wise=true`.\n",
      "[LightGBM] [Info] Total Bins 1013\n",
      "[LightGBM] [Info] Number of data points in the train set: 190301, number of used features: 22\n",
      "[LightGBM] [Info] Start training from score 4813.838051\n",
      "[LightGBM] [Info] Auto-choosing row-wise multi-threading, the overhead of testing was 0.006830 seconds.\n",
      "You can set `force_row_wise=true` to remove the overhead.\n",
      "And if memory is not enough, you can set `force_col_wise=true`.\n",
      "[LightGBM] [Info] Total Bins 1011\n",
      "[LightGBM] [Info] Number of data points in the train set: 190302, number of used features: 22\n",
      "[LightGBM] [Info] Start training from score 4803.505786\n",
      "[LightGBM] [Info] Auto-choosing row-wise multi-threading, the overhead of testing was 0.008628 seconds.\n",
      "You can set `force_row_wise=true` to remove the overhead.\n",
      "And if memory is not enough, you can set `force_col_wise=true`.\n",
      "[LightGBM] [Info] Total Bins 1010\n",
      "[LightGBM] [Info] Number of data points in the train set: 190302, number of used features: 22\n",
      "[LightGBM] [Info] Start training from score 4808.829776\n",
      "[LightGBM] [Info] Auto-choosing row-wise multi-threading, the overhead of testing was 0.006730 seconds.\n",
      "You can set `force_row_wise=true` to remove the overhead.\n",
      "And if memory is not enough, you can set `force_col_wise=true`.\n",
      "[LightGBM] [Info] Total Bins 1011\n",
      "[LightGBM] [Info] Number of data points in the train set: 190302, number of used features: 22\n",
      "[LightGBM] [Info] Start training from score 4809.978539\n",
      "[LightGBM] [Info] Auto-choosing row-wise multi-threading, the overhead of testing was 0.007373 seconds.\n",
      "You can set `force_row_wise=true` to remove the overhead.\n",
      "And if memory is not enough, you can set `force_col_wise=true`.\n",
      "[LightGBM] [Info] Total Bins 1010\n",
      "[LightGBM] [Info] Number of data points in the train set: 190301, number of used features: 22\n",
      "[LightGBM] [Info] Start training from score 4810.056295\n",
      "[LightGBM] [Info] Auto-choosing row-wise multi-threading, the overhead of testing was 0.007178 seconds.\n",
      "You can set `force_row_wise=true` to remove the overhead.\n",
      "And if memory is not enough, you can set `force_col_wise=true`.\n",
      "[LightGBM] [Info] Total Bins 1013\n",
      "[LightGBM] [Info] Number of data points in the train set: 190301, number of used features: 22\n",
      "[LightGBM] [Info] Start training from score 4813.838051\n",
      "[LightGBM] [Info] Auto-choosing row-wise multi-threading, the overhead of testing was 0.008096 seconds.\n",
      "You can set `force_row_wise=true` to remove the overhead.\n",
      "And if memory is not enough, you can set `force_col_wise=true`.\n",
      "[LightGBM] [Info] Total Bins 1011\n",
      "[LightGBM] [Info] Number of data points in the train set: 190302, number of used features: 22\n",
      "[LightGBM] [Info] Start training from score 4803.505786\n",
      "[LightGBM] [Info] Auto-choosing row-wise multi-threading, the overhead of testing was 0.009555 seconds.\n",
      "You can set `force_row_wise=true` to remove the overhead.\n",
      "And if memory is not enough, you can set `force_col_wise=true`.\n",
      "[LightGBM] [Info] Total Bins 1010\n",
      "[LightGBM] [Info] Number of data points in the train set: 190302, number of used features: 22\n",
      "[LightGBM] [Info] Start training from score 4808.829776\n",
      "[LightGBM] [Info] Auto-choosing row-wise multi-threading, the overhead of testing was 0.008777 seconds.\n",
      "You can set `force_row_wise=true` to remove the overhead.\n",
      "And if memory is not enough, you can set `force_col_wise=true`.\n",
      "[LightGBM] [Info] Total Bins 1011\n",
      "[LightGBM] [Info] Number of data points in the train set: 190302, number of used features: 22\n",
      "[LightGBM] [Info] Start training from score 4809.978539\n",
      "[LightGBM] [Info] Auto-choosing row-wise multi-threading, the overhead of testing was 0.008406 seconds.\n",
      "You can set `force_row_wise=true` to remove the overhead.\n",
      "And if memory is not enough, you can set `force_col_wise=true`.\n",
      "[LightGBM] [Info] Total Bins 1010\n",
      "[LightGBM] [Info] Number of data points in the train set: 190301, number of used features: 22\n",
      "[LightGBM] [Info] Start training from score 4810.056295\n",
      "[LightGBM] [Info] Auto-choosing row-wise multi-threading, the overhead of testing was 0.008746 seconds.\n",
      "You can set `force_row_wise=true` to remove the overhead.\n",
      "And if memory is not enough, you can set `force_col_wise=true`.\n",
      "[LightGBM] [Info] Total Bins 1013\n",
      "[LightGBM] [Info] Number of data points in the train set: 190301, number of used features: 22\n",
      "[LightGBM] [Info] Start training from score 4813.838051\n",
      "[LightGBM] [Info] Auto-choosing col-wise multi-threading, the overhead of testing was 0.018308 seconds.\n",
      "You can set `force_col_wise=true` to remove the overhead.\n",
      "[LightGBM] [Info] Total Bins 1011\n",
      "[LightGBM] [Info] Number of data points in the train set: 190302, number of used features: 22\n",
      "[LightGBM] [Info] Start training from score 4803.505786\n",
      "[LightGBM] [Info] Auto-choosing row-wise multi-threading, the overhead of testing was 0.008345 seconds.\n",
      "You can set `force_row_wise=true` to remove the overhead.\n",
      "And if memory is not enough, you can set `force_col_wise=true`.\n",
      "[LightGBM] [Info] Total Bins 1010\n",
      "[LightGBM] [Info] Number of data points in the train set: 190302, number of used features: 22\n",
      "[LightGBM] [Info] Start training from score 4808.829776\n",
      "[LightGBM] [Info] Auto-choosing row-wise multi-threading, the overhead of testing was 0.006346 seconds.\n",
      "You can set `force_row_wise=true` to remove the overhead.\n",
      "And if memory is not enough, you can set `force_col_wise=true`.\n",
      "[LightGBM] [Info] Total Bins 1011\n",
      "[LightGBM] [Info] Number of data points in the train set: 190302, number of used features: 22\n",
      "[LightGBM] [Info] Start training from score 4809.978539\n",
      "[LightGBM] [Info] Auto-choosing row-wise multi-threading, the overhead of testing was 0.008063 seconds.\n",
      "You can set `force_row_wise=true` to remove the overhead.\n",
      "And if memory is not enough, you can set `force_col_wise=true`.\n",
      "[LightGBM] [Info] Total Bins 1010\n",
      "[LightGBM] [Info] Number of data points in the train set: 190301, number of used features: 22\n",
      "[LightGBM] [Info] Start training from score 4810.056295\n",
      "[LightGBM] [Info] Auto-choosing row-wise multi-threading, the overhead of testing was 0.006213 seconds.\n",
      "You can set `force_row_wise=true` to remove the overhead.\n",
      "And if memory is not enough, you can set `force_col_wise=true`.\n",
      "[LightGBM] [Info] Total Bins 1013\n",
      "[LightGBM] [Info] Number of data points in the train set: 190301, number of used features: 22\n",
      "[LightGBM] [Info] Start training from score 4813.838051\n",
      "[LightGBM] [Info] Auto-choosing row-wise multi-threading, the overhead of testing was 0.008164 seconds.\n",
      "You can set `force_row_wise=true` to remove the overhead.\n",
      "And if memory is not enough, you can set `force_col_wise=true`.\n",
      "[LightGBM] [Info] Total Bins 1011\n",
      "[LightGBM] [Info] Number of data points in the train set: 190302, number of used features: 22\n",
      "[LightGBM] [Info] Start training from score 4803.505786\n",
      "[LightGBM] [Info] Auto-choosing row-wise multi-threading, the overhead of testing was 0.006359 seconds.\n",
      "You can set `force_row_wise=true` to remove the overhead.\n",
      "And if memory is not enough, you can set `force_col_wise=true`.\n",
      "[LightGBM] [Info] Total Bins 1010\n",
      "[LightGBM] [Info] Number of data points in the train set: 190302, number of used features: 22\n",
      "[LightGBM] [Info] Start training from score 4808.829776\n",
      "[LightGBM] [Info] Auto-choosing row-wise multi-threading, the overhead of testing was 0.007160 seconds.\n",
      "You can set `force_row_wise=true` to remove the overhead.\n",
      "And if memory is not enough, you can set `force_col_wise=true`.\n",
      "[LightGBM] [Info] Total Bins 1011\n",
      "[LightGBM] [Info] Number of data points in the train set: 190302, number of used features: 22\n",
      "[LightGBM] [Info] Start training from score 4809.978539\n",
      "[LightGBM] [Info] Auto-choosing row-wise multi-threading, the overhead of testing was 0.007130 seconds.\n",
      "You can set `force_row_wise=true` to remove the overhead.\n",
      "And if memory is not enough, you can set `force_col_wise=true`.\n",
      "[LightGBM] [Info] Total Bins 1010\n",
      "[LightGBM] [Info] Number of data points in the train set: 190301, number of used features: 22\n",
      "[LightGBM] [Info] Start training from score 4810.056295\n",
      "[LightGBM] [Info] Auto-choosing row-wise multi-threading, the overhead of testing was 0.006834 seconds.\n",
      "You can set `force_row_wise=true` to remove the overhead.\n",
      "And if memory is not enough, you can set `force_col_wise=true`.\n",
      "[LightGBM] [Info] Total Bins 1013\n",
      "[LightGBM] [Info] Number of data points in the train set: 190301, number of used features: 22\n",
      "[LightGBM] [Info] Start training from score 4813.838051\n",
      "[LightGBM] [Info] Auto-choosing row-wise multi-threading, the overhead of testing was 0.006418 seconds.\n",
      "You can set `force_row_wise=true` to remove the overhead.\n",
      "And if memory is not enough, you can set `force_col_wise=true`.\n",
      "[LightGBM] [Info] Total Bins 1011\n",
      "[LightGBM] [Info] Number of data points in the train set: 190302, number of used features: 22\n",
      "[LightGBM] [Info] Start training from score 4803.505786\n",
      "[LightGBM] [Info] Auto-choosing row-wise multi-threading, the overhead of testing was 0.007560 seconds.\n",
      "You can set `force_row_wise=true` to remove the overhead.\n",
      "And if memory is not enough, you can set `force_col_wise=true`.\n",
      "[LightGBM] [Info] Total Bins 1010\n",
      "[LightGBM] [Info] Number of data points in the train set: 190302, number of used features: 22\n",
      "[LightGBM] [Info] Start training from score 4808.829776\n",
      "[LightGBM] [Info] Auto-choosing row-wise multi-threading, the overhead of testing was 0.007437 seconds.\n",
      "You can set `force_row_wise=true` to remove the overhead.\n",
      "And if memory is not enough, you can set `force_col_wise=true`.\n",
      "[LightGBM] [Info] Total Bins 1011\n",
      "[LightGBM] [Info] Number of data points in the train set: 190302, number of used features: 22\n",
      "[LightGBM] [Info] Start training from score 4809.978539\n",
      "[LightGBM] [Info] Auto-choosing row-wise multi-threading, the overhead of testing was 0.007511 seconds.\n",
      "You can set `force_row_wise=true` to remove the overhead.\n",
      "And if memory is not enough, you can set `force_col_wise=true`.\n",
      "[LightGBM] [Info] Total Bins 1010\n",
      "[LightGBM] [Info] Number of data points in the train set: 190301, number of used features: 22\n",
      "[LightGBM] [Info] Start training from score 4810.056295\n",
      "[LightGBM] [Info] Auto-choosing row-wise multi-threading, the overhead of testing was 0.007256 seconds.\n",
      "You can set `force_row_wise=true` to remove the overhead.\n",
      "And if memory is not enough, you can set `force_col_wise=true`.\n",
      "[LightGBM] [Info] Total Bins 1013\n",
      "[LightGBM] [Info] Number of data points in the train set: 190301, number of used features: 22\n",
      "[LightGBM] [Info] Start training from score 4813.838051\n",
      "[LightGBM] [Info] Auto-choosing row-wise multi-threading, the overhead of testing was 0.007121 seconds.\n",
      "You can set `force_row_wise=true` to remove the overhead.\n",
      "And if memory is not enough, you can set `force_col_wise=true`.\n",
      "[LightGBM] [Info] Total Bins 1011\n",
      "[LightGBM] [Info] Number of data points in the train set: 190302, number of used features: 22\n",
      "[LightGBM] [Info] Start training from score 4803.505786\n",
      "[LightGBM] [Info] Auto-choosing row-wise multi-threading, the overhead of testing was 0.007416 seconds.\n",
      "You can set `force_row_wise=true` to remove the overhead.\n",
      "And if memory is not enough, you can set `force_col_wise=true`.\n",
      "[LightGBM] [Info] Total Bins 1010\n",
      "[LightGBM] [Info] Number of data points in the train set: 190302, number of used features: 22\n",
      "[LightGBM] [Info] Start training from score 4808.829776\n",
      "[LightGBM] [Info] Auto-choosing row-wise multi-threading, the overhead of testing was 0.007833 seconds.\n",
      "You can set `force_row_wise=true` to remove the overhead.\n",
      "And if memory is not enough, you can set `force_col_wise=true`.\n",
      "[LightGBM] [Info] Total Bins 1011\n",
      "[LightGBM] [Info] Number of data points in the train set: 190302, number of used features: 22\n",
      "[LightGBM] [Info] Start training from score 4809.978539\n",
      "[LightGBM] [Info] Auto-choosing row-wise multi-threading, the overhead of testing was 0.007375 seconds.\n",
      "You can set `force_row_wise=true` to remove the overhead.\n",
      "And if memory is not enough, you can set `force_col_wise=true`.\n",
      "[LightGBM] [Info] Total Bins 1010\n",
      "[LightGBM] [Info] Number of data points in the train set: 190301, number of used features: 22\n",
      "[LightGBM] [Info] Start training from score 4810.056295\n",
      "[LightGBM] [Info] Auto-choosing row-wise multi-threading, the overhead of testing was 0.007799 seconds.\n",
      "You can set `force_row_wise=true` to remove the overhead.\n",
      "And if memory is not enough, you can set `force_col_wise=true`.\n",
      "[LightGBM] [Info] Total Bins 1013\n",
      "[LightGBM] [Info] Number of data points in the train set: 190301, number of used features: 22\n",
      "[LightGBM] [Info] Start training from score 4813.838051\n",
      "[LightGBM] [Info] Auto-choosing row-wise multi-threading, the overhead of testing was 0.008725 seconds.\n",
      "You can set `force_row_wise=true` to remove the overhead.\n",
      "And if memory is not enough, you can set `force_col_wise=true`.\n",
      "[LightGBM] [Info] Total Bins 1011\n",
      "[LightGBM] [Info] Number of data points in the train set: 190302, number of used features: 22\n",
      "[LightGBM] [Info] Start training from score 4803.505786\n",
      "[LightGBM] [Info] Auto-choosing row-wise multi-threading, the overhead of testing was 0.008811 seconds.\n",
      "You can set `force_row_wise=true` to remove the overhead.\n",
      "And if memory is not enough, you can set `force_col_wise=true`.\n",
      "[LightGBM] [Info] Total Bins 1010\n",
      "[LightGBM] [Info] Number of data points in the train set: 190302, number of used features: 22\n",
      "[LightGBM] [Info] Start training from score 4808.829776\n",
      "[LightGBM] [Info] Auto-choosing row-wise multi-threading, the overhead of testing was 0.008909 seconds.\n",
      "You can set `force_row_wise=true` to remove the overhead.\n",
      "And if memory is not enough, you can set `force_col_wise=true`.\n",
      "[LightGBM] [Info] Total Bins 1011\n",
      "[LightGBM] [Info] Number of data points in the train set: 190302, number of used features: 22\n",
      "[LightGBM] [Info] Start training from score 4809.978539\n",
      "[LightGBM] [Info] Auto-choosing row-wise multi-threading, the overhead of testing was 0.007417 seconds.\n",
      "You can set `force_row_wise=true` to remove the overhead.\n",
      "And if memory is not enough, you can set `force_col_wise=true`.\n",
      "[LightGBM] [Info] Total Bins 1010\n",
      "[LightGBM] [Info] Number of data points in the train set: 190301, number of used features: 22\n",
      "[LightGBM] [Info] Start training from score 4810.056295\n",
      "[LightGBM] [Info] Auto-choosing row-wise multi-threading, the overhead of testing was 0.007644 seconds.\n",
      "You can set `force_row_wise=true` to remove the overhead.\n",
      "And if memory is not enough, you can set `force_col_wise=true`.\n",
      "[LightGBM] [Info] Total Bins 1013\n",
      "[LightGBM] [Info] Number of data points in the train set: 190301, number of used features: 22\n",
      "[LightGBM] [Info] Start training from score 4813.838051\n",
      "[LightGBM] [Info] Auto-choosing row-wise multi-threading, the overhead of testing was 0.006522 seconds.\n",
      "You can set `force_row_wise=true` to remove the overhead.\n",
      "And if memory is not enough, you can set `force_col_wise=true`.\n",
      "[LightGBM] [Info] Total Bins 1011\n",
      "[LightGBM] [Info] Number of data points in the train set: 190302, number of used features: 22\n",
      "[LightGBM] [Info] Start training from score 4803.505786\n",
      "[LightGBM] [Info] Auto-choosing row-wise multi-threading, the overhead of testing was 0.009229 seconds.\n",
      "You can set `force_row_wise=true` to remove the overhead.\n",
      "And if memory is not enough, you can set `force_col_wise=true`.\n",
      "[LightGBM] [Info] Total Bins 1010\n",
      "[LightGBM] [Info] Number of data points in the train set: 190302, number of used features: 22\n",
      "[LightGBM] [Info] Start training from score 4808.829776\n",
      "[LightGBM] [Info] Auto-choosing col-wise multi-threading, the overhead of testing was 0.019904 seconds.\n",
      "You can set `force_col_wise=true` to remove the overhead.\n",
      "[LightGBM] [Info] Total Bins 1011\n",
      "[LightGBM] [Info] Number of data points in the train set: 190302, number of used features: 22\n",
      "[LightGBM] [Info] Start training from score 4809.978539\n",
      "[LightGBM] [Info] Auto-choosing row-wise multi-threading, the overhead of testing was 0.007530 seconds.\n",
      "You can set `force_row_wise=true` to remove the overhead.\n",
      "And if memory is not enough, you can set `force_col_wise=true`.\n",
      "[LightGBM] [Info] Total Bins 1010\n",
      "[LightGBM] [Info] Number of data points in the train set: 190301, number of used features: 22\n",
      "[LightGBM] [Info] Start training from score 4810.056295\n",
      "[LightGBM] [Info] Auto-choosing row-wise multi-threading, the overhead of testing was 0.006056 seconds.\n",
      "You can set `force_row_wise=true` to remove the overhead.\n",
      "And if memory is not enough, you can set `force_col_wise=true`.\n",
      "[LightGBM] [Info] Total Bins 1013\n",
      "[LightGBM] [Info] Number of data points in the train set: 190301, number of used features: 22\n",
      "[LightGBM] [Info] Start training from score 4813.838051\n",
      "[LightGBM] [Info] Auto-choosing row-wise multi-threading, the overhead of testing was 0.007043 seconds.\n",
      "You can set `force_row_wise=true` to remove the overhead.\n",
      "And if memory is not enough, you can set `force_col_wise=true`.\n",
      "[LightGBM] [Info] Total Bins 1011\n",
      "[LightGBM] [Info] Number of data points in the train set: 190302, number of used features: 22\n",
      "[LightGBM] [Info] Start training from score 4803.505786\n",
      "[LightGBM] [Info] Auto-choosing row-wise multi-threading, the overhead of testing was 0.007774 seconds.\n",
      "You can set `force_row_wise=true` to remove the overhead.\n",
      "And if memory is not enough, you can set `force_col_wise=true`.\n",
      "[LightGBM] [Info] Total Bins 1010\n",
      "[LightGBM] [Info] Number of data points in the train set: 190302, number of used features: 22\n",
      "[LightGBM] [Info] Start training from score 4808.829776\n",
      "[LightGBM] [Info] Auto-choosing row-wise multi-threading, the overhead of testing was 0.004874 seconds.\n",
      "You can set `force_row_wise=true` to remove the overhead.\n",
      "And if memory is not enough, you can set `force_col_wise=true`.\n",
      "[LightGBM] [Info] Total Bins 1011\n",
      "[LightGBM] [Info] Number of data points in the train set: 190302, number of used features: 22\n",
      "[LightGBM] [Info] Start training from score 4809.978539\n",
      "[LightGBM] [Info] Auto-choosing row-wise multi-threading, the overhead of testing was 0.007199 seconds.\n",
      "You can set `force_row_wise=true` to remove the overhead.\n",
      "And if memory is not enough, you can set `force_col_wise=true`.\n",
      "[LightGBM] [Info] Total Bins 1010\n",
      "[LightGBM] [Info] Number of data points in the train set: 190301, number of used features: 22\n",
      "[LightGBM] [Info] Start training from score 4810.056295\n",
      "[LightGBM] [Info] Auto-choosing row-wise multi-threading, the overhead of testing was 0.006526 seconds.\n",
      "You can set `force_row_wise=true` to remove the overhead.\n",
      "And if memory is not enough, you can set `force_col_wise=true`.\n",
      "[LightGBM] [Info] Total Bins 1013\n",
      "[LightGBM] [Info] Number of data points in the train set: 190301, number of used features: 22\n",
      "[LightGBM] [Info] Start training from score 4813.838051\n",
      "[LightGBM] [Info] Auto-choosing row-wise multi-threading, the overhead of testing was 0.006033 seconds.\n",
      "You can set `force_row_wise=true` to remove the overhead.\n",
      "And if memory is not enough, you can set `force_col_wise=true`.\n",
      "[LightGBM] [Info] Total Bins 1011\n",
      "[LightGBM] [Info] Number of data points in the train set: 190302, number of used features: 22\n",
      "[LightGBM] [Info] Start training from score 4803.505786\n",
      "[LightGBM] [Info] Auto-choosing row-wise multi-threading, the overhead of testing was 0.006787 seconds.\n",
      "You can set `force_row_wise=true` to remove the overhead.\n",
      "And if memory is not enough, you can set `force_col_wise=true`.\n",
      "[LightGBM] [Info] Total Bins 1010\n",
      "[LightGBM] [Info] Number of data points in the train set: 190302, number of used features: 22\n",
      "[LightGBM] [Info] Start training from score 4808.829776\n",
      "[LightGBM] [Info] Auto-choosing row-wise multi-threading, the overhead of testing was 0.010150 seconds.\n",
      "You can set `force_row_wise=true` to remove the overhead.\n",
      "And if memory is not enough, you can set `force_col_wise=true`.\n",
      "[LightGBM] [Info] Total Bins 1011\n",
      "[LightGBM] [Info] Number of data points in the train set: 190302, number of used features: 22\n",
      "[LightGBM] [Info] Start training from score 4809.978539\n",
      "[LightGBM] [Info] Auto-choosing row-wise multi-threading, the overhead of testing was 0.008848 seconds.\n",
      "You can set `force_row_wise=true` to remove the overhead.\n",
      "And if memory is not enough, you can set `force_col_wise=true`.\n",
      "[LightGBM] [Info] Total Bins 1010\n",
      "[LightGBM] [Info] Number of data points in the train set: 190301, number of used features: 22\n",
      "[LightGBM] [Info] Start training from score 4810.056295\n",
      "[LightGBM] [Info] Auto-choosing row-wise multi-threading, the overhead of testing was 0.007924 seconds.\n",
      "You can set `force_row_wise=true` to remove the overhead.\n",
      "And if memory is not enough, you can set `force_col_wise=true`.\n",
      "[LightGBM] [Info] Total Bins 1013\n",
      "[LightGBM] [Info] Number of data points in the train set: 190301, number of used features: 22\n",
      "[LightGBM] [Info] Start training from score 4813.838051\n",
      "[LightGBM] [Info] Auto-choosing row-wise multi-threading, the overhead of testing was 0.007234 seconds.\n",
      "You can set `force_row_wise=true` to remove the overhead.\n",
      "And if memory is not enough, you can set `force_col_wise=true`.\n",
      "[LightGBM] [Info] Total Bins 1011\n",
      "[LightGBM] [Info] Number of data points in the train set: 190302, number of used features: 22\n",
      "[LightGBM] [Info] Start training from score 4803.505786\n",
      "[LightGBM] [Info] Auto-choosing row-wise multi-threading, the overhead of testing was 0.008279 seconds.\n",
      "You can set `force_row_wise=true` to remove the overhead.\n",
      "And if memory is not enough, you can set `force_col_wise=true`.\n",
      "[LightGBM] [Info] Total Bins 1010\n",
      "[LightGBM] [Info] Number of data points in the train set: 190302, number of used features: 22\n",
      "[LightGBM] [Info] Start training from score 4808.829776\n",
      "[LightGBM] [Info] Auto-choosing row-wise multi-threading, the overhead of testing was 0.008365 seconds.\n",
      "You can set `force_row_wise=true` to remove the overhead.\n",
      "And if memory is not enough, you can set `force_col_wise=true`.\n",
      "[LightGBM] [Info] Total Bins 1011\n",
      "[LightGBM] [Info] Number of data points in the train set: 190302, number of used features: 22\n",
      "[LightGBM] [Info] Start training from score 4809.978539\n",
      "[LightGBM] [Info] Auto-choosing row-wise multi-threading, the overhead of testing was 0.007046 seconds.\n",
      "You can set `force_row_wise=true` to remove the overhead.\n",
      "And if memory is not enough, you can set `force_col_wise=true`.\n",
      "[LightGBM] [Info] Total Bins 1010\n",
      "[LightGBM] [Info] Number of data points in the train set: 190301, number of used features: 22\n",
      "[LightGBM] [Info] Start training from score 4810.056295\n",
      "[LightGBM] [Info] Auto-choosing row-wise multi-threading, the overhead of testing was 0.007326 seconds.\n",
      "You can set `force_row_wise=true` to remove the overhead.\n",
      "And if memory is not enough, you can set `force_col_wise=true`.\n",
      "[LightGBM] [Info] Total Bins 1013\n",
      "[LightGBM] [Info] Number of data points in the train set: 190301, number of used features: 22\n",
      "[LightGBM] [Info] Start training from score 4813.838051\n",
      "[LightGBM] [Info] Auto-choosing row-wise multi-threading, the overhead of testing was 0.007450 seconds.\n",
      "You can set `force_row_wise=true` to remove the overhead.\n",
      "And if memory is not enough, you can set `force_col_wise=true`.\n",
      "[LightGBM] [Info] Total Bins 1011\n",
      "[LightGBM] [Info] Number of data points in the train set: 190302, number of used features: 22\n",
      "[LightGBM] [Info] Start training from score 4803.505786\n",
      "[LightGBM] [Info] Auto-choosing row-wise multi-threading, the overhead of testing was 0.009172 seconds.\n",
      "You can set `force_row_wise=true` to remove the overhead.\n",
      "And if memory is not enough, you can set `force_col_wise=true`.\n",
      "[LightGBM] [Info] Total Bins 1010\n",
      "[LightGBM] [Info] Number of data points in the train set: 190302, number of used features: 22\n",
      "[LightGBM] [Info] Start training from score 4808.829776\n",
      "[LightGBM] [Info] Auto-choosing row-wise multi-threading, the overhead of testing was 0.006980 seconds.\n",
      "You can set `force_row_wise=true` to remove the overhead.\n",
      "And if memory is not enough, you can set `force_col_wise=true`.\n",
      "[LightGBM] [Info] Total Bins 1011\n",
      "[LightGBM] [Info] Number of data points in the train set: 190302, number of used features: 22\n",
      "[LightGBM] [Info] Start training from score 4809.978539\n",
      "[LightGBM] [Info] Auto-choosing row-wise multi-threading, the overhead of testing was 0.006540 seconds.\n",
      "You can set `force_row_wise=true` to remove the overhead.\n",
      "And if memory is not enough, you can set `force_col_wise=true`.\n",
      "[LightGBM] [Info] Total Bins 1010\n",
      "[LightGBM] [Info] Number of data points in the train set: 190301, number of used features: 22\n",
      "[LightGBM] [Info] Start training from score 4810.056295\n",
      "[LightGBM] [Info] Auto-choosing row-wise multi-threading, the overhead of testing was 0.006798 seconds.\n",
      "You can set `force_row_wise=true` to remove the overhead.\n",
      "And if memory is not enough, you can set `force_col_wise=true`.\n",
      "[LightGBM] [Info] Total Bins 1013\n",
      "[LightGBM] [Info] Number of data points in the train set: 190301, number of used features: 22\n",
      "[LightGBM] [Info] Start training from score 4813.838051\n",
      "[LightGBM] [Info] Auto-choosing row-wise multi-threading, the overhead of testing was 0.006454 seconds.\n",
      "You can set `force_row_wise=true` to remove the overhead.\n",
      "And if memory is not enough, you can set `force_col_wise=true`.\n",
      "[LightGBM] [Info] Total Bins 1011\n",
      "[LightGBM] [Info] Number of data points in the train set: 190302, number of used features: 22\n",
      "[LightGBM] [Info] Start training from score 4803.505786\n",
      "[LightGBM] [Info] Auto-choosing row-wise multi-threading, the overhead of testing was 0.007792 seconds.\n",
      "You can set `force_row_wise=true` to remove the overhead.\n",
      "And if memory is not enough, you can set `force_col_wise=true`.\n",
      "[LightGBM] [Info] Total Bins 1010\n",
      "[LightGBM] [Info] Number of data points in the train set: 190302, number of used features: 22\n",
      "[LightGBM] [Info] Start training from score 4808.829776\n",
      "[LightGBM] [Info] Auto-choosing row-wise multi-threading, the overhead of testing was 0.005533 seconds.\n",
      "You can set `force_row_wise=true` to remove the overhead.\n",
      "And if memory is not enough, you can set `force_col_wise=true`.\n",
      "[LightGBM] [Info] Total Bins 1011\n",
      "[LightGBM] [Info] Number of data points in the train set: 190302, number of used features: 22\n",
      "[LightGBM] [Info] Start training from score 4809.978539\n",
      "[LightGBM] [Info] Auto-choosing row-wise multi-threading, the overhead of testing was 0.007521 seconds.\n",
      "You can set `force_row_wise=true` to remove the overhead.\n",
      "And if memory is not enough, you can set `force_col_wise=true`.\n",
      "[LightGBM] [Info] Total Bins 1010\n",
      "[LightGBM] [Info] Number of data points in the train set: 190301, number of used features: 22\n",
      "[LightGBM] [Info] Start training from score 4810.056295\n",
      "[LightGBM] [Info] Auto-choosing row-wise multi-threading, the overhead of testing was 0.007107 seconds.\n",
      "You can set `force_row_wise=true` to remove the overhead.\n",
      "And if memory is not enough, you can set `force_col_wise=true`.\n",
      "[LightGBM] [Info] Total Bins 1013\n",
      "[LightGBM] [Info] Number of data points in the train set: 190301, number of used features: 22\n",
      "[LightGBM] [Info] Start training from score 4813.838051\n",
      "[LightGBM] [Info] Auto-choosing row-wise multi-threading, the overhead of testing was 0.006782 seconds.\n",
      "You can set `force_row_wise=true` to remove the overhead.\n",
      "And if memory is not enough, you can set `force_col_wise=true`.\n",
      "[LightGBM] [Info] Total Bins 1011\n",
      "[LightGBM] [Info] Number of data points in the train set: 190302, number of used features: 22\n",
      "[LightGBM] [Info] Start training from score 4803.505786\n",
      "[LightGBM] [Info] Auto-choosing row-wise multi-threading, the overhead of testing was 0.007913 seconds.\n",
      "You can set `force_row_wise=true` to remove the overhead.\n",
      "And if memory is not enough, you can set `force_col_wise=true`.\n",
      "[LightGBM] [Info] Total Bins 1010\n",
      "[LightGBM] [Info] Number of data points in the train set: 190302, number of used features: 22\n",
      "[LightGBM] [Info] Start training from score 4808.829776\n",
      "[LightGBM] [Info] Auto-choosing row-wise multi-threading, the overhead of testing was 0.006677 seconds.\n",
      "You can set `force_row_wise=true` to remove the overhead.\n",
      "And if memory is not enough, you can set `force_col_wise=true`.\n",
      "[LightGBM] [Info] Total Bins 1011\n",
      "[LightGBM] [Info] Number of data points in the train set: 190302, number of used features: 22\n",
      "[LightGBM] [Info] Start training from score 4809.978539\n",
      "[LightGBM] [Info] Auto-choosing row-wise multi-threading, the overhead of testing was 0.007098 seconds.\n",
      "You can set `force_row_wise=true` to remove the overhead.\n",
      "And if memory is not enough, you can set `force_col_wise=true`.\n",
      "[LightGBM] [Info] Total Bins 1010\n",
      "[LightGBM] [Info] Number of data points in the train set: 190301, number of used features: 22\n",
      "[LightGBM] [Info] Start training from score 4810.056295\n",
      "[LightGBM] [Info] Auto-choosing row-wise multi-threading, the overhead of testing was 0.008599 seconds.\n",
      "You can set `force_row_wise=true` to remove the overhead.\n",
      "And if memory is not enough, you can set `force_col_wise=true`.\n",
      "[LightGBM] [Info] Total Bins 1013\n",
      "[LightGBM] [Info] Number of data points in the train set: 190301, number of used features: 22\n",
      "[LightGBM] [Info] Start training from score 4813.838051\n",
      "[LightGBM] [Info] Auto-choosing row-wise multi-threading, the overhead of testing was 0.006463 seconds.\n",
      "You can set `force_row_wise=true` to remove the overhead.\n",
      "And if memory is not enough, you can set `force_col_wise=true`.\n",
      "[LightGBM] [Info] Total Bins 1011\n",
      "[LightGBM] [Info] Number of data points in the train set: 190302, number of used features: 22\n",
      "[LightGBM] [Info] Start training from score 4803.505786\n",
      "[LightGBM] [Info] Auto-choosing row-wise multi-threading, the overhead of testing was 0.006676 seconds.\n",
      "You can set `force_row_wise=true` to remove the overhead.\n",
      "And if memory is not enough, you can set `force_col_wise=true`.\n",
      "[LightGBM] [Info] Total Bins 1010\n",
      "[LightGBM] [Info] Number of data points in the train set: 190302, number of used features: 22\n",
      "[LightGBM] [Info] Start training from score 4808.829776\n",
      "[LightGBM] [Info] Auto-choosing row-wise multi-threading, the overhead of testing was 0.006674 seconds.\n",
      "You can set `force_row_wise=true` to remove the overhead.\n",
      "And if memory is not enough, you can set `force_col_wise=true`.\n",
      "[LightGBM] [Info] Total Bins 1011\n",
      "[LightGBM] [Info] Number of data points in the train set: 190302, number of used features: 22\n",
      "[LightGBM] [Info] Start training from score 4809.978539\n",
      "[LightGBM] [Info] Auto-choosing row-wise multi-threading, the overhead of testing was 0.010091 seconds.\n",
      "You can set `force_row_wise=true` to remove the overhead.\n",
      "And if memory is not enough, you can set `force_col_wise=true`.\n",
      "[LightGBM] [Info] Total Bins 1010\n",
      "[LightGBM] [Info] Number of data points in the train set: 237877, number of used features: 22\n",
      "[LightGBM] [Info] Start training from score 4809.241684\n",
      "LGBMRegressor(n_estimators=80, n_jobs=-1, num_leaves=100, random_state=17) \n",
      "\n",
      "Best LGBM RMSE: 1711.783 \n",
      "\n",
      "Time to train: 50.65 secs\n"
     ]
    }
   ],
   "source": [
    "# Creating LGBM param grid\n",
    "param_grid_light = {\n",
    "    'num_leaves': [31, 50, 100],\n",
    "    'learning_rate': [0.1, 0.01],\n",
    "    'n_estimators': [10, 40, 80]\n",
    "}\n",
    "\n",
    "# Initializing LGBM and its GridSearchCV\n",
    "light_model = lgb.LGBMRegressor(random_state=17, n_jobs=-1)\n",
    "light_grid = GridSearchCV(light_model, param_grid=param_grid_light, scoring='neg_root_mean_squared_error', cv=cross_validator)\n",
    "\n",
    "# Training model\n",
    "start_time = time.time()\n",
    "light_grid.fit(ordinal_features_train, ordinal_target_train)\n",
    "light_time = time.time() - start_time\n",
    "\n",
    "print(light_grid.best_estimator_, '\\n')\n",
    "print(f'Best LGBM RMSE: {-light_grid.best_score_:.3f}', '\\n')\n",
    "print(f'Time to train: {light_time:.2f} secs')"
   ]
  },
  {
   "cell_type": "code",
   "execution_count": 19,
   "metadata": {
    "scrolled": false
   },
   "outputs": [
    {
     "name": "stdout",
     "output_type": "stream",
     "text": [
      "Learning rate set to 0.093828\n",
      "0:\tlearn: 4351.7260445\ttotal: 162ms\tremaining: 2m 41s\n",
      "500:\tlearn: 1678.5813511\ttotal: 6s\tremaining: 5.97s\n",
      "999:\tlearn: 1592.0506142\ttotal: 11.6s\tremaining: 0us\n",
      "Learning rate set to 0.093828\n",
      "0:\tlearn: 4354.0205799\ttotal: 14.8ms\tremaining: 14.7s\n",
      "500:\tlearn: 1683.3462057\ttotal: 5.58s\tremaining: 5.56s\n",
      "999:\tlearn: 1597.9354070\ttotal: 11.4s\tremaining: 0us\n",
      "Learning rate set to 0.093828\n",
      "0:\tlearn: 4353.3491783\ttotal: 13.6ms\tremaining: 13.6s\n",
      "500:\tlearn: 1683.1731376\ttotal: 5.48s\tremaining: 5.46s\n",
      "999:\tlearn: 1598.3281363\ttotal: 11.2s\tremaining: 0us\n",
      "Learning rate set to 0.093828\n",
      "0:\tlearn: 4353.3803065\ttotal: 13.7ms\tremaining: 13.7s\n",
      "500:\tlearn: 1685.6962523\ttotal: 5.4s\tremaining: 5.38s\n",
      "999:\tlearn: 1598.6548402\ttotal: 11.1s\tremaining: 0us\n",
      "Learning rate set to 0.093828\n",
      "0:\tlearn: 4353.9877769\ttotal: 15ms\tremaining: 15s\n",
      "500:\tlearn: 1682.7707205\ttotal: 5.54s\tremaining: 5.52s\n",
      "999:\tlearn: 1599.5017189\ttotal: 10.9s\tremaining: 0us\n",
      "Learning rate set to 0.097195\n",
      "0:\tlearn: 4342.7665422\ttotal: 19.4ms\tremaining: 19.4s\n",
      "500:\tlearn: 1686.5398375\ttotal: 6.76s\tremaining: 6.73s\n",
      "999:\tlearn: 1604.5533496\ttotal: 13.1s\tremaining: 0us\n",
      "<catboost.core.CatBoostRegressor object at 0x000001EFEC50AF00> \n",
      "\n",
      "Best CatBoost RMSE: 1692.477 \n",
      "\n",
      "Time to train: 84.36 secs\n"
     ]
    }
   ],
   "source": [
    "# Creating CatBoost param grid\n",
    "cat_params = {\n",
    "    'iterations':[1000]\n",
    "}\n",
    "\n",
    "# Initializing CatBoost and its GridSearchCV\n",
    "cat_model = CatBoostRegressor(loss_function='RMSE', random_state=17, verbose=500)\n",
    "cat_grid = GridSearchCV(cat_model, param_grid=cat_params, scoring='neg_root_mean_squared_error', cv=cross_validator)\n",
    "\n",
    "# Training model\n",
    "start_time = time.time()\n",
    "cat_grid.fit(ordinal_features_train, ordinal_target_train)\n",
    "cat_time = time.time() - start_time\n",
    "\n",
    "print(cat_grid.best_estimator_, '\\n')\n",
    "print(f'Best CatBoost RMSE: {-cat_grid.best_score_:.3f}', '\\n')\n",
    "print(f'Time to train: {cat_time:.2f} secs')"
   ]
  },
  {
   "cell_type": "markdown",
   "metadata": {},
   "source": [
    "|        |**DecisionTree:**|**RandomForest:**|**LGBMRegressor:**|**CatBoost:**|\n",
    "|--------|-----------------|-----------------|------------------|-------------|\n",
    "|**Time**|38.32 secs       |1794.64 secs     |189.72 secs       |143.49 secs  |\n",
    "|**RMSE**|2011.305         |1733.956         |1711.783          |1692.477     |\n",
    "\n",
    "\n",
    "From the table, `DecisionTree` Trained the fastest, but had the highest RMSE value.\n",
    "\n",
    "`CatBoost` both trained the quickest and had the lowest RMSE value."
   ]
  },
  {
   "cell_type": "markdown",
   "metadata": {},
   "source": [
    "<div class=\"alert alert-block alert-success\">\n",
    "<b>Reviewer's comment</b> <a class=\"tocSkip\"></a>\n",
    "\n",
    "Excellent!\n",
    "</div>"
   ]
  },
  {
   "cell_type": "markdown",
   "metadata": {},
   "source": [
    "## Model analysis\n",
    "\n",
    "Now that every model has been trained, we will now compare the speed and accuracy of every model predicting the test dataset."
   ]
  },
  {
   "cell_type": "code",
   "execution_count": 20,
   "metadata": {},
   "outputs": [
    {
     "name": "stdout",
     "output_type": "stream",
     "text": [
      "CPU times: total: 0 ns\n",
      "Wall time: 15 ms\n"
     ]
    },
    {
     "data": {
      "text/plain": [
       "'RMSE: 3374.8298767341275'"
      ]
     },
     "execution_count": 20,
     "metadata": {},
     "output_type": "execute_result"
    }
   ],
   "source": [
    "%%time\n",
    "line_test = line_grid.predict(ordinal_features_test)\n",
    "line_test_score = mean_squared_error(ordinal_target_test, line_test) ** 0.5\n",
    "f'RMSE: {line_test_score}'"
   ]
  },
  {
   "cell_type": "code",
   "execution_count": 21,
   "metadata": {
    "scrolled": true
   },
   "outputs": [
    {
     "name": "stdout",
     "output_type": "stream",
     "text": [
      "CPU times: total: 46.9 ms\n",
      "Wall time: 17 ms\n"
     ]
    },
    {
     "data": {
      "text/plain": [
       "'RMSE: 1975.8399503039295'"
      ]
     },
     "execution_count": 21,
     "metadata": {},
     "output_type": "execute_result"
    }
   ],
   "source": [
    "%%time\n",
    "treetest = tree_grid.predict(ordinal_features_test)\n",
    "treetest_score = mean_squared_error(ordinal_target_test, treetest) ** 0.5\n",
    "f'RMSE: {treetest_score}'"
   ]
  },
  {
   "cell_type": "code",
   "execution_count": 22,
   "metadata": {
    "scrolled": true
   },
   "outputs": [
    {
     "name": "stdout",
     "output_type": "stream",
     "text": [
      "CPU times: total: 891 ms\n",
      "Wall time: 889 ms\n"
     ]
    },
    {
     "data": {
      "text/plain": [
       "'RMSE: 1695.17817689717'"
      ]
     },
     "execution_count": 22,
     "metadata": {},
     "output_type": "execute_result"
    }
   ],
   "source": [
    "%%time\n",
    "foresttest = forest_grid.predict(ordinal_features_test)\n",
    "foresttest_score = mean_squared_error(ordinal_target_test, foresttest) ** 0.5\n",
    "f'RMSE: {foresttest_score}'"
   ]
  },
  {
   "cell_type": "code",
   "execution_count": 23,
   "metadata": {
    "scrolled": true
   },
   "outputs": [
    {
     "name": "stdout",
     "output_type": "stream",
     "text": [
      "CPU times: total: 578 ms\n",
      "Wall time: 93 ms\n"
     ]
    },
    {
     "data": {
      "text/plain": [
       "'RMSE: 1694.1160604834008'"
      ]
     },
     "execution_count": 23,
     "metadata": {},
     "output_type": "execute_result"
    }
   ],
   "source": [
    "%%time\n",
    "light_model_test = light_grid.predict(ordinal_features_test)\n",
    "light_model_test_score = mean_squared_error(ordinal_target_test, light_model_test) ** 0.5\n",
    "f'RMSE: {light_model_test_score}'"
   ]
  },
  {
   "cell_type": "code",
   "execution_count": 24,
   "metadata": {},
   "outputs": [
    {
     "name": "stdout",
     "output_type": "stream",
     "text": [
      "CPU times: total: 594 ms\n",
      "Wall time: 473 ms\n"
     ]
    },
    {
     "data": {
      "text/plain": [
       "'RMSE: 1664.1257529167658'"
      ]
     },
     "execution_count": 24,
     "metadata": {},
     "output_type": "execute_result"
    }
   ],
   "source": [
    "%%time\n",
    "cat_test = cat_grid.predict(ordinal_features_test)\n",
    "cat_test_score = mean_squared_error(ordinal_target_test, cat_test) ** 0.5\n",
    "f'RMSE: {cat_test_score}'"
   ]
  },
  {
   "cell_type": "markdown",
   "metadata": {},
   "source": [
    "Catboost predicted the prices the quickest and with the lowest RMSE."
   ]
  },
  {
   "cell_type": "markdown",
   "metadata": {},
   "source": [
    "<div class=\"alert alert-block alert-success\">\n",
    "<b>Reviewer's comment</b> <a class=\"tocSkip\"></a>\n",
    "\n",
    "Good conclusion!\n",
    "</div>"
   ]
  },
  {
   "cell_type": "markdown",
   "metadata": {},
   "source": [
    "<div class=\"alert alert-block alert-success\">\n",
    "<b>Overall reviewer's comment</b> <a class=\"tocSkip\"></a>\n",
    "\n",
    "Thank you for sending your project. You've done a really good job on it!\n",
    "    \n",
    "Especially impressed:\n",
    "    \n",
    "- high code level\n",
    "\n",
    "- good project structure\n",
    "    \n",
    "- good hyperparameters tuning  \n",
    "    \n",
    "Thank you for in-depth analysis and logical conclusions!\n",
    "    \n",
    "I'm glad to say that your project has been accepted. Keep up the good work and good luck on the next sprint!\n",
    "</div>"
   ]
  },
  {
   "cell_type": "markdown",
   "metadata": {},
   "source": [
    "# Checklist"
   ]
  },
  {
   "cell_type": "markdown",
   "metadata": {},
   "source": [
    "Type 'x' to check. Then press Shift+Enter."
   ]
  },
  {
   "cell_type": "markdown",
   "metadata": {},
   "source": [
    "- [x]  Jupyter Notebook is open\n",
    "- [x]  Code is error free\n",
    "- [x]  The cells with the code have been arranged in order of execution\n",
    "- [x]  The data has been downloaded and prepared\n",
    "- [x]  The models have been trained\n",
    "- [x]  The analysis of speed and quality of the models has been performed"
   ]
  }
 ],
 "metadata": {
  "ExecuteTimeLog": [
   {
    "duration": 442,
    "start_time": "2024-08-09T23:31:39.955Z"
   },
   {
    "duration": 991,
    "start_time": "2024-08-10T00:03:54.112Z"
   },
   {
    "duration": 857,
    "start_time": "2024-08-10T00:17:59.994Z"
   },
   {
    "duration": 1377,
    "start_time": "2024-08-15T21:14:15.582Z"
   },
   {
    "duration": 1409,
    "start_time": "2024-08-18T22:57:44.860Z"
   },
   {
    "duration": 970,
    "start_time": "2024-08-18T22:57:46.274Z"
   },
   {
    "duration": 8,
    "start_time": "2024-08-18T22:57:47.249Z"
   },
   {
    "duration": 35,
    "start_time": "2024-08-18T23:16:05.845Z"
   },
   {
    "duration": 136,
    "start_time": "2024-08-19T00:04:54.196Z"
   },
   {
    "duration": 453,
    "start_time": "2024-08-19T00:17:32.110Z"
   },
   {
    "duration": 176,
    "start_time": "2024-08-19T00:18:50.819Z"
   },
   {
    "duration": 10,
    "start_time": "2024-08-19T00:20:48.841Z"
   },
   {
    "duration": 12,
    "start_time": "2024-08-19T00:24:32.636Z"
   },
   {
    "duration": 4016,
    "start_time": "2024-08-19T00:26:22.820Z"
   },
   {
    "duration": 69375,
    "start_time": "2024-08-19T00:26:42.163Z"
   },
   {
    "duration": 584,
    "start_time": "2024-08-19T00:30:23.574Z"
   },
   {
    "duration": 5,
    "start_time": "2024-08-19T00:30:30.911Z"
   },
   {
    "duration": 876,
    "start_time": "2024-08-19T00:30:31.025Z"
   },
   {
    "duration": 28,
    "start_time": "2024-08-19T00:30:31.906Z"
   },
   {
    "duration": 616,
    "start_time": "2024-08-19T00:30:31.938Z"
   },
   {
    "duration": 1702,
    "start_time": "2024-08-19T00:45:15.542Z"
   },
   {
    "duration": 910,
    "start_time": "2024-08-19T00:45:17.250Z"
   },
   {
    "duration": 58,
    "start_time": "2024-08-19T00:45:18.164Z"
   },
   {
    "duration": 470,
    "start_time": "2024-08-19T00:45:18.227Z"
   },
   {
    "duration": 199,
    "start_time": "2024-08-19T00:45:18.700Z"
   },
   {
    "duration": 171,
    "start_time": "2024-08-19T00:56:56.919Z"
   },
   {
    "duration": 1831,
    "start_time": "2024-08-19T00:57:07.279Z"
   },
   {
    "duration": 959,
    "start_time": "2024-08-19T00:57:09.114Z"
   },
   {
    "duration": 44,
    "start_time": "2024-08-19T00:57:10.077Z"
   },
   {
    "duration": 194,
    "start_time": "2024-08-19T00:57:10.124Z"
   },
   {
    "duration": 132,
    "start_time": "2024-08-19T00:57:10.322Z"
   },
   {
    "duration": 321,
    "start_time": "2024-08-19T00:58:45.986Z"
   },
   {
    "duration": 308,
    "start_time": "2024-08-19T00:59:58.149Z"
   },
   {
    "duration": 311,
    "start_time": "2024-08-19T01:00:06.589Z"
   },
   {
    "duration": 311,
    "start_time": "2024-08-19T01:00:17.835Z"
   },
   {
    "duration": 304,
    "start_time": "2024-08-19T01:00:27.849Z"
   },
   {
    "duration": 560,
    "start_time": "2024-08-19T01:13:25.457Z"
   },
   {
    "duration": 47,
    "start_time": "2024-08-19T01:28:16.920Z"
   },
   {
    "duration": 134,
    "start_time": "2024-08-19T01:28:17.142Z"
   },
   {
    "duration": 187,
    "start_time": "2024-08-19T01:31:03.460Z"
   },
   {
    "duration": 132,
    "start_time": "2024-08-19T01:40:52.611Z"
   },
   {
    "duration": 180,
    "start_time": "2024-08-19T01:40:52.854Z"
   },
   {
    "duration": 203,
    "start_time": "2024-08-19T01:41:42.944Z"
   },
   {
    "duration": 250,
    "start_time": "2024-08-19T01:42:08.795Z"
   },
   {
    "duration": 172,
    "start_time": "2024-08-19T01:42:21.209Z"
   },
   {
    "duration": 523,
    "start_time": "2024-08-19T01:43:07.215Z"
   },
   {
    "duration": 434,
    "start_time": "2024-08-19T02:04:20.216Z"
   },
   {
    "duration": 237,
    "start_time": "2024-08-19T02:04:31.523Z"
   },
   {
    "duration": 39544,
    "start_time": "2024-08-19T02:05:59.800Z"
   },
   {
    "duration": 70,
    "start_time": "2024-08-19T02:11:20.621Z"
   },
   {
    "duration": 39234,
    "start_time": "2024-08-19T02:11:24.448Z"
   },
   {
    "duration": 161,
    "start_time": "2024-08-19T02:15:27.730Z"
   },
   {
    "duration": 72,
    "start_time": "2024-08-19T02:15:56.441Z"
   },
   {
    "duration": 67,
    "start_time": "2024-08-19T02:16:05.546Z"
   },
   {
    "duration": 142,
    "start_time": "2024-08-19T02:16:45.944Z"
   },
   {
    "duration": 113,
    "start_time": "2024-08-19T02:16:53.018Z"
   },
   {
    "duration": 72,
    "start_time": "2024-08-19T02:17:12.512Z"
   },
   {
    "duration": 67,
    "start_time": "2024-08-19T02:19:17.749Z"
   },
   {
    "duration": 161,
    "start_time": "2024-08-19T02:19:33.083Z"
   },
   {
    "duration": 85,
    "start_time": "2024-08-19T02:21:33.259Z"
   },
   {
    "duration": 102,
    "start_time": "2024-08-19T02:21:52.754Z"
   },
   {
    "duration": 71,
    "start_time": "2024-08-19T02:25:36.072Z"
   },
   {
    "duration": 1278,
    "start_time": "2024-08-19T02:25:43.798Z"
   },
   {
    "duration": 73,
    "start_time": "2024-08-19T02:27:25.524Z"
   },
   {
    "duration": 78,
    "start_time": "2024-08-19T02:27:31.191Z"
   },
   {
    "duration": 115,
    "start_time": "2024-08-19T02:28:34.742Z"
   },
   {
    "duration": 86,
    "start_time": "2024-08-19T02:30:23.355Z"
   },
   {
    "duration": 86,
    "start_time": "2024-08-19T02:30:25.994Z"
   },
   {
    "duration": 1672,
    "start_time": "2024-08-19T02:35:33.459Z"
   },
   {
    "duration": 887,
    "start_time": "2024-08-19T02:35:35.136Z"
   },
   {
    "duration": 36,
    "start_time": "2024-08-19T02:35:36.026Z"
   },
   {
    "duration": 138,
    "start_time": "2024-08-19T02:35:36.090Z"
   },
   {
    "duration": 197,
    "start_time": "2024-08-19T02:35:36.233Z"
   },
   {
    "duration": 266,
    "start_time": "2024-08-19T02:35:36.433Z"
   },
   {
    "duration": 122,
    "start_time": "2024-08-19T02:35:36.702Z"
   },
   {
    "duration": 39220,
    "start_time": "2024-08-19T02:35:36.827Z"
   },
   {
    "duration": 124,
    "start_time": "2024-08-19T02:36:16.050Z"
   },
   {
    "duration": 388,
    "start_time": "2024-08-19T02:36:37.459Z"
   },
   {
    "duration": 818,
    "start_time": "2024-08-19T02:37:22.698Z"
   },
   {
    "duration": 86,
    "start_time": "2024-08-19T02:39:10.296Z"
   },
   {
    "duration": 88,
    "start_time": "2024-08-19T02:39:15.223Z"
   },
   {
    "duration": 271,
    "start_time": "2024-08-19T02:39:40.801Z"
   },
   {
    "duration": 153,
    "start_time": "2024-08-19T02:39:43.183Z"
   },
   {
    "duration": 303,
    "start_time": "2024-08-19T02:41:54.679Z"
   },
   {
    "duration": 82,
    "start_time": "2024-08-19T02:41:59.751Z"
   },
   {
    "duration": 158,
    "start_time": "2024-08-19T02:42:05.951Z"
   },
   {
    "duration": 71,
    "start_time": "2024-08-19T02:42:14.991Z"
   },
   {
    "duration": 64,
    "start_time": "2024-08-19T02:42:30.855Z"
   },
   {
    "duration": 82,
    "start_time": "2024-08-19T02:42:36.621Z"
   },
   {
    "duration": 66,
    "start_time": "2024-08-19T02:42:47.019Z"
   },
   {
    "duration": 171,
    "start_time": "2024-08-19T02:43:12.791Z"
   },
   {
    "duration": 82,
    "start_time": "2024-08-19T02:43:32.603Z"
   },
   {
    "duration": 113,
    "start_time": "2024-08-19T02:43:44.583Z"
   },
   {
    "duration": 265,
    "start_time": "2024-08-19T02:43:51.391Z"
   },
   {
    "duration": 96,
    "start_time": "2024-08-19T02:43:59.983Z"
   },
   {
    "duration": 82,
    "start_time": "2024-08-19T02:44:11.345Z"
   },
   {
    "duration": 144,
    "start_time": "2024-08-19T02:44:20.128Z"
   },
   {
    "duration": 85,
    "start_time": "2024-08-19T02:44:31.525Z"
   },
   {
    "duration": 72,
    "start_time": "2024-08-19T02:44:54.482Z"
   },
   {
    "duration": 74,
    "start_time": "2024-08-19T02:45:13.071Z"
   },
   {
    "duration": 149,
    "start_time": "2024-08-19T02:45:51.846Z"
   },
   {
    "duration": 72,
    "start_time": "2024-08-19T02:46:05.127Z"
   },
   {
    "duration": 66,
    "start_time": "2024-08-19T02:46:28.447Z"
   },
   {
    "duration": 66,
    "start_time": "2024-08-19T02:46:48.664Z"
   },
   {
    "duration": 67,
    "start_time": "2024-08-19T02:46:58.129Z"
   },
   {
    "duration": 157,
    "start_time": "2024-08-19T02:48:27.185Z"
   },
   {
    "duration": 493,
    "start_time": "2024-08-19T02:48:37.484Z"
   },
   {
    "duration": 153,
    "start_time": "2024-08-19T02:49:18.367Z"
   },
   {
    "duration": 68,
    "start_time": "2024-08-19T02:49:46.336Z"
   },
   {
    "duration": 5075,
    "start_time": "2024-08-19T08:01:55.152Z"
   },
   {
    "duration": 943,
    "start_time": "2024-08-19T08:02:00.232Z"
   },
   {
    "duration": 35,
    "start_time": "2024-08-19T08:02:01.177Z"
   },
   {
    "duration": 150,
    "start_time": "2024-08-19T08:02:01.234Z"
   },
   {
    "duration": 188,
    "start_time": "2024-08-19T08:02:01.387Z"
   },
   {
    "duration": 279,
    "start_time": "2024-08-19T08:02:01.578Z"
   },
   {
    "duration": 422,
    "start_time": "2024-08-19T08:02:01.860Z"
   },
   {
    "duration": 875,
    "start_time": "2024-08-19T08:02:02.285Z"
   },
   {
    "duration": 121,
    "start_time": "2024-08-19T08:02:03.163Z"
   },
   {
    "duration": 38945,
    "start_time": "2024-08-19T08:02:03.288Z"
   },
   {
    "duration": 129,
    "start_time": "2024-08-19T08:02:42.237Z"
   },
   {
    "duration": 5463,
    "start_time": "2024-08-19T20:51:38.882Z"
   },
   {
    "duration": 949,
    "start_time": "2024-08-19T20:51:44.348Z"
   },
   {
    "duration": 46,
    "start_time": "2024-08-19T20:51:45.299Z"
   },
   {
    "duration": 144,
    "start_time": "2024-08-19T20:51:45.350Z"
   },
   {
    "duration": 188,
    "start_time": "2024-08-19T20:51:45.498Z"
   },
   {
    "duration": 281,
    "start_time": "2024-08-19T20:51:45.689Z"
   },
   {
    "duration": 418,
    "start_time": "2024-08-19T20:51:45.974Z"
   },
   {
    "duration": 857,
    "start_time": "2024-08-19T20:51:46.395Z"
   },
   {
    "duration": 116,
    "start_time": "2024-08-19T20:51:47.255Z"
   },
   {
    "duration": 40988,
    "start_time": "2024-08-19T20:51:47.375Z"
   },
   {
    "duration": 123,
    "start_time": "2024-08-19T20:52:28.366Z"
   },
   {
    "duration": 367,
    "start_time": "2024-08-19T20:53:14.329Z"
   },
   {
    "duration": 4,
    "start_time": "2024-08-19T20:53:21.662Z"
   },
   {
    "duration": 833,
    "start_time": "2024-08-19T20:53:21.790Z"
   },
   {
    "duration": 23,
    "start_time": "2024-08-19T20:53:22.636Z"
   },
   {
    "duration": 160,
    "start_time": "2024-08-19T20:53:22.662Z"
   },
   {
    "duration": 180,
    "start_time": "2024-08-19T20:53:22.834Z"
   },
   {
    "duration": 262,
    "start_time": "2024-08-19T20:53:23.062Z"
   },
   {
    "duration": 379,
    "start_time": "2024-08-19T20:53:24.476Z"
   },
   {
    "duration": 916,
    "start_time": "2024-08-19T20:53:24.859Z"
   },
   {
    "duration": 0,
    "start_time": "2024-08-19T20:53:25.778Z"
   },
   {
    "duration": 24,
    "start_time": "2024-08-19T20:54:13.806Z"
   },
   {
    "duration": 819,
    "start_time": "2024-08-19T20:54:22.792Z"
   },
   {
    "duration": 30,
    "start_time": "2024-08-19T20:54:23.614Z"
   },
   {
    "duration": 150,
    "start_time": "2024-08-19T20:54:23.647Z"
   },
   {
    "duration": 202,
    "start_time": "2024-08-19T20:54:23.800Z"
   },
   {
    "duration": 281,
    "start_time": "2024-08-19T20:54:24.005Z"
   },
   {
    "duration": 421,
    "start_time": "2024-08-19T20:54:29.641Z"
   },
   {
    "duration": 874,
    "start_time": "2024-08-19T20:54:30.067Z"
   },
   {
    "duration": 106,
    "start_time": "2024-08-19T20:54:35.506Z"
   },
   {
    "duration": 41548,
    "start_time": "2024-08-19T20:55:39.937Z"
   },
   {
    "duration": 125,
    "start_time": "2024-08-19T20:56:59.652Z"
   },
   {
    "duration": 161,
    "start_time": "2024-08-19T20:57:14.214Z"
   },
   {
    "duration": 95,
    "start_time": "2024-08-19T20:57:19.232Z"
   },
   {
    "duration": 77,
    "start_time": "2024-08-19T20:57:31.038Z"
   },
   {
    "duration": 111,
    "start_time": "2024-08-19T20:57:38.263Z"
   },
   {
    "duration": 87,
    "start_time": "2024-08-19T21:00:34.977Z"
   },
   {
    "duration": 135,
    "start_time": "2024-08-19T21:01:02.688Z"
   },
   {
    "duration": 129,
    "start_time": "2024-08-19T21:01:11.967Z"
   },
   {
    "duration": 132,
    "start_time": "2024-08-19T21:01:59.871Z"
   },
   {
    "duration": 131,
    "start_time": "2024-08-19T21:02:32.944Z"
   },
   {
    "duration": 117,
    "start_time": "2024-08-19T21:03:57.359Z"
   },
   {
    "duration": 59,
    "start_time": "2024-08-19T21:04:10.642Z"
   },
   {
    "duration": 155,
    "start_time": "2024-08-19T21:07:50.113Z"
   },
   {
    "duration": 79,
    "start_time": "2024-08-19T21:07:52.830Z"
   },
   {
    "duration": 92,
    "start_time": "2024-08-19T21:08:30.983Z"
   },
   {
    "duration": 1209,
    "start_time": "2024-08-19T21:13:28.165Z"
   },
   {
    "duration": 273,
    "start_time": "2024-08-19T21:18:07.653Z"
   },
   {
    "duration": 1551,
    "start_time": "2024-08-19T21:50:53.423Z"
   },
   {
    "duration": 1635,
    "start_time": "2024-08-19T21:51:06.286Z"
   },
   {
    "duration": 899,
    "start_time": "2024-08-19T21:51:07.926Z"
   },
   {
    "duration": 40,
    "start_time": "2024-08-19T21:51:08.835Z"
   },
   {
    "duration": 205,
    "start_time": "2024-08-19T21:51:08.878Z"
   },
   {
    "duration": 213,
    "start_time": "2024-08-19T21:51:09.087Z"
   },
   {
    "duration": 318,
    "start_time": "2024-08-19T21:51:09.304Z"
   },
   {
    "duration": 427,
    "start_time": "2024-08-19T21:51:09.625Z"
   },
   {
    "duration": 928,
    "start_time": "2024-08-19T21:51:10.055Z"
   },
   {
    "duration": 126,
    "start_time": "2024-08-19T21:51:10.986Z"
   },
   {
    "duration": 1273,
    "start_time": "2024-08-19T21:51:11.114Z"
   },
   {
    "duration": 3915,
    "start_time": "2024-08-19T21:51:12.390Z"
   },
   {
    "duration": 0,
    "start_time": "2024-08-19T21:51:16.308Z"
   },
   {
    "duration": 1614,
    "start_time": "2024-08-19T21:57:24.038Z"
   },
   {
    "duration": 885,
    "start_time": "2024-08-19T21:57:25.656Z"
   },
   {
    "duration": 35,
    "start_time": "2024-08-19T21:57:26.544Z"
   },
   {
    "duration": 164,
    "start_time": "2024-08-19T21:57:26.583Z"
   },
   {
    "duration": 190,
    "start_time": "2024-08-19T21:57:26.752Z"
   },
   {
    "duration": 268,
    "start_time": "2024-08-19T21:57:26.945Z"
   },
   {
    "duration": 412,
    "start_time": "2024-08-19T21:57:27.216Z"
   },
   {
    "duration": 844,
    "start_time": "2024-08-19T21:57:27.637Z"
   },
   {
    "duration": 134,
    "start_time": "2024-08-19T21:57:28.483Z"
   },
   {
    "duration": 627,
    "start_time": "2024-08-19T21:57:28.622Z"
   },
   {
    "duration": 0,
    "start_time": "2024-08-19T21:57:29.253Z"
   },
   {
    "duration": 0,
    "start_time": "2024-08-19T21:57:29.254Z"
   },
   {
    "duration": 370,
    "start_time": "2024-08-19T21:57:47.069Z"
   },
   {
    "duration": 35322,
    "start_time": "2024-08-19T22:00:34.821Z"
   },
   {
    "duration": 86,
    "start_time": "2024-08-19T22:18:31.517Z"
   },
   {
    "duration": 223,
    "start_time": "2024-08-19T22:18:55.189Z"
   },
   {
    "duration": 70,
    "start_time": "2024-08-19T22:19:12.883Z"
   },
   {
    "duration": 72,
    "start_time": "2024-08-19T22:26:01.546Z"
   },
   {
    "duration": 1430,
    "start_time": "2024-08-19T22:26:42.659Z"
   },
   {
    "duration": 1700,
    "start_time": "2024-08-19T22:26:50.128Z"
   },
   {
    "duration": 866,
    "start_time": "2024-08-19T22:26:51.834Z"
   },
   {
    "duration": 51,
    "start_time": "2024-08-19T22:26:52.703Z"
   },
   {
    "duration": 150,
    "start_time": "2024-08-19T22:26:52.758Z"
   },
   {
    "duration": 185,
    "start_time": "2024-08-19T22:26:52.910Z"
   },
   {
    "duration": 301,
    "start_time": "2024-08-19T22:26:53.100Z"
   },
   {
    "duration": 416,
    "start_time": "2024-08-19T22:26:53.404Z"
   },
   {
    "duration": 888,
    "start_time": "2024-08-19T22:26:53.822Z"
   },
   {
    "duration": 111,
    "start_time": "2024-08-19T22:26:54.714Z"
   },
   {
    "duration": 1198,
    "start_time": "2024-08-19T22:26:54.836Z"
   },
   {
    "duration": 0,
    "start_time": "2024-08-19T22:26:56.037Z"
   },
   {
    "duration": 0,
    "start_time": "2024-08-19T22:26:56.039Z"
   },
   {
    "duration": 59,
    "start_time": "2024-08-19T22:31:06.699Z"
   },
   {
    "duration": 82653,
    "start_time": "2024-08-19T22:31:39.571Z"
   },
   {
    "duration": 1654,
    "start_time": "2024-08-19T22:35:10.169Z"
   },
   {
    "duration": 883,
    "start_time": "2024-08-19T22:35:11.827Z"
   },
   {
    "duration": 45,
    "start_time": "2024-08-19T22:35:12.714Z"
   },
   {
    "duration": 152,
    "start_time": "2024-08-19T22:35:12.762Z"
   },
   {
    "duration": 186,
    "start_time": "2024-08-19T22:35:12.920Z"
   },
   {
    "duration": 276,
    "start_time": "2024-08-19T22:35:13.109Z"
   },
   {
    "duration": 407,
    "start_time": "2024-08-19T22:35:13.388Z"
   },
   {
    "duration": 864,
    "start_time": "2024-08-19T22:35:13.798Z"
   },
   {
    "duration": 131,
    "start_time": "2024-08-19T22:35:14.665Z"
   },
   {
    "duration": 41921,
    "start_time": "2024-08-19T22:35:14.799Z"
   },
   {
    "duration": 26,
    "start_time": "2024-08-19T22:35:56.723Z"
   },
   {
    "duration": 119,
    "start_time": "2024-08-19T22:35:56.752Z"
   },
   {
    "duration": 1945,
    "start_time": "2024-08-19T22:38:34.805Z"
   },
   {
    "duration": 1573,
    "start_time": "2024-08-19T22:38:43.870Z"
   },
   {
    "duration": 908,
    "start_time": "2024-08-19T22:38:45.446Z"
   },
   {
    "duration": 40784,
    "start_time": "2024-08-19T22:38:46.357Z"
   },
   {
    "duration": 118,
    "start_time": "2024-08-19T22:39:27.144Z"
   },
   {
    "duration": 183,
    "start_time": "2024-08-19T22:39:27.266Z"
   },
   {
    "duration": 253,
    "start_time": "2024-08-19T22:39:27.452Z"
   },
   {
    "duration": 335,
    "start_time": "2024-08-19T22:39:27.708Z"
   },
   {
    "duration": 759,
    "start_time": "2024-08-19T22:39:28.046Z"
   },
   {
    "duration": 126,
    "start_time": "2024-08-19T22:39:28.808Z"
   },
   {
    "duration": 327,
    "start_time": "2024-08-19T22:39:28.937Z"
   },
   {
    "duration": 1008,
    "start_time": "2024-08-19T22:39:29.270Z"
   },
   {
    "duration": 0,
    "start_time": "2024-08-19T22:39:30.282Z"
   },
   {
    "duration": 24,
    "start_time": "2024-08-19T22:52:20.683Z"
   },
   {
    "duration": 1418,
    "start_time": "2024-08-19T22:53:14.493Z"
   },
   {
    "duration": 198,
    "start_time": "2024-08-19T22:53:24.317Z"
   },
   {
    "duration": 225,
    "start_time": "2024-08-19T22:54:06.136Z"
   },
   {
    "duration": 1605,
    "start_time": "2024-08-19T22:54:12.485Z"
   },
   {
    "duration": 874,
    "start_time": "2024-08-19T22:54:14.095Z"
   },
   {
    "duration": 41202,
    "start_time": "2024-08-19T22:54:14.972Z"
   },
   {
    "duration": 131,
    "start_time": "2024-08-19T22:54:56.177Z"
   },
   {
    "duration": 203,
    "start_time": "2024-08-19T22:54:56.312Z"
   },
   {
    "duration": 249,
    "start_time": "2024-08-19T22:54:56.518Z"
   },
   {
    "duration": 348,
    "start_time": "2024-08-19T22:54:56.769Z"
   },
   {
    "duration": 714,
    "start_time": "2024-08-19T22:54:57.120Z"
   },
   {
    "duration": 117,
    "start_time": "2024-08-19T22:54:57.837Z"
   },
   {
    "duration": 332,
    "start_time": "2024-08-19T22:54:57.956Z"
   },
   {
    "duration": 125,
    "start_time": "2024-08-19T22:54:58.291Z"
   },
   {
    "duration": 230,
    "start_time": "2024-08-19T23:01:31.716Z"
   },
   {
    "duration": 54,
    "start_time": "2024-08-19T23:01:47.995Z"
   },
   {
    "duration": 448,
    "start_time": "2024-08-20T00:36:50.709Z"
   },
   {
    "duration": 147,
    "start_time": "2024-08-20T00:47:34.374Z"
   },
   {
    "duration": 156,
    "start_time": "2024-08-20T00:48:42.819Z"
   },
   {
    "duration": 155,
    "start_time": "2024-08-20T00:54:17.401Z"
   },
   {
    "duration": 163,
    "start_time": "2024-08-20T00:54:36.882Z"
   },
   {
    "duration": 145,
    "start_time": "2024-08-20T00:54:49.028Z"
   },
   {
    "duration": 1560,
    "start_time": "2024-08-20T01:09:27.000Z"
   },
   {
    "duration": 982,
    "start_time": "2024-08-20T01:09:28.565Z"
   },
   {
    "duration": 40483,
    "start_time": "2024-08-20T01:09:29.551Z"
   },
   {
    "duration": 123,
    "start_time": "2024-08-20T01:10:10.037Z"
   },
   {
    "duration": 234,
    "start_time": "2024-08-20T01:10:10.164Z"
   },
   {
    "duration": 278,
    "start_time": "2024-08-20T01:10:10.402Z"
   },
   {
    "duration": 337,
    "start_time": "2024-08-20T01:10:10.687Z"
   },
   {
    "duration": 709,
    "start_time": "2024-08-20T01:10:11.027Z"
   },
   {
    "duration": 116,
    "start_time": "2024-08-20T01:10:11.739Z"
   },
   {
    "duration": 346,
    "start_time": "2024-08-20T01:10:11.860Z"
   },
   {
    "duration": 994,
    "start_time": "2024-08-20T01:10:12.209Z"
   },
   {
    "duration": 0,
    "start_time": "2024-08-20T01:10:13.205Z"
   },
   {
    "duration": 587,
    "start_time": "2024-08-20T01:11:07.052Z"
   },
   {
    "duration": 615,
    "start_time": "2024-08-20T01:12:46.355Z"
   },
   {
    "duration": 1309,
    "start_time": "2024-08-20T01:13:05.042Z"
   },
   {
    "duration": 147,
    "start_time": "2024-08-20T01:34:26.672Z"
   },
   {
    "duration": 644,
    "start_time": "2024-08-20T01:36:25.643Z"
   },
   {
    "duration": 1355,
    "start_time": "2024-08-20T01:38:17.321Z"
   },
   {
    "duration": 624,
    "start_time": "2024-08-20T01:44:37.213Z"
   },
   {
    "duration": 608,
    "start_time": "2024-08-20T01:46:03.351Z"
   },
   {
    "duration": 1620,
    "start_time": "2024-08-20T01:46:24.341Z"
   },
   {
    "duration": 808,
    "start_time": "2024-08-20T01:46:38.547Z"
   },
   {
    "duration": 809,
    "start_time": "2024-08-20T01:47:33.431Z"
   },
   {
    "duration": 793,
    "start_time": "2024-08-20T01:49:38.745Z"
   },
   {
    "duration": 778,
    "start_time": "2024-08-20T01:50:00.703Z"
   },
   {
    "duration": 831,
    "start_time": "2024-08-20T01:50:09.032Z"
   },
   {
    "duration": 98,
    "start_time": "2024-08-20T01:53:53.352Z"
   },
   {
    "duration": 126,
    "start_time": "2024-08-20T02:27:28.537Z"
   },
   {
    "duration": 80,
    "start_time": "2024-08-20T02:28:13.181Z"
   },
   {
    "duration": 110,
    "start_time": "2024-08-20T02:29:02.327Z"
   },
   {
    "duration": 82,
    "start_time": "2024-08-20T02:32:53.282Z"
   },
   {
    "duration": 122,
    "start_time": "2024-08-20T02:33:09.632Z"
   },
   {
    "duration": 1814,
    "start_time": "2024-08-20T02:34:47.113Z"
   },
   {
    "duration": 73,
    "start_time": "2024-08-20T02:35:01.086Z"
   },
   {
    "duration": 1798,
    "start_time": "2024-08-20T02:35:02.957Z"
   },
   {
    "duration": 32820,
    "start_time": "2024-08-20T02:39:49.264Z"
   },
   {
    "duration": 32923,
    "start_time": "2024-08-20T02:43:42.305Z"
   },
   {
    "duration": 32705,
    "start_time": "2024-08-20T02:44:52.413Z"
   },
   {
    "duration": 1632,
    "start_time": "2024-08-20T02:54:32.404Z"
   },
   {
    "duration": 864,
    "start_time": "2024-08-20T02:54:34.041Z"
   },
   {
    "duration": 159,
    "start_time": "2024-08-20T02:54:34.909Z"
   },
   {
    "duration": 132,
    "start_time": "2024-08-20T02:54:35.071Z"
   },
   {
    "duration": 188,
    "start_time": "2024-08-20T02:54:35.207Z"
   },
   {
    "duration": 256,
    "start_time": "2024-08-20T02:54:35.398Z"
   },
   {
    "duration": 412,
    "start_time": "2024-08-20T02:54:35.657Z"
   },
   {
    "duration": 832,
    "start_time": "2024-08-20T02:54:36.073Z"
   },
   {
    "duration": 120,
    "start_time": "2024-08-20T02:54:36.908Z"
   },
   {
    "duration": 356,
    "start_time": "2024-08-20T02:54:37.035Z"
   },
   {
    "duration": 756,
    "start_time": "2024-08-20T02:54:37.394Z"
   },
   {
    "duration": 160,
    "start_time": "2024-08-20T02:54:38.154Z"
   },
   {
    "duration": 126,
    "start_time": "2024-08-20T02:54:38.316Z"
   },
   {
    "duration": 104,
    "start_time": "2024-08-20T02:54:38.447Z"
   },
   {
    "duration": 10587,
    "start_time": "2024-08-20T02:54:38.554Z"
   },
   {
    "duration": 12,
    "start_time": "2024-08-20T02:54:49.144Z"
   },
   {
    "duration": 2512372,
    "start_time": "2024-08-20T02:56:13.983Z"
   },
   {
    "duration": 152795,
    "start_time": "2024-08-20T04:01:50.093Z"
   },
   {
    "duration": 9384,
    "start_time": "2024-08-20T04:04:23.876Z"
   },
   {
    "duration": 558587,
    "start_time": "2024-08-20T04:04:37.332Z"
   },
   {
    "duration": 1457028,
    "start_time": "2024-08-20T04:19:51.499Z"
   },
   {
    "duration": 5236,
    "start_time": "2024-08-20T21:03:22.956Z"
   },
   {
    "duration": 971,
    "start_time": "2024-08-20T21:03:28.196Z"
   },
   {
    "duration": 165,
    "start_time": "2024-08-20T21:03:29.171Z"
   },
   {
    "duration": 131,
    "start_time": "2024-08-20T21:03:29.339Z"
   },
   {
    "duration": 197,
    "start_time": "2024-08-20T21:03:29.474Z"
   },
   {
    "duration": 252,
    "start_time": "2024-08-20T21:03:29.675Z"
   },
   {
    "duration": 400,
    "start_time": "2024-08-20T21:03:29.933Z"
   },
   {
    "duration": 826,
    "start_time": "2024-08-20T21:03:30.336Z"
   },
   {
    "duration": 126,
    "start_time": "2024-08-20T21:03:31.168Z"
   },
   {
    "duration": 373,
    "start_time": "2024-08-20T21:03:31.297Z"
   },
   {
    "duration": 807,
    "start_time": "2024-08-20T21:03:31.673Z"
   },
   {
    "duration": 540,
    "start_time": "2024-08-20T21:03:32.484Z"
   },
   {
    "duration": 0,
    "start_time": "2024-08-20T21:03:33.033Z"
   },
   {
    "duration": 0,
    "start_time": "2024-08-20T21:03:33.036Z"
   },
   {
    "duration": 0,
    "start_time": "2024-08-20T21:03:33.044Z"
   },
   {
    "duration": 0,
    "start_time": "2024-08-20T21:03:33.046Z"
   },
   {
    "duration": 0,
    "start_time": "2024-08-20T21:03:33.049Z"
   },
   {
    "duration": 1921,
    "start_time": "2024-08-20T21:03:57.920Z"
   },
   {
    "duration": 0,
    "start_time": "2024-08-20T21:03:59.846Z"
   },
   {
    "duration": 0,
    "start_time": "2024-08-20T21:03:59.849Z"
   },
   {
    "duration": 0,
    "start_time": "2024-08-20T21:03:59.851Z"
   },
   {
    "duration": 0,
    "start_time": "2024-08-20T21:03:59.852Z"
   },
   {
    "duration": 0,
    "start_time": "2024-08-20T21:03:59.854Z"
   },
   {
    "duration": 0,
    "start_time": "2024-08-20T21:03:59.856Z"
   },
   {
    "duration": 0,
    "start_time": "2024-08-20T21:03:59.858Z"
   },
   {
    "duration": 0,
    "start_time": "2024-08-20T21:03:59.861Z"
   },
   {
    "duration": 0,
    "start_time": "2024-08-20T21:03:59.863Z"
   },
   {
    "duration": 0,
    "start_time": "2024-08-20T21:03:59.865Z"
   },
   {
    "duration": 0,
    "start_time": "2024-08-20T21:03:59.868Z"
   },
   {
    "duration": 0,
    "start_time": "2024-08-20T21:03:59.870Z"
   },
   {
    "duration": 0,
    "start_time": "2024-08-20T21:03:59.872Z"
   },
   {
    "duration": 0,
    "start_time": "2024-08-20T21:03:59.874Z"
   },
   {
    "duration": 0,
    "start_time": "2024-08-20T21:03:59.877Z"
   },
   {
    "duration": 0,
    "start_time": "2024-08-20T21:03:59.879Z"
   },
   {
    "duration": 118,
    "start_time": "2024-08-20T21:04:16.652Z"
   },
   {
    "duration": 895,
    "start_time": "2024-08-20T21:04:16.774Z"
   },
   {
    "duration": 158,
    "start_time": "2024-08-20T21:04:17.672Z"
   },
   {
    "duration": 140,
    "start_time": "2024-08-20T21:04:17.836Z"
   },
   {
    "duration": 190,
    "start_time": "2024-08-20T21:04:17.979Z"
   },
   {
    "duration": 253,
    "start_time": "2024-08-20T21:04:18.173Z"
   },
   {
    "duration": 369,
    "start_time": "2024-08-20T21:04:18.433Z"
   },
   {
    "duration": 808,
    "start_time": "2024-08-20T21:04:18.806Z"
   },
   {
    "duration": 124,
    "start_time": "2024-08-20T21:04:19.617Z"
   },
   {
    "duration": 370,
    "start_time": "2024-08-20T21:04:19.747Z"
   },
   {
    "duration": 762,
    "start_time": "2024-08-20T21:04:20.120Z"
   },
   {
    "duration": 229,
    "start_time": "2024-08-20T21:04:20.885Z"
   },
   {
    "duration": 0,
    "start_time": "2024-08-20T21:04:21.117Z"
   },
   {
    "duration": 0,
    "start_time": "2024-08-20T21:04:21.118Z"
   },
   {
    "duration": 0,
    "start_time": "2024-08-20T21:04:21.133Z"
   },
   {
    "duration": 0,
    "start_time": "2024-08-20T21:04:21.134Z"
   },
   {
    "duration": 0,
    "start_time": "2024-08-20T21:04:21.137Z"
   },
   {
    "duration": 167,
    "start_time": "2024-08-20T21:05:17.026Z"
   },
   {
    "duration": 201,
    "start_time": "2024-08-20T21:05:18.673Z"
   },
   {
    "duration": 110,
    "start_time": "2024-08-20T21:06:04.722Z"
   },
   {
    "duration": 10363,
    "start_time": "2024-08-20T21:06:06.188Z"
   },
   {
    "duration": 1585090,
    "start_time": "2024-08-20T21:06:19.728Z"
   },
   {
    "duration": 475,
    "start_time": "2024-08-21T00:10:25.201Z"
   },
   {
    "duration": 5438,
    "start_time": "2024-08-21T00:10:37.898Z"
   },
   {
    "duration": 1264,
    "start_time": "2024-08-21T00:10:43.340Z"
   },
   {
    "duration": 160,
    "start_time": "2024-08-21T00:10:44.608Z"
   },
   {
    "duration": 133,
    "start_time": "2024-08-21T00:10:44.772Z"
   },
   {
    "duration": 205,
    "start_time": "2024-08-21T00:10:44.911Z"
   },
   {
    "duration": 298,
    "start_time": "2024-08-21T00:10:45.119Z"
   },
   {
    "duration": 376,
    "start_time": "2024-08-21T00:10:45.419Z"
   },
   {
    "duration": 784,
    "start_time": "2024-08-21T00:10:45.797Z"
   },
   {
    "duration": 118,
    "start_time": "2024-08-21T00:10:46.584Z"
   },
   {
    "duration": 362,
    "start_time": "2024-08-21T00:10:46.705Z"
   },
   {
    "duration": 770,
    "start_time": "2024-08-21T00:10:47.070Z"
   },
   {
    "duration": 176,
    "start_time": "2024-08-21T00:10:47.843Z"
   },
   {
    "duration": 208,
    "start_time": "2024-08-21T00:10:48.023Z"
   },
   {
    "duration": 110,
    "start_time": "2024-08-21T00:10:48.237Z"
   },
   {
    "duration": 10732,
    "start_time": "2024-08-21T00:10:48.350Z"
   },
   {
    "duration": 315,
    "start_time": "2024-08-21T18:48:08.968Z"
   },
   {
    "duration": 22,
    "start_time": "2024-08-21T18:52:10.678Z"
   },
   {
    "duration": 5294,
    "start_time": "2024-08-21T18:52:15.353Z"
   },
   {
    "duration": 929,
    "start_time": "2024-08-21T18:52:20.652Z"
   },
   {
    "duration": 163,
    "start_time": "2024-08-21T18:52:21.584Z"
   },
   {
    "duration": 138,
    "start_time": "2024-08-21T18:52:21.752Z"
   },
   {
    "duration": 188,
    "start_time": "2024-08-21T18:52:21.893Z"
   },
   {
    "duration": 260,
    "start_time": "2024-08-21T18:52:22.085Z"
   },
   {
    "duration": 368,
    "start_time": "2024-08-21T18:52:22.349Z"
   },
   {
    "duration": 809,
    "start_time": "2024-08-21T18:52:22.720Z"
   },
   {
    "duration": 120,
    "start_time": "2024-08-21T18:52:23.532Z"
   },
   {
    "duration": 346,
    "start_time": "2024-08-21T18:52:23.657Z"
   },
   {
    "duration": 760,
    "start_time": "2024-08-21T18:52:24.006Z"
   },
   {
    "duration": 162,
    "start_time": "2024-08-21T18:52:24.769Z"
   },
   {
    "duration": 214,
    "start_time": "2024-08-21T18:52:24.933Z"
   },
   {
    "duration": 103,
    "start_time": "2024-08-21T18:52:25.150Z"
   },
   {
    "duration": 10956,
    "start_time": "2024-08-21T18:52:25.327Z"
   },
   {
    "duration": 3994641,
    "start_time": "2024-08-21T18:52:36.286Z"
   },
   {
    "duration": 1332,
    "start_time": "2024-08-21T19:59:10.930Z"
   },
   {
    "duration": 0,
    "start_time": "2024-08-21T19:59:12.265Z"
   },
   {
    "duration": 3844,
    "start_time": "2024-08-21T20:00:49.393Z"
   },
   {
    "duration": 476,
    "start_time": "2024-08-21T20:12:06.070Z"
   },
   {
    "duration": 39122,
    "start_time": "2024-08-21T20:12:38.499Z"
   },
   {
    "duration": 3848,
    "start_time": "2024-08-21T20:14:43.490Z"
   },
   {
    "duration": 1649,
    "start_time": "2024-08-21T20:29:58.702Z"
   },
   {
    "duration": 877,
    "start_time": "2024-08-21T20:30:00.355Z"
   },
   {
    "duration": 165,
    "start_time": "2024-08-21T20:30:01.235Z"
   },
   {
    "duration": 163,
    "start_time": "2024-08-21T20:30:01.405Z"
   },
   {
    "duration": 192,
    "start_time": "2024-08-21T20:30:01.570Z"
   },
   {
    "duration": 260,
    "start_time": "2024-08-21T20:30:01.765Z"
   },
   {
    "duration": 374,
    "start_time": "2024-08-21T20:30:02.028Z"
   },
   {
    "duration": 804,
    "start_time": "2024-08-21T20:30:02.405Z"
   },
   {
    "duration": 125,
    "start_time": "2024-08-21T20:30:03.211Z"
   },
   {
    "duration": 357,
    "start_time": "2024-08-21T20:30:03.343Z"
   },
   {
    "duration": 767,
    "start_time": "2024-08-21T20:30:03.703Z"
   },
   {
    "duration": 216,
    "start_time": "2024-08-21T20:30:04.474Z"
   },
   {
    "duration": 134,
    "start_time": "2024-08-21T20:30:04.693Z"
   },
   {
    "duration": 10804,
    "start_time": "2024-08-21T20:30:04.829Z"
   },
   {
    "duration": 3919096,
    "start_time": "2024-08-21T20:30:15.638Z"
   },
   {
    "duration": 4413,
    "start_time": "2024-08-21T21:35:34.737Z"
   },
   {
    "duration": 43317,
    "start_time": "2024-08-21T21:35:39.152Z"
   },
   {
    "duration": 439,
    "start_time": "2024-08-21T21:36:22.472Z"
   },
   {
    "duration": 5318,
    "start_time": "2024-08-21T22:35:59.919Z"
   },
   {
    "duration": 971,
    "start_time": "2024-08-21T22:36:05.240Z"
   },
   {
    "duration": 163,
    "start_time": "2024-08-21T22:36:06.214Z"
   },
   {
    "duration": 138,
    "start_time": "2024-08-21T22:36:06.381Z"
   },
   {
    "duration": 195,
    "start_time": "2024-08-21T22:36:06.522Z"
   },
   {
    "duration": 270,
    "start_time": "2024-08-21T22:36:06.721Z"
   },
   {
    "duration": 374,
    "start_time": "2024-08-21T22:36:06.994Z"
   },
   {
    "duration": 795,
    "start_time": "2024-08-21T22:36:07.371Z"
   },
   {
    "duration": 124,
    "start_time": "2024-08-21T22:36:08.169Z"
   },
   {
    "duration": 366,
    "start_time": "2024-08-21T22:36:08.298Z"
   },
   {
    "duration": 763,
    "start_time": "2024-08-21T22:36:08.667Z"
   },
   {
    "duration": 224,
    "start_time": "2024-08-21T22:36:09.435Z"
   },
   {
    "duration": 99,
    "start_time": "2024-08-21T22:36:09.662Z"
   },
   {
    "duration": 10552,
    "start_time": "2024-08-21T22:36:09.764Z"
   },
   {
    "duration": 7757088,
    "start_time": "2024-08-21T22:36:20.320Z"
   },
   {
    "duration": 4154,
    "start_time": "2024-08-22T00:45:37.411Z"
   },
   {
    "duration": 40015,
    "start_time": "2024-08-22T00:45:41.568Z"
   },
   {
    "duration": 499,
    "start_time": "2024-08-22T00:46:21.586Z"
   },
   {
    "duration": 39523,
    "start_time": "2024-08-22T01:18:44.693Z"
   },
   {
    "duration": 5596,
    "start_time": "2024-08-22T23:41:11.186Z"
   },
   {
    "duration": 951,
    "start_time": "2024-08-22T23:41:16.790Z"
   },
   {
    "duration": 165,
    "start_time": "2024-08-22T23:41:17.744Z"
   },
   {
    "duration": 137,
    "start_time": "2024-08-22T23:41:17.915Z"
   },
   {
    "duration": 190,
    "start_time": "2024-08-22T23:41:18.056Z"
   },
   {
    "duration": 263,
    "start_time": "2024-08-22T23:41:18.249Z"
   },
   {
    "duration": 376,
    "start_time": "2024-08-22T23:41:18.514Z"
   },
   {
    "duration": 820,
    "start_time": "2024-08-22T23:41:18.893Z"
   },
   {
    "duration": 119,
    "start_time": "2024-08-22T23:41:19.716Z"
   },
   {
    "duration": 361,
    "start_time": "2024-08-22T23:41:19.842Z"
   },
   {
    "duration": 790,
    "start_time": "2024-08-22T23:41:20.205Z"
   },
   {
    "duration": 222,
    "start_time": "2024-08-22T23:41:20.998Z"
   },
   {
    "duration": 167,
    "start_time": "2024-08-22T23:41:21.223Z"
   },
   {
    "duration": 10944,
    "start_time": "2024-08-22T23:41:21.396Z"
   },
   {
    "duration": 7105,
    "start_time": "2024-08-22T23:41:32.343Z"
   },
   {
    "duration": 4151,
    "start_time": "2024-08-22T23:41:39.452Z"
   },
   {
    "duration": 41038,
    "start_time": "2024-08-22T23:41:43.606Z"
   },
   {
    "duration": 295162,
    "start_time": "2024-08-22T23:42:24.653Z"
   },
   {
    "duration": 10422,
    "start_time": "2024-08-22T23:47:19.818Z"
   },
   {
    "duration": 10273,
    "start_time": "2024-08-22T23:48:20.508Z"
   },
   {
    "duration": 3431901,
    "start_time": "2024-08-22T23:50:01.034Z"
   },
   {
    "duration": 5207,
    "start_time": "2024-08-23T02:28:45.483Z"
   },
   {
    "duration": 941,
    "start_time": "2024-08-23T02:28:50.694Z"
   },
   {
    "duration": 155,
    "start_time": "2024-08-23T02:28:51.639Z"
   },
   {
    "duration": 130,
    "start_time": "2024-08-23T02:28:51.798Z"
   },
   {
    "duration": 195,
    "start_time": "2024-08-23T02:28:51.931Z"
   },
   {
    "duration": 254,
    "start_time": "2024-08-23T02:28:52.129Z"
   },
   {
    "duration": 418,
    "start_time": "2024-08-23T02:28:52.386Z"
   },
   {
    "duration": 814,
    "start_time": "2024-08-23T02:28:52.808Z"
   },
   {
    "duration": 122,
    "start_time": "2024-08-23T02:28:53.625Z"
   },
   {
    "duration": 367,
    "start_time": "2024-08-23T02:28:53.752Z"
   },
   {
    "duration": 770,
    "start_time": "2024-08-23T02:28:54.122Z"
   },
   {
    "duration": 209,
    "start_time": "2024-08-23T02:28:54.895Z"
   },
   {
    "duration": 108,
    "start_time": "2024-08-23T02:28:55.107Z"
   },
   {
    "duration": 11067,
    "start_time": "2024-08-23T02:28:55.217Z"
   },
   {
    "duration": 3501087,
    "start_time": "2024-08-23T02:29:06.290Z"
   },
   {
    "duration": 3844,
    "start_time": "2024-08-23T03:27:27.379Z"
   },
   {
    "duration": 40970,
    "start_time": "2024-08-23T03:27:31.226Z"
   },
   {
    "duration": 11,
    "start_time": "2024-08-23T03:29:00.962Z"
   },
   {
    "duration": 22,
    "start_time": "2024-08-23T03:29:01.133Z"
   },
   {
    "duration": 1962,
    "start_time": "2024-08-23T03:29:01.285Z"
   },
   {
    "duration": 563,
    "start_time": "2024-08-23T03:29:03.251Z"
   },
   {
    "duration": 411,
    "start_time": "2024-08-23T03:29:03.816Z"
   },
   {
    "duration": 326,
    "start_time": "2024-08-23T19:27:08.937Z"
   },
   {
    "duration": 5265,
    "start_time": "2024-08-23T19:27:15.401Z"
   },
   {
    "duration": 957,
    "start_time": "2024-08-23T19:27:20.670Z"
   },
   {
    "duration": 154,
    "start_time": "2024-08-23T19:27:21.630Z"
   },
   {
    "duration": 146,
    "start_time": "2024-08-23T19:27:21.788Z"
   },
   {
    "duration": 194,
    "start_time": "2024-08-23T19:27:21.936Z"
   },
   {
    "duration": 254,
    "start_time": "2024-08-23T19:27:22.134Z"
   },
   {
    "duration": 380,
    "start_time": "2024-08-23T19:27:22.391Z"
   },
   {
    "duration": 802,
    "start_time": "2024-08-23T19:27:22.774Z"
   },
   {
    "duration": 124,
    "start_time": "2024-08-23T19:27:23.579Z"
   },
   {
    "duration": 345,
    "start_time": "2024-08-23T19:27:23.708Z"
   },
   {
    "duration": 121,
    "start_time": "2024-08-23T19:27:24.056Z"
   },
   {
    "duration": 1551,
    "start_time": "2024-08-23T19:41:43.509Z"
   },
   {
    "duration": 178,
    "start_time": "2024-08-23T19:41:52.568Z"
   },
   {
    "duration": 159,
    "start_time": "2024-08-23T19:42:08.998Z"
   },
   {
    "duration": 1454,
    "start_time": "2024-08-23T20:00:22.429Z"
   },
   {
    "duration": 1009,
    "start_time": "2024-08-23T20:05:27.510Z"
   },
   {
    "duration": 932,
    "start_time": "2024-08-23T20:05:59.879Z"
   },
   {
    "duration": 19036,
    "start_time": "2024-08-23T20:06:47.589Z"
   },
   {
    "duration": 1147,
    "start_time": "2024-08-23T20:07:24.945Z"
   },
   {
    "duration": 17635,
    "start_time": "2024-08-23T20:07:30.603Z"
   },
   {
    "duration": 922,
    "start_time": "2024-08-23T20:08:36.333Z"
   },
   {
    "duration": 18209,
    "start_time": "2024-08-23T20:08:39.958Z"
   },
   {
    "duration": 90,
    "start_time": "2024-08-23T20:14:27.310Z"
   },
   {
    "duration": 33,
    "start_time": "2024-08-23T20:14:38.482Z"
   },
   {
    "duration": 143,
    "start_time": "2024-08-23T20:14:41.243Z"
   },
   {
    "duration": 117,
    "start_time": "2024-08-23T20:14:53.703Z"
   },
   {
    "duration": 1391,
    "start_time": "2024-08-23T20:14:53.998Z"
   },
   {
    "duration": 803,
    "start_time": "2024-08-23T20:14:55.393Z"
   },
   {
    "duration": 988,
    "start_time": "2024-08-23T20:14:59.473Z"
   },
   {
    "duration": 175,
    "start_time": "2024-08-23T20:15:00.465Z"
   },
   {
    "duration": 206,
    "start_time": "2024-08-23T20:15:00.644Z"
   },
   {
    "duration": 1719,
    "start_time": "2024-08-23T20:15:15.691Z"
   },
   {
    "duration": 1023,
    "start_time": "2024-08-23T20:15:17.415Z"
   },
   {
    "duration": 169,
    "start_time": "2024-08-23T20:15:18.441Z"
   },
   {
    "duration": 142,
    "start_time": "2024-08-23T20:15:18.614Z"
   },
   {
    "duration": 196,
    "start_time": "2024-08-23T20:15:18.761Z"
   },
   {
    "duration": 258,
    "start_time": "2024-08-23T20:15:18.960Z"
   },
   {
    "duration": 415,
    "start_time": "2024-08-23T20:15:19.220Z"
   },
   {
    "duration": 869,
    "start_time": "2024-08-23T20:15:19.639Z"
   },
   {
    "duration": 139,
    "start_time": "2024-08-23T20:15:20.512Z"
   },
   {
    "duration": 339,
    "start_time": "2024-08-23T20:15:20.655Z"
   },
   {
    "duration": 130,
    "start_time": "2024-08-23T20:15:20.997Z"
   },
   {
    "duration": 1417,
    "start_time": "2024-08-23T20:15:21.131Z"
   },
   {
    "duration": 795,
    "start_time": "2024-08-23T20:15:22.551Z"
   },
   {
    "duration": 993,
    "start_time": "2024-08-23T20:15:23.352Z"
   },
   {
    "duration": 181,
    "start_time": "2024-08-23T20:15:24.349Z"
   },
   {
    "duration": 215,
    "start_time": "2024-08-23T20:15:24.534Z"
   },
   {
    "duration": 19176,
    "start_time": "2024-08-23T20:15:24.753Z"
   },
   {
    "duration": 11370,
    "start_time": "2024-08-23T20:15:43.932Z"
   },
   {
    "duration": 5223,
    "start_time": "2024-08-25T00:04:33.314Z"
   },
   {
    "duration": 939,
    "start_time": "2024-08-25T00:04:38.541Z"
   },
   {
    "duration": 160,
    "start_time": "2024-08-25T00:04:39.483Z"
   },
   {
    "duration": 135,
    "start_time": "2024-08-25T00:04:39.648Z"
   },
   {
    "duration": 189,
    "start_time": "2024-08-25T00:04:39.785Z"
   },
   {
    "duration": 257,
    "start_time": "2024-08-25T00:04:39.977Z"
   },
   {
    "duration": 373,
    "start_time": "2024-08-25T00:04:40.237Z"
   },
   {
    "duration": 804,
    "start_time": "2024-08-25T00:04:40.613Z"
   },
   {
    "duration": 135,
    "start_time": "2024-08-25T00:04:41.420Z"
   },
   {
    "duration": 336,
    "start_time": "2024-08-25T00:04:41.560Z"
   },
   {
    "duration": 123,
    "start_time": "2024-08-25T00:04:41.899Z"
   },
   {
    "duration": 1374,
    "start_time": "2024-08-25T00:04:42.025Z"
   },
   {
    "duration": 761,
    "start_time": "2024-08-25T00:04:43.401Z"
   },
   {
    "duration": 952,
    "start_time": "2024-08-25T00:04:44.165Z"
   },
   {
    "duration": 174,
    "start_time": "2024-08-25T00:04:45.120Z"
   },
   {
    "duration": 198,
    "start_time": "2024-08-25T00:04:45.297Z"
   },
   {
    "duration": 16835,
    "start_time": "2024-08-25T00:04:45.498Z"
   },
   {
    "duration": 10497,
    "start_time": "2024-08-25T00:05:02.336Z"
   },
   {
    "duration": 17141,
    "start_time": "2024-08-25T00:05:12.836Z"
   },
   {
    "duration": 32689,
    "start_time": "2024-08-25T00:05:29.980Z"
   },
   {
    "duration": 39705,
    "start_time": "2024-08-25T00:06:02.672Z"
   },
   {
    "duration": 324,
    "start_time": "2024-08-25T00:06:42.380Z"
   },
   {
    "duration": 30,
    "start_time": "2024-08-25T00:06:42.706Z"
   },
   {
    "duration": 16,
    "start_time": "2024-08-25T00:06:42.739Z"
   },
   {
    "duration": 593,
    "start_time": "2024-08-25T00:06:42.758Z"
   },
   {
    "duration": 384,
    "start_time": "2024-08-25T00:06:43.354Z"
   },
   {
    "duration": 579723,
    "start_time": "2024-08-25T00:06:43.751Z"
   },
   {
    "duration": 1384,
    "start_time": "2024-08-26T05:26:47.902Z"
   },
   {
    "duration": 942,
    "start_time": "2024-08-26T05:26:49.290Z"
   },
   {
    "duration": 159,
    "start_time": "2024-08-26T05:26:50.235Z"
   },
   {
    "duration": 133,
    "start_time": "2024-08-26T05:26:50.397Z"
   },
   {
    "duration": 188,
    "start_time": "2024-08-26T05:26:50.534Z"
   },
   {
    "duration": 246,
    "start_time": "2024-08-26T05:26:50.725Z"
   },
   {
    "duration": 369,
    "start_time": "2024-08-26T05:26:50.974Z"
   },
   {
    "duration": 784,
    "start_time": "2024-08-26T05:26:51.346Z"
   },
   {
    "duration": 121,
    "start_time": "2024-08-26T05:26:52.133Z"
   },
   {
    "duration": 342,
    "start_time": "2024-08-26T05:26:52.256Z"
   },
   {
    "duration": 121,
    "start_time": "2024-08-26T05:26:52.601Z"
   },
   {
    "duration": 1379,
    "start_time": "2024-08-26T05:26:52.725Z"
   },
   {
    "duration": 746,
    "start_time": "2024-08-26T05:26:54.106Z"
   },
   {
    "duration": 955,
    "start_time": "2024-08-26T05:26:54.857Z"
   },
   {
    "duration": 178,
    "start_time": "2024-08-26T05:26:55.815Z"
   },
   {
    "duration": 199,
    "start_time": "2024-08-26T05:26:55.997Z"
   },
   {
    "duration": 16837,
    "start_time": "2024-08-26T05:26:56.199Z"
   },
   {
    "duration": 10541,
    "start_time": "2024-08-26T05:27:13.040Z"
   },
   {
    "duration": 14,
    "start_time": "2024-08-27T01:48:05.334Z"
   },
   {
    "duration": 316,
    "start_time": "2024-08-27T01:48:05.457Z"
   },
   {
    "duration": 0,
    "start_time": "2024-08-27T01:48:05.776Z"
   },
   {
    "duration": 22,
    "start_time": "2024-08-27T01:48:06.059Z"
   },
   {
    "duration": 22,
    "start_time": "2024-08-27T01:48:06.385Z"
   },
   {
    "duration": 24,
    "start_time": "2024-08-27T01:48:07.002Z"
   },
   {
    "duration": 1385,
    "start_time": "2024-08-27T01:48:18.123Z"
   },
   {
    "duration": 920,
    "start_time": "2024-08-27T01:48:19.512Z"
   },
   {
    "duration": 1336,
    "start_time": "2024-08-27T01:48:28.848Z"
   },
   {
    "duration": 888,
    "start_time": "2024-08-27T01:48:30.187Z"
   },
   {
    "duration": 146,
    "start_time": "2024-08-27T01:48:32.972Z"
   },
   {
    "duration": 121,
    "start_time": "2024-08-27T01:48:34.162Z"
   },
   {
    "duration": 173,
    "start_time": "2024-08-27T01:48:35.137Z"
   },
   {
    "duration": 237,
    "start_time": "2024-08-27T01:48:36.108Z"
   },
   {
    "duration": 369,
    "start_time": "2024-08-27T01:48:36.539Z"
   },
   {
    "duration": 786,
    "start_time": "2024-08-27T01:48:36.977Z"
   },
   {
    "duration": 117,
    "start_time": "2024-08-27T01:48:37.767Z"
   },
   {
    "duration": 322,
    "start_time": "2024-08-27T01:48:38.529Z"
   },
   {
    "duration": 109,
    "start_time": "2024-08-27T01:48:39.356Z"
   },
   {
    "duration": 1374,
    "start_time": "2024-08-27T01:48:40.451Z"
   },
   {
    "duration": 794,
    "start_time": "2024-08-27T01:48:41.832Z"
   },
   {
    "duration": 959,
    "start_time": "2024-08-27T01:48:44.532Z"
   },
   {
    "duration": 125,
    "start_time": "2024-08-27T01:48:45.494Z"
   },
   {
    "duration": 192,
    "start_time": "2024-08-27T01:48:45.623Z"
   },
   {
    "duration": 1401,
    "start_time": "2024-08-27T01:53:32.015Z"
   },
   {
    "duration": 922,
    "start_time": "2024-08-27T01:53:33.419Z"
   },
   {
    "duration": 162,
    "start_time": "2024-08-27T01:53:34.344Z"
   },
   {
    "duration": 137,
    "start_time": "2024-08-27T01:53:34.509Z"
   },
   {
    "duration": 188,
    "start_time": "2024-08-27T01:53:34.650Z"
   },
   {
    "duration": 257,
    "start_time": "2024-08-27T01:53:34.842Z"
   },
   {
    "duration": 384,
    "start_time": "2024-08-27T01:53:35.102Z"
   },
   {
    "duration": 791,
    "start_time": "2024-08-27T01:53:35.489Z"
   },
   {
    "duration": 117,
    "start_time": "2024-08-27T01:53:36.282Z"
   },
   {
    "duration": 325,
    "start_time": "2024-08-27T01:53:36.402Z"
   },
   {
    "duration": 111,
    "start_time": "2024-08-27T01:53:36.733Z"
   },
   {
    "duration": 1357,
    "start_time": "2024-08-27T01:53:36.847Z"
   },
   {
    "duration": 753,
    "start_time": "2024-08-27T01:53:38.206Z"
   },
   {
    "duration": 957,
    "start_time": "2024-08-27T01:53:38.965Z"
   },
   {
    "duration": 103,
    "start_time": "2024-08-27T01:53:39.930Z"
   },
   {
    "duration": 197,
    "start_time": "2024-08-27T01:53:40.036Z"
   },
   {
    "duration": 1356,
    "start_time": "2024-08-27T01:54:46.433Z"
   },
   {
    "duration": 938,
    "start_time": "2024-08-27T01:54:47.792Z"
   },
   {
    "duration": 149,
    "start_time": "2024-08-27T01:54:48.733Z"
   },
   {
    "duration": 129,
    "start_time": "2024-08-27T01:54:48.885Z"
   },
   {
    "duration": 184,
    "start_time": "2024-08-27T01:54:49.030Z"
   },
   {
    "duration": 254,
    "start_time": "2024-08-27T01:54:49.217Z"
   },
   {
    "duration": 366,
    "start_time": "2024-08-27T01:54:49.474Z"
   },
   {
    "duration": 792,
    "start_time": "2024-08-27T01:54:49.843Z"
   },
   {
    "duration": 121,
    "start_time": "2024-08-27T01:54:50.638Z"
   },
   {
    "duration": 322,
    "start_time": "2024-08-27T01:54:50.761Z"
   },
   {
    "duration": 118,
    "start_time": "2024-08-27T01:54:51.086Z"
   },
   {
    "duration": 1390,
    "start_time": "2024-08-27T01:54:51.208Z"
   },
   {
    "duration": 770,
    "start_time": "2024-08-27T01:54:52.601Z"
   },
   {
    "duration": 960,
    "start_time": "2024-08-27T01:54:53.377Z"
   },
   {
    "duration": 124,
    "start_time": "2024-08-27T01:54:54.340Z"
   },
   {
    "duration": 189,
    "start_time": "2024-08-27T01:54:54.467Z"
   },
   {
    "duration": 1436,
    "start_time": "2024-08-27T01:59:11.018Z"
   },
   {
    "duration": 955,
    "start_time": "2024-08-27T01:59:12.457Z"
   },
   {
    "duration": 158,
    "start_time": "2024-08-27T01:59:13.416Z"
   },
   {
    "duration": 129,
    "start_time": "2024-08-27T01:59:13.577Z"
   },
   {
    "duration": 192,
    "start_time": "2024-08-27T01:59:13.709Z"
   },
   {
    "duration": 256,
    "start_time": "2024-08-27T01:59:13.904Z"
   },
   {
    "duration": 391,
    "start_time": "2024-08-27T01:59:14.163Z"
   },
   {
    "duration": 810,
    "start_time": "2024-08-27T01:59:14.556Z"
   },
   {
    "duration": 119,
    "start_time": "2024-08-27T01:59:15.369Z"
   },
   {
    "duration": 339,
    "start_time": "2024-08-27T01:59:15.493Z"
   },
   {
    "duration": 118,
    "start_time": "2024-08-27T01:59:15.836Z"
   },
   {
    "duration": 1355,
    "start_time": "2024-08-27T01:59:16.105Z"
   },
   {
    "duration": 752,
    "start_time": "2024-08-27T01:59:17.465Z"
   },
   {
    "duration": 959,
    "start_time": "2024-08-27T01:59:23.226Z"
   },
   {
    "duration": 131,
    "start_time": "2024-08-27T01:59:24.189Z"
   },
   {
    "duration": 179,
    "start_time": "2024-08-27T01:59:24.442Z"
   },
   {
    "duration": 1402,
    "start_time": "2024-08-27T02:06:28.021Z"
   },
   {
    "duration": 939,
    "start_time": "2024-08-27T02:06:29.427Z"
   },
   {
    "duration": 161,
    "start_time": "2024-08-27T02:06:30.369Z"
   },
   {
    "duration": 122,
    "start_time": "2024-08-27T02:06:30.533Z"
   },
   {
    "duration": 193,
    "start_time": "2024-08-27T02:06:30.659Z"
   },
   {
    "duration": 248,
    "start_time": "2024-08-27T02:06:30.854Z"
   },
   {
    "duration": 370,
    "start_time": "2024-08-27T02:06:31.105Z"
   },
   {
    "duration": 777,
    "start_time": "2024-08-27T02:06:31.478Z"
   },
   {
    "duration": 118,
    "start_time": "2024-08-27T02:06:32.258Z"
   },
   {
    "duration": 361,
    "start_time": "2024-08-27T02:06:32.379Z"
   },
   {
    "duration": 118,
    "start_time": "2024-08-27T02:06:32.744Z"
   },
   {
    "duration": 1366,
    "start_time": "2024-08-27T02:06:32.865Z"
   },
   {
    "duration": 761,
    "start_time": "2024-08-27T02:06:34.235Z"
   },
   {
    "duration": 128,
    "start_time": "2024-08-27T02:06:35.001Z"
   },
   {
    "duration": 1374,
    "start_time": "2024-08-27T02:06:35.132Z"
   },
   {
    "duration": 0,
    "start_time": "2024-08-27T02:06:36.509Z"
   },
   {
    "duration": 0,
    "start_time": "2024-08-27T02:06:36.512Z"
   },
   {
    "duration": 0,
    "start_time": "2024-08-27T02:06:36.529Z"
   },
   {
    "duration": 0,
    "start_time": "2024-08-27T02:06:36.531Z"
   },
   {
    "duration": 0,
    "start_time": "2024-08-27T02:06:36.534Z"
   },
   {
    "duration": 0,
    "start_time": "2024-08-27T02:06:36.535Z"
   },
   {
    "duration": 0,
    "start_time": "2024-08-27T02:06:36.537Z"
   },
   {
    "duration": 0,
    "start_time": "2024-08-27T02:06:36.539Z"
   },
   {
    "duration": 0,
    "start_time": "2024-08-27T02:06:36.541Z"
   },
   {
    "duration": 0,
    "start_time": "2024-08-27T02:06:36.543Z"
   },
   {
    "duration": 911,
    "start_time": "2024-08-27T02:06:45.690Z"
   },
   {
    "duration": 174,
    "start_time": "2024-08-27T02:06:47.769Z"
   },
   {
    "duration": 26,
    "start_time": "2024-08-27T02:08:54.563Z"
   },
   {
    "duration": 5,
    "start_time": "2024-08-27T02:09:03.127Z"
   },
   {
    "duration": 1432,
    "start_time": "2024-08-27T02:11:25.717Z"
   },
   {
    "duration": 942,
    "start_time": "2024-08-27T02:11:29.858Z"
   },
   {
    "duration": 143,
    "start_time": "2024-08-27T02:11:58.339Z"
   },
   {
    "duration": 121,
    "start_time": "2024-08-27T02:11:58.584Z"
   },
   {
    "duration": 181,
    "start_time": "2024-08-27T02:11:58.784Z"
   },
   {
    "duration": 233,
    "start_time": "2024-08-27T02:11:59.017Z"
   },
   {
    "duration": 376,
    "start_time": "2024-08-27T02:11:59.254Z"
   },
   {
    "duration": 748,
    "start_time": "2024-08-27T02:11:59.633Z"
   },
   {
    "duration": 119,
    "start_time": "2024-08-27T02:12:00.385Z"
   },
   {
    "duration": 342,
    "start_time": "2024-08-27T02:12:00.507Z"
   },
   {
    "duration": 122,
    "start_time": "2024-08-27T02:12:00.852Z"
   },
   {
    "duration": 1378,
    "start_time": "2024-08-27T02:12:00.977Z"
   },
   {
    "duration": 779,
    "start_time": "2024-08-27T02:12:02.358Z"
   },
   {
    "duration": 136,
    "start_time": "2024-08-27T02:12:03.142Z"
   },
   {
    "duration": 974,
    "start_time": "2024-08-27T02:12:03.281Z"
   },
   {
    "duration": 194,
    "start_time": "2024-08-27T02:12:04.258Z"
   },
   {
    "duration": 192,
    "start_time": "2024-08-27T02:13:55.237Z"
   },
   {
    "duration": 311,
    "start_time": "2024-08-27T02:18:18.797Z"
   },
   {
    "duration": 1363,
    "start_time": "2024-08-27T02:18:26.242Z"
   },
   {
    "duration": 928,
    "start_time": "2024-08-27T02:18:27.609Z"
   },
   {
    "duration": 156,
    "start_time": "2024-08-27T02:18:28.540Z"
   },
   {
    "duration": 139,
    "start_time": "2024-08-27T02:18:28.701Z"
   },
   {
    "duration": 202,
    "start_time": "2024-08-27T02:18:28.843Z"
   },
   {
    "duration": 256,
    "start_time": "2024-08-27T02:18:29.048Z"
   },
   {
    "duration": 368,
    "start_time": "2024-08-27T02:18:29.307Z"
   },
   {
    "duration": 783,
    "start_time": "2024-08-27T02:18:29.678Z"
   },
   {
    "duration": 116,
    "start_time": "2024-08-27T02:18:30.463Z"
   },
   {
    "duration": 337,
    "start_time": "2024-08-27T02:18:30.583Z"
   },
   {
    "duration": 115,
    "start_time": "2024-08-27T02:18:30.923Z"
   },
   {
    "duration": 415,
    "start_time": "2024-08-27T02:18:31.042Z"
   },
   {
    "duration": 441,
    "start_time": "2024-08-27T02:19:14.042Z"
   },
   {
    "duration": 1743,
    "start_time": "2024-08-27T02:19:37.619Z"
   },
   {
    "duration": 1546,
    "start_time": "2024-08-27T02:20:00.458Z"
   },
   {
    "duration": 475,
    "start_time": "2024-08-27T02:21:13.781Z"
   },
   {
    "duration": 8,
    "start_time": "2024-08-27T02:21:17.984Z"
   },
   {
    "duration": 488,
    "start_time": "2024-08-27T02:21:29.754Z"
   },
   {
    "duration": 105,
    "start_time": "2024-08-27T02:21:50.307Z"
   },
   {
    "duration": 261,
    "start_time": "2024-08-27T02:21:50.418Z"
   },
   {
    "duration": 406,
    "start_time": "2024-08-27T02:22:17.726Z"
   },
   {
    "duration": 325,
    "start_time": "2024-08-27T02:23:43.222Z"
   },
   {
    "duration": 356,
    "start_time": "2024-08-27T02:23:56.982Z"
   },
   {
    "duration": 383,
    "start_time": "2024-08-27T02:24:18.454Z"
   },
   {
    "duration": 358,
    "start_time": "2024-08-27T02:24:36.988Z"
   },
   {
    "duration": 269,
    "start_time": "2024-08-27T02:25:07.786Z"
   },
   {
    "duration": 4,
    "start_time": "2024-08-27T02:27:41.490Z"
   },
   {
    "duration": 42821,
    "start_time": "2024-08-27T02:40:12.003Z"
   },
   {
    "duration": 69672,
    "start_time": "2024-08-27T02:41:09.786Z"
   },
   {
    "duration": 69407,
    "start_time": "2024-08-27T02:43:08.259Z"
   },
   {
    "duration": 159,
    "start_time": "2024-08-27T02:44:55.364Z"
   },
   {
    "duration": 69487,
    "start_time": "2024-08-27T02:45:04.764Z"
   },
   {
    "duration": 72244,
    "start_time": "2024-08-27T02:50:33.043Z"
   },
   {
    "duration": 1425,
    "start_time": "2024-08-27T07:32:33.901Z"
   },
   {
    "duration": 1092,
    "start_time": "2024-08-27T07:32:35.330Z"
   },
   {
    "duration": 157,
    "start_time": "2024-08-27T07:32:36.426Z"
   },
   {
    "duration": 193,
    "start_time": "2024-08-27T07:32:36.587Z"
   },
   {
    "duration": 216,
    "start_time": "2024-08-27T07:32:36.783Z"
   },
   {
    "duration": 289,
    "start_time": "2024-08-27T07:32:37.002Z"
   },
   {
    "duration": 411,
    "start_time": "2024-08-27T07:32:37.294Z"
   },
   {
    "duration": 818,
    "start_time": "2024-08-27T07:32:37.709Z"
   },
   {
    "duration": 127,
    "start_time": "2024-08-27T07:32:38.531Z"
   },
   {
    "duration": 345,
    "start_time": "2024-08-27T07:32:38.663Z"
   },
   {
    "duration": 119,
    "start_time": "2024-08-27T07:32:39.011Z"
   },
   {
    "duration": 482,
    "start_time": "2024-08-27T07:32:39.134Z"
   },
   {
    "duration": 499,
    "start_time": "2024-08-27T07:32:39.619Z"
   },
   {
    "duration": 130,
    "start_time": "2024-08-27T07:32:40.121Z"
   },
   {
    "duration": 268,
    "start_time": "2024-08-27T07:32:40.259Z"
   },
   {
    "duration": 341,
    "start_time": "2024-08-27T07:32:44.137Z"
   },
   {
    "duration": 269,
    "start_time": "2024-08-27T07:32:47.285Z"
   },
   {
    "duration": 68773,
    "start_time": "2024-08-27T07:32:52.573Z"
   },
   {
    "duration": 29745,
    "start_time": "2024-08-27T07:34:01.358Z"
   },
   {
    "duration": 22749,
    "start_time": "2024-08-27T07:34:59.609Z"
   },
   {
    "duration": 923,
    "start_time": "2024-08-27T07:38:01.467Z"
   },
   {
    "duration": 541,
    "start_time": "2024-08-27T07:38:02.393Z"
   },
   {
    "duration": 98,
    "start_time": "2024-08-27T07:38:02.936Z"
   },
   {
    "duration": 85,
    "start_time": "2024-08-27T07:38:03.038Z"
   },
   {
    "duration": 122,
    "start_time": "2024-08-27T07:38:03.125Z"
   },
   {
    "duration": 159,
    "start_time": "2024-08-27T07:38:03.249Z"
   },
   {
    "duration": 189,
    "start_time": "2024-08-27T07:38:03.410Z"
   },
   {
    "duration": 391,
    "start_time": "2024-08-27T07:38:03.600Z"
   },
   {
    "duration": 56,
    "start_time": "2024-08-27T07:38:03.993Z"
   },
   {
    "duration": 182,
    "start_time": "2024-08-27T07:38:04.052Z"
   },
   {
    "duration": 65,
    "start_time": "2024-08-27T07:38:04.236Z"
   },
   {
    "duration": 229,
    "start_time": "2024-08-27T07:38:04.302Z"
   },
   {
    "duration": 237,
    "start_time": "2024-08-27T07:38:04.533Z"
   },
   {
    "duration": 72,
    "start_time": "2024-08-27T07:38:04.772Z"
   },
   {
    "duration": 154,
    "start_time": "2024-08-27T07:38:04.846Z"
   },
   {
    "duration": 179,
    "start_time": "2024-08-27T07:38:05.002Z"
   },
   {
    "duration": 27932,
    "start_time": "2024-08-27T07:38:05.183Z"
   },
   {
    "duration": 42202,
    "start_time": "2024-08-27T07:38:33.116Z"
   },
   {
    "duration": 89781,
    "start_time": "2024-08-27T07:39:15.321Z"
   },
   {
    "duration": 26212,
    "start_time": "2024-08-27T07:40:45.105Z"
   },
   {
    "duration": 45,
    "start_time": "2024-08-27T07:41:11.319Z"
   },
   {
    "duration": 30,
    "start_time": "2024-08-27T07:41:11.366Z"
   },
   {
    "duration": 29,
    "start_time": "2024-08-27T07:41:11.398Z"
   },
   {
    "duration": 254,
    "start_time": "2024-08-27T07:41:11.429Z"
   },
   {
    "duration": 16,
    "start_time": "2024-08-27T07:44:50.531Z"
   },
   {
    "duration": 11920,
    "start_time": "2024-08-27T07:45:18.117Z"
   },
   {
    "duration": 102863,
    "start_time": "2024-08-27T07:50:55.938Z"
   },
   {
    "duration": 890,
    "start_time": "2024-08-27T07:54:17.375Z"
   },
   {
    "duration": 500,
    "start_time": "2024-08-27T07:54:18.270Z"
   },
   {
    "duration": 88,
    "start_time": "2024-08-27T07:54:18.772Z"
   },
   {
    "duration": 84,
    "start_time": "2024-08-27T07:54:18.870Z"
   },
   {
    "duration": 125,
    "start_time": "2024-08-27T07:54:18.956Z"
   },
   {
    "duration": 157,
    "start_time": "2024-08-27T07:54:19.083Z"
   },
   {
    "duration": 192,
    "start_time": "2024-08-27T07:54:19.242Z"
   },
   {
    "duration": 392,
    "start_time": "2024-08-27T07:54:19.436Z"
   },
   {
    "duration": 63,
    "start_time": "2024-08-27T07:54:19.830Z"
   },
   {
    "duration": 179,
    "start_time": "2024-08-27T07:54:19.895Z"
   },
   {
    "duration": 57,
    "start_time": "2024-08-27T07:54:20.075Z"
   },
   {
    "duration": 238,
    "start_time": "2024-08-27T07:54:20.134Z"
   },
   {
    "duration": 235,
    "start_time": "2024-08-27T07:54:20.374Z"
   },
   {
    "duration": 77,
    "start_time": "2024-08-27T07:54:20.612Z"
   },
   {
    "duration": 150,
    "start_time": "2024-08-27T07:54:20.691Z"
   },
   {
    "duration": 136,
    "start_time": "2024-08-27T07:54:20.843Z"
   },
   {
    "duration": 38081,
    "start_time": "2024-08-27T07:54:20.981Z"
   },
   {
    "duration": 10239533,
    "start_time": "2024-08-27T07:54:59.063Z"
   },
   {
    "duration": 1649381,
    "start_time": "2024-08-27T10:45:38.598Z"
   },
   {
    "duration": 6924314,
    "start_time": "2024-08-27T11:13:07.981Z"
   },
   {
    "duration": 11,
    "start_time": "2024-08-27T13:08:32.297Z"
   },
   {
    "duration": 597,
    "start_time": "2024-08-27T13:08:32.310Z"
   },
   {
    "duration": 264,
    "start_time": "2024-08-27T13:08:32.909Z"
   },
   {
    "duration": 297,
    "start_time": "2024-08-27T13:08:33.175Z"
   },
   {
    "duration": 292,
    "start_time": "2024-08-27T21:23:15.800Z"
   },
   {
    "duration": 24,
    "start_time": "2024-08-27T21:23:27.103Z"
   },
   {
    "duration": 398,
    "start_time": "2024-08-27T21:23:34.681Z"
   },
   {
    "duration": 63,
    "start_time": "2024-08-27T21:31:20.472Z"
   },
   {
    "duration": 3578,
    "start_time": "2024-08-27T21:32:20.815Z"
   },
   {
    "duration": 38066,
    "start_time": "2024-08-27T21:32:45.120Z"
   },
   {
    "duration": 9,
    "start_time": "2024-08-27T21:34:08.838Z"
   },
   {
    "duration": 6,
    "start_time": "2024-08-27T21:34:15.948Z"
   },
   {
    "duration": 219,
    "start_time": "2024-08-27T21:39:03.639Z"
   },
   {
    "duration": 242,
    "start_time": "2024-08-27T21:39:03.861Z"
   },
   {
    "duration": 1289,
    "start_time": "2024-08-27T21:54:17.785Z"
   },
   {
    "duration": 1317,
    "start_time": "2024-08-27T21:54:36.566Z"
   },
   {
    "duration": 38249,
    "start_time": "2024-08-27T21:56:11.662Z"
   },
   {
    "duration": 1373,
    "start_time": "2024-08-27T22:01:20.901Z"
   },
   {
    "duration": 884,
    "start_time": "2024-08-27T22:09:32.093Z"
   },
   {
    "duration": 494,
    "start_time": "2024-08-27T22:09:32.980Z"
   },
   {
    "duration": 96,
    "start_time": "2024-08-27T22:09:33.476Z"
   },
   {
    "duration": 77,
    "start_time": "2024-08-27T22:09:33.574Z"
   },
   {
    "duration": 130,
    "start_time": "2024-08-27T22:09:33.654Z"
   },
   {
    "duration": 158,
    "start_time": "2024-08-27T22:09:33.786Z"
   },
   {
    "duration": 207,
    "start_time": "2024-08-27T22:09:33.946Z"
   },
   {
    "duration": 427,
    "start_time": "2024-08-27T22:09:34.154Z"
   },
   {
    "duration": 56,
    "start_time": "2024-08-27T22:09:34.583Z"
   },
   {
    "duration": 179,
    "start_time": "2024-08-27T22:09:34.641Z"
   },
   {
    "duration": 67,
    "start_time": "2024-08-27T22:09:34.821Z"
   },
   {
    "duration": 229,
    "start_time": "2024-08-27T22:09:34.889Z"
   },
   {
    "duration": 245,
    "start_time": "2024-08-27T22:09:35.120Z"
   },
   {
    "duration": 151,
    "start_time": "2024-08-27T22:09:35.369Z"
   },
   {
    "duration": 1270,
    "start_time": "2024-08-27T22:09:35.523Z"
   },
   {
    "duration": 38548,
    "start_time": "2024-08-27T22:09:36.794Z"
   },
   {
    "duration": 2682933,
    "start_time": "2024-08-27T22:10:15.345Z"
   },
   {
    "duration": 1650806,
    "start_time": "2024-08-27T22:54:58.280Z"
   },
   {
    "duration": 1089225,
    "start_time": "2024-08-27T23:22:29.088Z"
   },
   {
    "duration": 0,
    "start_time": "2024-08-27T23:40:38.315Z"
   },
   {
    "duration": 0,
    "start_time": "2024-08-27T23:40:38.317Z"
   },
   {
    "duration": 0,
    "start_time": "2024-08-27T23:40:38.318Z"
   },
   {
    "duration": 0,
    "start_time": "2024-08-27T23:40:38.319Z"
   },
   {
    "duration": 0,
    "start_time": "2024-08-27T23:40:38.320Z"
   },
   {
    "duration": 47877,
    "start_time": "2024-08-27T23:40:58.338Z"
   },
   {
    "duration": 134016,
    "start_time": "2024-08-27T23:41:58.795Z"
   },
   {
    "duration": 868,
    "start_time": "2024-08-27T23:56:01.900Z"
   },
   {
    "duration": 494,
    "start_time": "2024-08-27T23:56:02.770Z"
   },
   {
    "duration": 89,
    "start_time": "2024-08-27T23:56:03.266Z"
   },
   {
    "duration": 92,
    "start_time": "2024-08-27T23:56:03.357Z"
   },
   {
    "duration": 121,
    "start_time": "2024-08-27T23:56:03.452Z"
   },
   {
    "duration": 161,
    "start_time": "2024-08-27T23:56:03.576Z"
   },
   {
    "duration": 203,
    "start_time": "2024-08-27T23:56:03.739Z"
   },
   {
    "duration": 448,
    "start_time": "2024-08-27T23:56:03.943Z"
   },
   {
    "duration": 57,
    "start_time": "2024-08-27T23:56:04.393Z"
   },
   {
    "duration": 177,
    "start_time": "2024-08-27T23:56:04.452Z"
   },
   {
    "duration": 65,
    "start_time": "2024-08-27T23:56:04.631Z"
   },
   {
    "duration": 236,
    "start_time": "2024-08-27T23:56:04.698Z"
   },
   {
    "duration": 245,
    "start_time": "2024-08-27T23:56:04.936Z"
   },
   {
    "duration": 161,
    "start_time": "2024-08-27T23:56:05.185Z"
   },
   {
    "duration": 2436,
    "start_time": "2024-08-27T23:56:05.348Z"
   },
   {
    "duration": 38323,
    "start_time": "2024-08-27T23:56:07.787Z"
   },
   {
    "duration": 1794644,
    "start_time": "2024-08-27T23:56:46.112Z"
   },
   {
    "duration": 189723,
    "start_time": "2024-08-28T00:26:40.758Z"
   },
   {
    "duration": 143496,
    "start_time": "2024-08-28T00:29:50.483Z"
   },
   {
    "duration": 13,
    "start_time": "2024-08-28T00:32:13.981Z"
   },
   {
    "duration": 78,
    "start_time": "2024-08-28T00:32:13.997Z"
   },
   {
    "duration": 656,
    "start_time": "2024-08-28T00:32:14.080Z"
   },
   {
    "duration": 339,
    "start_time": "2024-08-28T00:32:14.739Z"
   },
   {
    "duration": 299,
    "start_time": "2024-08-28T00:32:15.081Z"
   }
  ],
  "kernelspec": {
   "display_name": "base",
   "language": "python",
   "name": "python3"
  },
  "language_info": {
   "codemirror_mode": {
    "name": "ipython",
    "version": 3
   },
   "file_extension": ".py",
   "mimetype": "text/x-python",
   "name": "python",
   "nbconvert_exporter": "python",
   "pygments_lexer": "ipython3",
   "version": "3.12.7"
  },
  "toc": {
   "base_numbering": 1,
   "nav_menu": {
    "height": "122px",
    "width": "179px"
   },
   "number_sections": true,
   "sideBar": true,
   "skip_h1_title": true,
   "title_cell": "Table of Contents",
   "title_sidebar": "Contents",
   "toc_cell": false,
   "toc_position": {
    "height": "calc(100% - 180px)",
    "left": "10px",
    "top": "150px",
    "width": "165px"
   },
   "toc_section_display": true,
   "toc_window_display": false
  }
 },
 "nbformat": 4,
 "nbformat_minor": 2
}
