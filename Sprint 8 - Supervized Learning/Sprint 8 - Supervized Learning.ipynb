{
 "cells": [
  {
   "cell_type": "markdown",
   "metadata": {},
   "source": [
    "# Supervised Learning Project\n",
    "***\n",
    "In this project we will be building a machine learning model to assist Beta Bank predict which of its customers might leave the insitution. In order to do that we will import info supplied by Beta Bank about customers who both have and have not left the bank for us to train and test models in order to make the best predictions possible.\n",
    "\n",
    "We will test the F1 Score and the final test will have a minimum standard score of 0.59. Once the final model has passed the test, it's Receiver Operating Characteristic(ROC) Curve will be drawn and the AUC ROC metric will be calculated to ensure the accuracy of the model."
   ]
  },
  {
   "cell_type": "code",
   "execution_count": 1,
   "metadata": {},
   "outputs": [],
   "source": [
    "# Importing libraries\n",
    "import numpy as np\n",
    "import pandas as pd\n",
    "import matplotlib.pyplot as plt\n",
    "from sklearn.preprocessing import OrdinalEncoder, StandardScaler\n",
    "from sklearn.model_selection import train_test_split\n",
    "from sklearn.tree import DecisionTreeClassifier\n",
    "from sklearn.ensemble import RandomForestClassifier\n",
    "from sklearn.linear_model import LogisticRegression\n",
    "from sklearn.utils import shuffle\n",
    "from sklearn.metrics import f1_score, roc_curve, roc_auc_score"
   ]
  },
  {
   "cell_type": "markdown",
   "metadata": {},
   "source": [
    "## Loading Data\n",
    "\n",
    "Reading the data into a pandas DataFrame from `/datasets/Churn.csv`.\n",
    "\n",
    "Then displaying basic info and a sample of the dataset."
   ]
  },
  {
   "cell_type": "code",
   "execution_count": 2,
   "metadata": {
    "scrolled": false
   },
   "outputs": [
    {
     "name": "stdout",
     "output_type": "stream",
     "text": [
      "<class 'pandas.core.frame.DataFrame'>\n",
      "RangeIndex: 10000 entries, 0 to 9999\n",
      "Data columns (total 14 columns):\n",
      " #   Column           Non-Null Count  Dtype  \n",
      "---  ------           --------------  -----  \n",
      " 0   RowNumber        10000 non-null  int64  \n",
      " 1   CustomerId       10000 non-null  int64  \n",
      " 2   Surname          10000 non-null  object \n",
      " 3   CreditScore      10000 non-null  int64  \n",
      " 4   Geography        10000 non-null  object \n",
      " 5   Gender           10000 non-null  object \n",
      " 6   Age              10000 non-null  int64  \n",
      " 7   Tenure           9091 non-null   float64\n",
      " 8   Balance          10000 non-null  float64\n",
      " 9   NumOfProducts    10000 non-null  int64  \n",
      " 10  HasCrCard        10000 non-null  int64  \n",
      " 11  IsActiveMember   10000 non-null  int64  \n",
      " 12  EstimatedSalary  10000 non-null  float64\n",
      " 13  Exited           10000 non-null  int64  \n",
      "dtypes: float64(3), int64(8), object(3)\n",
      "memory usage: 1.1+ MB\n"
     ]
    },
    {
     "data": {
      "text/html": [
       "<div>\n",
       "<style scoped>\n",
       "    .dataframe tbody tr th:only-of-type {\n",
       "        vertical-align: middle;\n",
       "    }\n",
       "\n",
       "    .dataframe tbody tr th {\n",
       "        vertical-align: top;\n",
       "    }\n",
       "\n",
       "    .dataframe thead th {\n",
       "        text-align: right;\n",
       "    }\n",
       "</style>\n",
       "<table border=\"1\" class=\"dataframe\">\n",
       "  <thead>\n",
       "    <tr style=\"text-align: right;\">\n",
       "      <th></th>\n",
       "      <th>RowNumber</th>\n",
       "      <th>CustomerId</th>\n",
       "      <th>Surname</th>\n",
       "      <th>CreditScore</th>\n",
       "      <th>Geography</th>\n",
       "      <th>Gender</th>\n",
       "      <th>Age</th>\n",
       "      <th>Tenure</th>\n",
       "      <th>Balance</th>\n",
       "      <th>NumOfProducts</th>\n",
       "      <th>HasCrCard</th>\n",
       "      <th>IsActiveMember</th>\n",
       "      <th>EstimatedSalary</th>\n",
       "      <th>Exited</th>\n",
       "    </tr>\n",
       "  </thead>\n",
       "  <tbody>\n",
       "    <tr>\n",
       "      <th>0</th>\n",
       "      <td>1</td>\n",
       "      <td>15634602</td>\n",
       "      <td>Hargrave</td>\n",
       "      <td>619</td>\n",
       "      <td>France</td>\n",
       "      <td>Female</td>\n",
       "      <td>42</td>\n",
       "      <td>2.0</td>\n",
       "      <td>0.00</td>\n",
       "      <td>1</td>\n",
       "      <td>1</td>\n",
       "      <td>1</td>\n",
       "      <td>101348.88</td>\n",
       "      <td>1</td>\n",
       "    </tr>\n",
       "    <tr>\n",
       "      <th>1</th>\n",
       "      <td>2</td>\n",
       "      <td>15647311</td>\n",
       "      <td>Hill</td>\n",
       "      <td>608</td>\n",
       "      <td>Spain</td>\n",
       "      <td>Female</td>\n",
       "      <td>41</td>\n",
       "      <td>1.0</td>\n",
       "      <td>83807.86</td>\n",
       "      <td>1</td>\n",
       "      <td>0</td>\n",
       "      <td>1</td>\n",
       "      <td>112542.58</td>\n",
       "      <td>0</td>\n",
       "    </tr>\n",
       "    <tr>\n",
       "      <th>2</th>\n",
       "      <td>3</td>\n",
       "      <td>15619304</td>\n",
       "      <td>Onio</td>\n",
       "      <td>502</td>\n",
       "      <td>France</td>\n",
       "      <td>Female</td>\n",
       "      <td>42</td>\n",
       "      <td>8.0</td>\n",
       "      <td>159660.80</td>\n",
       "      <td>3</td>\n",
       "      <td>1</td>\n",
       "      <td>0</td>\n",
       "      <td>113931.57</td>\n",
       "      <td>1</td>\n",
       "    </tr>\n",
       "    <tr>\n",
       "      <th>3</th>\n",
       "      <td>4</td>\n",
       "      <td>15701354</td>\n",
       "      <td>Boni</td>\n",
       "      <td>699</td>\n",
       "      <td>France</td>\n",
       "      <td>Female</td>\n",
       "      <td>39</td>\n",
       "      <td>1.0</td>\n",
       "      <td>0.00</td>\n",
       "      <td>2</td>\n",
       "      <td>0</td>\n",
       "      <td>0</td>\n",
       "      <td>93826.63</td>\n",
       "      <td>0</td>\n",
       "    </tr>\n",
       "    <tr>\n",
       "      <th>4</th>\n",
       "      <td>5</td>\n",
       "      <td>15737888</td>\n",
       "      <td>Mitchell</td>\n",
       "      <td>850</td>\n",
       "      <td>Spain</td>\n",
       "      <td>Female</td>\n",
       "      <td>43</td>\n",
       "      <td>2.0</td>\n",
       "      <td>125510.82</td>\n",
       "      <td>1</td>\n",
       "      <td>1</td>\n",
       "      <td>1</td>\n",
       "      <td>79084.10</td>\n",
       "      <td>0</td>\n",
       "    </tr>\n",
       "    <tr>\n",
       "      <th>5</th>\n",
       "      <td>6</td>\n",
       "      <td>15574012</td>\n",
       "      <td>Chu</td>\n",
       "      <td>645</td>\n",
       "      <td>Spain</td>\n",
       "      <td>Male</td>\n",
       "      <td>44</td>\n",
       "      <td>8.0</td>\n",
       "      <td>113755.78</td>\n",
       "      <td>2</td>\n",
       "      <td>1</td>\n",
       "      <td>0</td>\n",
       "      <td>149756.71</td>\n",
       "      <td>1</td>\n",
       "    </tr>\n",
       "    <tr>\n",
       "      <th>6</th>\n",
       "      <td>7</td>\n",
       "      <td>15592531</td>\n",
       "      <td>Bartlett</td>\n",
       "      <td>822</td>\n",
       "      <td>France</td>\n",
       "      <td>Male</td>\n",
       "      <td>50</td>\n",
       "      <td>7.0</td>\n",
       "      <td>0.00</td>\n",
       "      <td>2</td>\n",
       "      <td>1</td>\n",
       "      <td>1</td>\n",
       "      <td>10062.80</td>\n",
       "      <td>0</td>\n",
       "    </tr>\n",
       "    <tr>\n",
       "      <th>7</th>\n",
       "      <td>8</td>\n",
       "      <td>15656148</td>\n",
       "      <td>Obinna</td>\n",
       "      <td>376</td>\n",
       "      <td>Germany</td>\n",
       "      <td>Female</td>\n",
       "      <td>29</td>\n",
       "      <td>4.0</td>\n",
       "      <td>115046.74</td>\n",
       "      <td>4</td>\n",
       "      <td>1</td>\n",
       "      <td>0</td>\n",
       "      <td>119346.88</td>\n",
       "      <td>1</td>\n",
       "    </tr>\n",
       "    <tr>\n",
       "      <th>8</th>\n",
       "      <td>9</td>\n",
       "      <td>15792365</td>\n",
       "      <td>He</td>\n",
       "      <td>501</td>\n",
       "      <td>France</td>\n",
       "      <td>Male</td>\n",
       "      <td>44</td>\n",
       "      <td>4.0</td>\n",
       "      <td>142051.07</td>\n",
       "      <td>2</td>\n",
       "      <td>0</td>\n",
       "      <td>1</td>\n",
       "      <td>74940.50</td>\n",
       "      <td>0</td>\n",
       "    </tr>\n",
       "    <tr>\n",
       "      <th>9</th>\n",
       "      <td>10</td>\n",
       "      <td>15592389</td>\n",
       "      <td>H?</td>\n",
       "      <td>684</td>\n",
       "      <td>France</td>\n",
       "      <td>Male</td>\n",
       "      <td>27</td>\n",
       "      <td>2.0</td>\n",
       "      <td>134603.88</td>\n",
       "      <td>1</td>\n",
       "      <td>1</td>\n",
       "      <td>1</td>\n",
       "      <td>71725.73</td>\n",
       "      <td>0</td>\n",
       "    </tr>\n",
       "  </tbody>\n",
       "</table>\n",
       "</div>"
      ],
      "text/plain": [
       "   RowNumber  CustomerId   Surname  CreditScore Geography  Gender  Age  \\\n",
       "0          1    15634602  Hargrave          619    France  Female   42   \n",
       "1          2    15647311      Hill          608     Spain  Female   41   \n",
       "2          3    15619304      Onio          502    France  Female   42   \n",
       "3          4    15701354      Boni          699    France  Female   39   \n",
       "4          5    15737888  Mitchell          850     Spain  Female   43   \n",
       "5          6    15574012       Chu          645     Spain    Male   44   \n",
       "6          7    15592531  Bartlett          822    France    Male   50   \n",
       "7          8    15656148    Obinna          376   Germany  Female   29   \n",
       "8          9    15792365        He          501    France    Male   44   \n",
       "9         10    15592389        H?          684    France    Male   27   \n",
       "\n",
       "   Tenure    Balance  NumOfProducts  HasCrCard  IsActiveMember  \\\n",
       "0     2.0       0.00              1          1               1   \n",
       "1     1.0   83807.86              1          0               1   \n",
       "2     8.0  159660.80              3          1               0   \n",
       "3     1.0       0.00              2          0               0   \n",
       "4     2.0  125510.82              1          1               1   \n",
       "5     8.0  113755.78              2          1               0   \n",
       "6     7.0       0.00              2          1               1   \n",
       "7     4.0  115046.74              4          1               0   \n",
       "8     4.0  142051.07              2          0               1   \n",
       "9     2.0  134603.88              1          1               1   \n",
       "\n",
       "   EstimatedSalary  Exited  \n",
       "0        101348.88       1  \n",
       "1        112542.58       0  \n",
       "2        113931.57       1  \n",
       "3         93826.63       0  \n",
       "4         79084.10       0  \n",
       "5        149756.71       1  \n",
       "6         10062.80       0  \n",
       "7        119346.88       1  \n",
       "8         74940.50       0  \n",
       "9         71725.73       0  "
      ]
     },
     "execution_count": 2,
     "metadata": {},
     "output_type": "execute_result"
    }
   ],
   "source": [
    "# Loading data\n",
    "data = pd.read_csv('Churn.csv')\n",
    "data.info()\n",
    "data.head(10)"
   ]
  },
  {
   "cell_type": "markdown",
   "metadata": {},
   "source": [
    "The table has 10000 rows and 15 columns that contain all the feature and target data that will be used to train, validate and test the model.\n",
    "\n",
    "**Feature Data:**\n",
    "- `RowNumber` — data string index\n",
    "- `CustomerId` — unique customer identifier\n",
    "- `Surname` — customer's surname\n",
    "- `CreditScore` — credit score\n",
    "- `Geography` — country of residence (`Spain`, `France`, `Germany`) \n",
    "- `Gender` — gender (`Male`, `Female`)\n",
    "- `Age` — age \n",
    "- `Tenure` — period of maturation for a customer’s fixed deposit (years)\n",
    "- `Balance` — account balance\n",
    "- `NumOfProducts` — number of banking products used by the customer\n",
    "- `HasCrCard` — customer has a credit card (Boolean)\n",
    "- `IsActiveMember` — customer’s activeness (Boolean)\n",
    "- `EstimatedSalary` — estimated salary\n",
    "\n",
    "**Target Data:**\n",
    "- `Exited` — сustomer has left (Boolean)\n",
    "\n",
    "Columns will be edited for readability."
   ]
  },
  {
   "cell_type": "code",
   "execution_count": 3,
   "metadata": {},
   "outputs": [
    {
     "data": {
      "text/plain": [
       "Index(['row_number', 'customer_id', 'surname', 'credit_score', 'geography',\n",
       "       'gender', 'age', 'tenure', 'balance', 'num_of_products', 'has_cr_card',\n",
       "       'is_active_member', 'estimated_salary', 'exited'],\n",
       "      dtype='object')"
      ]
     },
     "execution_count": 3,
     "metadata": {},
     "output_type": "execute_result"
    }
   ],
   "source": [
    "# Editing columns\n",
    "data.columns = ['row_number',\n",
    "                'customer_id',\n",
    "                'surname',\n",
    "                'credit_score',\n",
    "                'geography',\n",
    "                'gender',\n",
    "                'age',\n",
    "                'tenure',\n",
    "                'balance',\n",
    "                'num_of_products',\n",
    "                'has_cr_card',\n",
    "                'is_active_member',\n",
    "                'estimated_salary',\n",
    "                'exited']\n",
    "data.columns"
   ]
  },
  {
   "cell_type": "markdown",
   "metadata": {},
   "source": [
    "## Missing Values\n",
    "\n",
    "The models cannot handle NaN values so missing values in the `tenure` column will be filled in with the median value for the column."
   ]
  },
  {
   "cell_type": "code",
   "execution_count": 4,
   "metadata": {
    "scrolled": false
   },
   "outputs": [
    {
     "data": {
      "text/plain": [
       "909"
      ]
     },
     "metadata": {},
     "output_type": "display_data"
    },
    {
     "data": {
      "text/plain": [
       "tenure\n",
       "5.0     1836\n",
       "1.0      952\n",
       "2.0      950\n",
       "8.0      933\n",
       "3.0      928\n",
       "7.0      925\n",
       "4.0      885\n",
       "9.0      882\n",
       "6.0      881\n",
       "10.0     446\n",
       "0.0      382\n",
       "Name: count, dtype: int64"
      ]
     },
     "execution_count": 4,
     "metadata": {},
     "output_type": "execute_result"
    }
   ],
   "source": [
    "# Checking missing values\n",
    "display(data['tenure'].isna().sum())\n",
    "\n",
    "# Filling missing values\n",
    "data['tenure'] = data['tenure'].fillna(data['tenure'].median())\n",
    "data['tenure'].value_counts(dropna=False)"
   ]
  },
  {
   "cell_type": "markdown",
   "metadata": {},
   "source": [
    "## Duplicated Values\n",
    "\n",
    "Checking for duplicate values in the whole dataset and the `customer_id` column to ensure accuracy of the dataset."
   ]
  },
  {
   "cell_type": "code",
   "execution_count": 5,
   "metadata": {},
   "outputs": [
    {
     "data": {
      "text/plain": [
       "0"
      ]
     },
     "metadata": {},
     "output_type": "display_data"
    },
    {
     "data": {
      "text/plain": [
       "0"
      ]
     },
     "execution_count": 5,
     "metadata": {},
     "output_type": "execute_result"
    }
   ],
   "source": [
    "# Checking for duplicate values\n",
    "display(data.duplicated().sum())\n",
    "data['customer_id'].duplicated().sum()"
   ]
  },
  {
   "cell_type": "markdown",
   "metadata": {},
   "source": [
    "## Preparing Data for Models\n",
    "\n",
    "The models cannot read string data so One-Hot Encoding will be used for the `Gender` column setting the `drop_first` argument to True to avoid the dummy trap. "
   ]
  },
  {
   "cell_type": "code",
   "execution_count": 6,
   "metadata": {},
   "outputs": [
    {
     "data": {
      "text/html": [
       "<div>\n",
       "<style scoped>\n",
       "    .dataframe tbody tr th:only-of-type {\n",
       "        vertical-align: middle;\n",
       "    }\n",
       "\n",
       "    .dataframe tbody tr th {\n",
       "        vertical-align: top;\n",
       "    }\n",
       "\n",
       "    .dataframe thead th {\n",
       "        text-align: right;\n",
       "    }\n",
       "</style>\n",
       "<table border=\"1\" class=\"dataframe\">\n",
       "  <thead>\n",
       "    <tr style=\"text-align: right;\">\n",
       "      <th></th>\n",
       "      <th>row_number</th>\n",
       "      <th>customer_id</th>\n",
       "      <th>surname</th>\n",
       "      <th>credit_score</th>\n",
       "      <th>geography</th>\n",
       "      <th>age</th>\n",
       "      <th>tenure</th>\n",
       "      <th>balance</th>\n",
       "      <th>num_of_products</th>\n",
       "      <th>has_cr_card</th>\n",
       "      <th>is_active_member</th>\n",
       "      <th>estimated_salary</th>\n",
       "      <th>exited</th>\n",
       "      <th>gender_Male</th>\n",
       "    </tr>\n",
       "  </thead>\n",
       "  <tbody>\n",
       "    <tr>\n",
       "      <th>0</th>\n",
       "      <td>1</td>\n",
       "      <td>15634602</td>\n",
       "      <td>Hargrave</td>\n",
       "      <td>619</td>\n",
       "      <td>France</td>\n",
       "      <td>42</td>\n",
       "      <td>2.0</td>\n",
       "      <td>0.00</td>\n",
       "      <td>1</td>\n",
       "      <td>1</td>\n",
       "      <td>1</td>\n",
       "      <td>101348.88</td>\n",
       "      <td>1</td>\n",
       "      <td>False</td>\n",
       "    </tr>\n",
       "    <tr>\n",
       "      <th>1</th>\n",
       "      <td>2</td>\n",
       "      <td>15647311</td>\n",
       "      <td>Hill</td>\n",
       "      <td>608</td>\n",
       "      <td>Spain</td>\n",
       "      <td>41</td>\n",
       "      <td>1.0</td>\n",
       "      <td>83807.86</td>\n",
       "      <td>1</td>\n",
       "      <td>0</td>\n",
       "      <td>1</td>\n",
       "      <td>112542.58</td>\n",
       "      <td>0</td>\n",
       "      <td>False</td>\n",
       "    </tr>\n",
       "    <tr>\n",
       "      <th>2</th>\n",
       "      <td>3</td>\n",
       "      <td>15619304</td>\n",
       "      <td>Onio</td>\n",
       "      <td>502</td>\n",
       "      <td>France</td>\n",
       "      <td>42</td>\n",
       "      <td>8.0</td>\n",
       "      <td>159660.80</td>\n",
       "      <td>3</td>\n",
       "      <td>1</td>\n",
       "      <td>0</td>\n",
       "      <td>113931.57</td>\n",
       "      <td>1</td>\n",
       "      <td>False</td>\n",
       "    </tr>\n",
       "    <tr>\n",
       "      <th>3</th>\n",
       "      <td>4</td>\n",
       "      <td>15701354</td>\n",
       "      <td>Boni</td>\n",
       "      <td>699</td>\n",
       "      <td>France</td>\n",
       "      <td>39</td>\n",
       "      <td>1.0</td>\n",
       "      <td>0.00</td>\n",
       "      <td>2</td>\n",
       "      <td>0</td>\n",
       "      <td>0</td>\n",
       "      <td>93826.63</td>\n",
       "      <td>0</td>\n",
       "      <td>False</td>\n",
       "    </tr>\n",
       "    <tr>\n",
       "      <th>4</th>\n",
       "      <td>5</td>\n",
       "      <td>15737888</td>\n",
       "      <td>Mitchell</td>\n",
       "      <td>850</td>\n",
       "      <td>Spain</td>\n",
       "      <td>43</td>\n",
       "      <td>2.0</td>\n",
       "      <td>125510.82</td>\n",
       "      <td>1</td>\n",
       "      <td>1</td>\n",
       "      <td>1</td>\n",
       "      <td>79084.10</td>\n",
       "      <td>0</td>\n",
       "      <td>False</td>\n",
       "    </tr>\n",
       "  </tbody>\n",
       "</table>\n",
       "</div>"
      ],
      "text/plain": [
       "   row_number  customer_id   surname  credit_score geography  age  tenure  \\\n",
       "0           1     15634602  Hargrave           619    France   42     2.0   \n",
       "1           2     15647311      Hill           608     Spain   41     1.0   \n",
       "2           3     15619304      Onio           502    France   42     8.0   \n",
       "3           4     15701354      Boni           699    France   39     1.0   \n",
       "4           5     15737888  Mitchell           850     Spain   43     2.0   \n",
       "\n",
       "     balance  num_of_products  has_cr_card  is_active_member  \\\n",
       "0       0.00                1            1                 1   \n",
       "1   83807.86                1            0                 1   \n",
       "2  159660.80                3            1                 0   \n",
       "3       0.00                2            0                 0   \n",
       "4  125510.82                1            1                 1   \n",
       "\n",
       "   estimated_salary  exited  gender_Male  \n",
       "0         101348.88       1        False  \n",
       "1         112542.58       0        False  \n",
       "2         113931.57       1        False  \n",
       "3          93826.63       0        False  \n",
       "4          79084.10       0        False  "
      ]
     },
     "execution_count": 6,
     "metadata": {},
     "output_type": "execute_result"
    }
   ],
   "source": [
    "# Applying OHE to the gender column\n",
    "data = pd.get_dummies(data, columns=['gender'], drop_first=True)\n",
    "data.head()"
   ]
  },
  {
   "cell_type": "markdown",
   "metadata": {},
   "source": [
    "Label Encoding will be used for the `surname` and `geography` columns as they have more than 2 entries. "
   ]
  },
  {
   "cell_type": "code",
   "execution_count": 7,
   "metadata": {
    "scrolled": false
   },
   "outputs": [
    {
     "name": "stdout",
     "output_type": "stream",
     "text": [
      "<class 'pandas.core.frame.DataFrame'>\n",
      "RangeIndex: 10000 entries, 0 to 9999\n",
      "Data columns (total 14 columns):\n",
      " #   Column            Non-Null Count  Dtype  \n",
      "---  ------            --------------  -----  \n",
      " 0   row_number        10000 non-null  int64  \n",
      " 1   customer_id       10000 non-null  int64  \n",
      " 2   surname           10000 non-null  float64\n",
      " 3   credit_score      10000 non-null  int64  \n",
      " 4   geography         10000 non-null  float64\n",
      " 5   age               10000 non-null  int64  \n",
      " 6   tenure            10000 non-null  float64\n",
      " 7   balance           10000 non-null  float64\n",
      " 8   num_of_products   10000 non-null  int64  \n",
      " 9   has_cr_card       10000 non-null  int64  \n",
      " 10  is_active_member  10000 non-null  int64  \n",
      " 11  estimated_salary  10000 non-null  float64\n",
      " 12  exited            10000 non-null  int64  \n",
      " 13  gender_Male       10000 non-null  bool   \n",
      "dtypes: bool(1), float64(5), int64(8)\n",
      "memory usage: 1.0 MB\n",
      "row_number\n",
      "Max Value: 10000\n",
      "Min Value: 1\n",
      "\n",
      "customer_id\n",
      "Max Value: 15815690\n",
      "Min Value: 15565701\n",
      "\n",
      "surname\n",
      "Max Value: 2931.0\n",
      "Min Value: 0.0\n",
      "\n",
      "credit_score\n",
      "Max Value: 850\n",
      "Min Value: 350\n",
      "\n",
      "geography\n",
      "Max Value: 2.0\n",
      "Min Value: 0.0\n",
      "\n",
      "age\n",
      "Max Value: 92\n",
      "Min Value: 18\n",
      "\n",
      "tenure\n",
      "Max Value: 10.0\n",
      "Min Value: 0.0\n",
      "\n",
      "balance\n",
      "Max Value: 250898.09\n",
      "Min Value: 0.0\n",
      "\n",
      "num_of_products\n",
      "Max Value: 4\n",
      "Min Value: 1\n",
      "\n",
      "has_cr_card\n",
      "Max Value: 1\n",
      "Min Value: 0\n",
      "\n",
      "is_active_member\n",
      "Max Value: 1\n",
      "Min Value: 0\n",
      "\n",
      "estimated_salary\n",
      "Max Value: 199992.48\n",
      "Min Value: 11.58\n",
      "\n",
      "exited\n",
      "Max Value: 1\n",
      "Min Value: 0\n",
      "\n",
      "gender_Male\n",
      "Max Value: True\n",
      "Min Value: False\n",
      "\n"
     ]
    }
   ],
   "source": [
    "# Encoding the remaining str values\n",
    "data_to_encode = data[['surname', 'geography']]\n",
    "encoder = OrdinalEncoder()\n",
    "data_ordinal = pd.DataFrame(encoder.fit_transform(data_to_encode), columns=data_to_encode.columns)\n",
    "data['surname'] = data_ordinal['surname']\n",
    "data['geography'] = data_ordinal['geography']\n",
    "data.info()\n",
    "display()\n",
    "\n",
    "# Examining class balance\n",
    "for column in data:\n",
    "    print(column, f'Max Value: {data[column].max()}', f'Min Value: {data[column].min()}', '', sep='\\n')"
   ]
  },
  {
   "cell_type": "markdown",
   "metadata": {},
   "source": [
    "All columns have been converted into **int** or **float** datatypes.\n",
    "\n",
    "Classes are very unbalanced. \n",
    "\n",
    "`estimated_salary` ranges from `199992.48 - 11.58` and `balance` ranges from `250898.09 - 0.0` while 3 features are boolean and others have between `3 - 10` total values.\n",
    "\n",
    "The models will first be trained without considering weights.\n",
    "\n",
    "The data will now be split into Training, Validation, and Final Test datasets at a ratio of 3:1:1."
   ]
  },
  {
   "cell_type": "code",
   "execution_count": 8,
   "metadata": {},
   "outputs": [
    {
     "name": "stdout",
     "output_type": "stream",
     "text": [
      "Training dataset ratio: 0.6\n",
      "Validation dataset ratio: 0.2\n",
      "Test dataset ratio: 0.2\n"
     ]
    }
   ],
   "source": [
    "train, valid_test = train_test_split(data, test_size=0.4, random_state=45678)\n",
    "valid, test = train_test_split(valid_test, test_size=0.5, random_state=45678)\n",
    "\n",
    "print('Training dataset ratio:', len(train)/len(data))\n",
    "print('Validation dataset ratio:', len(valid)/len(data))\n",
    "print('Test dataset ratio:', len(test)/len(data))"
   ]
  },
  {
   "cell_type": "markdown",
   "metadata": {},
   "source": [
    "Now the datasets will be split further into feature and target data for training purposes."
   ]
  },
  {
   "cell_type": "code",
   "execution_count": 9,
   "metadata": {
    "scrolled": true
   },
   "outputs": [
    {
     "name": "stdout",
     "output_type": "stream",
     "text": [
      "(6000, 13) (6000,)\n",
      "(2000, 13) (2000,)\n"
     ]
    },
    {
     "data": {
      "text/plain": [
       "((2000, 13), (2000,))"
      ]
     },
     "execution_count": 9,
     "metadata": {},
     "output_type": "execute_result"
    }
   ],
   "source": [
    "feature_train = train.drop('exited', axis=1)\n",
    "target_train = train['exited']\n",
    "feature_valid = valid.drop('exited', axis=1)\n",
    "target_valid = valid['exited']\n",
    "feature_test = test.drop('exited', axis=1)\n",
    "target_test = test['exited']\n",
    "print(feature_train.shape, target_train.shape)\n",
    "print(feature_valid.shape, target_valid.shape)\n",
    "feature_test.shape, target_test.shape"
   ]
  },
  {
   "cell_type": "markdown",
   "metadata": {},
   "source": [
    "## Training Models\n",
    "\n",
    "We will train 3 separate machine learning models to determine the best for our purposes:\n",
    "\n",
    "1. `DecisionTreeClassifier`\n",
    "2. `RandomForestClassifier`\n",
    "3. `LogisticRegression` "
   ]
  },
  {
   "cell_type": "code",
   "execution_count": 10,
   "metadata": {
    "scrolled": false
   },
   "outputs": [
    {
     "data": {
      "text/plain": [
       "'Best Depth: 5 F1 Score: 0.552'"
      ]
     },
     "metadata": {},
     "output_type": "display_data"
    }
   ],
   "source": [
    "# Evaluating DecisionTreeClassifier\n",
    "best_depth = 0\n",
    "best_result = 0\n",
    "for depth in range(1, 11):\n",
    "    tree = DecisionTreeClassifier(random_state=12345, max_depth=depth)\n",
    "    tree.fit(feature_train, target_train)\n",
    "    tree_valid = tree.predict(feature_valid)\n",
    "    result = f1_score(target_valid, tree_valid)\n",
    "    if result > best_result:\n",
    "        tree_depth = depth\n",
    "        best_result = result\n",
    "        best_tree = tree\n",
    "display(f'Best Depth: {tree_depth} F1 Score: {best_result:.3f}')"
   ]
  },
  {
   "cell_type": "markdown",
   "metadata": {},
   "source": [
    "The best Decision Tree model had a depth of 5 and an F1 Score of 0.552. "
   ]
  },
  {
   "cell_type": "code",
   "execution_count": 11,
   "metadata": {
    "scrolled": true
   },
   "outputs": [
    {
     "data": {
      "text/plain": [
       "'Best Number of Estimators: 100 Best Depth: 14 F1 score: 0.572'"
      ]
     },
     "metadata": {},
     "output_type": "display_data"
    }
   ],
   "source": [
    "# Evaluating RandomForestClassifier\n",
    "best_score = 0\n",
    "best_est = 0\n",
    "for est in range(10, 101, 10):\n",
    "    for depth in range(1,16):\n",
    "        forest = RandomForestClassifier(random_state=12345, n_estimators=est, max_depth=depth) \n",
    "        forest.fit(feature_train, target_train)\n",
    "        forest_pred = forest.predict(feature_valid)\n",
    "        score = f1_score(target_valid, forest_pred)\n",
    "        if score > best_score:\n",
    "            best_score = score \n",
    "            best_forest = forest\n",
    "            forest_depth = depth\n",
    "            best_est = est\n",
    "display(f'Best Number of Estimators: {best_est} Best Depth: {forest_depth} F1 score: {best_score:.3f}')"
   ]
  },
  {
   "cell_type": "markdown",
   "metadata": {},
   "source": [
    "The best Random Forest model had 100 estimators and a depth of 14 with an F1 Score of 0.572."
   ]
  },
  {
   "cell_type": "code",
   "execution_count": 12,
   "metadata": {},
   "outputs": [
    {
     "data": {
      "text/plain": [
       "'Threshold = 0.22 | F1 Score = 0.354, F1 Train = 0.364'"
      ]
     },
     "metadata": {},
     "output_type": "display_data"
    }
   ],
   "source": [
    "# Evaluating LogisticRegression\n",
    "log = LogisticRegression(random_state=12345, solver='liblinear')\n",
    "log.fit(feature_train, target_train)\n",
    "\n",
    "probabilities_valid = log.predict_proba(feature_valid)\n",
    "probabilities_train = log.predict_proba(feature_train)\n",
    "probabilities_one_valid = probabilities_valid[:, 1]\n",
    "probabilities_one_train = probabilities_train[:, 1]\n",
    "\n",
    "best_f1 = 0\n",
    "for threshold in np.arange(0, 0.3, 0.02):\n",
    "    predicted_valid = probabilities_one_valid > threshold\n",
    "    predicted_train = probabilities_one_train > threshold\n",
    "    f1_valid = f1_score(target_valid, predicted_valid)\n",
    "    f1_train = f1_score(target_train, predicted_train)\n",
    "    if f1_valid > best_f1:\n",
    "        best_f1 = f1_valid\n",
    "        best_threshold = threshold\n",
    "        train_f1 = f1_train\n",
    "display(f'Threshold = {best_threshold} | F1 Score = {best_f1:.3f}, F1 Train = {train_f1:.3f}')"
   ]
  },
  {
   "cell_type": "markdown",
   "metadata": {},
   "source": [
    "The best threshold for the Logistic Regression model was 0.22 with an F1 Score for the validation dataset of 0.354, and an F1 score of 0.364 with the training dataset.\n",
    "\n",
    "Due to the imbalance of the classes the models did not preform very well at all, none of them even approacing the target F1 Score of 0.59."
   ]
  },
  {
   "cell_type": "markdown",
   "metadata": {},
   "source": [
    "## Class Balance\n",
    "\n",
    "In order to first achieve a more optimal F1 score with the validation dataset, we will take the training dataset and upsample the data of users who have exited the insitution. "
   ]
  },
  {
   "cell_type": "code",
   "execution_count": 13,
   "metadata": {},
   "outputs": [
    {
     "data": {
      "text/plain": [
       "((13650, 13), (13650,))"
      ]
     },
     "execution_count": 13,
     "metadata": {},
     "output_type": "execute_result"
    }
   ],
   "source": [
    "def upsample(features, target, repeat):\n",
    "    features_zeros = features[target == 0]\n",
    "    features_ones = features[target == 1]\n",
    "    target_zeros = target[target == 0]\n",
    "    target_ones = target[target == 1]\n",
    "\n",
    "    features_upsampled = pd.concat([features_zeros] + [features_ones] * repeat)\n",
    "    target_upsampled = pd.concat([target_zeros] + [target_ones] * repeat)\n",
    "\n",
    "    features_upsampled, target_upsampled = shuffle(\n",
    "        features_upsampled, target_upsampled, random_state=12345\n",
    "    )\n",
    "\n",
    "    return features_upsampled, target_upsampled\n",
    "\n",
    "features_upsampled, target_upsampled = upsample(\n",
    "    feature_train, target_train, 7\n",
    ")\n",
    "\n",
    "features_upsampled.shape, target_upsampled.shape"
   ]
  },
  {
   "cell_type": "markdown",
   "metadata": {},
   "source": [
    "## Retraining Models\n",
    "\n",
    "        \n",
    "With the now upsampled dataset, we will retrain all the models to determine the best model for the final test. All models will be trained with `'balanced'` passed through the `class_weight` argument for each. \n",
    "\n",
    "**Upsampled Dataset:**"
   ]
  },
  {
   "cell_type": "code",
   "execution_count": 14,
   "metadata": {},
   "outputs": [
    {
     "data": {
      "text/plain": [
       "'Best Depth: 7 F1 Score: 0.476'"
      ]
     },
     "metadata": {},
     "output_type": "display_data"
    }
   ],
   "source": [
    "# Evaluating DecisionTreeClassifier with upsampled dataset\n",
    "best_depth = 0\n",
    "best_result = 0\n",
    "for depth in range(1, 11):\n",
    "    tree = DecisionTreeClassifier(random_state=12345, max_depth=depth)\n",
    "    tree.fit(features_upsampled, target_upsampled)\n",
    "    tree_valid = tree.predict(feature_valid)\n",
    "    result = f1_score(target_valid, tree_valid)\n",
    "    if result > best_result:\n",
    "        tree_depth = depth\n",
    "        best_result = result\n",
    "        best_tree = tree\n",
    "display(f'Best Depth: {tree_depth} F1 Score: {best_result:.3f}')"
   ]
  },
  {
   "cell_type": "markdown",
   "metadata": {},
   "source": [
    "The best Decision Tree model using the upsampled dataset had a depth of 5 and an F1 Score of 0.546."
   ]
  },
  {
   "cell_type": "code",
   "execution_count": 15,
   "metadata": {},
   "outputs": [
    {
     "data": {
      "text/plain": [
       "'Best Depth: 5 F1 Score: 0.520'"
      ]
     },
     "metadata": {},
     "output_type": "display_data"
    }
   ],
   "source": [
    "# Evaluating DecisionTreeClassifier with class_weight = 'balanced'\n",
    "best_depth = 0\n",
    "best_result = 0\n",
    "for depth in range(1, 11):\n",
    "    tree = DecisionTreeClassifier(random_state=12345, max_depth=depth, class_weight='balanced')\n",
    "    tree.fit(feature_train, target_train)\n",
    "    tree_valid = tree.predict(feature_valid)\n",
    "    result = f1_score(target_valid, tree_valid)\n",
    "    if result > best_result:\n",
    "        tree_depth = depth\n",
    "        best_result = result\n",
    "        best_tree_balance = tree\n",
    "display(f'Best Depth: {tree_depth} F1 Score: {best_result:.3f}')"
   ]
  },
  {
   "cell_type": "markdown",
   "metadata": {},
   "source": [
    "The best Decision Tree model using `class_weight = 'balanced'` had a depth of 5 and an F1 Score of 0.520."
   ]
  },
  {
   "cell_type": "code",
   "execution_count": 16,
   "metadata": {},
   "outputs": [
    {
     "data": {
      "text/plain": [
       "'Best Number of Estimators: 40 Best Depth: 15 F1 score: 0.586'"
      ]
     },
     "metadata": {},
     "output_type": "display_data"
    }
   ],
   "source": [
    "# Evaluating RandomForestClassifier with upsampled dataset\n",
    "best_score = 0\n",
    "best_est = 0\n",
    "for est in range(10, 101, 10):\n",
    "    for depth in range(1,16):\n",
    "        forest = RandomForestClassifier(random_state=12345, n_estimators=est, max_depth=depth) \n",
    "        forest.fit(features_upsampled, target_upsampled)\n",
    "        forest_pred = forest.predict(feature_valid)\n",
    "        score = f1_score(target_valid, forest_pred)\n",
    "        if score > best_score:\n",
    "            best_score = score \n",
    "            best_forest = forest\n",
    "            forest_depth = depth\n",
    "            best_est = est\n",
    "display(f'Best Number of Estimators: {best_est} Best Depth: {forest_depth} F1 score: {best_score:.3f}')"
   ]
  },
  {
   "cell_type": "markdown",
   "metadata": {},
   "source": [
    "The best Random Forest model had 40 estimators and a depth of 15 with an F1 Score of 0.586."
   ]
  },
  {
   "cell_type": "code",
   "execution_count": 17,
   "metadata": {},
   "outputs": [
    {
     "data": {
      "text/plain": [
       "'Best Number of Estimators: 20 Best Depth: 11 F1 score: 0.590'"
      ]
     },
     "metadata": {},
     "output_type": "display_data"
    }
   ],
   "source": [
    "# Evaluating RandomForestClassifier with class_weight = 'balanced'\n",
    "best_score = 0\n",
    "best_est = 0\n",
    "for est in range(10, 101, 10):\n",
    "    for depth in range(1,16):\n",
    "        forest = RandomForestClassifier(random_state=12345, n_estimators=est, max_depth=depth, class_weight='balanced') \n",
    "        forest.fit(feature_train, target_train)\n",
    "        forest_pred = forest.predict(feature_valid)\n",
    "        score = f1_score(target_valid, forest_pred)\n",
    "        if score > best_score:\n",
    "            best_score = score \n",
    "            best_forest_balance = forest\n",
    "            forest_depth = depth\n",
    "            best_est = est\n",
    "display(f'Best Number of Estimators: {best_est} Best Depth: {forest_depth} F1 score: {best_score:.3f}')"
   ]
  },
  {
   "cell_type": "markdown",
   "metadata": {},
   "source": [
    "The best Random Forest model had 20 estimators and a depth of 11 with an F1 Score of 0.599, which meets the goal F1 score of 0.59."
   ]
  },
  {
   "cell_type": "code",
   "execution_count": 18,
   "metadata": {},
   "outputs": [
    {
     "data": {
      "text/plain": [
       "'Threshold = 0.0 | F1 Score = 0.324, F1 Train = 0.097, F1 Upsample = 0.791'"
      ]
     },
     "metadata": {},
     "output_type": "display_data"
    }
   ],
   "source": [
    "# Evaluating LogisticRegression with upsampled dataset\n",
    "log = LogisticRegression(random_state=12345, solver='liblinear')\n",
    "log.fit(features_upsampled, target_upsampled)\n",
    "\n",
    "probabilities_valid = log.predict_proba(feature_valid)\n",
    "probabilities_upscale = log.predict_proba(features_upsampled)\n",
    "probabilities_one_valid = probabilities_valid[:, 1]\n",
    "probabilities_one_upscale = probabilities_upscale[:, 1]\n",
    "\n",
    "best_f1 = 0\n",
    "best_threshold = 0\n",
    "best_upsample = 0\n",
    "for threshold in np.arange(0, 0.3, 0.02):\n",
    "    predicted_valid = probabilities_one_valid > threshold\n",
    "    predicted_upscale = probabilities_one_upscale > threshold\n",
    "    f1_valid = f1_score(target_valid, predicted_valid)\n",
    "    f1_train = f1_score(target_train, predicted_train)\n",
    "    f1_upsample = f1_score(target_upsampled, predicted_upscale)\n",
    "    if f1_valid > best_f1:\n",
    "        best_f1 = f1_valid\n",
    "        best_threshold = threshold\n",
    "        best_upsample = f1_upsample\n",
    "        train_f1 = f1_train\n",
    "display(f'Threshold = {best_threshold} | F1 Score = {best_f1:.3f}, F1 Train = {train_f1:.3f}, F1 Upsample = {best_upsample:.3f}')"
   ]
  },
  {
   "cell_type": "markdown",
   "metadata": {},
   "source": [
    "The best threshold for the Logistic Regression model using upsampled data was 0.0 with an F1 Score for the validation dataset of 0.324. The model preformed exeedingly well with the upsampled training set at an F1 Score of 0.730, but preformed very poorly with the original training dataset."
   ]
  },
  {
   "cell_type": "code",
   "execution_count": 19,
   "metadata": {},
   "outputs": [
    {
     "data": {
      "text/plain": [
       "'Threshold = 0.28 | F1 Score = 0.360, F1 Train = 0.385'"
      ]
     },
     "metadata": {},
     "output_type": "display_data"
    }
   ],
   "source": [
    "# Evaluating LogisticRegression with class_weight = 'balanced'\n",
    "log = LogisticRegression(random_state=12345, solver='liblinear', class_weight='balanced')\n",
    "log.fit(feature_train, target_train)\n",
    "\n",
    "probabilities_valid = log.predict_proba(feature_valid)\n",
    "probabilities_train = log.predict_proba(feature_train)\n",
    "probabilities_one_valid = probabilities_valid[:, 1]\n",
    "probabilities_one_train = probabilities_train[:, 1]\n",
    "\n",
    "best_f1 = 0\n",
    "best_threshold = 0\n",
    "best_upsample = 0\n",
    "for threshold in np.arange(0, 0.3, 0.02):\n",
    "    predicted_valid = probabilities_one_valid > threshold\n",
    "    predicted_train = probabilities_one_train > threshold\n",
    "    f1_valid = f1_score(target_valid, predicted_valid)\n",
    "    f1_train = f1_score(target_train, predicted_train)\n",
    "    if f1_valid > best_f1:\n",
    "        best_f1 = f1_valid\n",
    "        best_threshold = threshold\n",
    "        train_f1 = f1_train\n",
    "display(f'Threshold = {best_threshold} | F1 Score = {best_f1:.3f}, F1 Train = {train_f1:.3f}')"
   ]
  },
  {
   "cell_type": "markdown",
   "metadata": {},
   "source": [
    "The best threshold for the Logistic Regression model was 0.28 with an F1 Score for the validation dataset of 0.382. The model preformed better with the training set at an F1 Score of 0.416. "
   ]
  },
  {
   "cell_type": "markdown",
   "metadata": {},
   "source": [
    "## Final Test\n",
    "\n",
    "The best model was by far the Random Forest, so the forest with the best score on the validation set will be used in the final test."
   ]
  },
  {
   "cell_type": "code",
   "execution_count": 20,
   "metadata": {},
   "outputs": [
    {
     "data": {
      "text/plain": [
       "'Best model F1 Score with test dataset: 0.588'"
      ]
     },
     "execution_count": 20,
     "metadata": {},
     "output_type": "execute_result"
    }
   ],
   "source": [
    "test_predictions = best_forest_balance.predict(feature_test)\n",
    "test_score = f1_score(target_test, test_predictions)\n",
    "f'Best model F1 Score with test dataset: {test_score:.3f}'"
   ]
  },
  {
   "cell_type": "markdown",
   "metadata": {},
   "source": [
    "The model recieved an F1 Score of 0.578. "
   ]
  },
  {
   "cell_type": "markdown",
   "metadata": {},
   "source": [
    "## AUC ROC\n",
    "\n",
    "We will now calculate the Receiver Operating Characteristic of the best model with the test dataset in order to evaluate the Area Under Curve metric against the F1 Score the model recieved."
   ]
  },
  {
   "cell_type": "code",
   "execution_count": 24,
   "metadata": {},
   "outputs": [
    {
     "data": {
      "image/png": "[encoded data removed]",
      "text/plain": [
       "<Figure size 640x480 with 1 Axes>"
      ]
     },
     "metadata": {},
     "output_type": "display_data"
    }
   ],
   "source": [
    "probabilities_test = best_forest_balance.predict_proba(feature_test)\n",
    "probabilities_one_test = probabilities_test[:, 1]\n",
    "\n",
    "fpr, tpr, thresholds = roc_curve(target_test, probabilities_one_test)\n",
    "plt.figure()\n",
    "\n",
    "plt.plot(fpr, tpr)\n",
    "for threshold in (0.2, 0.4, 0.5, 0.6, 0.8):\n",
    "            closest_value_idx = np.argmin(np.abs(thresholds-threshold))\n",
    "            marker_color = 'orange' if threshold != 0.5 else 'red'            \n",
    "            plt.plot(fpr[closest_value_idx], tpr[closest_value_idx], color=marker_color, marker='X', markersize=7)\n",
    "plt.plot([0, 1], [0, 1], linestyle='--')\n",
    "plt.xlabel('False Positive Rate')\n",
    "plt.ylabel('True Positive Rate')\n",
    "plt.legend(['Test Model', 'Random Model'], loc='lower right')\n",
    "plt.title('ROC curve')\n",
    "plt.show()"
   ]
  },
  {
   "cell_type": "markdown",
   "metadata": {},
   "source": [
    "The best model trained performed remarkably better than a random model. Now to calculate the AUC ROC:"
   ]
  },
  {
   "cell_type": "code",
   "execution_count": 22,
   "metadata": {},
   "outputs": [
    {
     "data": {
      "text/plain": [
       "0.8430916570590085"
      ]
     },
     "execution_count": 22,
     "metadata": {},
     "output_type": "execute_result"
    }
   ],
   "source": [
    "auc_roc = roc_auc_score(target_test, probabilities_one_test)\n",
    "auc_roc"
   ]
  },
  {
   "cell_type": "markdown",
   "metadata": {},
   "source": [
    "The best model's AUC ROC was a whopping 0.843. With this in mind and the models test F1 Score, Beta Bank can be assured that the model will predict potential exits with extreme standards."
   ]
  }
 ],
 "metadata": {
  "ExecuteTimeLog": [
   {
    "duration": 485,
    "start_time": "2024-05-28T23:23:56.616Z"
   },
   {
    "duration": 74,
    "start_time": "2024-05-28T23:24:28.098Z"
   },
   {
    "duration": 455,
    "start_time": "2024-05-29T05:31:38.074Z"
   },
   {
    "duration": 52,
    "start_time": "2024-05-29T05:31:39.068Z"
   },
   {
    "duration": 55,
    "start_time": "2024-05-29T05:31:45.924Z"
   },
   {
    "duration": 819,
    "start_time": "2024-05-29T05:40:47.550Z"
   },
   {
    "duration": 1186,
    "start_time": "2024-05-29T05:40:52.074Z"
   },
   {
    "duration": 60,
    "start_time": "2024-05-29T05:40:53.263Z"
   },
   {
    "duration": 327,
    "start_time": "2024-05-30T01:27:51.157Z"
   },
   {
    "duration": 1215,
    "start_time": "2024-05-30T01:27:57.978Z"
   },
   {
    "duration": 64,
    "start_time": "2024-05-30T01:27:59.814Z"
   },
   {
    "duration": 14,
    "start_time": "2024-05-30T01:28:02.137Z"
   },
   {
    "duration": 12,
    "start_time": "2024-05-30T01:30:06.084Z"
   },
   {
    "duration": 14,
    "start_time": "2024-05-30T01:30:50.641Z"
   },
   {
    "duration": 9,
    "start_time": "2024-05-30T01:36:03.693Z"
   },
   {
    "duration": 119,
    "start_time": "2024-05-30T01:38:24.144Z"
   },
   {
    "duration": 5,
    "start_time": "2024-05-30T01:39:48.315Z"
   },
   {
    "duration": 7,
    "start_time": "2024-05-30T01:44:02.115Z"
   },
   {
    "duration": 28,
    "start_time": "2024-05-30T01:45:09.170Z"
   },
   {
    "duration": 31,
    "start_time": "2024-05-30T01:45:26.780Z"
   },
   {
    "duration": 9,
    "start_time": "2024-05-30T01:47:06.686Z"
   },
   {
    "duration": 27,
    "start_time": "2024-05-30T01:47:54.729Z"
   },
   {
    "duration": 9,
    "start_time": "2024-05-30T01:47:57.462Z"
   },
   {
    "duration": 8,
    "start_time": "2024-05-30T01:48:45.007Z"
   },
   {
    "duration": 1186,
    "start_time": "2024-05-30T01:49:03.718Z"
   },
   {
    "duration": 68,
    "start_time": "2024-05-30T01:49:04.908Z"
   },
   {
    "duration": 8,
    "start_time": "2024-05-30T01:49:04.978Z"
   },
   {
    "duration": 9,
    "start_time": "2024-05-30T01:49:04.989Z"
   },
   {
    "duration": 32,
    "start_time": "2024-05-30T01:49:05.003Z"
   },
   {
    "duration": 14,
    "start_time": "2024-05-30T01:49:05.038Z"
   },
   {
    "duration": 1774,
    "start_time": "2024-05-30T01:49:05.055Z"
   },
   {
    "duration": 9,
    "start_time": "2024-05-30T01:49:21.179Z"
   },
   {
    "duration": 336,
    "start_time": "2024-06-08T04:00:45.345Z"
   },
   {
    "duration": 35,
    "start_time": "2024-06-08T04:05:18.476Z"
   },
   {
    "duration": 1279,
    "start_time": "2024-06-08T04:11:26.067Z"
   },
   {
    "duration": 80,
    "start_time": "2024-06-08T04:11:27.349Z"
   },
   {
    "duration": 10,
    "start_time": "2024-06-08T04:11:27.434Z"
   },
   {
    "duration": 11,
    "start_time": "2024-06-08T04:11:27.448Z"
   },
   {
    "duration": 8,
    "start_time": "2024-06-08T04:11:27.462Z"
   },
   {
    "duration": 55,
    "start_time": "2024-06-08T04:11:27.473Z"
   },
   {
    "duration": 12,
    "start_time": "2024-06-08T04:11:27.532Z"
   },
   {
    "duration": 455,
    "start_time": "2024-06-08T04:11:27.548Z"
   },
   {
    "duration": 0,
    "start_time": "2024-06-08T04:11:28.008Z"
   },
   {
    "duration": 0,
    "start_time": "2024-06-08T04:11:28.023Z"
   },
   {
    "duration": 90,
    "start_time": "2024-06-08T04:11:39.708Z"
   },
   {
    "duration": 25,
    "start_time": "2024-06-08T04:28:03.395Z"
   },
   {
    "duration": 15,
    "start_time": "2024-06-08T04:28:09.224Z"
   },
   {
    "duration": 5,
    "start_time": "2024-06-08T04:28:32.724Z"
   },
   {
    "duration": 886,
    "start_time": "2024-06-08T04:28:37.814Z"
   },
   {
    "duration": 1259,
    "start_time": "2024-06-08T04:28:51.670Z"
   },
   {
    "duration": 58,
    "start_time": "2024-06-08T04:28:52.933Z"
   },
   {
    "duration": 28,
    "start_time": "2024-06-08T04:28:52.994Z"
   },
   {
    "duration": 10,
    "start_time": "2024-06-08T04:28:53.026Z"
   },
   {
    "duration": 7,
    "start_time": "2024-06-08T04:28:53.039Z"
   },
   {
    "duration": 14,
    "start_time": "2024-06-08T04:28:53.050Z"
   },
   {
    "duration": 59,
    "start_time": "2024-06-08T04:28:53.067Z"
   },
   {
    "duration": 1835,
    "start_time": "2024-06-08T04:28:53.130Z"
   },
   {
    "duration": 0,
    "start_time": "2024-06-08T04:28:54.969Z"
   },
   {
    "duration": 0,
    "start_time": "2024-06-08T04:28:54.973Z"
   },
   {
    "duration": 0,
    "start_time": "2024-06-08T04:28:54.975Z"
   },
   {
    "duration": 180,
    "start_time": "2024-06-08T04:29:33.850Z"
   },
   {
    "duration": 5,
    "start_time": "2024-06-08T04:29:41.676Z"
   },
   {
    "duration": 46,
    "start_time": "2024-06-08T04:29:42.183Z"
   },
   {
    "duration": 7,
    "start_time": "2024-06-08T04:29:43.397Z"
   },
   {
    "duration": 8,
    "start_time": "2024-06-08T04:29:43.831Z"
   },
   {
    "duration": 7,
    "start_time": "2024-06-08T04:29:44.727Z"
   },
   {
    "duration": 753,
    "start_time": "2024-06-08T04:29:45.706Z"
   },
   {
    "duration": 37,
    "start_time": "2024-06-08T04:30:01.023Z"
   },
   {
    "duration": 37,
    "start_time": "2024-06-08T04:30:15.037Z"
   },
   {
    "duration": 47,
    "start_time": "2024-06-08T04:30:58.108Z"
   },
   {
    "duration": 9,
    "start_time": "2024-06-08T04:30:59.464Z"
   },
   {
    "duration": 10,
    "start_time": "2024-06-08T04:31:00.086Z"
   },
   {
    "duration": 6,
    "start_time": "2024-06-08T04:31:00.630Z"
   },
   {
    "duration": 36,
    "start_time": "2024-06-08T04:31:01.837Z"
   },
   {
    "duration": 25,
    "start_time": "2024-06-08T04:31:52.785Z"
   },
   {
    "duration": 50,
    "start_time": "2024-06-08T04:32:03.308Z"
   },
   {
    "duration": 8,
    "start_time": "2024-06-08T04:32:04.154Z"
   },
   {
    "duration": 12,
    "start_time": "2024-06-08T04:32:04.489Z"
   },
   {
    "duration": 8,
    "start_time": "2024-06-08T04:32:04.892Z"
   },
   {
    "duration": 24,
    "start_time": "2024-06-08T04:32:05.499Z"
   },
   {
    "duration": 24,
    "start_time": "2024-06-08T04:32:22.954Z"
   },
   {
    "duration": 23,
    "start_time": "2024-06-08T04:32:38.649Z"
   },
   {
    "duration": 4,
    "start_time": "2024-06-08T04:33:06.660Z"
   },
   {
    "duration": 48,
    "start_time": "2024-06-08T04:33:08.382Z"
   },
   {
    "duration": 8,
    "start_time": "2024-06-08T04:33:09.239Z"
   },
   {
    "duration": 12,
    "start_time": "2024-06-08T04:33:09.640Z"
   },
   {
    "duration": 7,
    "start_time": "2024-06-08T04:33:10.383Z"
   },
   {
    "duration": 24,
    "start_time": "2024-06-08T04:33:11.913Z"
   },
   {
    "duration": 300,
    "start_time": "2024-06-08T04:36:45.546Z"
   },
   {
    "duration": 40,
    "start_time": "2024-06-08T04:45:32.007Z"
   },
   {
    "duration": 133,
    "start_time": "2024-06-08T04:46:38.640Z"
   },
   {
    "duration": 9,
    "start_time": "2024-06-08T04:46:54.405Z"
   },
   {
    "duration": 103,
    "start_time": "2024-06-08T04:47:35.247Z"
   },
   {
    "duration": 41,
    "start_time": "2024-06-08T04:48:01.959Z"
   },
   {
    "duration": 71,
    "start_time": "2024-06-08T04:48:16.614Z"
   },
   {
    "duration": 39,
    "start_time": "2024-06-08T04:48:40.778Z"
   },
   {
    "duration": 60,
    "start_time": "2024-06-08T04:50:18.019Z"
   },
   {
    "duration": 1282,
    "start_time": "2024-06-08T05:07:46.448Z"
   },
   {
    "duration": 62,
    "start_time": "2024-06-08T05:07:47.733Z"
   },
   {
    "duration": 32,
    "start_time": "2024-06-08T05:07:47.798Z"
   },
   {
    "duration": 11,
    "start_time": "2024-06-08T05:07:47.836Z"
   },
   {
    "duration": 10,
    "start_time": "2024-06-08T05:07:47.852Z"
   },
   {
    "duration": 69,
    "start_time": "2024-06-08T05:07:47.866Z"
   },
   {
    "duration": 59,
    "start_time": "2024-06-08T05:07:47.942Z"
   },
   {
    "duration": 15,
    "start_time": "2024-06-08T05:07:48.025Z"
   },
   {
    "duration": 11,
    "start_time": "2024-06-08T05:07:48.044Z"
   },
   {
    "duration": 801,
    "start_time": "2024-06-08T05:07:48.060Z"
   },
   {
    "duration": 0,
    "start_time": "2024-06-08T05:07:48.865Z"
   },
   {
    "duration": 0,
    "start_time": "2024-06-08T05:07:48.867Z"
   },
   {
    "duration": 34,
    "start_time": "2024-06-08T05:08:51.023Z"
   },
   {
    "duration": 188,
    "start_time": "2024-06-08T05:12:46.301Z"
   },
   {
    "duration": 614,
    "start_time": "2024-06-08T05:12:56.326Z"
   },
   {
    "duration": 51,
    "start_time": "2024-06-08T05:14:06.673Z"
   },
   {
    "duration": 7,
    "start_time": "2024-06-08T05:14:07.798Z"
   },
   {
    "duration": 9,
    "start_time": "2024-06-08T05:14:08.323Z"
   },
   {
    "duration": 6,
    "start_time": "2024-06-08T05:14:08.933Z"
   },
   {
    "duration": 33,
    "start_time": "2024-06-08T05:14:09.661Z"
   },
   {
    "duration": 79,
    "start_time": "2024-06-08T05:14:57.884Z"
   },
   {
    "duration": 51,
    "start_time": "2024-06-08T05:15:04.606Z"
   },
   {
    "duration": 7,
    "start_time": "2024-06-08T05:15:07.917Z"
   },
   {
    "duration": 9,
    "start_time": "2024-06-08T05:15:08.516Z"
   },
   {
    "duration": 8,
    "start_time": "2024-06-08T05:15:09.037Z"
   },
   {
    "duration": 30,
    "start_time": "2024-06-08T05:15:10.063Z"
   },
   {
    "duration": 187,
    "start_time": "2024-06-08T05:15:54.864Z"
   },
   {
    "duration": 187,
    "start_time": "2024-06-08T05:17:28.393Z"
   },
   {
    "duration": 121,
    "start_time": "2024-06-08T05:17:56.304Z"
   },
   {
    "duration": 130,
    "start_time": "2024-06-08T05:18:03.181Z"
   },
   {
    "duration": 113,
    "start_time": "2024-06-08T05:18:33.975Z"
   },
   {
    "duration": 112,
    "start_time": "2024-06-08T05:20:20.206Z"
   },
   {
    "duration": 49,
    "start_time": "2024-06-08T05:21:52.156Z"
   },
   {
    "duration": 8,
    "start_time": "2024-06-08T05:21:53.200Z"
   },
   {
    "duration": 10,
    "start_time": "2024-06-08T05:21:53.647Z"
   },
   {
    "duration": 9,
    "start_time": "2024-06-08T05:21:54.200Z"
   },
   {
    "duration": 27,
    "start_time": "2024-06-08T05:21:55.564Z"
   },
   {
    "duration": 459,
    "start_time": "2024-06-08T05:23:05.559Z"
   },
   {
    "duration": 55,
    "start_time": "2024-06-08T05:23:22.118Z"
   },
   {
    "duration": 27,
    "start_time": "2024-06-08T05:23:37.647Z"
   },
   {
    "duration": 14,
    "start_time": "2024-06-08T05:23:51.044Z"
   },
   {
    "duration": 35,
    "start_time": "2024-06-08T05:23:52.631Z"
   },
   {
    "duration": 9,
    "start_time": "2024-06-08T05:24:04.304Z"
   },
   {
    "duration": 148,
    "start_time": "2024-06-08T05:24:05.240Z"
   },
   {
    "duration": 14,
    "start_time": "2024-06-08T05:28:29.961Z"
   },
   {
    "duration": 16,
    "start_time": "2024-06-08T05:28:38.326Z"
   },
   {
    "duration": 4,
    "start_time": "2024-06-08T05:28:50.071Z"
   },
   {
    "duration": 51,
    "start_time": "2024-06-08T05:28:50.207Z"
   },
   {
    "duration": 7,
    "start_time": "2024-06-08T05:28:50.490Z"
   },
   {
    "duration": 15,
    "start_time": "2024-06-08T05:28:50.834Z"
   },
   {
    "duration": 6,
    "start_time": "2024-06-08T05:29:29.810Z"
   },
   {
    "duration": 13,
    "start_time": "2024-06-08T05:29:35.913Z"
   },
   {
    "duration": 5,
    "start_time": "2024-06-08T05:29:41.980Z"
   },
   {
    "duration": 48,
    "start_time": "2024-06-08T05:29:42.145Z"
   },
   {
    "duration": 8,
    "start_time": "2024-06-08T05:29:42.397Z"
   },
   {
    "duration": 11,
    "start_time": "2024-06-08T05:29:42.742Z"
   },
   {
    "duration": 6,
    "start_time": "2024-06-08T05:29:44.063Z"
   },
   {
    "duration": 19,
    "start_time": "2024-06-08T05:30:10.033Z"
   },
   {
    "duration": 26,
    "start_time": "2024-06-08T05:30:32.563Z"
   },
   {
    "duration": 54,
    "start_time": "2024-06-08T05:30:33.058Z"
   },
   {
    "duration": 15,
    "start_time": "2024-06-08T05:30:33.749Z"
   },
   {
    "duration": 12,
    "start_time": "2024-06-08T05:30:34.301Z"
   },
   {
    "duration": 44,
    "start_time": "2024-06-08T05:30:34.819Z"
   },
   {
    "duration": 382,
    "start_time": "2024-06-08T05:30:48.239Z"
   },
   {
    "duration": 19513,
    "start_time": "2024-06-08T05:31:41.465Z"
   },
   {
    "duration": 29,
    "start_time": "2024-06-08T05:34:22.135Z"
   },
   {
    "duration": 96,
    "start_time": "2024-06-08T05:36:28.131Z"
   },
   {
    "duration": 34,
    "start_time": "2024-06-08T05:37:52.941Z"
   },
   {
    "duration": 46,
    "start_time": "2024-06-08T05:38:22.563Z"
   },
   {
    "duration": 151,
    "start_time": "2024-06-08T05:39:15.694Z"
   },
   {
    "duration": 1241,
    "start_time": "2024-06-09T04:53:33.178Z"
   },
   {
    "duration": 71,
    "start_time": "2024-06-09T04:53:34.423Z"
   },
   {
    "duration": 22,
    "start_time": "2024-06-09T04:53:34.501Z"
   },
   {
    "duration": 14,
    "start_time": "2024-06-09T04:53:34.528Z"
   },
   {
    "duration": 18,
    "start_time": "2024-06-09T04:53:34.545Z"
   },
   {
    "duration": 68,
    "start_time": "2024-06-09T04:53:34.566Z"
   },
   {
    "duration": 44,
    "start_time": "2024-06-09T04:53:34.636Z"
   },
   {
    "duration": 43,
    "start_time": "2024-06-09T04:53:34.684Z"
   },
   {
    "duration": 11,
    "start_time": "2024-06-09T04:53:34.730Z"
   },
   {
    "duration": 411,
    "start_time": "2024-06-09T04:53:34.744Z"
   },
   {
    "duration": 19524,
    "start_time": "2024-06-09T04:53:35.159Z"
   },
   {
    "duration": 181,
    "start_time": "2024-06-09T04:53:54.686Z"
   },
   {
    "duration": 41,
    "start_time": "2024-06-09T05:07:27.037Z"
   },
   {
    "duration": 465,
    "start_time": "2024-06-09T05:16:38.724Z"
   },
   {
    "duration": 25,
    "start_time": "2024-06-09T05:16:57.255Z"
   },
   {
    "duration": 6,
    "start_time": "2024-06-09T05:17:28.282Z"
   },
   {
    "duration": 30,
    "start_time": "2024-06-09T05:17:32.468Z"
   },
   {
    "duration": 948,
    "start_time": "2024-06-09T05:20:39.963Z"
   },
   {
    "duration": 611,
    "start_time": "2024-06-09T05:27:56.827Z"
   },
   {
    "duration": 1014,
    "start_time": "2024-06-09T05:29:16.349Z"
   },
   {
    "duration": 38887,
    "start_time": "2024-06-09T05:30:44.252Z"
   },
   {
    "duration": 44133,
    "start_time": "2024-06-09T05:31:58.694Z"
   },
   {
    "duration": 29,
    "start_time": "2024-06-09T05:37:56.946Z"
   },
   {
    "duration": 26,
    "start_time": "2024-06-09T05:38:06.608Z"
   },
   {
    "duration": 34,
    "start_time": "2024-06-09T05:41:55.740Z"
   },
   {
    "duration": 65,
    "start_time": "2024-06-09T05:43:27.351Z"
   },
   {
    "duration": 5166,
    "start_time": "2024-06-09T05:43:33.920Z"
   },
   {
    "duration": 62,
    "start_time": "2024-06-09T05:43:39.090Z"
   },
   {
    "duration": 8,
    "start_time": "2024-06-09T05:43:39.156Z"
   },
   {
    "duration": 15,
    "start_time": "2024-06-09T05:43:39.168Z"
   },
   {
    "duration": 49,
    "start_time": "2024-06-09T05:43:39.188Z"
   },
   {
    "duration": 26,
    "start_time": "2024-06-09T05:43:39.240Z"
   },
   {
    "duration": 91,
    "start_time": "2024-06-09T05:43:39.269Z"
   },
   {
    "duration": 14,
    "start_time": "2024-06-09T05:43:39.363Z"
   },
   {
    "duration": 10,
    "start_time": "2024-06-09T05:43:39.380Z"
   },
   {
    "duration": 441,
    "start_time": "2024-06-09T05:43:39.392Z"
   },
   {
    "duration": 19523,
    "start_time": "2024-06-09T05:43:39.836Z"
   },
   {
    "duration": 66,
    "start_time": "2024-06-09T05:43:59.361Z"
   },
   {
    "duration": 118,
    "start_time": "2024-06-09T05:43:59.430Z"
   },
   {
    "duration": 39530,
    "start_time": "2024-06-09T05:43:59.554Z"
   },
   {
    "duration": 42,
    "start_time": "2024-06-09T05:44:39.088Z"
   },
   {
    "duration": 234,
    "start_time": "2024-06-09T05:44:39.133Z"
   },
   {
    "duration": 9,
    "start_time": "2024-06-09T05:54:11.864Z"
   },
   {
    "duration": 13,
    "start_time": "2024-06-09T05:56:10.987Z"
   },
   {
    "duration": 14,
    "start_time": "2024-06-09T05:58:05.456Z"
   },
   {
    "duration": 40,
    "start_time": "2024-06-09T06:38:08.881Z"
   },
   {
    "duration": 36,
    "start_time": "2024-06-09T06:38:39.226Z"
   },
   {
    "duration": 1485,
    "start_time": "2024-06-09T07:17:46.592Z"
   },
   {
    "duration": 67,
    "start_time": "2024-06-09T07:17:48.080Z"
   },
   {
    "duration": 8,
    "start_time": "2024-06-09T07:17:48.151Z"
   },
   {
    "duration": 100,
    "start_time": "2024-06-09T07:17:48.163Z"
   },
   {
    "duration": 19,
    "start_time": "2024-06-09T07:17:48.267Z"
   },
   {
    "duration": 51,
    "start_time": "2024-06-09T07:17:48.290Z"
   },
   {
    "duration": 78,
    "start_time": "2024-06-09T07:17:48.345Z"
   },
   {
    "duration": 13,
    "start_time": "2024-06-09T07:17:48.427Z"
   },
   {
    "duration": 15,
    "start_time": "2024-06-09T07:17:48.443Z"
   },
   {
    "duration": 428,
    "start_time": "2024-06-09T07:17:48.463Z"
   },
   {
    "duration": 20329,
    "start_time": "2024-06-09T07:17:48.894Z"
   },
   {
    "duration": 31,
    "start_time": "2024-06-09T07:18:09.226Z"
   },
   {
    "duration": 163,
    "start_time": "2024-06-09T07:18:09.261Z"
   },
   {
    "duration": 42005,
    "start_time": "2024-06-09T07:18:09.427Z"
   },
   {
    "duration": 32,
    "start_time": "2024-06-09T07:18:51.435Z"
   },
   {
    "duration": 257,
    "start_time": "2024-06-09T07:18:51.470Z"
   },
   {
    "duration": 10,
    "start_time": "2024-06-09T07:18:51.730Z"
   },
   {
    "duration": 332,
    "start_time": "2024-06-10T01:49:39.316Z"
   },
   {
    "duration": 5420,
    "start_time": "2024-06-10T01:50:50.199Z"
   },
   {
    "duration": 73,
    "start_time": "2024-06-10T01:50:55.622Z"
   },
   {
    "duration": 9,
    "start_time": "2024-06-10T01:50:55.699Z"
   },
   {
    "duration": 31,
    "start_time": "2024-06-10T01:50:55.712Z"
   },
   {
    "duration": 17,
    "start_time": "2024-06-10T01:50:55.748Z"
   },
   {
    "duration": 64,
    "start_time": "2024-06-10T01:50:55.769Z"
   },
   {
    "duration": 538,
    "start_time": "2024-06-10T01:50:55.836Z"
   },
   {
    "duration": 0,
    "start_time": "2024-06-10T01:50:56.378Z"
   },
   {
    "duration": 0,
    "start_time": "2024-06-10T01:50:56.380Z"
   },
   {
    "duration": 0,
    "start_time": "2024-06-10T01:50:56.382Z"
   },
   {
    "duration": 0,
    "start_time": "2024-06-10T01:50:56.384Z"
   },
   {
    "duration": 0,
    "start_time": "2024-06-10T01:50:56.386Z"
   },
   {
    "duration": 0,
    "start_time": "2024-06-10T01:50:56.392Z"
   },
   {
    "duration": 0,
    "start_time": "2024-06-10T01:50:56.394Z"
   },
   {
    "duration": 0,
    "start_time": "2024-06-10T01:50:56.397Z"
   },
   {
    "duration": 0,
    "start_time": "2024-06-10T01:50:56.433Z"
   },
   {
    "duration": 0,
    "start_time": "2024-06-10T01:50:56.435Z"
   },
   {
    "duration": 42,
    "start_time": "2024-06-10T01:51:52.659Z"
   },
   {
    "duration": 47,
    "start_time": "2024-06-10T01:52:55.833Z"
   },
   {
    "duration": 33,
    "start_time": "2024-06-10T02:11:42.452Z"
   },
   {
    "duration": 25,
    "start_time": "2024-06-10T02:12:19.228Z"
   },
   {
    "duration": 26,
    "start_time": "2024-06-10T02:12:34.262Z"
   },
   {
    "duration": 25,
    "start_time": "2024-06-10T02:12:41.253Z"
   },
   {
    "duration": 25,
    "start_time": "2024-06-10T02:13:32.875Z"
   },
   {
    "duration": 25,
    "start_time": "2024-06-10T02:13:55.930Z"
   },
   {
    "duration": 25,
    "start_time": "2024-06-10T02:15:04.934Z"
   },
   {
    "duration": 1873,
    "start_time": "2024-06-10T02:20:35.165Z"
   },
   {
    "duration": 74,
    "start_time": "2024-06-10T02:20:37.043Z"
   },
   {
    "duration": 34,
    "start_time": "2024-06-10T02:20:37.119Z"
   },
   {
    "duration": 25,
    "start_time": "2024-06-10T02:20:37.159Z"
   },
   {
    "duration": 23,
    "start_time": "2024-06-10T02:20:37.188Z"
   },
   {
    "duration": 42,
    "start_time": "2024-06-10T02:20:37.233Z"
   },
   {
    "duration": 76,
    "start_time": "2024-06-10T02:20:37.278Z"
   },
   {
    "duration": 14,
    "start_time": "2024-06-10T02:20:37.357Z"
   },
   {
    "duration": 16,
    "start_time": "2024-06-10T02:20:37.374Z"
   },
   {
    "duration": 423,
    "start_time": "2024-06-10T02:20:37.432Z"
   },
   {
    "duration": 21773,
    "start_time": "2024-06-10T02:20:37.860Z"
   },
   {
    "duration": 193,
    "start_time": "2024-06-10T02:20:59.640Z"
   },
   {
    "duration": 107,
    "start_time": "2024-06-10T02:20:59.842Z"
   },
   {
    "duration": 43361,
    "start_time": "2024-06-10T02:20:59.953Z"
   },
   {
    "duration": 38,
    "start_time": "2024-06-10T02:21:43.320Z"
   },
   {
    "duration": 241,
    "start_time": "2024-06-10T02:21:43.362Z"
   },
   {
    "duration": 463,
    "start_time": "2024-06-10T02:21:43.608Z"
   },
   {
    "duration": 0,
    "start_time": "2024-06-10T02:21:44.074Z"
   },
   {
    "duration": 646,
    "start_time": "2024-06-10T02:22:14.043Z"
   },
   {
    "duration": 718,
    "start_time": "2024-06-10T02:23:00.476Z"
   },
   {
    "duration": 88,
    "start_time": "2024-06-10T02:23:46.186Z"
   },
   {
    "duration": 251,
    "start_time": "2024-06-10T02:23:54.898Z"
   },
   {
    "duration": 17,
    "start_time": "2024-06-10T02:24:20.423Z"
   },
   {
    "duration": 1487,
    "start_time": "2024-06-10T02:46:04.495Z"
   },
   {
    "duration": 63,
    "start_time": "2024-06-10T02:46:05.986Z"
   },
   {
    "duration": 12,
    "start_time": "2024-06-10T02:46:06.053Z"
   },
   {
    "duration": 104,
    "start_time": "2024-06-10T02:46:06.070Z"
   },
   {
    "duration": 20,
    "start_time": "2024-06-10T02:46:06.178Z"
   },
   {
    "duration": 46,
    "start_time": "2024-06-10T02:46:06.201Z"
   },
   {
    "duration": 43,
    "start_time": "2024-06-10T02:46:06.250Z"
   },
   {
    "duration": 40,
    "start_time": "2024-06-10T02:46:06.296Z"
   },
   {
    "duration": 16,
    "start_time": "2024-06-10T02:46:06.338Z"
   },
   {
    "duration": 417,
    "start_time": "2024-06-10T02:46:06.359Z"
   },
   {
    "duration": 20386,
    "start_time": "2024-06-10T02:46:06.779Z"
   },
   {
    "duration": 78,
    "start_time": "2024-06-10T02:46:27.169Z"
   },
   {
    "duration": 136,
    "start_time": "2024-06-10T02:46:27.250Z"
   },
   {
    "duration": 481,
    "start_time": "2024-06-10T02:46:27.433Z"
   },
   {
    "duration": 0,
    "start_time": "2024-06-10T02:46:27.919Z"
   },
   {
    "duration": 0,
    "start_time": "2024-06-10T02:46:27.921Z"
   },
   {
    "duration": 0,
    "start_time": "2024-06-10T02:46:27.934Z"
   },
   {
    "duration": 0,
    "start_time": "2024-06-10T02:46:27.936Z"
   },
   {
    "duration": 0,
    "start_time": "2024-06-10T02:46:27.937Z"
   },
   {
    "duration": 5080,
    "start_time": "2024-06-10T06:06:04.449Z"
   },
   {
    "duration": 88,
    "start_time": "2024-06-10T06:06:23.361Z"
   },
   {
    "duration": 8,
    "start_time": "2024-06-10T06:06:25.021Z"
   },
   {
    "duration": 16,
    "start_time": "2024-06-10T06:06:26.492Z"
   },
   {
    "duration": 19,
    "start_time": "2024-06-10T06:06:28.548Z"
   },
   {
    "duration": 34,
    "start_time": "2024-06-10T06:06:30.566Z"
   },
   {
    "duration": 45,
    "start_time": "2024-06-10T06:06:31.993Z"
   },
   {
    "duration": 12,
    "start_time": "2024-06-10T06:06:33.472Z"
   },
   {
    "duration": 14,
    "start_time": "2024-06-10T06:06:35.872Z"
   },
   {
    "duration": 374,
    "start_time": "2024-06-10T06:06:47.753Z"
   },
   {
    "duration": 491,
    "start_time": "2024-06-10T06:45:28.048Z"
   },
   {
    "duration": 2008,
    "start_time": "2024-06-10T06:45:36.058Z"
   },
   {
    "duration": 0,
    "start_time": "2024-06-10T06:45:38.071Z"
   },
   {
    "duration": 0,
    "start_time": "2024-06-10T06:45:38.073Z"
   },
   {
    "duration": 0,
    "start_time": "2024-06-10T06:45:38.075Z"
   },
   {
    "duration": 0,
    "start_time": "2024-06-10T06:45:38.077Z"
   },
   {
    "duration": 1,
    "start_time": "2024-06-10T06:45:38.078Z"
   },
   {
    "duration": 0,
    "start_time": "2024-06-10T06:45:38.080Z"
   },
   {
    "duration": 0,
    "start_time": "2024-06-10T06:45:38.081Z"
   },
   {
    "duration": 0,
    "start_time": "2024-06-10T06:45:38.083Z"
   },
   {
    "duration": 0,
    "start_time": "2024-06-10T06:45:38.085Z"
   },
   {
    "duration": 0,
    "start_time": "2024-06-10T06:45:38.087Z"
   },
   {
    "duration": 0,
    "start_time": "2024-06-10T06:45:38.089Z"
   },
   {
    "duration": 0,
    "start_time": "2024-06-10T06:45:38.091Z"
   },
   {
    "duration": 0,
    "start_time": "2024-06-10T06:45:38.093Z"
   },
   {
    "duration": 0,
    "start_time": "2024-06-10T06:45:38.094Z"
   },
   {
    "duration": 0,
    "start_time": "2024-06-10T06:45:38.133Z"
   },
   {
    "duration": 0,
    "start_time": "2024-06-10T06:45:38.139Z"
   },
   {
    "duration": 0,
    "start_time": "2024-06-10T06:45:38.141Z"
   },
   {
    "duration": 0,
    "start_time": "2024-06-10T06:45:38.143Z"
   },
   {
    "duration": 28,
    "start_time": "2024-06-10T06:48:09.088Z"
   },
   {
    "duration": 73,
    "start_time": "2024-06-10T06:48:27.907Z"
   },
   {
    "duration": 5,
    "start_time": "2024-06-10T06:49:09.437Z"
   },
   {
    "duration": 58,
    "start_time": "2024-06-10T06:49:12.611Z"
   },
   {
    "duration": 7,
    "start_time": "2024-06-10T06:49:14.647Z"
   },
   {
    "duration": 13,
    "start_time": "2024-06-10T06:49:17.433Z"
   },
   {
    "duration": 17,
    "start_time": "2024-06-10T06:49:20.992Z"
   },
   {
    "duration": 26,
    "start_time": "2024-06-10T06:49:22.472Z"
   },
   {
    "duration": 44,
    "start_time": "2024-06-10T06:49:27.162Z"
   },
   {
    "duration": 13,
    "start_time": "2024-06-10T06:49:30.512Z"
   },
   {
    "duration": 13,
    "start_time": "2024-06-10T06:49:32.923Z"
   },
   {
    "duration": 381,
    "start_time": "2024-06-10T06:49:35.699Z"
   },
   {
    "duration": 19619,
    "start_time": "2024-06-10T06:49:37.531Z"
   },
   {
    "duration": 82,
    "start_time": "2024-06-10T06:49:57.154Z"
   },
   {
    "duration": 4,
    "start_time": "2024-06-10T06:51:52.897Z"
   },
   {
    "duration": 46,
    "start_time": "2024-06-10T06:51:55.227Z"
   },
   {
    "duration": 7,
    "start_time": "2024-06-10T06:51:58.753Z"
   },
   {
    "duration": 13,
    "start_time": "2024-06-10T06:52:01.004Z"
   },
   {
    "duration": 17,
    "start_time": "2024-06-10T06:52:03.444Z"
   },
   {
    "duration": 23,
    "start_time": "2024-06-10T06:52:05.331Z"
   },
   {
    "duration": 48,
    "start_time": "2024-06-10T06:52:07.119Z"
   },
   {
    "duration": 12,
    "start_time": "2024-06-10T06:52:10.611Z"
   },
   {
    "duration": 14,
    "start_time": "2024-06-10T06:52:12.072Z"
   },
   {
    "duration": 370,
    "start_time": "2024-06-10T06:52:13.691Z"
   },
   {
    "duration": 42,
    "start_time": "2024-06-10T06:53:42.073Z"
   },
   {
    "duration": 41,
    "start_time": "2024-06-10T06:54:10.637Z"
   },
   {
    "duration": 47,
    "start_time": "2024-06-10T06:54:20.573Z"
   },
   {
    "duration": 1421,
    "start_time": "2024-06-10T06:54:49.449Z"
   },
   {
    "duration": 59,
    "start_time": "2024-06-10T06:54:50.875Z"
   },
   {
    "duration": 7,
    "start_time": "2024-06-10T06:54:50.937Z"
   },
   {
    "duration": 98,
    "start_time": "2024-06-10T06:54:50.947Z"
   },
   {
    "duration": 17,
    "start_time": "2024-06-10T06:54:51.049Z"
   },
   {
    "duration": 25,
    "start_time": "2024-06-10T06:54:51.069Z"
   },
   {
    "duration": 74,
    "start_time": "2024-06-10T06:54:51.097Z"
   },
   {
    "duration": 13,
    "start_time": "2024-06-10T06:54:51.175Z"
   },
   {
    "duration": 47,
    "start_time": "2024-06-10T06:54:51.192Z"
   },
   {
    "duration": 399,
    "start_time": "2024-06-10T06:54:51.242Z"
   },
   {
    "duration": 19703,
    "start_time": "2024-06-10T06:54:51.644Z"
   },
   {
    "duration": 34,
    "start_time": "2024-06-10T06:55:11.351Z"
   },
   {
    "duration": 132,
    "start_time": "2024-06-10T06:55:11.433Z"
   },
   {
    "duration": 751,
    "start_time": "2024-06-10T06:55:11.571Z"
   },
   {
    "duration": 39558,
    "start_time": "2024-06-10T06:55:12.325Z"
   },
   {
    "duration": 433,
    "start_time": "2024-06-10T06:55:51.888Z"
   },
   {
    "duration": 0,
    "start_time": "2024-06-10T06:55:52.324Z"
   },
   {
    "duration": 1,
    "start_time": "2024-06-10T06:55:52.325Z"
   },
   {
    "duration": 0,
    "start_time": "2024-06-10T06:55:52.335Z"
   },
   {
    "duration": 0,
    "start_time": "2024-06-10T06:55:52.337Z"
   },
   {
    "duration": 61,
    "start_time": "2024-06-10T06:56:07.355Z"
   },
   {
    "duration": 51,
    "start_time": "2024-06-10T06:56:25.345Z"
   },
   {
    "duration": 50,
    "start_time": "2024-06-10T06:59:07.289Z"
   },
   {
    "duration": 39,
    "start_time": "2024-06-10T06:59:43.428Z"
   },
   {
    "duration": 41,
    "start_time": "2024-06-10T07:01:55.357Z"
   },
   {
    "duration": 27,
    "start_time": "2024-06-10T07:03:28.272Z"
   },
   {
    "duration": 31,
    "start_time": "2024-06-10T07:04:18.390Z"
   },
   {
    "duration": 409,
    "start_time": "2024-06-10T07:04:41.431Z"
   },
   {
    "duration": 497,
    "start_time": "2024-06-10T07:05:06.672Z"
   },
   {
    "duration": 347,
    "start_time": "2024-06-10T07:05:20.912Z"
   },
   {
    "duration": 363,
    "start_time": "2024-06-10T07:05:32.403Z"
   },
   {
    "duration": 351,
    "start_time": "2024-06-10T07:06:55.211Z"
   },
   {
    "duration": 50,
    "start_time": "2024-06-10T07:10:55.394Z"
   },
   {
    "duration": 4,
    "start_time": "2024-06-10T07:11:13.987Z"
   },
   {
    "duration": 48,
    "start_time": "2024-06-10T07:11:19.410Z"
   },
   {
    "duration": 127,
    "start_time": "2024-06-10T07:13:25.326Z"
   },
   {
    "duration": 104,
    "start_time": "2024-06-10T07:13:33.139Z"
   },
   {
    "duration": 218,
    "start_time": "2024-06-10T07:50:56.446Z"
   },
   {
    "duration": 7293,
    "start_time": "2024-06-10T20:53:36.464Z"
   },
   {
    "duration": 5082,
    "start_time": "2024-06-10T20:53:52.290Z"
   },
   {
    "duration": 69,
    "start_time": "2024-06-10T20:53:57.376Z"
   },
   {
    "duration": 8,
    "start_time": "2024-06-10T20:53:57.448Z"
   },
   {
    "duration": 15,
    "start_time": "2024-06-10T20:53:57.460Z"
   },
   {
    "duration": 17,
    "start_time": "2024-06-10T20:53:57.506Z"
   },
   {
    "duration": 26,
    "start_time": "2024-06-10T20:53:57.526Z"
   },
   {
    "duration": 84,
    "start_time": "2024-06-10T20:53:57.555Z"
   },
   {
    "duration": 13,
    "start_time": "2024-06-10T20:53:57.642Z"
   },
   {
    "duration": 14,
    "start_time": "2024-06-10T20:53:57.658Z"
   },
   {
    "duration": 470,
    "start_time": "2024-06-10T20:53:57.705Z"
   },
   {
    "duration": 23725,
    "start_time": "2024-06-10T20:53:58.178Z"
   },
   {
    "duration": 281,
    "start_time": "2024-06-10T20:54:21.907Z"
   },
   {
    "duration": 42,
    "start_time": "2024-06-10T20:54:22.192Z"
   },
   {
    "duration": 832,
    "start_time": "2024-06-10T20:54:22.240Z"
   },
   {
    "duration": 43571,
    "start_time": "2024-06-10T20:54:23.075Z"
   },
   {
    "duration": 378,
    "start_time": "2024-06-10T20:55:06.649Z"
   },
   {
    "duration": 107,
    "start_time": "2024-06-10T20:55:07.114Z"
   },
   {
    "duration": 232,
    "start_time": "2024-06-10T20:55:07.226Z"
   },
   {
    "duration": 13,
    "start_time": "2024-06-10T20:55:07.461Z"
   },
   {
    "duration": 57,
    "start_time": "2024-06-10T21:18:35.083Z"
   },
   {
    "duration": 1545,
    "start_time": "2024-06-13T01:29:54.141Z"
   },
   {
    "duration": 106,
    "start_time": "2024-06-13T01:29:55.690Z"
   },
   {
    "duration": 8,
    "start_time": "2024-06-13T01:29:55.800Z"
   },
   {
    "duration": 82,
    "start_time": "2024-06-13T01:29:55.811Z"
   },
   {
    "duration": 32,
    "start_time": "2024-06-13T01:29:55.898Z"
   },
   {
    "duration": 27,
    "start_time": "2024-06-13T01:29:55.933Z"
   },
   {
    "duration": 76,
    "start_time": "2024-06-13T01:29:55.964Z"
   },
   {
    "duration": 13,
    "start_time": "2024-06-13T01:29:56.043Z"
   },
   {
    "duration": 15,
    "start_time": "2024-06-13T01:29:56.060Z"
   },
   {
    "duration": 423,
    "start_time": "2024-06-13T01:29:56.081Z"
   },
   {
    "duration": 20320,
    "start_time": "2024-06-13T01:29:56.508Z"
   },
   {
    "duration": 232,
    "start_time": "2024-06-13T01:30:16.832Z"
   },
   {
    "duration": 31,
    "start_time": "2024-06-13T01:30:17.067Z"
   },
   {
    "duration": 757,
    "start_time": "2024-06-13T01:30:17.125Z"
   },
   {
    "duration": 9060,
    "start_time": "2024-06-13T01:30:17.886Z"
   },
   {
    "duration": 0,
    "start_time": "2024-06-13T01:30:26.948Z"
   },
   {
    "duration": 0,
    "start_time": "2024-06-13T01:30:26.951Z"
   },
   {
    "duration": 0,
    "start_time": "2024-06-13T01:30:26.954Z"
   },
   {
    "duration": 0,
    "start_time": "2024-06-13T01:30:26.956Z"
   },
   {
    "duration": 0,
    "start_time": "2024-06-13T01:30:26.958Z"
   },
   {
    "duration": 52,
    "start_time": "2024-06-13T01:30:31.677Z"
   },
   {
    "duration": 181,
    "start_time": "2024-06-13T01:45:59.787Z"
   },
   {
    "duration": 226,
    "start_time": "2024-06-13T01:46:35.940Z"
   },
   {
    "duration": 198,
    "start_time": "2024-06-13T01:47:09.673Z"
   },
   {
    "duration": 40907,
    "start_time": "2024-06-13T01:47:35.899Z"
   },
   {
    "duration": 393,
    "start_time": "2024-06-13T02:34:08.860Z"
   },
   {
    "duration": 568,
    "start_time": "2024-06-13T02:36:11.808Z"
   },
   {
    "duration": 32,
    "start_time": "2024-06-13T02:36:48.964Z"
   },
   {
    "duration": 231,
    "start_time": "2024-06-13T02:36:58.623Z"
   },
   {
    "duration": 9,
    "start_time": "2024-06-13T02:37:03.747Z"
   },
   {
    "duration": 330,
    "start_time": "2024-06-14T00:42:34.536Z"
   },
   {
    "duration": 5220,
    "start_time": "2024-06-14T00:42:41.571Z"
   },
   {
    "duration": 75,
    "start_time": "2024-06-14T00:42:46.794Z"
   },
   {
    "duration": 8,
    "start_time": "2024-06-14T00:42:46.872Z"
   },
   {
    "duration": 27,
    "start_time": "2024-06-14T00:42:46.886Z"
   },
   {
    "duration": 18,
    "start_time": "2024-06-14T00:42:46.916Z"
   },
   {
    "duration": 26,
    "start_time": "2024-06-14T00:42:46.937Z"
   },
   {
    "duration": 74,
    "start_time": "2024-06-14T00:42:46.966Z"
   },
   {
    "duration": 13,
    "start_time": "2024-06-14T00:42:47.043Z"
   },
   {
    "duration": 48,
    "start_time": "2024-06-14T00:42:47.059Z"
   },
   {
    "duration": 399,
    "start_time": "2024-06-14T00:42:47.112Z"
   },
   {
    "duration": 19676,
    "start_time": "2024-06-14T00:42:47.514Z"
   },
   {
    "duration": 237,
    "start_time": "2024-06-14T00:43:07.201Z"
   },
   {
    "duration": 34,
    "start_time": "2024-06-14T00:43:07.442Z"
   },
   {
    "duration": 761,
    "start_time": "2024-06-14T00:43:07.479Z"
   },
   {
    "duration": 40389,
    "start_time": "2024-06-14T00:43:08.242Z"
   },
   {
    "duration": 517,
    "start_time": "2024-06-14T00:43:48.634Z"
   },
   {
    "duration": 34,
    "start_time": "2024-06-14T00:43:49.202Z"
   },
   {
    "duration": 360,
    "start_time": "2024-06-14T00:43:49.240Z"
   },
   {
    "duration": 9,
    "start_time": "2024-06-14T00:43:49.604Z"
   },
   {
    "duration": 1438,
    "start_time": "2024-06-14T01:46:41.652Z"
   },
   {
    "duration": 66,
    "start_time": "2024-06-14T01:46:43.094Z"
   },
   {
    "duration": 10,
    "start_time": "2024-06-14T01:46:43.163Z"
   },
   {
    "duration": 99,
    "start_time": "2024-06-14T01:46:43.179Z"
   },
   {
    "duration": 18,
    "start_time": "2024-06-14T01:46:43.300Z"
   },
   {
    "duration": 25,
    "start_time": "2024-06-14T01:46:43.321Z"
   },
   {
    "duration": 532,
    "start_time": "2024-06-14T01:46:43.349Z"
   },
   {
    "duration": 0,
    "start_time": "2024-06-14T01:46:43.884Z"
   },
   {
    "duration": 0,
    "start_time": "2024-06-14T01:46:43.886Z"
   },
   {
    "duration": 0,
    "start_time": "2024-06-14T01:46:43.888Z"
   },
   {
    "duration": 0,
    "start_time": "2024-06-14T01:46:43.903Z"
   },
   {
    "duration": 0,
    "start_time": "2024-06-14T01:46:43.905Z"
   },
   {
    "duration": 0,
    "start_time": "2024-06-14T01:46:43.909Z"
   },
   {
    "duration": 0,
    "start_time": "2024-06-14T01:46:43.911Z"
   },
   {
    "duration": 0,
    "start_time": "2024-06-14T01:46:43.913Z"
   },
   {
    "duration": 0,
    "start_time": "2024-06-14T01:46:43.916Z"
   },
   {
    "duration": 0,
    "start_time": "2024-06-14T01:46:43.917Z"
   },
   {
    "duration": 0,
    "start_time": "2024-06-14T01:46:43.919Z"
   },
   {
    "duration": 0,
    "start_time": "2024-06-14T01:46:43.922Z"
   },
   {
    "duration": 27,
    "start_time": "2024-06-14T01:47:15.106Z"
   },
   {
    "duration": 22,
    "start_time": "2024-06-14T01:47:17.996Z"
   },
   {
    "duration": 12,
    "start_time": "2024-06-14T01:50:37.015Z"
   },
   {
    "duration": 21,
    "start_time": "2024-06-14T01:50:38.157Z"
   },
   {
    "duration": 12,
    "start_time": "2024-06-14T01:51:03.977Z"
   },
   {
    "duration": 387,
    "start_time": "2024-06-14T01:51:06.339Z"
   },
   {
    "duration": 19700,
    "start_time": "2024-06-14T01:51:08.429Z"
   },
   {
    "duration": 217,
    "start_time": "2024-06-14T01:51:28.132Z"
   },
   {
    "duration": 34,
    "start_time": "2024-06-14T01:51:33.634Z"
   },
   {
    "duration": 724,
    "start_time": "2024-06-14T01:51:38.643Z"
   },
   {
    "duration": 39940,
    "start_time": "2024-06-14T01:51:39.371Z"
   },
   {
    "duration": 621,
    "start_time": "2024-06-14T01:52:19.314Z"
   },
   {
    "duration": 31,
    "start_time": "2024-06-14T01:52:19.937Z"
   },
   {
    "duration": 277,
    "start_time": "2024-06-14T01:52:19.972Z"
   },
   {
    "duration": 11,
    "start_time": "2024-06-14T01:52:20.252Z"
   },
   {
    "duration": 23,
    "start_time": "2024-06-14T19:25:40.822Z"
   },
   {
    "duration": 345,
    "start_time": "2024-06-14T19:25:49.465Z"
   },
   {
    "duration": 5333,
    "start_time": "2024-06-14T19:25:59.482Z"
   },
   {
    "duration": 1517,
    "start_time": "2024-06-14T19:26:09.799Z"
   },
   {
    "duration": 73,
    "start_time": "2024-06-14T19:26:11.320Z"
   },
   {
    "duration": 8,
    "start_time": "2024-06-14T19:26:11.397Z"
   },
   {
    "duration": 81,
    "start_time": "2024-06-14T19:26:11.423Z"
   },
   {
    "duration": 20,
    "start_time": "2024-06-14T19:26:11.523Z"
   },
   {
    "duration": 26,
    "start_time": "2024-06-14T19:26:11.547Z"
   },
   {
    "duration": 76,
    "start_time": "2024-06-14T19:26:11.577Z"
   },
   {
    "duration": 13,
    "start_time": "2024-06-14T19:26:11.657Z"
   },
   {
    "duration": 16,
    "start_time": "2024-06-14T19:26:11.674Z"
   },
   {
    "duration": 391,
    "start_time": "2024-06-14T19:26:11.727Z"
   },
   {
    "duration": 20127,
    "start_time": "2024-06-14T19:26:12.124Z"
   },
   {
    "duration": 215,
    "start_time": "2024-06-14T19:26:32.254Z"
   },
   {
    "duration": 51,
    "start_time": "2024-06-14T19:26:32.473Z"
   },
   {
    "duration": 438,
    "start_time": "2024-06-14T19:26:32.527Z"
   },
   {
    "duration": 0,
    "start_time": "2024-06-14T19:26:32.968Z"
   },
   {
    "duration": 1,
    "start_time": "2024-06-14T19:26:32.970Z"
   },
   {
    "duration": 0,
    "start_time": "2024-06-14T19:26:32.972Z"
   },
   {
    "duration": 0,
    "start_time": "2024-06-14T19:26:32.977Z"
   },
   {
    "duration": 0,
    "start_time": "2024-06-14T19:26:32.979Z"
   },
   {
    "duration": 0,
    "start_time": "2024-06-14T19:26:32.982Z"
   },
   {
    "duration": 25,
    "start_time": "2024-06-14T19:26:46.431Z"
   },
   {
    "duration": 414,
    "start_time": "2024-06-14T19:26:51.240Z"
   },
   {
    "duration": 24265,
    "start_time": "2024-06-14T19:26:54.378Z"
   },
   {
    "duration": 628,
    "start_time": "2024-06-14T19:27:18.647Z"
   },
   {
    "duration": 21,
    "start_time": "2024-06-14T19:27:47.835Z"
   },
   {
    "duration": 26,
    "start_time": "2024-06-14T19:30:55.900Z"
   },
   {
    "duration": 32,
    "start_time": "2024-06-14T19:31:37.425Z"
   },
   {
    "duration": 7,
    "start_time": "2024-06-14T19:31:54.425Z"
   },
   {
    "duration": 406,
    "start_time": "2024-06-14T19:31:56.596Z"
   },
   {
    "duration": 23922,
    "start_time": "2024-06-14T19:32:05.130Z"
   },
   {
    "duration": 298,
    "start_time": "2024-06-14T19:32:29.056Z"
   },
   {
    "duration": 331,
    "start_time": "2024-06-18T20:50:26.770Z"
   },
   {
    "duration": 5008,
    "start_time": "2024-06-18T20:50:35.748Z"
   },
   {
    "duration": 73,
    "start_time": "2024-06-18T20:50:40.759Z"
   },
   {
    "duration": 7,
    "start_time": "2024-06-18T20:50:44.261Z"
   },
   {
    "duration": 17,
    "start_time": "2024-06-18T20:50:45.180Z"
   },
   {
    "duration": 20,
    "start_time": "2024-06-18T20:50:46.602Z"
   },
   {
    "duration": 26,
    "start_time": "2024-06-18T20:50:47.773Z"
   },
   {
    "duration": 44,
    "start_time": "2024-06-18T20:50:48.541Z"
   },
   {
    "duration": 13,
    "start_time": "2024-06-18T20:50:49.610Z"
   },
   {
    "duration": 14,
    "start_time": "2024-06-18T20:50:50.949Z"
   },
   {
    "duration": 31,
    "start_time": "2024-06-18T20:51:01.377Z"
   },
   {
    "duration": 17,
    "start_time": "2024-06-18T20:51:02.753Z"
   },
   {
    "duration": 144,
    "start_time": "2024-06-18T20:53:01.203Z"
   },
   {
    "duration": 31,
    "start_time": "2024-06-18T20:53:11.752Z"
   },
   {
    "duration": 33,
    "start_time": "2024-06-18T20:53:12.741Z"
   },
   {
    "duration": 32,
    "start_time": "2024-06-18T20:53:31.971Z"
   },
   {
    "duration": 719,
    "start_time": "2024-06-18T20:53:44.443Z"
   },
   {
    "duration": 39335,
    "start_time": "2024-06-18T20:53:48.267Z"
   },
   {
    "duration": 24,
    "start_time": "2024-06-18T20:54:45.005Z"
   },
   {
    "duration": 29,
    "start_time": "2024-06-18T20:54:48.380Z"
   },
   {
    "duration": 559,
    "start_time": "2024-06-18T20:54:50.827Z"
   },
   {
    "duration": 29724,
    "start_time": "2024-06-18T20:54:55.029Z"
   },
   {
    "duration": 183,
    "start_time": "2024-06-18T20:55:24.758Z"
   },
   {
    "duration": 327,
    "start_time": "2024-06-18T20:56:50.453Z"
   },
   {
    "duration": 290,
    "start_time": "2024-06-18T20:57:19.063Z"
   },
   {
    "duration": 350,
    "start_time": "2024-06-18T20:57:33.936Z"
   },
   {
    "duration": 297,
    "start_time": "2024-06-18T20:57:46.393Z"
   },
   {
    "duration": 211,
    "start_time": "2024-06-18T20:59:35.522Z"
   },
   {
    "duration": 274,
    "start_time": "2024-06-18T20:59:54.983Z"
   },
   {
    "duration": 5196,
    "start_time": "2024-06-21T21:13:26.211Z"
   },
   {
    "duration": 80,
    "start_time": "2024-06-21T21:13:31.411Z"
   },
   {
    "duration": 12,
    "start_time": "2024-06-21T21:13:31.494Z"
   },
   {
    "duration": 19,
    "start_time": "2024-06-21T21:13:31.512Z"
   },
   {
    "duration": 21,
    "start_time": "2024-06-21T21:13:31.534Z"
   },
   {
    "duration": 71,
    "start_time": "2024-06-21T21:13:31.558Z"
   },
   {
    "duration": 51,
    "start_time": "2024-06-21T21:13:31.633Z"
   },
   {
    "duration": 18,
    "start_time": "2024-06-21T21:13:31.707Z"
   },
   {
    "duration": 20,
    "start_time": "2024-06-21T21:13:31.730Z"
   },
   {
    "duration": 431,
    "start_time": "2024-06-21T21:13:31.756Z"
   },
   {
    "duration": 19519,
    "start_time": "2024-06-21T21:13:32.190Z"
   },
   {
    "duration": 240,
    "start_time": "2024-06-21T21:13:51.712Z"
   },
   {
    "duration": 24,
    "start_time": "2024-06-21T21:13:51.955Z"
   },
   {
    "duration": 51,
    "start_time": "2024-06-21T21:13:51.982Z"
   },
   {
    "duration": 572,
    "start_time": "2024-06-21T21:13:52.036Z"
   },
   {
    "duration": 29807,
    "start_time": "2024-06-21T21:13:52.611Z"
   },
   {
    "duration": 317,
    "start_time": "2024-06-21T21:14:22.422Z"
   },
   {
    "duration": 16,
    "start_time": "2024-06-21T21:14:22.742Z"
   },
   {
    "duration": 261,
    "start_time": "2024-06-21T21:14:22.762Z"
   },
   {
    "duration": 11,
    "start_time": "2024-06-21T21:14:23.027Z"
   },
   {
    "duration": 571,
    "start_time": "2024-06-21T21:14:23.043Z"
   },
   {
    "duration": 267,
    "start_time": "2024-06-21T21:15:50.878Z"
   },
   {
    "duration": 250,
    "start_time": "2024-06-21T21:19:48.286Z"
   },
   {
    "duration": 30017,
    "start_time": "2024-06-21T21:19:53.414Z"
   },
   {
    "duration": 30,
    "start_time": "2024-06-21T21:21:43.730Z"
   },
   {
    "duration": 23,
    "start_time": "2024-06-21T21:22:03.378Z"
   },
   {
    "duration": 1394,
    "start_time": "2024-06-21T21:22:27.854Z"
   },
   {
    "duration": 73,
    "start_time": "2024-06-21T21:22:29.252Z"
   },
   {
    "duration": 8,
    "start_time": "2024-06-21T21:22:29.328Z"
   },
   {
    "duration": 102,
    "start_time": "2024-06-21T21:22:29.339Z"
   },
   {
    "duration": 18,
    "start_time": "2024-06-21T21:22:29.445Z"
   },
   {
    "duration": 55,
    "start_time": "2024-06-21T21:22:29.466Z"
   },
   {
    "duration": 41,
    "start_time": "2024-06-21T21:22:29.524Z"
   },
   {
    "duration": 40,
    "start_time": "2024-06-21T21:22:29.568Z"
   },
   {
    "duration": 16,
    "start_time": "2024-06-21T21:22:29.611Z"
   },
   {
    "duration": 407,
    "start_time": "2024-06-21T21:22:29.631Z"
   },
   {
    "duration": 19511,
    "start_time": "2024-06-21T21:22:30.041Z"
   },
   {
    "duration": 199,
    "start_time": "2024-06-21T21:22:49.554Z"
   },
   {
    "duration": 24,
    "start_time": "2024-06-21T21:22:49.756Z"
   },
   {
    "duration": 32,
    "start_time": "2024-06-21T21:22:49.805Z"
   },
   {
    "duration": 581,
    "start_time": "2024-06-21T21:22:49.841Z"
   },
   {
    "duration": 29820,
    "start_time": "2024-06-21T21:22:50.425Z"
   },
   {
    "duration": 588,
    "start_time": "2024-06-21T21:23:20.248Z"
   },
   {
    "duration": 0,
    "start_time": "2024-06-21T21:23:20.839Z"
   },
   {
    "duration": 0,
    "start_time": "2024-06-21T21:23:20.840Z"
   },
   {
    "duration": 0,
    "start_time": "2024-06-21T21:23:20.842Z"
   },
   {
    "duration": 110572,
    "start_time": "2024-06-21T21:23:47.676Z"
   },
   {
    "duration": 137,
    "start_time": "2024-06-21T21:28:00.383Z"
   },
   {
    "duration": 195,
    "start_time": "2024-06-21T21:28:22.610Z"
   },
   {
    "duration": 158,
    "start_time": "2024-06-21T21:28:38.652Z"
   },
   {
    "duration": 149,
    "start_time": "2024-06-21T21:28:49.872Z"
   },
   {
    "duration": 314,
    "start_time": "2024-06-21T21:28:57.398Z"
   },
   {
    "duration": 58,
    "start_time": "2024-06-21T21:29:26.780Z"
   },
   {
    "duration": 246,
    "start_time": "2024-06-21T21:29:29.728Z"
   },
   {
    "duration": 267,
    "start_time": "2024-06-21T21:29:50.197Z"
   },
   {
    "duration": 335,
    "start_time": "2024-06-21T21:30:22.692Z"
   },
   {
    "duration": 10,
    "start_time": "2024-06-21T21:30:30.879Z"
   },
   {
    "duration": 1523,
    "start_time": "2024-06-21T21:31:52.312Z"
   },
   {
    "duration": 57,
    "start_time": "2024-06-21T21:31:53.838Z"
   },
   {
    "duration": 8,
    "start_time": "2024-06-21T21:31:53.907Z"
   },
   {
    "duration": 99,
    "start_time": "2024-06-21T21:31:53.918Z"
   },
   {
    "duration": 18,
    "start_time": "2024-06-21T21:31:54.022Z"
   },
   {
    "duration": 25,
    "start_time": "2024-06-21T21:31:54.043Z"
   },
   {
    "duration": 73,
    "start_time": "2024-06-21T21:31:54.070Z"
   },
   {
    "duration": 12,
    "start_time": "2024-06-21T21:31:54.146Z"
   },
   {
    "duration": 45,
    "start_time": "2024-06-21T21:31:54.161Z"
   },
   {
    "duration": 384,
    "start_time": "2024-06-21T21:31:54.209Z"
   },
   {
    "duration": 71273,
    "start_time": "2024-06-21T21:31:54.600Z"
   },
   {
    "duration": 263,
    "start_time": "2024-06-21T21:33:05.876Z"
   },
   {
    "duration": 25,
    "start_time": "2024-06-21T21:33:06.142Z"
   },
   {
    "duration": 56,
    "start_time": "2024-06-21T21:33:06.172Z"
   },
   {
    "duration": 559,
    "start_time": "2024-06-21T21:33:06.231Z"
   },
   {
    "duration": 110128,
    "start_time": "2024-06-21T21:33:06.792Z"
   },
   {
    "duration": 292,
    "start_time": "2024-06-21T21:34:56.924Z"
   },
   {
    "duration": 59,
    "start_time": "2024-06-21T21:34:57.219Z"
   },
   {
    "duration": 319,
    "start_time": "2024-06-21T21:34:57.282Z"
   },
   {
    "duration": 10,
    "start_time": "2024-06-21T21:34:57.607Z"
   },
   {
    "duration": 270386,
    "start_time": "2024-06-21T21:35:49.189Z"
   },
   {
    "duration": 388,
    "start_time": "2024-06-21T21:40:19.968Z"
   },
   {
    "duration": 376,
    "start_time": "2024-06-21T21:41:28.750Z"
   },
   {
    "duration": 322,
    "start_time": "2024-06-21T21:42:17.891Z"
   },
   {
    "duration": 266,
    "start_time": "2024-06-21T21:42:38.881Z"
   },
   {
    "duration": 320,
    "start_time": "2024-06-23T21:11:15.337Z"
   },
   {
    "duration": 5261,
    "start_time": "2024-06-23T21:11:49.635Z"
   },
   {
    "duration": 71,
    "start_time": "2024-06-23T21:11:54.900Z"
   },
   {
    "duration": 7,
    "start_time": "2024-06-23T21:11:54.975Z"
   },
   {
    "duration": 17,
    "start_time": "2024-06-23T21:11:54.985Z"
   },
   {
    "duration": 19,
    "start_time": "2024-06-23T21:11:55.030Z"
   },
   {
    "duration": 24,
    "start_time": "2024-06-23T21:11:55.052Z"
   },
   {
    "duration": 79,
    "start_time": "2024-06-23T21:11:55.079Z"
   },
   {
    "duration": 12,
    "start_time": "2024-06-23T21:11:55.161Z"
   },
   {
    "duration": 15,
    "start_time": "2024-06-23T21:11:55.176Z"
   },
   {
    "duration": 415,
    "start_time": "2024-06-23T21:11:55.194Z"
   },
   {
    "duration": 71329,
    "start_time": "2024-06-23T21:11:55.611Z"
   },
   {
    "duration": 224,
    "start_time": "2024-06-23T21:13:06.943Z"
   },
   {
    "duration": 45,
    "start_time": "2024-06-23T21:13:07.170Z"
   },
   {
    "duration": 24,
    "start_time": "2024-06-23T21:13:07.221Z"
   },
   {
    "duration": 31,
    "start_time": "2024-06-23T21:13:07.248Z"
   },
   {
    "duration": 438,
    "start_time": "2024-06-23T21:13:07.282Z"
   },
   {
    "duration": 83866,
    "start_time": "2024-06-23T21:13:07.723Z"
   },
   {
    "duration": 320,
    "start_time": "2024-06-23T21:14:31.591Z"
   },
   {
    "duration": 29,
    "start_time": "2024-06-23T21:14:31.914Z"
   },
   {
    "duration": 329,
    "start_time": "2024-06-23T21:14:31.946Z"
   },
   {
    "duration": 10,
    "start_time": "2024-06-23T21:14:32.278Z"
   },
   {
    "duration": 2478,
    "start_time": "2024-06-23T21:15:13.730Z"
   },
   {
    "duration": 22,
    "start_time": "2024-06-23T21:15:26.024Z"
   },
   {
    "duration": 28,
    "start_time": "2024-06-23T21:15:27.713Z"
   },
   {
    "duration": 35,
    "start_time": "2024-06-23T21:15:33.211Z"
   },
   {
    "duration": 479,
    "start_time": "2024-06-23T21:15:35.134Z"
   },
   {
    "duration": 95744,
    "start_time": "2024-06-23T21:15:38.322Z"
   },
   {
    "duration": 287,
    "start_time": "2024-06-23T21:17:14.071Z"
   },
   {
    "duration": 21,
    "start_time": "2024-06-23T21:17:44.929Z"
   },
   {
    "duration": 22,
    "start_time": "2024-06-23T21:17:46.564Z"
   },
   {
    "duration": 41,
    "start_time": "2024-06-23T21:17:52.011Z"
   },
   {
    "duration": 525,
    "start_time": "2024-06-23T21:17:54.854Z"
   },
   {
    "duration": 105214,
    "start_time": "2024-06-23T21:17:57.452Z"
   },
   {
    "duration": 281,
    "start_time": "2024-06-23T21:19:42.670Z"
   },
   {
    "duration": 47,
    "start_time": "2024-06-23T21:19:42.954Z"
   },
   {
    "duration": 5180,
    "start_time": "2024-07-11T23:26:28.686Z"
   },
   {
    "duration": 71,
    "start_time": "2024-07-11T23:26:37.691Z"
   },
   {
    "duration": 8,
    "start_time": "2024-07-11T23:26:38.842Z"
   },
   {
    "duration": 15,
    "start_time": "2024-07-11T23:26:39.548Z"
   },
   {
    "duration": 20,
    "start_time": "2024-07-11T23:26:40.969Z"
   },
   {
    "duration": 26,
    "start_time": "2024-07-11T23:26:42.076Z"
   },
   {
    "duration": 41,
    "start_time": "2024-07-11T23:26:43.177Z"
   },
   {
    "duration": 13,
    "start_time": "2024-07-11T23:26:48.715Z"
   },
   {
    "duration": 14,
    "start_time": "2024-07-11T23:26:50.002Z"
   },
   {
    "duration": 388,
    "start_time": "2024-07-11T23:26:54.304Z"
   },
   {
    "duration": 253,
    "start_time": "2024-07-11T23:26:58.561Z"
   },
   {
    "duration": 72163,
    "start_time": "2024-07-11T23:27:08.510Z"
   },
   {
    "duration": 32,
    "start_time": "2024-07-11T23:28:30.583Z"
   },
   {
    "duration": 20,
    "start_time": "2024-07-11T23:28:32.929Z"
   },
   {
    "duration": 21,
    "start_time": "2024-07-11T23:28:43.767Z"
   },
   {
    "duration": 21,
    "start_time": "2024-07-11T23:29:20.176Z"
   },
   {
    "duration": 23,
    "start_time": "2024-07-11T23:29:25.340Z"
   },
   {
    "duration": 21,
    "start_time": "2024-07-11T23:30:15.577Z"
   },
   {
    "duration": 494,
    "start_time": "2024-07-11T23:32:35.261Z"
   },
   {
    "duration": 36,
    "start_time": "2024-07-11T23:32:43.428Z"
   },
   {
    "duration": 38,
    "start_time": "2024-07-11T23:32:55.742Z"
   },
   {
    "duration": 36,
    "start_time": "2024-07-11T23:33:18.578Z"
   },
   {
    "duration": 34,
    "start_time": "2024-07-11T23:33:34.873Z"
   },
   {
    "duration": 365,
    "start_time": "2024-07-11T23:37:18.939Z"
   },
   {
    "duration": 21470,
    "start_time": "2024-07-11T23:37:46.393Z"
   },
   {
    "duration": 67444,
    "start_time": "2024-07-11T23:38:16.873Z"
   },
   {
    "duration": 697,
    "start_time": "2024-07-11T23:40:42.194Z"
   },
   {
    "duration": 141,
    "start_time": "2024-07-11T23:41:41.250Z"
   },
   {
    "duration": 400,
    "start_time": "2024-07-11T23:41:47.257Z"
   },
   {
    "duration": 253,
    "start_time": "2024-07-11T23:41:52.218Z"
   },
   {
    "duration": 330,
    "start_time": "2024-07-11T23:42:02.650Z"
   },
   {
    "duration": 29,
    "start_time": "2024-07-11T23:43:09.632Z"
   },
   {
    "duration": 47,
    "start_time": "2024-07-11T23:43:18.064Z"
   },
   {
    "duration": 1444,
    "start_time": "2024-07-11T23:43:42.865Z"
   },
   {
    "duration": 64,
    "start_time": "2024-07-11T23:43:44.313Z"
   },
   {
    "duration": 8,
    "start_time": "2024-07-11T23:43:44.380Z"
   },
   {
    "duration": 107,
    "start_time": "2024-07-11T23:43:44.393Z"
   },
   {
    "duration": 18,
    "start_time": "2024-07-11T23:43:44.503Z"
   },
   {
    "duration": 50,
    "start_time": "2024-07-11T23:43:44.524Z"
   },
   {
    "duration": 42,
    "start_time": "2024-07-11T23:43:44.576Z"
   },
   {
    "duration": 13,
    "start_time": "2024-07-11T23:43:44.621Z"
   },
   {
    "duration": 41,
    "start_time": "2024-07-11T23:43:44.637Z"
   },
   {
    "duration": 406,
    "start_time": "2024-07-11T23:43:44.685Z"
   },
   {
    "duration": 72789,
    "start_time": "2024-07-11T23:43:45.095Z"
   },
   {
    "duration": 228,
    "start_time": "2024-07-11T23:44:57.887Z"
   },
   {
    "duration": 29,
    "start_time": "2024-07-11T23:44:58.119Z"
   },
   {
    "duration": 35,
    "start_time": "2024-07-11T23:44:58.151Z"
   },
   {
    "duration": 604,
    "start_time": "2024-07-11T23:44:58.189Z"
   },
   {
    "duration": 111168,
    "start_time": "2024-07-11T23:44:58.799Z"
   },
   {
    "duration": 496,
    "start_time": "2024-07-11T23:46:49.971Z"
   },
   {
    "duration": 425,
    "start_time": "2024-07-11T23:46:50.470Z"
   },
   {
    "duration": 0,
    "start_time": "2024-07-11T23:46:50.898Z"
   },
   {
    "duration": 0,
    "start_time": "2024-07-11T23:46:50.901Z"
   },
   {
    "duration": 0,
    "start_time": "2024-07-11T23:46:50.904Z"
   },
   {
    "duration": 0,
    "start_time": "2024-07-11T23:46:50.905Z"
   },
   {
    "duration": 0,
    "start_time": "2024-07-11T23:46:50.908Z"
   },
   {
    "duration": 371,
    "start_time": "2024-07-11T23:47:36.937Z"
   },
   {
    "duration": 32,
    "start_time": "2024-07-11T23:47:41.345Z"
   },
   {
    "duration": 67295,
    "start_time": "2024-07-11T23:47:46.745Z"
   },
   {
    "duration": 246,
    "start_time": "2024-07-11T23:52:05.324Z"
   },
   {
    "duration": 246,
    "start_time": "2024-07-11T23:52:10.634Z"
   },
   {
    "duration": 382,
    "start_time": "2024-07-11T23:52:16.273Z"
   },
   {
    "duration": 38,
    "start_time": "2024-07-11T23:52:22.747Z"
   },
   {
    "duration": 29,
    "start_time": "2024-07-11T23:52:29.737Z"
   },
   {
    "duration": 276,
    "start_time": "2024-07-11T23:52:34.966Z"
   },
   {
    "duration": 9,
    "start_time": "2024-07-11T23:52:41.256Z"
   },
   {
    "duration": 34,
    "start_time": "2024-07-11T23:53:03.346Z"
   },
   {
    "duration": 1516,
    "start_time": "2024-07-11T23:53:14.779Z"
   },
   {
    "duration": 83,
    "start_time": "2024-07-11T23:53:16.299Z"
   },
   {
    "duration": 11,
    "start_time": "2024-07-11T23:53:16.385Z"
   },
   {
    "duration": 112,
    "start_time": "2024-07-11T23:53:16.400Z"
   },
   {
    "duration": 24,
    "start_time": "2024-07-11T23:53:16.517Z"
   },
   {
    "duration": 47,
    "start_time": "2024-07-11T23:53:16.544Z"
   },
   {
    "duration": 74,
    "start_time": "2024-07-11T23:53:16.594Z"
   },
   {
    "duration": 17,
    "start_time": "2024-07-11T23:53:16.673Z"
   },
   {
    "duration": 20,
    "start_time": "2024-07-11T23:53:16.693Z"
   },
   {
    "duration": 425,
    "start_time": "2024-07-11T23:53:16.716Z"
   },
   {
    "duration": 74464,
    "start_time": "2024-07-11T23:53:17.144Z"
   },
   {
    "duration": 205,
    "start_time": "2024-07-11T23:54:31.611Z"
   },
   {
    "duration": 36,
    "start_time": "2024-07-11T23:54:31.819Z"
   },
   {
    "duration": 21,
    "start_time": "2024-07-11T23:54:31.873Z"
   },
   {
    "duration": 763,
    "start_time": "2024-07-11T23:54:31.897Z"
   },
   {
    "duration": 148460,
    "start_time": "2024-07-11T23:54:32.667Z"
   },
   {
    "duration": 673,
    "start_time": "2024-07-11T23:57:01.130Z"
   },
   {
    "duration": 370,
    "start_time": "2024-07-11T23:57:01.806Z"
   },
   {
    "duration": 67627,
    "start_time": "2024-07-11T23:57:02.179Z"
   },
   {
    "duration": 342,
    "start_time": "2024-07-11T23:58:09.810Z"
   },
   {
    "duration": 49,
    "start_time": "2024-07-11T23:58:10.155Z"
   },
   {
    "duration": 283,
    "start_time": "2024-07-11T23:58:10.207Z"
   },
   {
    "duration": 10,
    "start_time": "2024-07-11T23:58:10.493Z"
   },
   {
    "duration": 5162,
    "start_time": "2024-07-13T08:10:48.626Z"
   },
   {
    "duration": 65,
    "start_time": "2024-07-13T08:10:53.792Z"
   },
   {
    "duration": 8,
    "start_time": "2024-07-13T08:10:53.859Z"
   },
   {
    "duration": 31,
    "start_time": "2024-07-13T08:10:53.872Z"
   },
   {
    "duration": 20,
    "start_time": "2024-07-13T08:10:53.905Z"
   },
   {
    "duration": 29,
    "start_time": "2024-07-13T08:10:53.928Z"
   },
   {
    "duration": 73,
    "start_time": "2024-07-13T08:10:53.960Z"
   },
   {
    "duration": 12,
    "start_time": "2024-07-13T08:10:54.036Z"
   },
   {
    "duration": 15,
    "start_time": "2024-07-13T08:10:54.051Z"
   },
   {
    "duration": 388,
    "start_time": "2024-07-13T08:10:54.101Z"
   },
   {
    "duration": 72675,
    "start_time": "2024-07-13T08:10:54.492Z"
   },
   {
    "duration": 265,
    "start_time": "2024-07-13T08:12:07.169Z"
   },
   {
    "duration": 35,
    "start_time": "2024-07-13T08:12:07.437Z"
   },
   {
    "duration": 707,
    "start_time": "2024-07-13T08:12:07.477Z"
   },
   {
    "duration": 399,
    "start_time": "2024-07-13T08:12:08.188Z"
   },
   {
    "duration": 145714,
    "start_time": "2024-07-13T08:12:08.589Z"
   },
   {
    "duration": 71921,
    "start_time": "2024-07-13T08:14:34.305Z"
   },
   {
    "duration": 382,
    "start_time": "2024-07-13T08:15:46.229Z"
   },
   {
    "duration": 680,
    "start_time": "2024-07-13T08:15:46.614Z"
   },
   {
    "duration": 0,
    "start_time": "2024-07-13T08:15:47.296Z"
   },
   {
    "duration": 0,
    "start_time": "2024-07-13T08:15:47.302Z"
   },
   {
    "duration": 0,
    "start_time": "2024-07-13T08:15:47.304Z"
   },
   {
    "duration": 273,
    "start_time": "2024-07-13T08:16:14.328Z"
   },
   {
    "duration": 352,
    "start_time": "2024-07-13T08:16:23.910Z"
   },
   {
    "duration": 56,
    "start_time": "2024-07-13T08:16:31.070Z"
   },
   {
    "duration": 19,
    "start_time": "2024-07-13T08:16:38.792Z"
   },
   {
    "duration": 25,
    "start_time": "2024-07-13T08:17:25.078Z"
   },
   {
    "duration": 71855,
    "start_time": "2024-07-13T08:17:30.616Z"
   },
   {
    "duration": 19,
    "start_time": "2024-07-13T08:18:55.150Z"
   },
   {
    "duration": 271,
    "start_time": "2024-07-13T08:19:15.516Z"
   },
   {
    "duration": 221,
    "start_time": "2024-07-13T08:19:23.158Z"
   },
   {
    "duration": 8,
    "start_time": "2024-07-13T08:19:43.846Z"
   },
   {
    "duration": 56,
    "start_time": "2024-07-13T08:20:09.765Z"
   },
   {
    "duration": 58,
    "start_time": "2024-07-13T08:20:13.894Z"
   },
   {
    "duration": 20,
    "start_time": "2024-07-13T08:20:20.190Z"
   },
   {
    "duration": 23,
    "start_time": "2024-07-13T08:21:12.341Z"
   },
   {
    "duration": 1438,
    "start_time": "2024-07-13T08:21:17.878Z"
   },
   {
    "duration": 57,
    "start_time": "2024-07-13T08:21:19.320Z"
   },
   {
    "duration": 23,
    "start_time": "2024-07-13T08:21:19.379Z"
   },
   {
    "duration": 99,
    "start_time": "2024-07-13T08:21:19.405Z"
   },
   {
    "duration": 19,
    "start_time": "2024-07-13T08:21:19.508Z"
   },
   {
    "duration": 26,
    "start_time": "2024-07-13T08:21:19.530Z"
   },
   {
    "duration": 76,
    "start_time": "2024-07-13T08:21:19.559Z"
   },
   {
    "duration": 12,
    "start_time": "2024-07-13T08:21:19.638Z"
   },
   {
    "duration": 15,
    "start_time": "2024-07-13T08:21:19.653Z"
   },
   {
    "duration": 412,
    "start_time": "2024-07-13T08:21:19.671Z"
   },
   {
    "duration": 73069,
    "start_time": "2024-07-13T08:21:20.087Z"
   },
   {
    "duration": 264,
    "start_time": "2024-07-13T08:22:33.159Z"
   },
   {
    "duration": 28,
    "start_time": "2024-07-13T08:22:33.426Z"
   },
   {
    "duration": 553,
    "start_time": "2024-07-13T08:22:33.460Z"
   },
   {
    "duration": 409,
    "start_time": "2024-07-13T08:22:34.017Z"
   },
   {
    "duration": 109292,
    "start_time": "2024-07-13T08:22:34.429Z"
   },
   {
    "duration": 72191,
    "start_time": "2024-07-13T08:24:23.724Z"
   },
   {
    "duration": 317,
    "start_time": "2024-07-13T08:25:35.918Z"
   },
   {
    "duration": 394,
    "start_time": "2024-07-13T08:25:36.238Z"
   },
   {
    "duration": 23,
    "start_time": "2024-07-13T08:25:36.636Z"
   },
   {
    "duration": 274,
    "start_time": "2024-07-13T08:25:36.662Z"
   },
   {
    "duration": 9,
    "start_time": "2024-07-13T08:25:36.939Z"
   },
   {
    "duration": 39,
    "start_time": "2024-07-13T08:31:28.263Z"
   },
   {
    "duration": 41,
    "start_time": "2024-07-13T08:31:32.271Z"
   },
   {
    "duration": 180082,
    "start_time": "2024-07-13T08:31:37.814Z"
   },
   {
    "duration": 59,
    "start_time": "2024-07-13T08:35:28.438Z"
   },
   {
    "duration": 29,
    "start_time": "2024-07-13T08:35:38.998Z"
   },
   {
    "duration": 151848,
    "start_time": "2024-07-13T08:35:47.469Z"
   },
   {
    "duration": 19,
    "start_time": "2024-07-13T08:41:41.267Z"
   },
   {
    "duration": 25,
    "start_time": "2024-07-13T08:42:00.917Z"
   },
   {
    "duration": 122679,
    "start_time": "2024-07-13T08:42:05.461Z"
   },
   {
    "duration": 71817,
    "start_time": "2024-07-13T08:44:08.143Z"
   },
   {
    "duration": 19,
    "start_time": "2024-07-13T08:45:47.744Z"
   },
   {
    "duration": 1532,
    "start_time": "2024-07-13T08:49:33.193Z"
   },
   {
    "duration": 59,
    "start_time": "2024-07-13T08:49:34.729Z"
   },
   {
    "duration": 8,
    "start_time": "2024-07-13T08:49:34.803Z"
   },
   {
    "duration": 96,
    "start_time": "2024-07-13T08:49:34.815Z"
   },
   {
    "duration": 20,
    "start_time": "2024-07-13T08:49:34.914Z"
   },
   {
    "duration": 25,
    "start_time": "2024-07-13T08:49:34.937Z"
   },
   {
    "duration": 83,
    "start_time": "2024-07-13T08:49:34.965Z"
   },
   {
    "duration": 14,
    "start_time": "2024-07-13T08:49:35.051Z"
   },
   {
    "duration": 35,
    "start_time": "2024-07-13T08:49:35.068Z"
   },
   {
    "duration": 393,
    "start_time": "2024-07-13T08:49:35.109Z"
   },
   {
    "duration": 72827,
    "start_time": "2024-07-13T08:49:35.505Z"
   },
   {
    "duration": 205,
    "start_time": "2024-07-13T08:50:48.336Z"
   },
   {
    "duration": 27,
    "start_time": "2024-07-13T08:50:48.544Z"
   },
   {
    "duration": 651,
    "start_time": "2024-07-13T08:50:48.574Z"
   },
   {
    "duration": 414,
    "start_time": "2024-07-13T08:50:49.231Z"
   },
   {
    "duration": 122787,
    "start_time": "2024-07-13T08:50:49.648Z"
   },
   {
    "duration": 71328,
    "start_time": "2024-07-13T08:52:52.437Z"
   },
   {
    "duration": 356,
    "start_time": "2024-07-13T08:54:03.768Z"
   },
   {
    "duration": 403,
    "start_time": "2024-07-13T08:54:04.127Z"
   },
   {
    "duration": 19,
    "start_time": "2024-07-13T08:54:04.534Z"
   },
   {
    "duration": 268,
    "start_time": "2024-07-13T08:54:04.556Z"
   },
   {
    "duration": 10,
    "start_time": "2024-07-13T08:54:04.829Z"
   }
  ],
  "kernelspec": {
   "display_name": "base",
   "language": "python",
   "name": "python3"
  },
  "language_info": {
   "codemirror_mode": {
    "name": "ipython",
    "version": 3
   },
   "file_extension": ".py",
   "mimetype": "text/x-python",
   "name": "python",
   "nbconvert_exporter": "python",
   "pygments_lexer": "ipython3",
   "version": "3.12.7"
  },
  "toc": {
   "base_numbering": 1,
   "nav_menu": {
    "height": "223px",
    "width": "160px"
   },
   "number_sections": true,
   "sideBar": true,
   "skip_h1_title": true,
   "title_cell": "Table of Contents",
   "title_sidebar": "Contents",
   "toc_cell": false,
   "toc_position": {
    "height": "calc(100% - 180px)",
    "left": "10px",
    "top": "150px",
    "width": "165px"
   },
   "toc_section_display": true,
   "toc_window_display": true
  }
 },
 "nbformat": 4,
 "nbformat_minor": 2
}
