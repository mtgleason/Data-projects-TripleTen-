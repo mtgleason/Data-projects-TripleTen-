{
 "cells": [
  {
   "cell_type": "markdown",
   "metadata": {},
   "source": [
    "# Machine Learning in Business Project\n",
    "***\n",
    "\n",
    "In this Notebook, we will be looking at data from 3 different oil rich regions for the OilyGiant mining company in order to determine which region will give the company the best possible ROI and least significant risk of loss for building wells, keeping in mind these details:\n",
    "\n",
    "- OilyGiant mining company wants to build 200 wells.\n",
    "- The total budget for building the wells is 100 million USD.\n",
    "- One barrel of raw materials brings 4.5 USD of revenue.\n",
    "\n",
    "We will empoly both the use of a machine learning algorithm (Linear Regression) and the Bootstrapping technique in order to verify the accuracy of the results."
   ]
  },
  {
   "cell_type": "code",
   "execution_count": 1,
   "metadata": {},
   "outputs": [],
   "source": [
    "# importing libraries\n",
    "import pandas as pd\n",
    "import numpy as np\n",
    "from scipy import stats as st\n",
    "from sklearn.model_selection import train_test_split\n",
    "from sklearn.preprocessing import StandardScaler\n",
    "from sklearn.linear_model import LinearRegression\n",
    "from sklearn.metrics import mean_squared_error"
   ]
  },
  {
   "cell_type": "markdown",
   "metadata": {},
   "source": [
    "## Loading Data\n",
    "\n",
    "OilyGiant has provided data in 3 CSV files called `geo_data_0.csv`, `geo_data_1.csv`, and `geo_data_2.csv`. \n",
    "\n",
    "They will be imported into pandas DataFrames labeled `data_0`, `data_1`, and `data_2` respectively. \n",
    "\n",
    "A summary of the data is then displayed."
   ]
  },
  {
   "cell_type": "code",
   "execution_count": 2,
   "metadata": {
    "scrolled": false
   },
   "outputs": [
    {
     "name": "stdout",
     "output_type": "stream",
     "text": [
      "<class 'pandas.core.frame.DataFrame'>\n",
      "RangeIndex: 100000 entries, 0 to 99999\n",
      "Data columns (total 5 columns):\n",
      " #   Column   Non-Null Count   Dtype  \n",
      "---  ------   --------------   -----  \n",
      " 0   id       100000 non-null  object \n",
      " 1   f0       100000 non-null  float64\n",
      " 2   f1       100000 non-null  float64\n",
      " 3   f2       100000 non-null  float64\n",
      " 4   product  100000 non-null  float64\n",
      "dtypes: float64(4), object(1)\n",
      "memory usage: 3.8+ MB\n",
      "<class 'pandas.core.frame.DataFrame'>\n",
      "RangeIndex: 100000 entries, 0 to 99999\n",
      "Data columns (total 5 columns):\n",
      " #   Column   Non-Null Count   Dtype  \n",
      "---  ------   --------------   -----  \n",
      " 0   id       100000 non-null  object \n",
      " 1   f0       100000 non-null  float64\n",
      " 2   f1       100000 non-null  float64\n",
      " 3   f2       100000 non-null  float64\n",
      " 4   product  100000 non-null  float64\n",
      "dtypes: float64(4), object(1)\n",
      "memory usage: 3.8+ MB\n",
      "<class 'pandas.core.frame.DataFrame'>\n",
      "RangeIndex: 100000 entries, 0 to 99999\n",
      "Data columns (total 5 columns):\n",
      " #   Column   Non-Null Count   Dtype  \n",
      "---  ------   --------------   -----  \n",
      " 0   id       100000 non-null  object \n",
      " 1   f0       100000 non-null  float64\n",
      " 2   f1       100000 non-null  float64\n",
      " 3   f2       100000 non-null  float64\n",
      " 4   product  100000 non-null  float64\n",
      "dtypes: float64(4), object(1)\n",
      "memory usage: 3.8+ MB\n"
     ]
    }
   ],
   "source": [
    "data_0 = pd.read_csv('geo_data_0.csv')\n",
    "data_1 = pd.read_csv('geo_data_1.csv')\n",
    "data_2 = pd.read_csv('geo_data_2.csv')\n",
    "data_0.info()\n",
    "data_1.info()\n",
    "data_2.info()"
   ]
  },
  {
   "cell_type": "code",
   "execution_count": 3,
   "metadata": {},
   "outputs": [
    {
     "data": {
      "text/html": [
       "<div>\n",
       "<style scoped>\n",
       "    .dataframe tbody tr th:only-of-type {\n",
       "        vertical-align: middle;\n",
       "    }\n",
       "\n",
       "    .dataframe tbody tr th {\n",
       "        vertical-align: top;\n",
       "    }\n",
       "\n",
       "    .dataframe thead th {\n",
       "        text-align: right;\n",
       "    }\n",
       "</style>\n",
       "<table border=\"1\" class=\"dataframe\">\n",
       "  <thead>\n",
       "    <tr style=\"text-align: right;\">\n",
       "      <th></th>\n",
       "      <th>id</th>\n",
       "      <th>f0</th>\n",
       "      <th>f1</th>\n",
       "      <th>f2</th>\n",
       "      <th>product</th>\n",
       "    </tr>\n",
       "  </thead>\n",
       "  <tbody>\n",
       "    <tr>\n",
       "      <th>0</th>\n",
       "      <td>txEyH</td>\n",
       "      <td>0.705745</td>\n",
       "      <td>-0.497823</td>\n",
       "      <td>1.221170</td>\n",
       "      <td>105.280062</td>\n",
       "    </tr>\n",
       "    <tr>\n",
       "      <th>1</th>\n",
       "      <td>2acmU</td>\n",
       "      <td>1.334711</td>\n",
       "      <td>-0.340164</td>\n",
       "      <td>4.365080</td>\n",
       "      <td>73.037750</td>\n",
       "    </tr>\n",
       "    <tr>\n",
       "      <th>2</th>\n",
       "      <td>409Wp</td>\n",
       "      <td>1.022732</td>\n",
       "      <td>0.151990</td>\n",
       "      <td>1.419926</td>\n",
       "      <td>85.265647</td>\n",
       "    </tr>\n",
       "    <tr>\n",
       "      <th>3</th>\n",
       "      <td>iJLyR</td>\n",
       "      <td>-0.032172</td>\n",
       "      <td>0.139033</td>\n",
       "      <td>2.978566</td>\n",
       "      <td>168.620776</td>\n",
       "    </tr>\n",
       "    <tr>\n",
       "      <th>4</th>\n",
       "      <td>Xdl7t</td>\n",
       "      <td>1.988431</td>\n",
       "      <td>0.155413</td>\n",
       "      <td>4.751769</td>\n",
       "      <td>154.036647</td>\n",
       "    </tr>\n",
       "  </tbody>\n",
       "</table>\n",
       "</div>"
      ],
      "text/plain": [
       "      id        f0        f1        f2     product\n",
       "0  txEyH  0.705745 -0.497823  1.221170  105.280062\n",
       "1  2acmU  1.334711 -0.340164  4.365080   73.037750\n",
       "2  409Wp  1.022732  0.151990  1.419926   85.265647\n",
       "3  iJLyR -0.032172  0.139033  2.978566  168.620776\n",
       "4  Xdl7t  1.988431  0.155413  4.751769  154.036647"
      ]
     },
     "metadata": {},
     "output_type": "display_data"
    },
    {
     "data": {
      "text/html": [
       "<div>\n",
       "<style scoped>\n",
       "    .dataframe tbody tr th:only-of-type {\n",
       "        vertical-align: middle;\n",
       "    }\n",
       "\n",
       "    .dataframe tbody tr th {\n",
       "        vertical-align: top;\n",
       "    }\n",
       "\n",
       "    .dataframe thead th {\n",
       "        text-align: right;\n",
       "    }\n",
       "</style>\n",
       "<table border=\"1\" class=\"dataframe\">\n",
       "  <thead>\n",
       "    <tr style=\"text-align: right;\">\n",
       "      <th></th>\n",
       "      <th>id</th>\n",
       "      <th>f0</th>\n",
       "      <th>f1</th>\n",
       "      <th>f2</th>\n",
       "      <th>product</th>\n",
       "    </tr>\n",
       "  </thead>\n",
       "  <tbody>\n",
       "    <tr>\n",
       "      <th>0</th>\n",
       "      <td>kBEdx</td>\n",
       "      <td>-15.001348</td>\n",
       "      <td>-8.276000</td>\n",
       "      <td>-0.005876</td>\n",
       "      <td>3.179103</td>\n",
       "    </tr>\n",
       "    <tr>\n",
       "      <th>1</th>\n",
       "      <td>62mP7</td>\n",
       "      <td>14.272088</td>\n",
       "      <td>-3.475083</td>\n",
       "      <td>0.999183</td>\n",
       "      <td>26.953261</td>\n",
       "    </tr>\n",
       "    <tr>\n",
       "      <th>2</th>\n",
       "      <td>vyE1P</td>\n",
       "      <td>6.263187</td>\n",
       "      <td>-5.948386</td>\n",
       "      <td>5.001160</td>\n",
       "      <td>134.766305</td>\n",
       "    </tr>\n",
       "    <tr>\n",
       "      <th>3</th>\n",
       "      <td>KcrkZ</td>\n",
       "      <td>-13.081196</td>\n",
       "      <td>-11.506057</td>\n",
       "      <td>4.999415</td>\n",
       "      <td>137.945408</td>\n",
       "    </tr>\n",
       "    <tr>\n",
       "      <th>4</th>\n",
       "      <td>AHL4O</td>\n",
       "      <td>12.702195</td>\n",
       "      <td>-8.147433</td>\n",
       "      <td>5.004363</td>\n",
       "      <td>134.766305</td>\n",
       "    </tr>\n",
       "  </tbody>\n",
       "</table>\n",
       "</div>"
      ],
      "text/plain": [
       "      id         f0         f1        f2     product\n",
       "0  kBEdx -15.001348  -8.276000 -0.005876    3.179103\n",
       "1  62mP7  14.272088  -3.475083  0.999183   26.953261\n",
       "2  vyE1P   6.263187  -5.948386  5.001160  134.766305\n",
       "3  KcrkZ -13.081196 -11.506057  4.999415  137.945408\n",
       "4  AHL4O  12.702195  -8.147433  5.004363  134.766305"
      ]
     },
     "metadata": {},
     "output_type": "display_data"
    },
    {
     "data": {
      "text/html": [
       "<div>\n",
       "<style scoped>\n",
       "    .dataframe tbody tr th:only-of-type {\n",
       "        vertical-align: middle;\n",
       "    }\n",
       "\n",
       "    .dataframe tbody tr th {\n",
       "        vertical-align: top;\n",
       "    }\n",
       "\n",
       "    .dataframe thead th {\n",
       "        text-align: right;\n",
       "    }\n",
       "</style>\n",
       "<table border=\"1\" class=\"dataframe\">\n",
       "  <thead>\n",
       "    <tr style=\"text-align: right;\">\n",
       "      <th></th>\n",
       "      <th>id</th>\n",
       "      <th>f0</th>\n",
       "      <th>f1</th>\n",
       "      <th>f2</th>\n",
       "      <th>product</th>\n",
       "    </tr>\n",
       "  </thead>\n",
       "  <tbody>\n",
       "    <tr>\n",
       "      <th>0</th>\n",
       "      <td>fwXo0</td>\n",
       "      <td>-1.146987</td>\n",
       "      <td>0.963328</td>\n",
       "      <td>-0.828965</td>\n",
       "      <td>27.758673</td>\n",
       "    </tr>\n",
       "    <tr>\n",
       "      <th>1</th>\n",
       "      <td>WJtFt</td>\n",
       "      <td>0.262778</td>\n",
       "      <td>0.269839</td>\n",
       "      <td>-2.530187</td>\n",
       "      <td>56.069697</td>\n",
       "    </tr>\n",
       "    <tr>\n",
       "      <th>2</th>\n",
       "      <td>ovLUW</td>\n",
       "      <td>0.194587</td>\n",
       "      <td>0.289035</td>\n",
       "      <td>-5.586433</td>\n",
       "      <td>62.871910</td>\n",
       "    </tr>\n",
       "    <tr>\n",
       "      <th>3</th>\n",
       "      <td>q6cA6</td>\n",
       "      <td>2.236060</td>\n",
       "      <td>-0.553760</td>\n",
       "      <td>0.930038</td>\n",
       "      <td>114.572842</td>\n",
       "    </tr>\n",
       "    <tr>\n",
       "      <th>4</th>\n",
       "      <td>WPMUX</td>\n",
       "      <td>-0.515993</td>\n",
       "      <td>1.716266</td>\n",
       "      <td>5.899011</td>\n",
       "      <td>149.600746</td>\n",
       "    </tr>\n",
       "  </tbody>\n",
       "</table>\n",
       "</div>"
      ],
      "text/plain": [
       "      id        f0        f1        f2     product\n",
       "0  fwXo0 -1.146987  0.963328 -0.828965   27.758673\n",
       "1  WJtFt  0.262778  0.269839 -2.530187   56.069697\n",
       "2  ovLUW  0.194587  0.289035 -5.586433   62.871910\n",
       "3  q6cA6  2.236060 -0.553760  0.930038  114.572842\n",
       "4  WPMUX -0.515993  1.716266  5.899011  149.600746"
      ]
     },
     "metadata": {},
     "output_type": "display_data"
    }
   ],
   "source": [
    "display(data_0.head())\n",
    "display(data_1.head())\n",
    "display(data_2.head())"
   ]
  },
  {
   "cell_type": "markdown",
   "metadata": {},
   "source": [
    "All 3 DataFrames have 100,000 rows and 5 columns. \n",
    "\n",
    "Each row contains unique location data for various points in each region.\n",
    "\n",
    "The columns include:\n",
    "\n",
    "- `id` -> Unique Location Identifier (unessecary for training)\n",
    "- `f0` `f1` `f2` -> 3 relevant points of geographical data\n",
    "- `product` -> volume of reserves in the oil well location (measured in thousand barrels)"
   ]
  },
  {
   "cell_type": "markdown",
   "metadata": {},
   "source": [
    "## Preparing Data\n",
    "\n",
    "There are no null values in any region, for the sake of accuracy the data will be checked for  duplicates."
   ]
  },
  {
   "cell_type": "code",
   "execution_count": 4,
   "metadata": {},
   "outputs": [
    {
     "name": "stdout",
     "output_type": "stream",
     "text": [
      "0\n",
      "0\n",
      "0\n"
     ]
    }
   ],
   "source": [
    "# Check for duplicated values\n",
    "print(data_0.duplicated().sum())\n",
    "print(data_1.duplicated().sum())\n",
    "print(data_2.duplicated().sum()) "
   ]
  },
  {
   "cell_type": "markdown",
   "metadata": {},
   "source": [
    "Now in order to train the Linear Regression algorithm the data will need to be sorted into the following categories:\n",
    "\n",
    "**Features:**\n",
    "\n",
    "- `f0`\n",
    "- `f1`\n",
    "- `f2`\n",
    "\n",
    "**Target**:\n",
    "\n",
    "- `product`\n",
    "\n",
    "This will allow the algorithm to use the geographical data given by OilyGiant to estimate the average reserves each regions locations.\n",
    "\n",
    "The data is then split into training and validation dataset at a ratio of `75:25`."
   ]
  },
  {
   "cell_type": "code",
   "execution_count": 5,
   "metadata": {},
   "outputs": [
    {
     "name": "stdout",
     "output_type": "stream",
     "text": [
      "0.75 0.25\n",
      "0.75 0.25\n",
      "0.75 0.25\n"
     ]
    }
   ],
   "source": [
    "features_0 = data_0.drop(['id', 'product'], axis=1)\n",
    "features_1 = data_1.drop(['id', 'product'], axis=1)\n",
    "features_2 = data_2.drop(['id', 'product'], axis=1)\n",
    "\n",
    "target_0 = data_0['product']\n",
    "target_1 = data_1['product']\n",
    "target_2 = data_2['product']\n",
    "\n",
    "features_train_0, features_valid_0, target_train_0, target_valid_0 = train_test_split(features_0, target_0, test_size=0.25, random_state=123)\n",
    "features_train_1, features_valid_1, target_train_1, target_valid_1 = train_test_split(features_1, target_1, test_size=0.25, random_state=123)\n",
    "features_train_2, features_valid_2, target_train_2, target_valid_2 = train_test_split(features_2, target_2, test_size=0.25, random_state=123)\n",
    "\n",
    "print(len(features_train_0) / len(data_0), len(features_valid_0) / len(data_0))\n",
    "print(len(features_train_1) / len(data_1), len(features_valid_1) / len(data_1))\n",
    "print(len(features_train_2) / len(data_2), len(features_valid_2) / len(data_2))"
   ]
  },
  {
   "cell_type": "markdown",
   "metadata": {},
   "source": [
    "Feature data will be scaled to fit between -1 and 1 to ensure the algorithm models the data accurately."
   ]
  },
  {
   "cell_type": "code",
   "execution_count": 6,
   "metadata": {},
   "outputs": [],
   "source": [
    "# Create the scaler instance\n",
    "scaler = StandardScaler()\n",
    "   \n",
    "# Fit and transform the training data, then transform the validation data\n",
    "features_train_0 = scaler.fit_transform(features_train_0)\n",
    "features_valid_0 = scaler.transform(features_valid_0)\n",
    "   \n",
    "features_train_1 = scaler.fit_transform(features_train_1)\n",
    "features_valid_1 = scaler.transform(features_valid_1)\n",
    "   \n",
    "features_train_2 = scaler.fit_transform(features_train_2)\n",
    "features_valid_2 = scaler.transform(features_valid_2)"
   ]
  },
  {
   "cell_type": "markdown",
   "metadata": {},
   "source": [
    "## Training Model\n",
    "\n",
    "Next, we will write a program that allows us to train the algorithm for each region to find the average reserves at the locations in each region. We will also include the calculations for the RMSE(root mean squared error), a metric that gives the approximate error rate of the model."
   ]
  },
  {
   "cell_type": "code",
   "execution_count": 7,
   "metadata": {},
   "outputs": [
    {
     "name": "stderr",
     "output_type": "stream",
     "text": [
      "c:\\Users\\m-gle\\anaconda3\\Lib\\site-packages\\sklearn\\metrics\\_regression.py:492: FutureWarning: 'squared' is deprecated in version 1.4 and will be removed in 1.6. To calculate the root mean squared error, use the function'root_mean_squared_error'.\n",
      "  warnings.warn(\n",
      "c:\\Users\\m-gle\\anaconda3\\Lib\\site-packages\\sklearn\\metrics\\_regression.py:492: FutureWarning: 'squared' is deprecated in version 1.4 and will be removed in 1.6. To calculate the root mean squared error, use the function'root_mean_squared_error'.\n",
      "  warnings.warn(\n",
      "c:\\Users\\m-gle\\anaconda3\\Lib\\site-packages\\sklearn\\metrics\\_regression.py:492: FutureWarning: 'squared' is deprecated in version 1.4 and will be removed in 1.6. To calculate the root mean squared error, use the function'root_mean_squared_error'.\n",
      "  warnings.warn(\n"
     ]
    },
    {
     "data": {
      "text/plain": [
       "'Region 0 Average Predicted Reserves: 92.549 RMSE: 37.648'"
      ]
     },
     "metadata": {},
     "output_type": "display_data"
    },
    {
     "data": {
      "text/plain": [
       "'Region 1 Average Predicted Reserves: 69.280 RMSE: 0.895'"
      ]
     },
     "metadata": {},
     "output_type": "display_data"
    },
    {
     "data": {
      "text/plain": [
       "'Region 2 Average Predicted Reserves: 95.099 RMSE: 40.128'"
      ]
     },
     "metadata": {},
     "output_type": "display_data"
    }
   ],
   "source": [
    "def train_eval(features_train, target_train, features_valid, target_valid):\n",
    "    model = LinearRegression()\n",
    "    model.fit(features_train, target_train)\n",
    "    predictions = model.predict(features_valid)\n",
    "    avg_reserves = predictions.mean()\n",
    "    rmse = mean_squared_error(target_valid, predictions, squared=False)\n",
    "    return avg_reserves, rmse, model\n",
    "\n",
    "region_0 = train_eval(features_train_0, target_train_0, features_valid_0, target_valid_0)\n",
    "region_1 = train_eval(features_train_1, target_train_1, features_valid_1, target_valid_1)\n",
    "region_2 = train_eval(features_train_2, target_train_2, features_valid_2, target_valid_2)\n",
    "\n",
    "display(f'Region 0 Average Predicted Reserves: {region_0[0]:.3f} RMSE: {region_0[1]:.3f}')\n",
    "display(f'Region 1 Average Predicted Reserves: {region_1[0]:.3f} RMSE: {region_1[1]:.3f}')\n",
    "display(f'Region 2 Average Predicted Reserves: {region_2[0]:.3f} RMSE: {region_2[1]:.3f}')"
   ]
  },
  {
   "cell_type": "markdown",
   "metadata": {},
   "source": [
    "The model predicts that wells in Region 0 have an average reserve of 92.549 thousand barrels of oil with an approximate error of 37.648 thousand barrels.\n",
    "\n",
    "The model predicts that wells in Region 1 have an average reserve of 69.280 thousand barrels of oil with an approximate error of 0.895 thousand barrels.\n",
    "\n",
    "The model predicts that wells in Region 2 have an average reserve of 95.099 thousand barrels of oil with an approximate error of 40.128 thousand barrels.\n",
    "\n",
    "From this data we can tell that wells in regions 0 and 2 have more predicted reserves overall with a wider spread of predictions, while the model predicted region 1 has less on average but more consistently."
   ]
  },
  {
   "cell_type": "markdown",
   "metadata": {},
   "source": [
    "## Estimating Profits\n",
    "\n",
    "Now we will preform some calculations in order to determine which regions will be considered profitable."
   ]
  },
  {
   "cell_type": "code",
   "execution_count": 8,
   "metadata": {},
   "outputs": [
    {
     "name": "stdout",
     "output_type": "stream",
     "text": [
      "Cost per well: $500000.00\n",
      "Barrels needed to break even: 111.11111111111111\n"
     ]
    }
   ],
   "source": [
    "# Store all key values for calculations\n",
    "number_of_wells = 200\n",
    "revenue_per_barrel = 4.5 # in thousand USD\n",
    "total_cost = 100000  # in thousand USD (given budget)\n",
    "\n",
    "# Calculate the volume of reserves sufficient for developing a new well without losses\n",
    "cost_per_well = (total_cost / number_of_wells)\n",
    "barrels_for_profit = cost_per_well / revenue_per_barrel\n",
    "print(f\"Cost per well: ${cost_per_well * 10 ** 3:.2f}\")\n",
    "print(f\"Barrels needed to break even: {barrels_for_profit}\")"
   ]
  },
  {
   "cell_type": "markdown",
   "metadata": {},
   "source": [
    "You can see that each well will cost $\\$500000$ and need to produce an average of $111111.\\overline{1}$ barrels of oil in order for a region to be considered profitable.\n",
    "\n",
    "Now we create another program that will sort the target values by the predictions made by the model then calculate the reserves and the potential profit from the top 200 wells in each region."
   ]
  },
  {
   "cell_type": "code",
   "execution_count": 9,
   "metadata": {},
   "outputs": [
    {
     "name": "stdout",
     "output_type": "stream",
     "text": [
      "Region 0 - Top 200 Location Reserves: 30077.05 thousand barrels, Profit: 35346.71 thousand USD\n",
      "Region 1 - Top 200 Location Reserves: 27589.08 thousand barrels, Profit: 24150.87 thousand USD\n",
      "Region 2 - Top 200 Location Reserves: 27489.65 thousand barrels, Profit: 23703.44 thousand USD\n"
     ]
    }
   ],
   "source": [
    "def calculate_profit(predictions, targets, count):\n",
    "    predictions_df = pd.DataFrame({'prediction': predictions, 'target': targets})\n",
    "    sorted_predictions_df = predictions_df.sort_values(by='prediction', ascending=False)\n",
    "    selected = sorted_predictions_df.head(count)\n",
    "    top_reserves = selected['target'].sum()\n",
    "      \n",
    "    # Calculate the profit\n",
    "    revenue = top_reserves * revenue_per_barrel\n",
    "    profit = revenue - (cost_per_well * count)\n",
    "    \n",
    "    \n",
    "    return top_reserves, profit\n",
    "\n",
    "\n",
    "\n",
    "# Use the function for each region with validation predictions and true values\n",
    "pred_0 = region_0[2].predict(features_valid_0)\n",
    "reserves_0, profit_0 = calculate_profit(pred_0, target_valid_0, number_of_wells)\n",
    "\n",
    "pred_1 = region_1[2].predict(features_valid_1)\n",
    "reserves_1, profit_1 = calculate_profit(pred_1, target_valid_1, number_of_wells)\n",
    "\n",
    "pred_2 = region_2[2].predict(features_valid_2)\n",
    "reserves_2, profit_2 = calculate_profit(pred_2, target_valid_2, number_of_wells)\n",
    "\n",
    "# Print the results\n",
    "print(f\"Region 0 - Top 200 Location Reserves: {reserves_0:.2f} thousand barrels, Profit: {profit_0:.2f} thousand USD\")\n",
    "print(f\"Region 1 - Top 200 Location Reserves: {reserves_1:.2f} thousand barrels, Profit: {profit_1:.2f} thousand USD\")\n",
    "print(f\"Region 2 - Top 200 Location Reserves: {reserves_2:.2f} thousand barrels, Profit: {profit_2:.2f} thousand USD\")"
   ]
  },
  {
   "cell_type": "markdown",
   "metadata": {},
   "source": [
    "The model estimates that the top 200 wells in Region 0 contain 30,077,050 barrels worth appoximately 135,246,710 USD. This region can be considered profitable.\n",
    "\n",
    "The model estimates that the top 200 wells in Region 1 contain 27,589,080 barrels worth appoximately 124,050,870 USD. THis region can be considered profitable.\n",
    "\n",
    "The model estimates that the top 200 wells in Region 2 contain 27,489,650 thousand barrels worth appoximately 123,603,440 USD. This region can be consdered profitable. \n",
    "\n",
    "From the predictions of the model Region 0 is likely to be the most profitable."
   ]
  },
  {
   "cell_type": "markdown",
   "metadata": {},
   "source": [
    "## Risks and Profit\n",
    "\n",
    "Using the bootstrapping method, we will now calculate the average profit, 95% confidence interval and risk of losses as a percentage for all 3 regions."
   ]
  },
  {
   "cell_type": "code",
   "execution_count": 10,
   "metadata": {},
   "outputs": [
    {
     "data": {
      "text/plain": [
       "'Region 0 - Average Profit: $186.23 thousand 95% C.I. (-28.71, 322.894) Risk of Loss: 3.40%'"
      ]
     },
     "metadata": {},
     "output_type": "display_data"
    },
    {
     "data": {
      "text/plain": [
       "'Region 1 - Average Profit: $120.75 thousand 95% C.I. (120.75, 120.754) Risk of Loss: 0.00%'"
      ]
     },
     "metadata": {},
     "output_type": "display_data"
    },
    {
     "data": {
      "text/plain": [
       "'Region 2 - Average Profit: $124.32 thousand 95% C.I. (-180.61, 322.583) Risk of Loss: 12.40%'"
      ]
     },
     "metadata": {},
     "output_type": "display_data"
    }
   ],
   "source": [
    "state=np.random.RandomState(1115)\n",
    "\n",
    "def bootstrap_profits(predictions_valid, target_valid, n_samples=1000, count=1):\n",
    "    profits = []\n",
    "    for i in range(n_samples):\n",
    "        sample_df = pd.DataFrame({'prediction': predictions_valid, 'target': target_valid})\n",
    "        subsample = sample_df.sample(n=500, random_state=state, replace=True)\n",
    "        sample_profit = calculate_profit(subsample['prediction'], subsample['target'], count)\n",
    "        profits.append(sample_profit[1])\n",
    "    \n",
    "    profits = pd.Series(profits)\n",
    "    sample_mean = profits.mean()\n",
    "    lower_bound = profits.quantile(0.025)\n",
    "    upper_bound = profits.quantile(0.975)\n",
    "    risk_of_loss = (profits < 0).mean()\n",
    "    return sample_mean, lower_bound, upper_bound, risk_of_loss\n",
    "\n",
    "bootstrap_0 = bootstrap_profits(pred_0, target_valid_0)\n",
    "bootstrap_1 = bootstrap_profits(pred_1, target_valid_1)\n",
    "bootstrap_2 = bootstrap_profits(pred_2, target_valid_2)\n",
    "\n",
    "display(f'Region 0 - Average Profit: ${bootstrap_0[0]:.2f} thousand 95% C.I. ({bootstrap_0[1]:.2f}, {bootstrap_0[2]:.3f}) Risk of Loss: {bootstrap_0[3]*100:.2f}%')\n",
    "display(f'Region 1 - Average Profit: ${bootstrap_1[0]:.2f} thousand 95% C.I. ({bootstrap_1[1]:.2f}, {bootstrap_1[2]:.3f}) Risk of Loss: {bootstrap_1[3]*100:.2f}%')\n",
    "display(f'Region 2 - Average Profit: ${bootstrap_2[0]:.2f} thousand 95% C.I. ({bootstrap_2[1]:.2f}, {bootstrap_2[2]:.3f}) Risk of Loss: {bootstrap_2[3]*100:.2f}%')"
   ]
  },
  {
   "cell_type": "markdown",
   "metadata": {},
   "source": [
    "The results show a similar finding to the machine learning algorithm in that Regions 0 and 2 have more varied oil reserves and carry more risk of loss as a result. Choosing to develop in region 1 carries the least Risk with considerable average profit per well. "
   ]
  }
 ],
 "metadata": {
  "ExecuteTimeLog": [
   {
    "duration": 1571,
    "start_time": "2024-07-14T07:19:48.135Z"
   },
   {
    "duration": 66,
    "start_time": "2024-07-14T07:20:33.162Z"
   },
   {
    "duration": 4,
    "start_time": "2024-07-14T07:20:54.655Z"
   },
   {
    "duration": 243,
    "start_time": "2024-07-14T07:22:54.424Z"
   },
   {
    "duration": 154,
    "start_time": "2024-07-14T07:23:02.882Z"
   },
   {
    "duration": 457,
    "start_time": "2024-07-14T07:24:51.317Z"
   },
   {
    "duration": 451,
    "start_time": "2024-07-14T07:25:14.913Z"
   },
   {
    "duration": 392,
    "start_time": "2024-07-14T07:25:30.144Z"
   },
   {
    "duration": 385,
    "start_time": "2024-07-14T07:25:39.288Z"
   },
   {
    "duration": 6,
    "start_time": "2024-07-14T07:26:21.520Z"
   },
   {
    "duration": 382,
    "start_time": "2024-07-14T07:26:39.696Z"
   },
   {
    "duration": 425,
    "start_time": "2024-07-14T07:27:47.316Z"
   },
   {
    "duration": 1136,
    "start_time": "2024-07-14T07:28:08.554Z"
   },
   {
    "duration": 401,
    "start_time": "2024-07-14T07:28:09.694Z"
   },
   {
    "duration": 4,
    "start_time": "2024-07-14T07:35:38.624Z"
   },
   {
    "duration": 417,
    "start_time": "2024-07-14T07:36:08.916Z"
   },
   {
    "duration": 22,
    "start_time": "2024-07-14T07:42:29.176Z"
   },
   {
    "duration": 405,
    "start_time": "2024-07-14T07:42:42.858Z"
   },
   {
    "duration": 39,
    "start_time": "2024-07-14T07:42:53.114Z"
   },
   {
    "duration": 39,
    "start_time": "2024-07-14T07:43:05.742Z"
   },
   {
    "duration": 9,
    "start_time": "2024-07-14T07:43:22.658Z"
   },
   {
    "duration": 26,
    "start_time": "2024-07-14T07:43:29.348Z"
   },
   {
    "duration": 57,
    "start_time": "2024-07-14T07:44:40.664Z"
   },
   {
    "duration": 59,
    "start_time": "2024-07-14T07:45:23.211Z"
   },
   {
    "duration": 30,
    "start_time": "2024-07-14T08:19:25.470Z"
   },
   {
    "duration": 394,
    "start_time": "2024-07-14T08:20:01.785Z"
   },
   {
    "duration": 24,
    "start_time": "2024-07-14T08:20:03.988Z"
   },
   {
    "duration": 53,
    "start_time": "2024-07-14T08:20:50.172Z"
   },
   {
    "duration": 4,
    "start_time": "2024-07-14T08:22:00.709Z"
   },
   {
    "duration": 1359,
    "start_time": "2024-07-14T08:43:51.471Z"
   },
   {
    "duration": 30,
    "start_time": "2024-07-14T08:44:08.524Z"
   },
   {
    "duration": 21,
    "start_time": "2024-07-14T08:44:14.581Z"
   },
   {
    "duration": 27,
    "start_time": "2024-07-14T08:45:10.316Z"
   },
   {
    "duration": 13,
    "start_time": "2024-07-14T08:45:19.013Z"
   },
   {
    "duration": 48,
    "start_time": "2024-07-14T08:52:20.538Z"
   },
   {
    "duration": 42,
    "start_time": "2024-07-14T09:58:37.116Z"
   },
   {
    "duration": 49,
    "start_time": "2024-07-14T09:59:00.292Z"
   },
   {
    "duration": 137,
    "start_time": "2024-07-14T09:59:08.478Z"
   },
   {
    "duration": 144,
    "start_time": "2024-07-14T09:59:54.468Z"
   },
   {
    "duration": 208,
    "start_time": "2024-07-14T10:00:06.402Z"
   },
   {
    "duration": 169,
    "start_time": "2024-07-14T10:00:53.541Z"
   },
   {
    "duration": 43,
    "start_time": "2024-07-14T10:01:19.867Z"
   },
   {
    "duration": 103,
    "start_time": "2024-07-14T10:01:53.912Z"
   },
   {
    "duration": 213,
    "start_time": "2024-07-14T10:02:22.795Z"
   },
   {
    "duration": 97,
    "start_time": "2024-07-14T10:02:27.116Z"
   },
   {
    "duration": 112,
    "start_time": "2024-07-14T10:02:53.996Z"
   },
   {
    "duration": 34,
    "start_time": "2024-07-14T10:06:34.055Z"
   },
   {
    "duration": 40,
    "start_time": "2024-07-14T10:07:36.182Z"
   },
   {
    "duration": 36,
    "start_time": "2024-07-14T10:07:39.356Z"
   },
   {
    "duration": 125,
    "start_time": "2024-07-14T10:07:44.987Z"
   },
   {
    "duration": 45,
    "start_time": "2024-07-14T10:08:15.170Z"
   },
   {
    "duration": 102,
    "start_time": "2024-07-14T10:15:46.213Z"
   },
   {
    "duration": 29,
    "start_time": "2024-07-14T10:24:07.078Z"
   },
   {
    "duration": 1129,
    "start_time": "2024-07-14T10:26:47.872Z"
   },
   {
    "duration": 408,
    "start_time": "2024-07-14T10:26:49.008Z"
   },
   {
    "duration": 24,
    "start_time": "2024-07-14T10:26:49.420Z"
   },
   {
    "duration": 68,
    "start_time": "2024-07-14T10:26:49.447Z"
   },
   {
    "duration": 33,
    "start_time": "2024-07-14T10:26:49.519Z"
   },
   {
    "duration": 73,
    "start_time": "2024-07-14T10:26:49.554Z"
   },
   {
    "duration": 99,
    "start_time": "2024-07-14T10:26:49.629Z"
   },
   {
    "duration": 78,
    "start_time": "2024-07-14T10:26:49.731Z"
   },
   {
    "duration": 1187,
    "start_time": "2024-07-15T05:31:17.744Z"
   },
   {
    "duration": 4,
    "start_time": "2024-07-15T05:31:36.222Z"
   },
   {
    "duration": 310,
    "start_time": "2024-07-15T21:51:45.674Z"
   },
   {
    "duration": 1171,
    "start_time": "2024-07-15T21:51:51.047Z"
   },
   {
    "duration": 535,
    "start_time": "2024-07-15T21:51:52.832Z"
   },
   {
    "duration": 119,
    "start_time": "2024-07-15T21:51:54.417Z"
   },
   {
    "duration": 155,
    "start_time": "2024-07-15T21:52:00.818Z"
   },
   {
    "duration": 50,
    "start_time": "2024-07-15T22:41:59.903Z"
   },
   {
    "duration": 33,
    "start_time": "2024-07-15T22:43:20.160Z"
   },
   {
    "duration": 111,
    "start_time": "2024-07-15T22:43:21.700Z"
   },
   {
    "duration": 150,
    "start_time": "2024-07-15T22:54:45.468Z"
   },
   {
    "duration": 95,
    "start_time": "2024-07-15T22:56:05.318Z"
   },
   {
    "duration": 76,
    "start_time": "2024-07-15T22:56:30.031Z"
   },
   {
    "duration": 5,
    "start_time": "2024-07-16T00:48:00.775Z"
   },
   {
    "duration": 27,
    "start_time": "2024-07-16T00:49:36.252Z"
   },
   {
    "duration": 27,
    "start_time": "2024-07-16T00:50:21.186Z"
   },
   {
    "duration": 6,
    "start_time": "2024-07-16T00:50:25.738Z"
   },
   {
    "duration": 6,
    "start_time": "2024-07-16T00:50:34.344Z"
   },
   {
    "duration": 6,
    "start_time": "2024-07-16T00:50:40.344Z"
   },
   {
    "duration": 6,
    "start_time": "2024-07-16T00:51:12.066Z"
   },
   {
    "duration": 7,
    "start_time": "2024-07-16T00:52:48.730Z"
   },
   {
    "duration": 5,
    "start_time": "2024-07-16T00:52:52.882Z"
   },
   {
    "duration": 5,
    "start_time": "2024-07-16T00:52:59.070Z"
   },
   {
    "duration": 33,
    "start_time": "2024-07-16T01:04:49.396Z"
   },
   {
    "duration": 6,
    "start_time": "2024-07-16T01:49:40.897Z"
   },
   {
    "duration": 37,
    "start_time": "2024-07-16T06:38:29.881Z"
   },
   {
    "duration": 1123,
    "start_time": "2024-07-16T06:39:56.448Z"
   },
   {
    "duration": 425,
    "start_time": "2024-07-16T06:39:57.574Z"
   },
   {
    "duration": 39,
    "start_time": "2024-07-16T06:39:58.002Z"
   },
   {
    "duration": 204,
    "start_time": "2024-07-16T06:39:58.046Z"
   },
   {
    "duration": 66,
    "start_time": "2024-07-16T06:39:58.253Z"
   },
   {
    "duration": 35,
    "start_time": "2024-07-16T06:39:58.322Z"
   },
   {
    "duration": 65,
    "start_time": "2024-07-16T06:39:58.360Z"
   },
   {
    "duration": 77,
    "start_time": "2024-07-16T06:39:58.429Z"
   },
   {
    "duration": 105,
    "start_time": "2024-07-16T06:39:58.510Z"
   },
   {
    "duration": 558,
    "start_time": "2024-07-16T06:39:58.619Z"
   },
   {
    "duration": 52,
    "start_time": "2024-07-16T06:43:50.720Z"
   },
   {
    "duration": 5455,
    "start_time": "2024-07-16T06:47:07.328Z"
   },
   {
    "duration": 5321,
    "start_time": "2024-07-16T06:49:41.862Z"
   },
   {
    "duration": 7039,
    "start_time": "2024-07-16T06:50:25.869Z"
   },
   {
    "duration": 7027,
    "start_time": "2024-07-16T06:50:50.038Z"
   },
   {
    "duration": 7815,
    "start_time": "2024-07-16T06:51:35.359Z"
   },
   {
    "duration": 6985,
    "start_time": "2024-07-16T06:53:29.655Z"
   },
   {
    "duration": 7084,
    "start_time": "2024-07-16T06:53:46.902Z"
   },
   {
    "duration": 3418,
    "start_time": "2024-07-16T06:54:54.758Z"
   },
   {
    "duration": 6885,
    "start_time": "2024-07-16T06:56:02.991Z"
   },
   {
    "duration": 5153,
    "start_time": "2024-07-16T06:56:36.957Z"
   },
   {
    "duration": 5111,
    "start_time": "2024-07-16T07:07:29.300Z"
   },
   {
    "duration": 5095,
    "start_time": "2024-07-16T07:08:30.285Z"
   },
   {
    "duration": 5164,
    "start_time": "2024-07-16T07:10:47.972Z"
   },
   {
    "duration": 5139,
    "start_time": "2024-07-16T07:12:15.221Z"
   },
   {
    "duration": 5155,
    "start_time": "2024-07-16T07:13:30.007Z"
   },
   {
    "duration": 5148,
    "start_time": "2024-07-16T07:13:49.702Z"
   },
   {
    "duration": 5176,
    "start_time": "2024-07-16T07:16:45.169Z"
   },
   {
    "duration": 29,
    "start_time": "2024-07-16T07:31:18.895Z"
   },
   {
    "duration": 5,
    "start_time": "2024-07-16T07:32:15.803Z"
   },
   {
    "duration": 6,
    "start_time": "2024-07-16T07:32:21.035Z"
   },
   {
    "duration": 8,
    "start_time": "2024-07-16T07:32:48.275Z"
   },
   {
    "duration": 5,
    "start_time": "2024-07-16T07:33:12.914Z"
   },
   {
    "duration": 5,
    "start_time": "2024-07-16T07:33:16.043Z"
   },
   {
    "duration": 5,
    "start_time": "2024-07-16T07:33:33.084Z"
   },
   {
    "duration": 5,
    "start_time": "2024-07-16T07:33:44.021Z"
   },
   {
    "duration": 25,
    "start_time": "2024-07-16T07:34:05.057Z"
   },
   {
    "duration": 5093,
    "start_time": "2024-07-16T07:34:11.228Z"
   },
   {
    "duration": 6,
    "start_time": "2024-07-16T07:36:06.555Z"
   },
   {
    "duration": 6,
    "start_time": "2024-07-16T07:36:25.734Z"
   },
   {
    "duration": 5,
    "start_time": "2024-07-16T07:36:28.868Z"
   },
   {
    "duration": 6,
    "start_time": "2024-07-16T07:36:32.028Z"
   },
   {
    "duration": 5,
    "start_time": "2024-07-16T07:36:35.266Z"
   },
   {
    "duration": 6,
    "start_time": "2024-07-16T07:36:38.324Z"
   },
   {
    "duration": 5,
    "start_time": "2024-07-16T07:37:51.820Z"
   },
   {
    "duration": 5,
    "start_time": "2024-07-16T07:37:59.857Z"
   },
   {
    "duration": 5,
    "start_time": "2024-07-16T07:38:05.241Z"
   },
   {
    "duration": 5,
    "start_time": "2024-07-16T07:38:31.116Z"
   },
   {
    "duration": 76,
    "start_time": "2024-07-16T07:38:35.530Z"
   },
   {
    "duration": 5095,
    "start_time": "2024-07-16T07:38:40.717Z"
   },
   {
    "duration": 5,
    "start_time": "2024-07-16T07:39:42.977Z"
   },
   {
    "duration": 5,
    "start_time": "2024-07-16T07:39:47.210Z"
   },
   {
    "duration": 35,
    "start_time": "2024-07-16T07:39:52.072Z"
   },
   {
    "duration": 27,
    "start_time": "2024-07-16T07:41:00.444Z"
   },
   {
    "duration": 5,
    "start_time": "2024-07-16T07:41:20.002Z"
   },
   {
    "duration": 5124,
    "start_time": "2024-07-16T07:43:53.868Z"
   },
   {
    "duration": 5090,
    "start_time": "2024-07-16T07:44:09.583Z"
   },
   {
    "duration": 138,
    "start_time": "2024-07-16T07:47:46.276Z"
   },
   {
    "duration": 30,
    "start_time": "2024-07-16T07:48:31.683Z"
   },
   {
    "duration": 5,
    "start_time": "2024-07-16T07:49:04.266Z"
   },
   {
    "duration": 6,
    "start_time": "2024-07-16T07:49:09.187Z"
   },
   {
    "duration": 30,
    "start_time": "2024-07-16T07:49:18.240Z"
   },
   {
    "duration": 29,
    "start_time": "2024-07-16T07:49:29.778Z"
   },
   {
    "duration": 29,
    "start_time": "2024-07-16T07:50:21.890Z"
   },
   {
    "duration": 28,
    "start_time": "2024-07-16T07:50:27.613Z"
   },
   {
    "duration": 5,
    "start_time": "2024-07-16T07:51:30.768Z"
   },
   {
    "duration": 79,
    "start_time": "2024-07-16T07:53:35.452Z"
   },
   {
    "duration": 26,
    "start_time": "2024-07-16T07:53:46.317Z"
   },
   {
    "duration": 27,
    "start_time": "2024-07-16T07:54:30.347Z"
   },
   {
    "duration": 5168,
    "start_time": "2024-07-16T07:56:13.491Z"
   },
   {
    "duration": 5150,
    "start_time": "2024-07-16T07:57:06.588Z"
   },
   {
    "duration": 23,
    "start_time": "2024-07-16T11:34:56.477Z"
   },
   {
    "duration": 31,
    "start_time": "2024-07-16T11:46:04.123Z"
   },
   {
    "duration": 7,
    "start_time": "2024-07-16T11:46:46.985Z"
   },
   {
    "duration": 6,
    "start_time": "2024-07-16T11:47:12.245Z"
   },
   {
    "duration": 1184,
    "start_time": "2024-07-19T00:30:50.094Z"
   },
   {
    "duration": 638,
    "start_time": "2024-07-19T00:30:52.941Z"
   },
   {
    "duration": 45,
    "start_time": "2024-07-19T00:30:53.582Z"
   },
   {
    "duration": 176,
    "start_time": "2024-07-19T00:30:53.712Z"
   },
   {
    "duration": 59,
    "start_time": "2024-07-19T00:30:53.981Z"
   },
   {
    "duration": 44,
    "start_time": "2024-07-19T00:30:54.199Z"
   },
   {
    "duration": 71,
    "start_time": "2024-07-19T00:30:54.550Z"
   },
   {
    "duration": 7,
    "start_time": "2024-07-19T00:30:55.025Z"
   },
   {
    "duration": 47,
    "start_time": "2024-07-19T00:30:55.390Z"
   },
   {
    "duration": 5606,
    "start_time": "2024-07-19T00:30:55.782Z"
   },
   {
    "duration": 26,
    "start_time": "2024-07-19T00:41:44.055Z"
   },
   {
    "duration": 35,
    "start_time": "2024-07-19T01:21:04.710Z"
   },
   {
    "duration": 5732,
    "start_time": "2024-07-19T01:21:10.719Z"
   },
   {
    "duration": 30,
    "start_time": "2024-07-19T01:57:27.141Z"
   },
   {
    "duration": 6006,
    "start_time": "2024-07-19T01:57:39.122Z"
   },
   {
    "duration": 5589,
    "start_time": "2024-07-19T01:58:23.114Z"
   },
   {
    "duration": 5591,
    "start_time": "2024-07-19T02:06:57.877Z"
   },
   {
    "duration": 1207,
    "start_time": "2024-07-19T02:07:08.833Z"
   },
   {
    "duration": 490,
    "start_time": "2024-07-19T02:07:10.044Z"
   },
   {
    "duration": 37,
    "start_time": "2024-07-19T02:07:10.536Z"
   },
   {
    "duration": 203,
    "start_time": "2024-07-19T02:07:10.576Z"
   },
   {
    "duration": 68,
    "start_time": "2024-07-19T02:07:10.784Z"
   },
   {
    "duration": 33,
    "start_time": "2024-07-19T02:07:10.854Z"
   },
   {
    "duration": 145,
    "start_time": "2024-07-19T02:07:10.889Z"
   },
   {
    "duration": 71,
    "start_time": "2024-07-19T02:07:11.042Z"
   },
   {
    "duration": 104,
    "start_time": "2024-07-19T02:07:11.115Z"
   },
   {
    "duration": 5781,
    "start_time": "2024-07-19T02:07:11.223Z"
   },
   {
    "duration": 1184,
    "start_time": "2024-07-19T02:07:28.390Z"
   },
   {
    "duration": 444,
    "start_time": "2024-07-19T02:07:29.579Z"
   },
   {
    "duration": 41,
    "start_time": "2024-07-19T02:07:30.026Z"
   },
   {
    "duration": 197,
    "start_time": "2024-07-19T02:07:30.070Z"
   },
   {
    "duration": 74,
    "start_time": "2024-07-19T02:07:30.274Z"
   },
   {
    "duration": 36,
    "start_time": "2024-07-19T02:07:30.354Z"
   },
   {
    "duration": 123,
    "start_time": "2024-07-19T02:07:30.394Z"
   },
   {
    "duration": 7,
    "start_time": "2024-07-19T02:07:30.520Z"
   },
   {
    "duration": 117,
    "start_time": "2024-07-19T02:07:30.531Z"
   },
   {
    "duration": 5907,
    "start_time": "2024-07-19T02:07:30.651Z"
   },
   {
    "duration": 1241,
    "start_time": "2024-07-19T08:20:47.441Z"
   },
   {
    "duration": 613,
    "start_time": "2024-07-19T08:20:48.685Z"
   },
   {
    "duration": 51,
    "start_time": "2024-07-19T08:20:49.302Z"
   },
   {
    "duration": 190,
    "start_time": "2024-07-19T08:20:49.357Z"
   },
   {
    "duration": 47,
    "start_time": "2024-07-19T08:20:49.551Z"
   },
   {
    "duration": 54,
    "start_time": "2024-07-19T08:20:49.601Z"
   },
   {
    "duration": 102,
    "start_time": "2024-07-19T08:20:49.658Z"
   },
   {
    "duration": 5,
    "start_time": "2024-07-19T08:20:49.944Z"
   },
   {
    "duration": 77,
    "start_time": "2024-07-19T08:20:51.053Z"
   },
   {
    "duration": 5336,
    "start_time": "2024-07-19T08:20:55.448Z"
   },
   {
    "duration": 5261,
    "start_time": "2024-07-19T08:21:12.700Z"
   },
   {
    "duration": 5468,
    "start_time": "2024-07-19T08:21:31.294Z"
   },
   {
    "duration": 5206,
    "start_time": "2024-07-19T08:21:56.182Z"
   },
   {
    "duration": 9,
    "start_time": "2024-07-19T08:22:01.391Z"
   },
   {
    "duration": 8,
    "start_time": "2024-07-19T08:23:34.163Z"
   }
  ],
  "kernelspec": {
   "display_name": "base",
   "language": "python",
   "name": "python3"
  },
  "language_info": {
   "codemirror_mode": {
    "name": "ipython",
    "version": 3
   },
   "file_extension": ".py",
   "mimetype": "text/x-python",
   "name": "python",
   "nbconvert_exporter": "python",
   "pygments_lexer": "ipython3",
   "version": "3.12.7"
  },
  "toc": {
   "base_numbering": 1,
   "nav_menu": {},
   "number_sections": true,
   "sideBar": true,
   "skip_h1_title": true,
   "title_cell": "Table of Contents",
   "title_sidebar": "Contents",
   "toc_cell": false,
   "toc_position": {},
   "toc_section_display": true,
   "toc_window_display": false
  }
 },
 "nbformat": 4,
 "nbformat_minor": 2
}
