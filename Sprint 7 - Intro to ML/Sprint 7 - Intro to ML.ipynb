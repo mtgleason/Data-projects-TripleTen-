{
 "cells": [
  {
   "cell_type": "markdown",
   "metadata": {},
   "source": [
    "# Intro to Machine Learning Project\n",
    "***\n",
    "In this project we will develop a model to assist the mobile carrier Megaline, who want us to analyze user behavior in order to recommend subscribers with legacy plans one of Megaline's newer plans; Smart or Ultra. The `users_behavior.csv` dataset contains data on subscribers who already have made the switch to one of the new plans. \n",
    "\n",
    "In order to develop the best model for Megaline, we will analyze a few different models in order to guarantee the best results. Because there are only two plans to choose we will be testing three classification models.\n",
    "\n",
    "**Classification Models To Be Tested:**\n",
    "- Decision Tree Classifier\n",
    "- Random Forest Classifier\n",
    "- Logistic Regression\n",
    "\n",
    "While the accuracy threshold for the final test will be 0.75, the goal is to develop a model with the highest possible accuracy.\n",
    "\n",
    "First, importing libraries:"
   ]
  },
  {
   "cell_type": "code",
   "execution_count": 1,
   "metadata": {},
   "outputs": [],
   "source": [
    "# Importing libraries and programs\n",
    "import pandas as pd\n",
    "import numpy as np\n",
    "from sklearn.tree import DecisionTreeClassifier\n",
    "from sklearn.ensemble import RandomForestClassifier\n",
    "from sklearn.linear_model import LogisticRegression\n",
    "from sklearn.model_selection import train_test_split\n",
    "from sklearn.metrics import accuracy_score"
   ]
  },
  {
   "cell_type": "markdown",
   "metadata": {},
   "source": [
    "Importing `user_behavior.csv` dataset:"
   ]
  },
  {
   "cell_type": "code",
   "execution_count": 2,
   "metadata": {},
   "outputs": [
    {
     "name": "stdout",
     "output_type": "stream",
     "text": [
      "<class 'pandas.core.frame.DataFrame'>\n",
      "RangeIndex: 3214 entries, 0 to 3213\n",
      "Data columns (total 5 columns):\n",
      " #   Column    Non-Null Count  Dtype  \n",
      "---  ------    --------------  -----  \n",
      " 0   calls     3214 non-null   float64\n",
      " 1   minutes   3214 non-null   float64\n",
      " 2   messages  3214 non-null   float64\n",
      " 3   mb_used   3214 non-null   float64\n",
      " 4   is_ultra  3214 non-null   int64  \n",
      "dtypes: float64(4), int64(1)\n",
      "memory usage: 125.7 KB\n"
     ]
    },
    {
     "data": {
      "text/html": [
       "<div>\n",
       "<style scoped>\n",
       "    .dataframe tbody tr th:only-of-type {\n",
       "        vertical-align: middle;\n",
       "    }\n",
       "\n",
       "    .dataframe tbody tr th {\n",
       "        vertical-align: top;\n",
       "    }\n",
       "\n",
       "    .dataframe thead th {\n",
       "        text-align: right;\n",
       "    }\n",
       "</style>\n",
       "<table border=\"1\" class=\"dataframe\">\n",
       "  <thead>\n",
       "    <tr style=\"text-align: right;\">\n",
       "      <th></th>\n",
       "      <th>calls</th>\n",
       "      <th>minutes</th>\n",
       "      <th>messages</th>\n",
       "      <th>mb_used</th>\n",
       "      <th>is_ultra</th>\n",
       "    </tr>\n",
       "  </thead>\n",
       "  <tbody>\n",
       "    <tr>\n",
       "      <th>0</th>\n",
       "      <td>40.0</td>\n",
       "      <td>311.90</td>\n",
       "      <td>83.0</td>\n",
       "      <td>19915.42</td>\n",
       "      <td>0</td>\n",
       "    </tr>\n",
       "    <tr>\n",
       "      <th>1</th>\n",
       "      <td>85.0</td>\n",
       "      <td>516.75</td>\n",
       "      <td>56.0</td>\n",
       "      <td>22696.96</td>\n",
       "      <td>0</td>\n",
       "    </tr>\n",
       "    <tr>\n",
       "      <th>2</th>\n",
       "      <td>77.0</td>\n",
       "      <td>467.66</td>\n",
       "      <td>86.0</td>\n",
       "      <td>21060.45</td>\n",
       "      <td>0</td>\n",
       "    </tr>\n",
       "    <tr>\n",
       "      <th>3</th>\n",
       "      <td>106.0</td>\n",
       "      <td>745.53</td>\n",
       "      <td>81.0</td>\n",
       "      <td>8437.39</td>\n",
       "      <td>1</td>\n",
       "    </tr>\n",
       "    <tr>\n",
       "      <th>4</th>\n",
       "      <td>66.0</td>\n",
       "      <td>418.74</td>\n",
       "      <td>1.0</td>\n",
       "      <td>14502.75</td>\n",
       "      <td>0</td>\n",
       "    </tr>\n",
       "  </tbody>\n",
       "</table>\n",
       "</div>"
      ],
      "text/plain": [
       "   calls  minutes  messages   mb_used  is_ultra\n",
       "0   40.0   311.90      83.0  19915.42         0\n",
       "1   85.0   516.75      56.0  22696.96         0\n",
       "2   77.0   467.66      86.0  21060.45         0\n",
       "3  106.0   745.53      81.0   8437.39         1\n",
       "4   66.0   418.74       1.0  14502.75         0"
      ]
     },
     "execution_count": 2,
     "metadata": {},
     "output_type": "execute_result"
    }
   ],
   "source": [
    "# Load data into a DataFrame then display general info\n",
    "df = pd.read_csv('users_behavior.csv')\n",
    "df.info()\n",
    "df.head()"
   ]
  },
  {
   "cell_type": "markdown",
   "metadata": {},
   "source": [
    "There are no missing values, as preliminary EDA was already preformed earlier. Dataset will still be tested for duplicate values to ensure the accuracy of the model."
   ]
  },
  {
   "cell_type": "code",
   "execution_count": 3,
   "metadata": {},
   "outputs": [
    {
     "data": {
      "text/plain": [
       "0"
      ]
     },
     "execution_count": 3,
     "metadata": {},
     "output_type": "execute_result"
    }
   ],
   "source": [
    "df.duplicated().sum()"
   ]
  },
  {
   "cell_type": "markdown",
   "metadata": {},
   "source": [
    "Splitting dataset into training, verification, and test sets at a ratio of 3:1:1 respectively.\n",
    "Then features and targets were selected for the 3 separate datasets."
   ]
  },
  {
   "cell_type": "code",
   "execution_count": 4,
   "metadata": {},
   "outputs": [
    {
     "name": "stdout",
     "output_type": "stream",
     "text": [
      "(1928, 4)\n",
      "(1928,)\n",
      "(643, 4)\n",
      "(643,)\n",
      "(643, 4)\n",
      "(643,)\n",
      "Ratio: 0.5998755444928439 0.2000622277535781 0.2000622277535781\n"
     ]
    }
   ],
   "source": [
    "# Spliting data into training, validation and test datasets\n",
    "df_train, df_test_valid = train_test_split(df, test_size=0.4, random_state=12345)\n",
    "df_test, df_valid = train_test_split(df_test_valid, test_size=0.5, random_state=12345)\n",
    "\n",
    "# Further splitting data into features and target\n",
    "features_train = df_train.drop(['is_ultra'], axis=1)\n",
    "target_train = df_train['is_ultra']\n",
    "features_valid = df_valid.drop(['is_ultra'], axis=1)\n",
    "target_valid = df_valid['is_ultra']\n",
    "features_test = df_test.drop(['is_ultra'], axis=1)\n",
    "target_test = df_test['is_ultra']\n",
    "\n",
    "# Verifying 3:1:1 ratio\n",
    "print(features_train.shape,\n",
    "      target_train.shape,\n",
    "      features_valid.shape,\n",
    "      target_valid.shape,\n",
    "      features_test.shape,\n",
    "      target_test.shape,\n",
    "      sep='\\n')\n",
    "print('Ratio:', len(features_train)/len(df), len(features_valid)/len(df), len(features_test)/len(df))"
   ]
  },
  {
   "cell_type": "markdown",
   "metadata": {},
   "source": [
    "## Decision Tree Classifier\n",
    "\n",
    "In order to determine the best hyperparameters for the `DecisionTreeClassifier` model, we create a loop and save the best result and its `max_depth` hyperparameter. "
   ]
  },
  {
   "cell_type": "code",
   "execution_count": 5,
   "metadata": {},
   "outputs": [
    {
     "name": "stdout",
     "output_type": "stream",
     "text": [
      "Best Depth: 7 Accuracy Score: 0.7993779160186625\n"
     ]
    }
   ],
   "source": [
    "# Evaluating DecisionTreeClassifier\n",
    "best_depth = 0\n",
    "best_result = 0\n",
    "for depth in range(1, 11):\n",
    "    tree = DecisionTreeClassifier(random_state=12345, max_depth=depth)\n",
    "    tree.fit(features_train, target_train)\n",
    "    result = tree.score(features_valid, target_valid)\n",
    "    if result > best_result:\n",
    "        tree_depth = depth\n",
    "        best_result = result\n",
    "        best_tree = tree\n",
    "print(f'Best Depth: {tree_depth} Accuracy Score: {best_result}')"
   ]
  },
  {
   "cell_type": "markdown",
   "metadata": {},
   "source": [
    "The tree that had the most accuracy scored 0.799 with the validation dataset which passes the 0.75 threshold, but the model may not be as effective with the test data set. This tree had a `max_depth` value of 7."
   ]
  },
  {
   "cell_type": "markdown",
   "metadata": {},
   "source": [
    "## Random Forest Classifier\n",
    "Like with the `DecisionTreeClassifier` model, we must determine the best hyperparameters for the `RandomForestClassifier` model. This will require looping both the `max_depth` hyperparameter and the `n_estimators` hyperparameter to find the best combination."
   ]
  },
  {
   "cell_type": "code",
   "execution_count": 6,
   "metadata": {},
   "outputs": [
    {
     "name": "stdout",
     "output_type": "stream",
     "text": [
      "Best Number of Estimators: 10 Best Depth: 9 Accuracy: 0.8133748055987559\n"
     ]
    }
   ],
   "source": [
    "# Evaluating RandomForestClassifier\n",
    "best_score = 0\n",
    "best_est = 0\n",
    "for est in range(10, 51, 10):\n",
    "    for depth in range(1,16):\n",
    "        forest = RandomForestClassifier(random_state=12345, n_estimators=est, max_depth=depth) \n",
    "        forest.fit(features_train, target_train)\n",
    "        score = forest.score(features_valid, target_valid)\n",
    "        if score > best_score:\n",
    "            best_score = score \n",
    "            best_forest = forest\n",
    "            forest_depth = depth\n",
    "            best_est = est\n",
    "print(f'Best Number of Estimators: {best_est} Best Depth: {forest_depth} Accuracy: {best_score}')"
   ]
  },
  {
   "cell_type": "markdown",
   "metadata": {},
   "source": [
    "The best `RandomForestClassifier` model returned an accuracy score of 0.813 with the validation dataset and had `n_estimators=10` and `max_depth=9`. This will be the model used for the final evaluation, however we will still evaluate the `LogisticRegression` model."
   ]
  },
  {
   "cell_type": "markdown",
   "metadata": {},
   "source": [
    "## Logistic Regression\n",
    "\n",
    "Unlike the other learning models, there aren't hyperparameters to tune, so we will just compare its accuracy with the training dataset and the validation dataset."
   ]
  },
  {
   "cell_type": "code",
   "execution_count": 7,
   "metadata": {},
   "outputs": [
    {
     "name": "stdout",
     "output_type": "stream",
     "text": [
      "Training Set Accuracy: 0.7510373443983402\n",
      "Validation Set Accuracy: 0.7402799377916018\n"
     ]
    }
   ],
   "source": [
    "# Evaluating LogisticRegression\n",
    "log = LogisticRegression(random_state=12345, solver='liblinear')\n",
    "log.fit(features_train, target_train)\n",
    "score_train = log.score(features_train, target_train)\n",
    "score_valid = log.score(features_valid, target_valid)\n",
    "print(f'Training Set Accuracy: {score_train}', f'Validation Set Accuracy: {score_valid}', sep='\\n')"
   ]
  },
  {
   "cell_type": "markdown",
   "metadata": {},
   "source": [
    "The model barely passes the accuracy threshold with the training dataset and does not pass it with the validation dataset."
   ]
  },
  {
   "cell_type": "markdown",
   "metadata": {},
   "source": [
    "## Final Test\n",
    "\n",
    "The final test will be performed using the `RandomForestClassifier` model that preformed best with the validation dataset."
   ]
  },
  {
   "cell_type": "code",
   "execution_count": 8,
   "metadata": {},
   "outputs": [
    {
     "name": "stdout",
     "output_type": "stream",
     "text": [
      "Accuracy of best model with test dataset: 0.7853810264385692\n"
     ]
    }
   ],
   "source": [
    "# Testing the model\n",
    "high_score = best_forest.score(features_test, target_test)\n",
    "print(f'Accuracy of best model with test dataset: {high_score}')"
   ]
  },
  {
   "cell_type": "markdown",
   "metadata": {},
   "source": [
    "The model scored 0.785 with the test dataset, which passes the accuracy threshold and then some."
   ]
  },
  {
   "cell_type": "markdown",
   "metadata": {},
   "source": [
    "## Sanity Check\n",
    "\n",
    "To ensure the model preforms better than random chance, we will make random predictions and test that against the `target_test` data."
   ]
  },
  {
   "cell_type": "code",
   "execution_count": 9,
   "metadata": {},
   "outputs": [
    {
     "name": "stdout",
     "output_type": "stream",
     "text": [
      "Random Chance Score: 0.5069984447900466\n"
     ]
    }
   ],
   "source": [
    "# Preforming sanity check\n",
    "sanity_predictions = pd.Series(np.random.default_rng(seed=12345).choice([0,1], size=len(target_test)), index=target_test.index)\n",
    "sanity_score = accuracy_score(target_test, sanity_predictions)\n",
    "print(f'Random Chance Score: {sanity_score}')"
   ]
  },
  {
   "cell_type": "markdown",
   "metadata": {},
   "source": [
    "# Conclusion\n",
    "\n",
    "We covered multiple machine learning models for Megaline and determined that the Random Forest Classifier model worked best for the client, and the model worked best with 10 in the `n_estimators` hyperparameter and 9 in the `max_depth` hyperparameter. The Decision Tree Classifier model preformed accurately with the validation dataset, but not well enough to be used in the final test. The sanity check ensures that all the models preform better than a coin flip."
   ]
  }
 ],
 "metadata": {
  "ExecuteTimeLog": [
   {
    "duration": 1196,
    "start_time": "2024-05-18T04:02:42.149Z"
   },
   {
    "duration": 1185,
    "start_time": "2024-05-18T04:04:02.410Z"
   },
   {
    "duration": 33,
    "start_time": "2024-05-18T04:04:15.068Z"
   },
   {
    "duration": 32,
    "start_time": "2024-05-18T04:04:34.548Z"
   },
   {
    "duration": 27,
    "start_time": "2024-05-18T04:05:32.365Z"
   },
   {
    "duration": 8,
    "start_time": "2024-05-18T04:12:00.593Z"
   },
   {
    "duration": 28,
    "start_time": "2024-05-18T04:12:58.262Z"
   },
   {
    "duration": 8,
    "start_time": "2024-05-18T04:13:17.138Z"
   },
   {
    "duration": 1167,
    "start_time": "2024-05-18T05:17:54.465Z"
   },
   {
    "duration": 35,
    "start_time": "2024-05-18T05:17:55.636Z"
   },
   {
    "duration": 11,
    "start_time": "2024-05-18T05:17:55.674Z"
   },
   {
    "duration": 9,
    "start_time": "2024-05-18T05:27:27.122Z"
   },
   {
    "duration": 15,
    "start_time": "2024-05-18T05:56:16.404Z"
   },
   {
    "duration": 1272,
    "start_time": "2024-05-18T06:01:43.359Z"
   },
   {
    "duration": 17,
    "start_time": "2024-05-18T06:02:02.196Z"
   },
   {
    "duration": 14,
    "start_time": "2024-05-18T06:02:22.535Z"
   },
   {
    "duration": 325,
    "start_time": "2024-05-18T06:05:25.429Z"
   },
   {
    "duration": 32,
    "start_time": "2024-05-18T06:07:35.036Z"
   },
   {
    "duration": 1210,
    "start_time": "2024-05-18T06:07:42.521Z"
   },
   {
    "duration": 39,
    "start_time": "2024-05-18T06:07:43.734Z"
   },
   {
    "duration": 9,
    "start_time": "2024-05-18T06:07:43.776Z"
   },
   {
    "duration": 16,
    "start_time": "2024-05-18T06:07:43.809Z"
   },
   {
    "duration": 41,
    "start_time": "2024-05-18T06:07:43.828Z"
   },
   {
    "duration": 41,
    "start_time": "2024-05-18T06:10:45.881Z"
   },
   {
    "duration": 42,
    "start_time": "2024-05-18T06:11:19.560Z"
   },
   {
    "duration": 40,
    "start_time": "2024-05-18T06:11:40.057Z"
   },
   {
    "duration": 103,
    "start_time": "2024-05-18T06:12:54.568Z"
   },
   {
    "duration": 92,
    "start_time": "2024-05-18T06:15:46.263Z"
   },
   {
    "duration": 94,
    "start_time": "2024-05-18T06:16:10.841Z"
   },
   {
    "duration": 97,
    "start_time": "2024-05-18T06:17:34.814Z"
   },
   {
    "duration": 99,
    "start_time": "2024-05-18T06:18:39.540Z"
   },
   {
    "duration": 416,
    "start_time": "2024-05-18T06:20:59.329Z"
   },
   {
    "duration": 36,
    "start_time": "2024-05-18T06:21:23.354Z"
   },
   {
    "duration": 90,
    "start_time": "2024-05-18T06:22:13.175Z"
   },
   {
    "duration": 344,
    "start_time": "2024-05-18T06:26:08.977Z"
   },
   {
    "duration": 345,
    "start_time": "2024-05-18T06:27:07.378Z"
   },
   {
    "duration": 724,
    "start_time": "2024-05-18T06:27:15.435Z"
   },
   {
    "duration": 26,
    "start_time": "2024-05-18T06:33:29.622Z"
   },
   {
    "duration": 103,
    "start_time": "2024-05-18T06:41:30.506Z"
   },
   {
    "duration": 99,
    "start_time": "2024-05-18T06:41:37.502Z"
   },
   {
    "duration": 797,
    "start_time": "2024-05-18T06:43:40.478Z"
   },
   {
    "duration": 4078,
    "start_time": "2024-05-18T06:44:28.840Z"
   },
   {
    "duration": 2030,
    "start_time": "2024-05-18T06:44:44.432Z"
   },
   {
    "duration": 1987,
    "start_time": "2024-05-18T06:45:51.099Z"
   },
   {
    "duration": 4266,
    "start_time": "2024-05-18T06:46:47.599Z"
   },
   {
    "duration": 4913,
    "start_time": "2024-05-18T06:46:58.623Z"
   },
   {
    "duration": 8930,
    "start_time": "2024-05-18T06:47:17.739Z"
   },
   {
    "duration": 8532,
    "start_time": "2024-05-18T06:47:56.917Z"
   },
   {
    "duration": 1191,
    "start_time": "2024-05-18T06:48:13.849Z"
   },
   {
    "duration": 36,
    "start_time": "2024-05-18T06:48:15.043Z"
   },
   {
    "duration": 30,
    "start_time": "2024-05-18T06:48:15.082Z"
   },
   {
    "duration": 17,
    "start_time": "2024-05-18T06:48:15.115Z"
   },
   {
    "duration": 121,
    "start_time": "2024-05-18T06:48:15.136Z"
   },
   {
    "duration": 8636,
    "start_time": "2024-05-18T06:48:15.260Z"
   },
   {
    "duration": 30,
    "start_time": "2024-05-18T06:48:23.899Z"
   },
   {
    "duration": 256,
    "start_time": "2024-05-18T07:03:49.040Z"
   },
   {
    "duration": 59,
    "start_time": "2024-05-18T07:04:15.656Z"
   },
   {
    "duration": 51,
    "start_time": "2024-05-18T07:04:22.072Z"
   },
   {
    "duration": 8621,
    "start_time": "2024-05-18T07:04:38.400Z"
   },
   {
    "duration": 8575,
    "start_time": "2024-05-18T07:05:21.493Z"
   },
   {
    "duration": 59,
    "start_time": "2024-05-18T07:07:31.247Z"
   },
   {
    "duration": 399,
    "start_time": "2024-05-18T07:38:46.324Z"
   },
   {
    "duration": 7,
    "start_time": "2024-05-18T07:38:58.205Z"
   },
   {
    "duration": 1349,
    "start_time": "2024-05-18T07:46:24.023Z"
   },
   {
    "duration": 51,
    "start_time": "2024-05-18T07:46:25.376Z"
   },
   {
    "duration": 12,
    "start_time": "2024-05-18T07:46:25.431Z"
   },
   {
    "duration": 17,
    "start_time": "2024-05-18T07:46:25.448Z"
   },
   {
    "duration": 144,
    "start_time": "2024-05-18T07:46:25.468Z"
   },
   {
    "duration": 8915,
    "start_time": "2024-05-18T07:46:25.618Z"
   },
   {
    "duration": 29,
    "start_time": "2024-05-18T07:46:34.536Z"
   },
   {
    "duration": 78,
    "start_time": "2024-05-18T07:46:34.568Z"
   },
   {
    "duration": 441,
    "start_time": "2024-05-18T07:46:34.650Z"
   },
   {
    "duration": 6,
    "start_time": "2024-05-18T07:47:06.524Z"
   },
   {
    "duration": 10,
    "start_time": "2024-05-18T07:50:51.221Z"
   },
   {
    "duration": 8,
    "start_time": "2024-05-18T08:23:59.666Z"
   },
   {
    "duration": 15,
    "start_time": "2024-05-18T08:24:04.530Z"
   },
   {
    "duration": 9,
    "start_time": "2024-05-18T08:24:11.138Z"
   },
   {
    "duration": 8,
    "start_time": "2024-05-18T08:25:49.251Z"
   },
   {
    "duration": 9,
    "start_time": "2024-05-18T08:25:58.776Z"
   },
   {
    "duration": 11,
    "start_time": "2024-05-18T08:26:02.224Z"
   },
   {
    "duration": 9,
    "start_time": "2024-05-18T08:26:07.792Z"
   },
   {
    "duration": 14,
    "start_time": "2024-05-18T08:26:15.009Z"
   },
   {
    "duration": 7,
    "start_time": "2024-05-18T08:30:08.578Z"
   },
   {
    "duration": 1245,
    "start_time": "2024-05-18T08:40:13.527Z"
   },
   {
    "duration": 43,
    "start_time": "2024-05-18T08:40:14.776Z"
   },
   {
    "duration": 9,
    "start_time": "2024-05-18T08:40:14.823Z"
   },
   {
    "duration": 15,
    "start_time": "2024-05-18T08:40:14.835Z"
   },
   {
    "duration": 136,
    "start_time": "2024-05-18T08:40:14.854Z"
   },
   {
    "duration": 8694,
    "start_time": "2024-05-18T08:40:14.993Z"
   },
   {
    "duration": 29,
    "start_time": "2024-05-18T08:40:23.690Z"
   },
   {
    "duration": 58,
    "start_time": "2024-05-18T08:40:23.722Z"
   },
   {
    "duration": 8,
    "start_time": "2024-05-18T08:40:23.808Z"
   },
   {
    "duration": 1160,
    "start_time": "2024-05-18T17:37:05.169Z"
   },
   {
    "duration": 44,
    "start_time": "2024-05-18T17:37:06.332Z"
   },
   {
    "duration": 9,
    "start_time": "2024-05-18T17:37:06.379Z"
   },
   {
    "duration": 16,
    "start_time": "2024-05-18T17:37:06.412Z"
   },
   {
    "duration": 111,
    "start_time": "2024-05-18T17:37:06.431Z"
   },
   {
    "duration": 8776,
    "start_time": "2024-05-18T17:37:06.546Z"
   },
   {
    "duration": 32,
    "start_time": "2024-05-18T17:37:15.326Z"
   },
   {
    "duration": 103,
    "start_time": "2024-05-18T17:37:15.364Z"
   },
   {
    "duration": 13,
    "start_time": "2024-05-18T17:37:15.477Z"
   },
   {
    "duration": 9,
    "start_time": "2024-05-18T17:38:35.288Z"
   },
   {
    "duration": 6,
    "start_time": "2024-05-18T17:38:58.176Z"
   },
   {
    "duration": 7,
    "start_time": "2024-05-18T17:39:00.973Z"
   },
   {
    "duration": 343,
    "start_time": "2024-05-19T00:46:45.690Z"
   },
   {
    "duration": 1245,
    "start_time": "2024-05-19T00:46:50.736Z"
   },
   {
    "duration": 43,
    "start_time": "2024-05-19T00:46:51.985Z"
   },
   {
    "duration": 11,
    "start_time": "2024-05-19T00:46:52.031Z"
   },
   {
    "duration": 18,
    "start_time": "2024-05-19T00:46:52.045Z"
   },
   {
    "duration": 157,
    "start_time": "2024-05-19T00:46:52.068Z"
   },
   {
    "duration": 8833,
    "start_time": "2024-05-19T00:46:52.229Z"
   },
   {
    "duration": 25,
    "start_time": "2024-05-19T00:47:01.065Z"
   },
   {
    "duration": 68,
    "start_time": "2024-05-19T00:47:01.110Z"
   },
   {
    "duration": 28,
    "start_time": "2024-05-19T00:47:01.181Z"
   },
   {
    "duration": 1283,
    "start_time": "2024-05-19T00:52:43.930Z"
   },
   {
    "duration": 47,
    "start_time": "2024-05-19T00:52:45.221Z"
   },
   {
    "duration": 9,
    "start_time": "2024-05-19T00:52:45.271Z"
   },
   {
    "duration": 21,
    "start_time": "2024-05-19T00:52:45.308Z"
   },
   {
    "duration": 116,
    "start_time": "2024-05-19T00:52:45.334Z"
   },
   {
    "duration": 9285,
    "start_time": "2024-05-19T00:52:45.453Z"
   },
   {
    "duration": 0,
    "start_time": "2024-05-19T00:52:54.741Z"
   },
   {
    "duration": 0,
    "start_time": "2024-05-19T00:52:54.743Z"
   },
   {
    "duration": 0,
    "start_time": "2024-05-19T00:52:54.747Z"
   },
   {
    "duration": 8825,
    "start_time": "2024-05-19T00:53:24.819Z"
   },
   {
    "duration": 26,
    "start_time": "2024-05-19T00:53:44.363Z"
   },
   {
    "duration": 9,
    "start_time": "2024-05-19T00:53:46.186Z"
   },
   {
    "duration": 8,
    "start_time": "2024-05-19T00:53:46.990Z"
   },
   {
    "duration": 109,
    "start_time": "2024-05-19T00:55:53.771Z"
   },
   {
    "duration": 121,
    "start_time": "2024-05-19T00:55:59.491Z"
   },
   {
    "duration": 120,
    "start_time": "2024-05-19T00:58:20.663Z"
   },
   {
    "duration": 116,
    "start_time": "2024-05-19T00:58:27.670Z"
   },
   {
    "duration": 106,
    "start_time": "2024-05-19T00:59:21.128Z"
   }
  ],
  "kernelspec": {
   "display_name": "base",
   "language": "python",
   "name": "python3"
  },
  "language_info": {
   "codemirror_mode": {
    "name": "ipython",
    "version": 3
   },
   "file_extension": ".py",
   "mimetype": "text/x-python",
   "name": "python",
   "nbconvert_exporter": "python",
   "pygments_lexer": "ipython3",
   "version": "3.12.7"
  },
  "toc": {
   "base_numbering": 1,
   "nav_menu": {},
   "number_sections": true,
   "sideBar": true,
   "skip_h1_title": true,
   "title_cell": "Table of Contents",
   "title_sidebar": "Contents",
   "toc_cell": false,
   "toc_position": {},
   "toc_section_display": true,
   "toc_window_display": false
  }
 },
 "nbformat": 4,
 "nbformat_minor": 2
}
