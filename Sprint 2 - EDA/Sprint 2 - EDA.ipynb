{
 "cells": [
  {
   "cell_type": "markdown",
   "id": "79218ccd",
   "metadata": {},
   "source": [
    "# EDA Project\n",
    "\n",
    "In this project we are going to be looking at user shopping habits from the grocery application, Instacart. We will first need to look through all of the datasets to ensure the data is clean, then we will analyse and report on the various trends and tendencies of Instacart customers through various graphs.\n",
    "\n",
    "Loading all datasets for analysis"
   ]
  },
  {
   "cell_type": "markdown",
   "id": "31aa0b13",
   "metadata": {},
   "source": [
    "<div class=\"alert alert-danger\" style=\"border-radius: 15px; box-shadow: 4px 4px 4px; border: 1px solid \">\n",
    "<b>   Reviewer's comment ❌</b>\n",
    "    \n",
    "First things first. The introduction is the initial paragraph that each project, each essay or any article should have. It is important to write an introductory part, because it gives an idea about the content of the project. Please, add project and data descriptions. \n",
    "\n",
    "</div>\n",
    "<div class=\"alert alert-success\" style=\"border-radius: 15px; box-shadow: 4px 4px 4px; border: 1px solid \">\n",
    "<h2> Reviewer's comment 2 ✔️</h2>\n",
    "    \n",
    "Great! :) It's a good habit actually. I have about 200 notebooks on my laptop with different tasks. Without a good intro it would be hard to remember what a particular notebook is about.\n",
    "\n",
    "</div>\n",
    "<div class=\"alert alert-warning\" style=\"border-radius: 15px; box-shadow: 4px 4px 4px; border: 1px solid \">\n",
    "<h2>  Reviewer's comment 2 ⚠️</h2>\n",
    "    \n",
    "\n",
    "Try to make it broader next time :) \n",
    "</div>"
   ]
  },
  {
   "cell_type": "code",
   "execution_count": 1,
   "id": "fbf1adab",
   "metadata": {
    "scrolled": false
   },
   "outputs": [],
   "source": [
    "import pandas as pd # Importing pandas\n",
    "from matplotlib import pyplot as plt # Importing pyplot"
   ]
  },
  {
   "cell_type": "code",
   "execution_count": 2,
   "id": "62d79bf9",
   "metadata": {},
   "outputs": [
    {
     "name": "stdout",
     "output_type": "stream",
     "text": [
      "<class 'pandas.core.frame.DataFrame'>\n",
      "RangeIndex: 478967 entries, 0 to 478966\n",
      "Data columns (total 6 columns):\n",
      " #   Column                  Non-Null Count   Dtype  \n",
      "---  ------                  --------------   -----  \n",
      " 0   order_id                478967 non-null  int64  \n",
      " 1   user_id                 478967 non-null  int64  \n",
      " 2   order_number            478967 non-null  int64  \n",
      " 3   order_dow               478967 non-null  int64  \n",
      " 4   order_hour_of_day       478967 non-null  int64  \n",
      " 5   days_since_prior_order  450148 non-null  float64\n",
      "dtypes: float64(1), int64(5)\n",
      "memory usage: 21.9 MB\n"
     ]
    },
    {
     "data": {
      "text/html": [
       "<div>\n",
       "<style scoped>\n",
       "    .dataframe tbody tr th:only-of-type {\n",
       "        vertical-align: middle;\n",
       "    }\n",
       "\n",
       "    .dataframe tbody tr th {\n",
       "        vertical-align: top;\n",
       "    }\n",
       "\n",
       "    .dataframe thead th {\n",
       "        text-align: right;\n",
       "    }\n",
       "</style>\n",
       "<table border=\"1\" class=\"dataframe\">\n",
       "  <thead>\n",
       "    <tr style=\"text-align: right;\">\n",
       "      <th></th>\n",
       "      <th>order_id</th>\n",
       "      <th>user_id</th>\n",
       "      <th>order_number</th>\n",
       "      <th>order_dow</th>\n",
       "      <th>order_hour_of_day</th>\n",
       "      <th>days_since_prior_order</th>\n",
       "    </tr>\n",
       "  </thead>\n",
       "  <tbody>\n",
       "    <tr>\n",
       "      <th>0</th>\n",
       "      <td>1515936</td>\n",
       "      <td>183418</td>\n",
       "      <td>11</td>\n",
       "      <td>6</td>\n",
       "      <td>13</td>\n",
       "      <td>30.0</td>\n",
       "    </tr>\n",
       "    <tr>\n",
       "      <th>1</th>\n",
       "      <td>1690866</td>\n",
       "      <td>163593</td>\n",
       "      <td>5</td>\n",
       "      <td>5</td>\n",
       "      <td>12</td>\n",
       "      <td>9.0</td>\n",
       "    </tr>\n",
       "    <tr>\n",
       "      <th>2</th>\n",
       "      <td>1454967</td>\n",
       "      <td>39980</td>\n",
       "      <td>4</td>\n",
       "      <td>5</td>\n",
       "      <td>19</td>\n",
       "      <td>2.0</td>\n",
       "    </tr>\n",
       "    <tr>\n",
       "      <th>3</th>\n",
       "      <td>1768857</td>\n",
       "      <td>82516</td>\n",
       "      <td>56</td>\n",
       "      <td>0</td>\n",
       "      <td>20</td>\n",
       "      <td>10.0</td>\n",
       "    </tr>\n",
       "    <tr>\n",
       "      <th>4</th>\n",
       "      <td>3007858</td>\n",
       "      <td>196724</td>\n",
       "      <td>2</td>\n",
       "      <td>4</td>\n",
       "      <td>12</td>\n",
       "      <td>17.0</td>\n",
       "    </tr>\n",
       "  </tbody>\n",
       "</table>\n",
       "</div>"
      ],
      "text/plain": [
       "   order_id  user_id  order_number  order_dow  order_hour_of_day  \\\n",
       "0   1515936   183418            11          6                 13   \n",
       "1   1690866   163593             5          5                 12   \n",
       "2   1454967    39980             4          5                 19   \n",
       "3   1768857    82516            56          0                 20   \n",
       "4   3007858   196724             2          4                 12   \n",
       "\n",
       "   days_since_prior_order  \n",
       "0                    30.0  \n",
       "1                     9.0  \n",
       "2                     2.0  \n",
       "3                    10.0  \n",
       "4                    17.0  "
      ]
     },
     "metadata": {},
     "output_type": "display_data"
    }
   ],
   "source": [
    "df_orders = pd.read_csv('instacart_orders.csv', sep=';')\n",
    "df_orders.info()\n",
    "display(df_orders.head()) # Need to check dow and hour values"
   ]
  },
  {
   "cell_type": "markdown",
   "id": "1b706790",
   "metadata": {},
   "source": [
    "Need to verify `order_dow` and `order_hour_of_day` values"
   ]
  },
  {
   "cell_type": "code",
   "execution_count": 3,
   "id": "ad36396d",
   "metadata": {},
   "outputs": [
    {
     "name": "stdout",
     "output_type": "stream",
     "text": [
      "<class 'pandas.core.frame.DataFrame'>\n",
      "RangeIndex: 49694 entries, 0 to 49693\n",
      "Data columns (total 4 columns):\n",
      " #   Column         Non-Null Count  Dtype \n",
      "---  ------         --------------  ----- \n",
      " 0   product_id     49694 non-null  int64 \n",
      " 1   product_name   48436 non-null  object\n",
      " 2   aisle_id       49694 non-null  int64 \n",
      " 3   department_id  49694 non-null  int64 \n",
      "dtypes: int64(3), object(1)\n",
      "memory usage: 1.5+ MB\n"
     ]
    },
    {
     "data": {
      "text/html": [
       "<div>\n",
       "<style scoped>\n",
       "    .dataframe tbody tr th:only-of-type {\n",
       "        vertical-align: middle;\n",
       "    }\n",
       "\n",
       "    .dataframe tbody tr th {\n",
       "        vertical-align: top;\n",
       "    }\n",
       "\n",
       "    .dataframe thead th {\n",
       "        text-align: right;\n",
       "    }\n",
       "</style>\n",
       "<table border=\"1\" class=\"dataframe\">\n",
       "  <thead>\n",
       "    <tr style=\"text-align: right;\">\n",
       "      <th></th>\n",
       "      <th>product_id</th>\n",
       "      <th>product_name</th>\n",
       "      <th>aisle_id</th>\n",
       "      <th>department_id</th>\n",
       "    </tr>\n",
       "  </thead>\n",
       "  <tbody>\n",
       "    <tr>\n",
       "      <th>0</th>\n",
       "      <td>1</td>\n",
       "      <td>Chocolate Sandwich Cookies</td>\n",
       "      <td>61</td>\n",
       "      <td>19</td>\n",
       "    </tr>\n",
       "    <tr>\n",
       "      <th>1</th>\n",
       "      <td>2</td>\n",
       "      <td>All-Seasons Salt</td>\n",
       "      <td>104</td>\n",
       "      <td>13</td>\n",
       "    </tr>\n",
       "    <tr>\n",
       "      <th>2</th>\n",
       "      <td>3</td>\n",
       "      <td>Robust Golden Unsweetened Oolong Tea</td>\n",
       "      <td>94</td>\n",
       "      <td>7</td>\n",
       "    </tr>\n",
       "    <tr>\n",
       "      <th>3</th>\n",
       "      <td>4</td>\n",
       "      <td>Smart Ones Classic Favorites Mini Rigatoni Wit...</td>\n",
       "      <td>38</td>\n",
       "      <td>1</td>\n",
       "    </tr>\n",
       "    <tr>\n",
       "      <th>4</th>\n",
       "      <td>5</td>\n",
       "      <td>Green Chile Anytime Sauce</td>\n",
       "      <td>5</td>\n",
       "      <td>13</td>\n",
       "    </tr>\n",
       "  </tbody>\n",
       "</table>\n",
       "</div>"
      ],
      "text/plain": [
       "   product_id                                       product_name  aisle_id  \\\n",
       "0           1                         Chocolate Sandwich Cookies        61   \n",
       "1           2                                   All-Seasons Salt       104   \n",
       "2           3               Robust Golden Unsweetened Oolong Tea        94   \n",
       "3           4  Smart Ones Classic Favorites Mini Rigatoni Wit...        38   \n",
       "4           5                          Green Chile Anytime Sauce         5   \n",
       "\n",
       "   department_id  \n",
       "0             19  \n",
       "1             13  \n",
       "2              7  \n",
       "3              1  \n",
       "4             13  "
      ]
     },
     "metadata": {},
     "output_type": "display_data"
    }
   ],
   "source": [
    "df_products = pd.read_csv('products.csv', sep=';')\n",
    "df_products.info()\n",
    "display(df_products.head())"
   ]
  },
  {
   "cell_type": "code",
   "execution_count": 4,
   "id": "ad6a1efa",
   "metadata": {},
   "outputs": [
    {
     "name": "stdout",
     "output_type": "stream",
     "text": [
      "<class 'pandas.core.frame.DataFrame'>\n",
      "RangeIndex: 4545007 entries, 0 to 4545006\n",
      "Data columns (total 4 columns):\n",
      " #   Column             Non-Null Count    Dtype  \n",
      "---  ------             --------------    -----  \n",
      " 0   order_id           4545007 non-null  int64  \n",
      " 1   product_id         4545007 non-null  int64  \n",
      " 2   add_to_cart_order  4544171 non-null  float64\n",
      " 3   reordered          4545007 non-null  int64  \n",
      "dtypes: float64(1), int64(3)\n",
      "memory usage: 138.7 MB\n"
     ]
    },
    {
     "data": {
      "text/html": [
       "<div>\n",
       "<style scoped>\n",
       "    .dataframe tbody tr th:only-of-type {\n",
       "        vertical-align: middle;\n",
       "    }\n",
       "\n",
       "    .dataframe tbody tr th {\n",
       "        vertical-align: top;\n",
       "    }\n",
       "\n",
       "    .dataframe thead th {\n",
       "        text-align: right;\n",
       "    }\n",
       "</style>\n",
       "<table border=\"1\" class=\"dataframe\">\n",
       "  <thead>\n",
       "    <tr style=\"text-align: right;\">\n",
       "      <th></th>\n",
       "      <th>order_id</th>\n",
       "      <th>product_id</th>\n",
       "      <th>add_to_cart_order</th>\n",
       "      <th>reordered</th>\n",
       "    </tr>\n",
       "  </thead>\n",
       "  <tbody>\n",
       "    <tr>\n",
       "      <th>0</th>\n",
       "      <td>2141543</td>\n",
       "      <td>11440</td>\n",
       "      <td>17.0</td>\n",
       "      <td>0</td>\n",
       "    </tr>\n",
       "    <tr>\n",
       "      <th>1</th>\n",
       "      <td>567889</td>\n",
       "      <td>1560</td>\n",
       "      <td>1.0</td>\n",
       "      <td>1</td>\n",
       "    </tr>\n",
       "    <tr>\n",
       "      <th>2</th>\n",
       "      <td>2261212</td>\n",
       "      <td>26683</td>\n",
       "      <td>1.0</td>\n",
       "      <td>1</td>\n",
       "    </tr>\n",
       "    <tr>\n",
       "      <th>3</th>\n",
       "      <td>491251</td>\n",
       "      <td>8670</td>\n",
       "      <td>35.0</td>\n",
       "      <td>1</td>\n",
       "    </tr>\n",
       "    <tr>\n",
       "      <th>4</th>\n",
       "      <td>2571142</td>\n",
       "      <td>1940</td>\n",
       "      <td>5.0</td>\n",
       "      <td>1</td>\n",
       "    </tr>\n",
       "  </tbody>\n",
       "</table>\n",
       "</div>"
      ],
      "text/plain": [
       "   order_id  product_id  add_to_cart_order  reordered\n",
       "0   2141543       11440               17.0          0\n",
       "1    567889        1560                1.0          1\n",
       "2   2261212       26683                1.0          1\n",
       "3    491251        8670               35.0          1\n",
       "4   2571142        1940                5.0          1"
      ]
     },
     "metadata": {},
     "output_type": "display_data"
    }
   ],
   "source": [
    "df_order_products = pd.read_csv('order_products.csv', sep=';')\n",
    "df_order_products.info(show_counts=True)\n",
    "display(df_order_products.head())"
   ]
  },
  {
   "cell_type": "code",
   "execution_count": 5,
   "id": "5130e05e",
   "metadata": {},
   "outputs": [
    {
     "name": "stdout",
     "output_type": "stream",
     "text": [
      "<class 'pandas.core.frame.DataFrame'>\n",
      "RangeIndex: 134 entries, 0 to 133\n",
      "Data columns (total 2 columns):\n",
      " #   Column    Non-Null Count  Dtype \n",
      "---  ------    --------------  ----- \n",
      " 0   aisle_id  134 non-null    int64 \n",
      " 1   aisle     134 non-null    object\n",
      "dtypes: int64(1), object(1)\n",
      "memory usage: 2.2+ KB\n"
     ]
    },
    {
     "data": {
      "text/html": [
       "<div>\n",
       "<style scoped>\n",
       "    .dataframe tbody tr th:only-of-type {\n",
       "        vertical-align: middle;\n",
       "    }\n",
       "\n",
       "    .dataframe tbody tr th {\n",
       "        vertical-align: top;\n",
       "    }\n",
       "\n",
       "    .dataframe thead th {\n",
       "        text-align: right;\n",
       "    }\n",
       "</style>\n",
       "<table border=\"1\" class=\"dataframe\">\n",
       "  <thead>\n",
       "    <tr style=\"text-align: right;\">\n",
       "      <th></th>\n",
       "      <th>aisle_id</th>\n",
       "      <th>aisle</th>\n",
       "    </tr>\n",
       "  </thead>\n",
       "  <tbody>\n",
       "    <tr>\n",
       "      <th>0</th>\n",
       "      <td>1</td>\n",
       "      <td>prepared soups salads</td>\n",
       "    </tr>\n",
       "    <tr>\n",
       "      <th>1</th>\n",
       "      <td>2</td>\n",
       "      <td>specialty cheeses</td>\n",
       "    </tr>\n",
       "    <tr>\n",
       "      <th>2</th>\n",
       "      <td>3</td>\n",
       "      <td>energy granola bars</td>\n",
       "    </tr>\n",
       "    <tr>\n",
       "      <th>3</th>\n",
       "      <td>4</td>\n",
       "      <td>instant foods</td>\n",
       "    </tr>\n",
       "    <tr>\n",
       "      <th>4</th>\n",
       "      <td>5</td>\n",
       "      <td>marinades meat preparation</td>\n",
       "    </tr>\n",
       "  </tbody>\n",
       "</table>\n",
       "</div>"
      ],
      "text/plain": [
       "   aisle_id                       aisle\n",
       "0         1       prepared soups salads\n",
       "1         2           specialty cheeses\n",
       "2         3         energy granola bars\n",
       "3         4               instant foods\n",
       "4         5  marinades meat preparation"
      ]
     },
     "metadata": {},
     "output_type": "display_data"
    }
   ],
   "source": [
    "df_aisles = pd.read_csv('aisles.csv', sep=';')\n",
    "df_aisles.info()\n",
    "display(df_aisles.head())"
   ]
  },
  {
   "cell_type": "code",
   "execution_count": 6,
   "id": "d8370c05",
   "metadata": {},
   "outputs": [
    {
     "name": "stdout",
     "output_type": "stream",
     "text": [
      "<class 'pandas.core.frame.DataFrame'>\n",
      "RangeIndex: 21 entries, 0 to 20\n",
      "Data columns (total 2 columns):\n",
      " #   Column         Non-Null Count  Dtype \n",
      "---  ------         --------------  ----- \n",
      " 0   department_id  21 non-null     int64 \n",
      " 1   department     21 non-null     object\n",
      "dtypes: int64(1), object(1)\n",
      "memory usage: 468.0+ bytes\n"
     ]
    },
    {
     "data": {
      "text/html": [
       "<div>\n",
       "<style scoped>\n",
       "    .dataframe tbody tr th:only-of-type {\n",
       "        vertical-align: middle;\n",
       "    }\n",
       "\n",
       "    .dataframe tbody tr th {\n",
       "        vertical-align: top;\n",
       "    }\n",
       "\n",
       "    .dataframe thead th {\n",
       "        text-align: right;\n",
       "    }\n",
       "</style>\n",
       "<table border=\"1\" class=\"dataframe\">\n",
       "  <thead>\n",
       "    <tr style=\"text-align: right;\">\n",
       "      <th></th>\n",
       "      <th>department_id</th>\n",
       "      <th>department</th>\n",
       "    </tr>\n",
       "  </thead>\n",
       "  <tbody>\n",
       "    <tr>\n",
       "      <th>0</th>\n",
       "      <td>1</td>\n",
       "      <td>frozen</td>\n",
       "    </tr>\n",
       "    <tr>\n",
       "      <th>1</th>\n",
       "      <td>2</td>\n",
       "      <td>other</td>\n",
       "    </tr>\n",
       "    <tr>\n",
       "      <th>2</th>\n",
       "      <td>3</td>\n",
       "      <td>bakery</td>\n",
       "    </tr>\n",
       "    <tr>\n",
       "      <th>3</th>\n",
       "      <td>4</td>\n",
       "      <td>produce</td>\n",
       "    </tr>\n",
       "    <tr>\n",
       "      <th>4</th>\n",
       "      <td>5</td>\n",
       "      <td>alcohol</td>\n",
       "    </tr>\n",
       "  </tbody>\n",
       "</table>\n",
       "</div>"
      ],
      "text/plain": [
       "   department_id department\n",
       "0              1     frozen\n",
       "1              2      other\n",
       "2              3     bakery\n",
       "3              4    produce\n",
       "4              5    alcohol"
      ]
     },
     "metadata": {},
     "output_type": "display_data"
    }
   ],
   "source": [
    "df_departments = pd.read_csv('departments.csv', sep=';')\n",
    "df_departments.info()\n",
    "display(df_departments.head())"
   ]
  },
  {
   "cell_type": "markdown",
   "id": "c89b072e",
   "metadata": {},
   "source": [
    "Here we have all 5 data sets from Instacart. The `order`, `product` and `order_products` datasets all have missing values we will need to look into, while the `aisle` and `department` datasets are mostly here as reference for the `product` dataset. The `order_dow` and `order_hour_of_day` columns of the `order` dataset will need additional review."
   ]
  },
  {
   "cell_type": "markdown",
   "id": "07357848-dc64-4156-9cc3-01ff4365226d",
   "metadata": {},
   "source": [
    "## Find and remove duplicate values (and describe why you make your choices)"
   ]
  },
  {
   "cell_type": "markdown",
   "id": "f179f0a9",
   "metadata": {},
   "source": [
    "### `orders` data "
   ]
  },
  {
   "cell_type": "code",
   "execution_count": 7,
   "id": "b99297a5-405a-463d-8535-9adc3da4ad74",
   "metadata": {},
   "outputs": [
    {
     "data": {
      "text/plain": [
       "15"
      ]
     },
     "metadata": {},
     "output_type": "display_data"
    },
    {
     "data": {
      "text/html": [
       "<div>\n",
       "<style scoped>\n",
       "    .dataframe tbody tr th:only-of-type {\n",
       "        vertical-align: middle;\n",
       "    }\n",
       "\n",
       "    .dataframe tbody tr th {\n",
       "        vertical-align: top;\n",
       "    }\n",
       "\n",
       "    .dataframe thead th {\n",
       "        text-align: right;\n",
       "    }\n",
       "</style>\n",
       "<table border=\"1\" class=\"dataframe\">\n",
       "  <thead>\n",
       "    <tr style=\"text-align: right;\">\n",
       "      <th></th>\n",
       "      <th>order_id</th>\n",
       "      <th>user_id</th>\n",
       "      <th>order_number</th>\n",
       "      <th>order_dow</th>\n",
       "      <th>order_hour_of_day</th>\n",
       "      <th>days_since_prior_order</th>\n",
       "    </tr>\n",
       "  </thead>\n",
       "  <tbody>\n",
       "    <tr>\n",
       "      <th>145574</th>\n",
       "      <td>794638</td>\n",
       "      <td>50898</td>\n",
       "      <td>24</td>\n",
       "      <td>3</td>\n",
       "      <td>2</td>\n",
       "      <td>2.0</td>\n",
       "    </tr>\n",
       "    <tr>\n",
       "      <th>223105</th>\n",
       "      <td>2160484</td>\n",
       "      <td>107525</td>\n",
       "      <td>16</td>\n",
       "      <td>3</td>\n",
       "      <td>2</td>\n",
       "      <td>30.0</td>\n",
       "    </tr>\n",
       "    <tr>\n",
       "      <th>230807</th>\n",
       "      <td>1918001</td>\n",
       "      <td>188546</td>\n",
       "      <td>14</td>\n",
       "      <td>3</td>\n",
       "      <td>2</td>\n",
       "      <td>16.0</td>\n",
       "    </tr>\n",
       "    <tr>\n",
       "      <th>266232</th>\n",
       "      <td>1782114</td>\n",
       "      <td>106752</td>\n",
       "      <td>1</td>\n",
       "      <td>3</td>\n",
       "      <td>2</td>\n",
       "      <td>NaN</td>\n",
       "    </tr>\n",
       "    <tr>\n",
       "      <th>273805</th>\n",
       "      <td>1112182</td>\n",
       "      <td>202304</td>\n",
       "      <td>84</td>\n",
       "      <td>3</td>\n",
       "      <td>2</td>\n",
       "      <td>6.0</td>\n",
       "    </tr>\n",
       "    <tr>\n",
       "      <th>284038</th>\n",
       "      <td>2845099</td>\n",
       "      <td>31189</td>\n",
       "      <td>11</td>\n",
       "      <td>3</td>\n",
       "      <td>2</td>\n",
       "      <td>7.0</td>\n",
       "    </tr>\n",
       "    <tr>\n",
       "      <th>311713</th>\n",
       "      <td>1021560</td>\n",
       "      <td>53767</td>\n",
       "      <td>3</td>\n",
       "      <td>3</td>\n",
       "      <td>2</td>\n",
       "      <td>9.0</td>\n",
       "    </tr>\n",
       "    <tr>\n",
       "      <th>321100</th>\n",
       "      <td>408114</td>\n",
       "      <td>68324</td>\n",
       "      <td>4</td>\n",
       "      <td>3</td>\n",
       "      <td>2</td>\n",
       "      <td>18.0</td>\n",
       "    </tr>\n",
       "    <tr>\n",
       "      <th>323900</th>\n",
       "      <td>1919531</td>\n",
       "      <td>191501</td>\n",
       "      <td>32</td>\n",
       "      <td>3</td>\n",
       "      <td>2</td>\n",
       "      <td>7.0</td>\n",
       "    </tr>\n",
       "    <tr>\n",
       "      <th>345917</th>\n",
       "      <td>2232988</td>\n",
       "      <td>82565</td>\n",
       "      <td>1</td>\n",
       "      <td>3</td>\n",
       "      <td>2</td>\n",
       "      <td>NaN</td>\n",
       "    </tr>\n",
       "    <tr>\n",
       "      <th>371905</th>\n",
       "      <td>391768</td>\n",
       "      <td>57671</td>\n",
       "      <td>19</td>\n",
       "      <td>3</td>\n",
       "      <td>2</td>\n",
       "      <td>10.0</td>\n",
       "    </tr>\n",
       "    <tr>\n",
       "      <th>394347</th>\n",
       "      <td>467134</td>\n",
       "      <td>63189</td>\n",
       "      <td>21</td>\n",
       "      <td>3</td>\n",
       "      <td>2</td>\n",
       "      <td>2.0</td>\n",
       "    </tr>\n",
       "    <tr>\n",
       "      <th>411408</th>\n",
       "      <td>1286742</td>\n",
       "      <td>183220</td>\n",
       "      <td>48</td>\n",
       "      <td>3</td>\n",
       "      <td>2</td>\n",
       "      <td>4.0</td>\n",
       "    </tr>\n",
       "    <tr>\n",
       "      <th>415163</th>\n",
       "      <td>2282673</td>\n",
       "      <td>86751</td>\n",
       "      <td>49</td>\n",
       "      <td>3</td>\n",
       "      <td>2</td>\n",
       "      <td>2.0</td>\n",
       "    </tr>\n",
       "    <tr>\n",
       "      <th>441599</th>\n",
       "      <td>2125197</td>\n",
       "      <td>14050</td>\n",
       "      <td>48</td>\n",
       "      <td>3</td>\n",
       "      <td>2</td>\n",
       "      <td>3.0</td>\n",
       "    </tr>\n",
       "  </tbody>\n",
       "</table>\n",
       "</div>"
      ],
      "text/plain": [
       "        order_id  user_id  order_number  order_dow  order_hour_of_day  \\\n",
       "145574    794638    50898            24          3                  2   \n",
       "223105   2160484   107525            16          3                  2   \n",
       "230807   1918001   188546            14          3                  2   \n",
       "266232   1782114   106752             1          3                  2   \n",
       "273805   1112182   202304            84          3                  2   \n",
       "284038   2845099    31189            11          3                  2   \n",
       "311713   1021560    53767             3          3                  2   \n",
       "321100    408114    68324             4          3                  2   \n",
       "323900   1919531   191501            32          3                  2   \n",
       "345917   2232988    82565             1          3                  2   \n",
       "371905    391768    57671            19          3                  2   \n",
       "394347    467134    63189            21          3                  2   \n",
       "411408   1286742   183220            48          3                  2   \n",
       "415163   2282673    86751            49          3                  2   \n",
       "441599   2125197    14050            48          3                  2   \n",
       "\n",
       "        days_since_prior_order  \n",
       "145574                     2.0  \n",
       "223105                    30.0  \n",
       "230807                    16.0  \n",
       "266232                     NaN  \n",
       "273805                     6.0  \n",
       "284038                     7.0  \n",
       "311713                     9.0  \n",
       "321100                    18.0  \n",
       "323900                     7.0  \n",
       "345917                     NaN  \n",
       "371905                    10.0  \n",
       "394347                     2.0  \n",
       "411408                     4.0  \n",
       "415163                     2.0  \n",
       "441599                     3.0  "
      ]
     },
     "metadata": {},
     "output_type": "display_data"
    }
   ],
   "source": [
    "# Check for duplicated orders\n",
    "display(df_orders.duplicated().sum())\n",
    "display(df_orders[df_orders.duplicated() == True])"
   ]
  },
  {
   "cell_type": "code",
   "execution_count": 8,
   "id": "0d44de5d",
   "metadata": {},
   "outputs": [
    {
     "name": "stdout",
     "output_type": "stream",
     "text": [
      "[0, 1, 2, 3, 4, 5, 6]\n",
      "[0, 1, 2, 3, 4, 5, 6, 7, 8, 9, 10, 11, 12, 13, 14, 15, 16, 17, 18, 19, 20, 21, 22, 23]\n"
     ]
    },
    {
     "data": {
      "text/plain": [
       "15"
      ]
     },
     "execution_count": 8,
     "metadata": {},
     "output_type": "execute_result"
    }
   ],
   "source": [
    "# Check for all orders placed Wednesday at 2:00 AM\n",
    "print(sorted(df_orders['order_dow'].unique())) # Verify dow and hour only have appropriate values\n",
    "print(sorted(df_orders['order_hour_of_day'].unique()))\n",
    "df_orders[(df_orders['order_dow'] == 3) & (df_orders['order_hour_of_day'] == 2)].duplicated().sum()"
   ]
  },
  {
   "cell_type": "markdown",
   "id": "abb1110d",
   "metadata": {},
   "source": [
    "Due to the wording of this question and [this](https://docs.python.org/3/library/time.html#time.strftime) documentation, I will assume Wednesday = 3\n",
    "\n",
    "Therefore:\n",
    "* 0 = Sunday\n",
    "* 1 = Monday\n",
    "* 2 = Tuesday\n",
    "* 3 = Wednesday\n",
    "* 4 = Thurday\n",
    "* 5 = Friday\n",
    "* 6 = Saturday"
   ]
  },
  {
   "cell_type": "code",
   "execution_count": 9,
   "id": "480563c7",
   "metadata": {},
   "outputs": [
    {
     "name": "stdout",
     "output_type": "stream",
     "text": [
      "<class 'pandas.core.frame.DataFrame'>\n",
      "RangeIndex: 478952 entries, 0 to 478951\n",
      "Data columns (total 6 columns):\n",
      " #   Column                  Non-Null Count   Dtype  \n",
      "---  ------                  --------------   -----  \n",
      " 0   order_id                478952 non-null  int64  \n",
      " 1   user_id                 478952 non-null  int64  \n",
      " 2   order_number            478952 non-null  int64  \n",
      " 3   order_dow               478952 non-null  int64  \n",
      " 4   order_hour_of_day       478952 non-null  int64  \n",
      " 5   days_since_prior_order  450135 non-null  float64\n",
      "dtypes: float64(1), int64(5)\n",
      "memory usage: 21.9 MB\n"
     ]
    }
   ],
   "source": [
    "# Remove duplicate orders\n",
    "df_orders = df_orders.drop_duplicates().reset_index(drop=True)\n",
    "df_orders.info()"
   ]
  },
  {
   "cell_type": "code",
   "execution_count": 10,
   "id": "0b2396a2",
   "metadata": {},
   "outputs": [
    {
     "data": {
      "text/plain": [
       "0"
      ]
     },
     "metadata": {},
     "output_type": "display_data"
    }
   ],
   "source": [
    "# Double check for duplicate rows\n",
    "display(df_orders.duplicated().sum())"
   ]
  },
  {
   "cell_type": "code",
   "execution_count": 11,
   "id": "f6113ef1",
   "metadata": {},
   "outputs": [
    {
     "data": {
      "text/plain": [
       "0"
      ]
     },
     "metadata": {},
     "output_type": "display_data"
    }
   ],
   "source": [
    "# Double check for duplicate order IDs only\n",
    "display(df_orders['order_id'].duplicated().sum())"
   ]
  },
  {
   "cell_type": "markdown",
   "id": "5e8905ae",
   "metadata": {},
   "source": [
    "All duplicates have the same time and date, therefore there must be an error in the data that can be excluded."
   ]
  },
  {
   "cell_type": "markdown",
   "id": "45e6bc46",
   "metadata": {},
   "source": [
    "### `products` data frame"
   ]
  },
  {
   "cell_type": "code",
   "execution_count": 12,
   "id": "5f526b5b-8175-46fa-a0fd-441767d50e64",
   "metadata": {},
   "outputs": [
    {
     "data": {
      "text/plain": [
       "0"
      ]
     },
     "execution_count": 12,
     "metadata": {},
     "output_type": "execute_result"
    }
   ],
   "source": [
    "# Check for fully duplicate rows\n",
    "df_products.duplicated().sum()"
   ]
  },
  {
   "cell_type": "code",
   "execution_count": 13,
   "id": "88daa4f4",
   "metadata": {},
   "outputs": [
    {
     "data": {
      "text/plain": [
       "0"
      ]
     },
     "execution_count": 13,
     "metadata": {},
     "output_type": "execute_result"
    }
   ],
   "source": [
    "# Check for just duplicate product IDs\n",
    "df_products['product_id'].duplicated().sum()"
   ]
  },
  {
   "cell_type": "code",
   "execution_count": 14,
   "id": "c773f0bf",
   "metadata": {},
   "outputs": [
    {
     "data": {
      "text/plain": [
       "1361"
      ]
     },
     "metadata": {},
     "output_type": "display_data"
    },
    {
     "data": {
      "text/plain": [
       "0"
      ]
     },
     "metadata": {},
     "output_type": "display_data"
    }
   ],
   "source": [
    "# Check for just duplicate product names (convert names to lowercase to compare better)\n",
    "df_products['product_name'] = df_products['product_name'].str.lower()\n",
    "display(df_products['product_name'].duplicated().sum())\n",
    "display(df_products['product_id'].duplicated().sum())"
   ]
  },
  {
   "cell_type": "code",
   "execution_count": 15,
   "id": "01efd02e",
   "metadata": {},
   "outputs": [
    {
     "data": {
      "text/plain": [
       "product_name\n",
       "green tea with ginseng and honey                                        3\n",
       "carrot and celery sticks                                                2\n",
       "apricot energy bar                                                      2\n",
       "top the tater chive & onion sour cream                                  2\n",
       "proactive health indoor weight & hairball care with chicken cat food    2\n",
       "                                                                       ..\n",
       "all natural chicken apple sausage                                       1\n",
       "quartered artichoke hearts                                              1\n",
       "big eye ipa                                                             1\n",
       "unstopables lush                                                        1\n",
       "fresh foaming cleanser                                                  1\n",
       "Name: count, Length: 48332, dtype: int64"
      ]
     },
     "execution_count": 15,
     "metadata": {},
     "output_type": "execute_result"
    }
   ],
   "source": [
    "# Check for duplicate product names that aren't missing\n",
    "df_products['product_name'].str.lower().value_counts()"
   ]
  },
  {
   "cell_type": "markdown",
   "id": "9da8d293",
   "metadata": {},
   "source": [
    "The Products Dataset doesn't include brand data, so duplicate product names shouldn't be an issue as product_id is unique. "
   ]
  },
  {
   "cell_type": "markdown",
   "id": "60f30db1",
   "metadata": {},
   "source": [
    "### `departments` data frame"
   ]
  },
  {
   "cell_type": "code",
   "execution_count": 16,
   "id": "fb410ad4-0fbf-4b80-bb09-23fdea79afe3",
   "metadata": {},
   "outputs": [
    {
     "data": {
      "text/plain": [
       "0"
      ]
     },
     "metadata": {},
     "output_type": "display_data"
    },
    {
     "data": {
      "text/plain": [
       "0"
      ]
     },
     "metadata": {},
     "output_type": "display_data"
    },
    {
     "data": {
      "text/plain": [
       "0"
      ]
     },
     "metadata": {},
     "output_type": "display_data"
    }
   ],
   "source": [
    "display(df_departments.duplicated().sum()) # Checking for duplicates\n",
    "display(df_departments['department_id'].duplicated().sum())\n",
    "display(df_departments['department'].str.lower().duplicated().sum())"
   ]
  },
  {
   "cell_type": "code",
   "execution_count": 17,
   "id": "332b12bb",
   "metadata": {},
   "outputs": [
    {
     "data": {
      "text/plain": [
       "department_id  department     \n",
       "1              frozen             1\n",
       "2              other              1\n",
       "3              bakery             1\n",
       "4              produce            1\n",
       "5              alcohol            1\n",
       "6              international      1\n",
       "7              beverages          1\n",
       "8              pets               1\n",
       "9              dry goods pasta    1\n",
       "10             bulk               1\n",
       "11             personal care      1\n",
       "12             meat seafood       1\n",
       "13             pantry             1\n",
       "14             breakfast          1\n",
       "15             canned goods       1\n",
       "16             dairy eggs         1\n",
       "17             household          1\n",
       "18             babies             1\n",
       "19             snacks             1\n",
       "20             deli               1\n",
       "21             missing            1\n",
       "Name: count, dtype: int64"
      ]
     },
     "execution_count": 17,
     "metadata": {},
     "output_type": "execute_result"
    }
   ],
   "source": [
    "df_departments.value_counts(sort=False)"
   ]
  },
  {
   "cell_type": "markdown",
   "id": "bd30d78e",
   "metadata": {},
   "source": [
    "No duplicate values to remove"
   ]
  },
  {
   "cell_type": "markdown",
   "id": "889349c1",
   "metadata": {},
   "source": [
    "### `aisles` data frame"
   ]
  },
  {
   "cell_type": "code",
   "execution_count": 18,
   "id": "9da89fb9-4679-40f5-ad0d-c34df753a3f8",
   "metadata": {},
   "outputs": [
    {
     "data": {
      "text/plain": [
       "0"
      ]
     },
     "metadata": {},
     "output_type": "display_data"
    },
    {
     "data": {
      "text/plain": [
       "0"
      ]
     },
     "metadata": {},
     "output_type": "display_data"
    },
    {
     "data": {
      "text/plain": [
       "0"
      ]
     },
     "metadata": {},
     "output_type": "display_data"
    }
   ],
   "source": [
    "display(df_aisles.duplicated().sum())\n",
    "display(df_aisles['aisle_id'].duplicated().sum())\n",
    "display(df_aisles['aisle'].str.lower().duplicated().sum())"
   ]
  },
  {
   "cell_type": "code",
   "execution_count": 19,
   "id": "da7c2822",
   "metadata": {},
   "outputs": [
    {
     "data": {
      "text/plain": [
       "aisle_id  aisle                     \n",
       "1         prepared soups salads         1\n",
       "2         specialty cheeses             1\n",
       "3         energy granola bars           1\n",
       "4         instant foods                 1\n",
       "5         marinades meat preparation    1\n",
       "                                       ..\n",
       "130       hot cereal pancake mixes      1\n",
       "131       dry pasta                     1\n",
       "132       beauty                        1\n",
       "133       muscles joints pain relief    1\n",
       "134       specialty wines champagnes    1\n",
       "Name: count, Length: 134, dtype: int64"
      ]
     },
     "execution_count": 19,
     "metadata": {},
     "output_type": "execute_result"
    }
   ],
   "source": [
    "df_aisles.value_counts(sort=False)"
   ]
  },
  {
   "cell_type": "markdown",
   "id": "ac63826f",
   "metadata": {},
   "source": [
    "No duplicate values to remove"
   ]
  },
  {
   "cell_type": "markdown",
   "id": "274cd06a",
   "metadata": {},
   "source": [
    "### `order_products` data frame"
   ]
  },
  {
   "cell_type": "code",
   "execution_count": 20,
   "id": "52326689-84a8-4b8f-a881-7c68780f62c9",
   "metadata": {},
   "outputs": [
    {
     "data": {
      "text/plain": [
       "0"
      ]
     },
     "execution_count": 20,
     "metadata": {},
     "output_type": "execute_result"
    }
   ],
   "source": [
    "# Check for fully duplicate rows\n",
    "df_order_products.duplicated().sum()"
   ]
  },
  {
   "cell_type": "code",
   "execution_count": 21,
   "id": "7b861391",
   "metadata": {},
   "outputs": [
    {
     "data": {
      "text/plain": [
       "4094961"
      ]
     },
     "metadata": {},
     "output_type": "display_data"
    },
    {
     "data": {
      "text/plain": [
       "4499434"
      ]
     },
     "metadata": {},
     "output_type": "display_data"
    },
    {
     "data": {
      "text/plain": [
       "0"
      ]
     },
     "execution_count": 21,
     "metadata": {},
     "output_type": "execute_result"
    }
   ],
   "source": [
    "# Double check for any other tricky duplicates\n",
    "display(df_order_products['order_id'].duplicated().sum())\n",
    "display(df_order_products['product_id'].duplicated().sum())\n",
    "df_order_products[['order_id', 'product_id']].duplicated().sum()"
   ]
  },
  {
   "cell_type": "markdown",
   "id": "0b890492",
   "metadata": {},
   "source": [
    "Orders contain multiple products, and anyone can buy the same products so there are no duplicates to remove"
   ]
  },
  {
   "cell_type": "markdown",
   "id": "1e46de76",
   "metadata": {},
   "source": [
    "## Find and remove missing values\n"
   ]
  },
  {
   "cell_type": "markdown",
   "id": "c0aebd78",
   "metadata": {},
   "source": [
    "### `products` data frame"
   ]
  },
  {
   "cell_type": "code",
   "execution_count": 22,
   "id": "fe4a8b0f",
   "metadata": {
    "scrolled": true
   },
   "outputs": [
    {
     "name": "stdout",
     "output_type": "stream",
     "text": [
      "<class 'pandas.core.frame.DataFrame'>\n",
      "RangeIndex: 49694 entries, 0 to 49693\n",
      "Data columns (total 4 columns):\n",
      " #   Column         Non-Null Count  Dtype \n",
      "---  ------         --------------  ----- \n",
      " 0   product_id     49694 non-null  int64 \n",
      " 1   product_name   48436 non-null  object\n",
      " 2   aisle_id       49694 non-null  int64 \n",
      " 3   department_id  49694 non-null  int64 \n",
      "dtypes: int64(3), object(1)\n",
      "memory usage: 1.5+ MB\n"
     ]
    },
    {
     "data": {
      "text/plain": [
       "1258"
      ]
     },
     "execution_count": 22,
     "metadata": {},
     "output_type": "execute_result"
    }
   ],
   "source": [
    "df_products.info()\n",
    "df_products['product_name'].isna().sum() # looking for missing values"
   ]
  },
  {
   "cell_type": "code",
   "execution_count": 23,
   "id": "e96167bc",
   "metadata": {},
   "outputs": [
    {
     "data": {
      "text/plain": [
       "'Aisles with missing product names: [100]'"
      ]
     },
     "execution_count": 23,
     "metadata": {},
     "output_type": "execute_result"
    }
   ],
   "source": [
    "# Are all of the missing product names associated with aisle ID 100?\n",
    "missing_aisle = df_products[df_products['product_name'].isna()]['aisle_id'].unique()\n",
    "f'Aisles with missing product names: {missing_aisle}'"
   ]
  },
  {
   "cell_type": "code",
   "execution_count": 24,
   "id": "8fd0a541",
   "metadata": {},
   "outputs": [
    {
     "data": {
      "text/plain": [
       "'Departments with missing product names: [21]'"
      ]
     },
     "execution_count": 24,
     "metadata": {},
     "output_type": "execute_result"
    }
   ],
   "source": [
    "# Are all of the missing product names associated with department ID 21?\n",
    "missing_department = df_products[df_products['product_name'].isna()]['department_id'].unique()\n",
    "f'Departments with missing product names: {missing_department}'"
   ]
  },
  {
   "cell_type": "code",
   "execution_count": 25,
   "id": "325c3464",
   "metadata": {},
   "outputs": [
    {
     "data": {
      "text/plain": [
       "aisle_id        100\n",
       "aisle       missing\n",
       "Name: 99, dtype: object"
      ]
     },
     "metadata": {},
     "output_type": "display_data"
    },
    {
     "data": {
      "text/plain": [
       "department_id         21\n",
       "department       missing\n",
       "Name: 20, dtype: object"
      ]
     },
     "metadata": {},
     "output_type": "display_data"
    }
   ],
   "source": [
    "# What is this ailse and department?\n",
    "display(df_aisles.loc[99, ['aisle_id','aisle']])\n",
    "display(df_departments.loc[20, ['department_id', 'department']])"
   ]
  },
  {
   "cell_type": "markdown",
   "id": "a79d8d82",
   "metadata": {},
   "source": [
    "\n",
    "We can see that each missing product name has a `'missing'` label."
   ]
  },
  {
   "cell_type": "code",
   "execution_count": 26,
   "id": "6b295120",
   "metadata": {},
   "outputs": [
    {
     "data": {
      "text/plain": [
       "0"
      ]
     },
     "execution_count": 26,
     "metadata": {},
     "output_type": "execute_result"
    }
   ],
   "source": [
    "# Fill missing product names with 'Unknown'\n",
    "df_products['product_name'] = df_products['product_name'].fillna('Unknown')\n",
    "df_products['product_name'].isna().sum()"
   ]
  },
  {
   "cell_type": "markdown",
   "id": "fc70e5ad",
   "metadata": {},
   "source": [
    "Unable to verify aisle or department for missing data so mark unknown and filter from futher analysis."
   ]
  },
  {
   "cell_type": "markdown",
   "id": "7eb45c86",
   "metadata": {},
   "source": [
    "### `orders` data frame"
   ]
  },
  {
   "cell_type": "code",
   "execution_count": 27,
   "id": "93e41d96",
   "metadata": {},
   "outputs": [
    {
     "name": "stdout",
     "output_type": "stream",
     "text": [
      "<class 'pandas.core.frame.DataFrame'>\n",
      "RangeIndex: 478952 entries, 0 to 478951\n",
      "Data columns (total 6 columns):\n",
      " #   Column                  Non-Null Count   Dtype  \n",
      "---  ------                  --------------   -----  \n",
      " 0   order_id                478952 non-null  int64  \n",
      " 1   user_id                 478952 non-null  int64  \n",
      " 2   order_number            478952 non-null  int64  \n",
      " 3   order_dow               478952 non-null  int64  \n",
      " 4   order_hour_of_day       478952 non-null  int64  \n",
      " 5   days_since_prior_order  450135 non-null  float64\n",
      "dtypes: float64(1), int64(5)\n",
      "memory usage: 21.9 MB\n"
     ]
    },
    {
     "data": {
      "text/plain": [
       "28817"
      ]
     },
     "execution_count": 27,
     "metadata": {},
     "output_type": "execute_result"
    }
   ],
   "source": [
    "df_orders.info()\n",
    "df_orders['days_since_prior_order'].isna().sum()"
   ]
  },
  {
   "cell_type": "code",
   "execution_count": 28,
   "id": "166e5a86",
   "metadata": {
    "scrolled": true
   },
   "outputs": [
    {
     "data": {
      "text/plain": [
       "0"
      ]
     },
     "metadata": {},
     "output_type": "display_data"
    }
   ],
   "source": [
    "# Are there any missing values where it's not a customer's first order?\n",
    "display(df_orders[df_orders['order_number'] != 1]['days_since_prior_order'].isna().sum())"
   ]
  },
  {
   "cell_type": "markdown",
   "id": "4e23d089",
   "metadata": {},
   "source": [
    "Missing Values are missing since there is no prior order."
   ]
  },
  {
   "cell_type": "markdown",
   "id": "69dc9ca4",
   "metadata": {},
   "source": [
    "### `order_products` data frame"
   ]
  },
  {
   "cell_type": "code",
   "execution_count": 29,
   "id": "b8240253",
   "metadata": {},
   "outputs": [
    {
     "name": "stdout",
     "output_type": "stream",
     "text": [
      "<class 'pandas.core.frame.DataFrame'>\n",
      "RangeIndex: 4545007 entries, 0 to 4545006\n",
      "Data columns (total 4 columns):\n",
      " #   Column             Non-Null Count    Dtype  \n",
      "---  ------             --------------    -----  \n",
      " 0   order_id           4545007 non-null  int64  \n",
      " 1   product_id         4545007 non-null  int64  \n",
      " 2   add_to_cart_order  4544171 non-null  float64\n",
      " 3   reordered          4545007 non-null  int64  \n",
      "dtypes: float64(1), int64(3)\n",
      "memory usage: 138.7 MB\n"
     ]
    },
    {
     "data": {
      "text/plain": [
       "836"
      ]
     },
     "execution_count": 29,
     "metadata": {},
     "output_type": "execute_result"
    }
   ],
   "source": [
    "df_order_products.info(show_counts=True)\n",
    "df_order_products['add_to_cart_order'].isna().sum()"
   ]
  },
  {
   "cell_type": "code",
   "execution_count": 30,
   "id": "9a78e5ee",
   "metadata": {},
   "outputs": [
    {
     "data": {
      "text/plain": [
       "1.0"
      ]
     },
     "metadata": {},
     "output_type": "display_data"
    },
    {
     "data": {
      "text/plain": [
       "64.0"
      ]
     },
     "execution_count": 30,
     "metadata": {},
     "output_type": "execute_result"
    }
   ],
   "source": [
    "# What are the min and max values in this column?\n",
    "display(df_order_products['add_to_cart_order'].min())\n",
    "df_order_products['add_to_cart_order'].max()"
   ]
  },
  {
   "cell_type": "code",
   "execution_count": 31,
   "id": "ab9d0c2b",
   "metadata": {},
   "outputs": [
    {
     "data": {
      "text/plain": [
       "737        2449164\n",
       "9926       1968313\n",
       "14394      2926893\n",
       "16418      1717990\n",
       "30114      1959075\n",
       "            ...   \n",
       "4505662    1800005\n",
       "4511400    1633337\n",
       "4517562     404157\n",
       "4534112    1673227\n",
       "4535739    1832957\n",
       "Name: order_id, Length: 836, dtype: int64"
      ]
     },
     "execution_count": 31,
     "metadata": {},
     "output_type": "execute_result"
    }
   ],
   "source": [
    "# Save all order IDs with at least one missing value in 'add_to_cart_order'\n",
    "large_orders = df_order_products[df_order_products['add_to_cart_order'].isna()]['order_id']\n",
    "large_orders"
   ]
  },
  {
   "cell_type": "code",
   "execution_count": 32,
   "id": "54c31695",
   "metadata": {},
   "outputs": [
    {
     "data": {
      "text/plain": [
       "order_id\n",
       "9310       65\n",
       "61355     127\n",
       "102236     95\n",
       "129627     69\n",
       "165801     70\n",
       "Name: product_id, dtype: int64"
      ]
     },
     "metadata": {},
     "output_type": "display_data"
    },
    {
     "data": {
      "text/plain": [
       "'Number of orders where add_to_cart_order is missing with less than 64 items: 0'"
      ]
     },
     "execution_count": 32,
     "metadata": {},
     "output_type": "execute_result"
    }
   ],
   "source": [
    "# Do all orders with missing values have more than 64 products?\n",
    "check = df_order_products[df_order_products['order_id'].isin(large_orders)]\n",
    "check = check.groupby('order_id')['product_id'].count()\n",
    "display(check.head())\n",
    "check = len(check[check < 64])\n",
    "\n",
    "f'Number of orders where add_to_cart_order is missing with less than 64 items: {check}'"
   ]
  },
  {
   "cell_type": "code",
   "execution_count": 33,
   "id": "7a987d08",
   "metadata": {},
   "outputs": [
    {
     "name": "stdout",
     "output_type": "stream",
     "text": [
      "<class 'pandas.core.frame.DataFrame'>\n",
      "RangeIndex: 4545007 entries, 0 to 4545006\n",
      "Data columns (total 4 columns):\n",
      " #   Column             Non-Null Count    Dtype\n",
      "---  ------             --------------    -----\n",
      " 0   order_id           4545007 non-null  int64\n",
      " 1   product_id         4545007 non-null  int64\n",
      " 2   add_to_cart_order  4545007 non-null  int32\n",
      " 3   reordered          4545007 non-null  int64\n",
      "dtypes: int32(1), int64(3)\n",
      "memory usage: 121.4 MB\n"
     ]
    }
   ],
   "source": [
    "# Replace missing values with 999 and convert column to integer type\n",
    "df_order_products['add_to_cart_order'] = df_order_products['add_to_cart_order'].fillna(999).astype('int')\n",
    "df_order_products.info(show_counts=True)"
   ]
  },
  {
   "cell_type": "markdown",
   "id": "fea4bcc7",
   "metadata": {},
   "source": [
    "Missing values are extremely large orders and will be excluded as outliers.\n",
    "\n",
    "\n",
    "We can see that there were a few minor errors in the data that required some clean up steps. now with duplicate date and time information and missing `add_to_cart_order` values dealt with we can move on to analysing the data."
   ]
  },
  {
   "cell_type": "markdown",
   "id": "turkish-kidney",
   "metadata": {},
   "source": [
    "# [A] Easy (must complete all to pass)"
   ]
  },
  {
   "cell_type": "markdown",
   "id": "short-capability",
   "metadata": {},
   "source": [
    "### [A1] Verify that the `'order_hour_of_day'` and `'order_dow'` values in the `orders` tables are sensible (i.e. `'order_hour_of_day'` ranges from 0 to 23 and `'order_dow'` ranges from 0 to 6)"
   ]
  },
  {
   "cell_type": "code",
   "execution_count": 34,
   "id": "growing-fruit",
   "metadata": {},
   "outputs": [
    {
     "name": "stdout",
     "output_type": "stream",
     "text": [
      "[0, 1, 2, 3, 4, 5, 6]\n"
     ]
    }
   ],
   "source": [
    "print(sorted(df_orders['order_dow'].unique()))"
   ]
  },
  {
   "cell_type": "code",
   "execution_count": 35,
   "id": "accessory-malaysia",
   "metadata": {
    "scrolled": false
   },
   "outputs": [
    {
     "name": "stdout",
     "output_type": "stream",
     "text": [
      "[0, 1, 2, 3, 4, 5, 6, 7, 8, 9, 10, 11, 12, 13, 14, 15, 16, 17, 18, 19, 20, 21, 22, 23]\n"
     ]
    }
   ],
   "source": [
    "print(sorted(df_orders['order_hour_of_day'].unique()))"
   ]
  },
  {
   "cell_type": "markdown",
   "id": "5c92b0da",
   "metadata": {},
   "source": [
    "As we checked before, there are 7 days of the week from `0 - 6` which represent `Sunday - Saturday` and there are 24 hours of the day represented by   \n",
    "`0 - 23`."
   ]
  },
  {
   "cell_type": "markdown",
   "id": "a6743a70",
   "metadata": {},
   "source": [
    "### [A2] What time of day do people shop for groceries?"
   ]
  },
  {
   "cell_type": "code",
   "execution_count": 36,
   "id": "a36cca27",
   "metadata": {},
   "outputs": [
    {
     "data": {
      "image/png": "[encoded data removed]",
      "text/plain": [
       "<Figure size 640x480 with 1 Axes>"
      ]
     },
     "metadata": {},
     "output_type": "display_data"
    }
   ],
   "source": [
    "order_hour = df_orders['order_hour_of_day'].value_counts().sort_index()\n",
    "order_hour.plot(kind='bar',\n",
    "               title='Peak Shopping Hours',\n",
    "               x='order_hour_of_day',\n",
    "               xlabel='Hours of the Day',\n",
    "               ylabel='Number of Customers',\n",
    "               rot=0)\n",
    "plt.show()"
   ]
  },
  {
   "cell_type": "markdown",
   "id": "11270eed",
   "metadata": {},
   "source": [
    "You can see from this graph that most shoppers make orders between 9 A.M. and 5 P.M."
   ]
  },
  {
   "cell_type": "markdown",
   "id": "documented-command",
   "metadata": {},
   "source": [
    "### [A3] What day of the week do people shop for groceries?"
   ]
  },
  {
   "cell_type": "code",
   "execution_count": 37,
   "id": "chief-digit",
   "metadata": {},
   "outputs": [
    {
     "data": {
      "image/png": "[encoded data removed]",
      "text/plain": [
       "<Figure size 640x480 with 1 Axes>"
      ]
     },
     "metadata": {},
     "output_type": "display_data"
    }
   ],
   "source": [
    "order_day = df_orders['order_dow'].value_counts().sort_index()\n",
    "order_day.plot(kind='bar',\n",
    "               title='Weekly Shopping Habits',\n",
    "               x='order_dow',\n",
    "               xlabel='Day of the Week',\n",
    "               ylabel='Number of Customers',\n",
    "               rot=0)\n",
    "plt.show()"
   ]
  },
  {
   "cell_type": "markdown",
   "id": "dominant-lightning",
   "metadata": {},
   "source": [
    "Using the days I described earlier, most people shop on Sunday followed closely by Monday"
   ]
  },
  {
   "cell_type": "markdown",
   "id": "cutting-concert",
   "metadata": {},
   "source": [
    "### [A4] How long do people wait until placing another order?"
   ]
  },
  {
   "cell_type": "code",
   "execution_count": 38,
   "id": "c231f523",
   "metadata": {},
   "outputs": [
    {
     "data": {
      "text/plain": [
       "days_since_prior_order\n",
       "30.0    51337\n",
       "7.0     44577\n",
       "6.0     33930\n",
       "4.0     31006\n",
       "3.0     30224\n",
       "Name: count, dtype: int64"
      ]
     },
     "metadata": {},
     "output_type": "display_data"
    },
    {
     "data": {
      "text/plain": [
       "days_since_prior_order\n",
       "7.0    44577\n",
       "6.0    33930\n",
       "4.0    31006\n",
       "3.0    30224\n",
       "5.0    30096\n",
       "Name: count, dtype: int64"
      ]
     },
     "execution_count": 38,
     "metadata": {},
     "output_type": "execute_result"
    }
   ],
   "source": [
    "display(df_orders['days_since_prior_order'].value_counts().head(5))\n",
    "df_orders_cleaned = (df_orders[(df_orders['days_since_prior_order'] != 0) & (df_orders['days_since_prior_order'] != 30)])\n",
    "df_orders_cleaned['days_since_prior_order'].value_counts().head(5)"
   ]
  },
  {
   "cell_type": "markdown",
   "id": "discrete-vertex",
   "metadata": {},
   "source": [
    "Because 0 and 30 contain all outliers for the data they are removed from analysis"
   ]
  },
  {
   "cell_type": "code",
   "execution_count": 39,
   "id": "exciting-fantasy",
   "metadata": {},
   "outputs": [
    {
     "data": {
      "image/png": "[encoded data removed]",
      "text/plain": [
       "<Figure size 640x480 with 1 Axes>"
      ]
     },
     "metadata": {},
     "output_type": "display_data"
    }
   ],
   "source": [
    "days_since_order = df_orders_cleaned['days_since_prior_order'].value_counts().sort_index()\n",
    "days_since_order.plot(kind='bar',\n",
    "                      title='Average Reorder Time',\n",
    "                      xlabel='Days Since Prior Order',\n",
    "                      ylabel='Number of Orders')\n",
    "plt.show()"
   ]
  },
  {
   "cell_type": "markdown",
   "id": "8d926614",
   "metadata": {},
   "source": [
    "From this graph we can determine that most users order again within 7 days, with a prominent spike on the 7th day and another spike every 7 days after."
   ]
  },
  {
   "cell_type": "markdown",
   "id": "tight-staff",
   "metadata": {},
   "source": [
    "# [B] Medium (must complete all to pass)"
   ]
  },
  {
   "cell_type": "markdown",
   "id": "packed-classic",
   "metadata": {},
   "source": [
    "### [B1] Is there a difference in `'order_hour_of_day'` distributions on Wednesdays and Saturdays? Plot the histograms for both days and describe the differences that you see."
   ]
  },
  {
   "cell_type": "code",
   "execution_count": 40,
   "id": "d89b8403",
   "metadata": {},
   "outputs": [
    {
     "data": {
      "text/html": [
       "<div>\n",
       "<style scoped>\n",
       "    .dataframe tbody tr th:only-of-type {\n",
       "        vertical-align: middle;\n",
       "    }\n",
       "\n",
       "    .dataframe tbody tr th {\n",
       "        vertical-align: top;\n",
       "    }\n",
       "\n",
       "    .dataframe thead th {\n",
       "        text-align: right;\n",
       "    }\n",
       "</style>\n",
       "<table border=\"1\" class=\"dataframe\">\n",
       "  <thead>\n",
       "    <tr style=\"text-align: right;\">\n",
       "      <th></th>\n",
       "      <th>order_id</th>\n",
       "      <th>user_id</th>\n",
       "      <th>order_number</th>\n",
       "      <th>order_dow</th>\n",
       "      <th>order_hour_of_day</th>\n",
       "      <th>days_since_prior_order</th>\n",
       "    </tr>\n",
       "  </thead>\n",
       "  <tbody>\n",
       "    <tr>\n",
       "      <th>6</th>\n",
       "      <td>2511640</td>\n",
       "      <td>148233</td>\n",
       "      <td>40</td>\n",
       "      <td>3</td>\n",
       "      <td>8</td>\n",
       "      <td>2.0</td>\n",
       "    </tr>\n",
       "    <tr>\n",
       "      <th>16</th>\n",
       "      <td>3109465</td>\n",
       "      <td>55090</td>\n",
       "      <td>19</td>\n",
       "      <td>3</td>\n",
       "      <td>15</td>\n",
       "      <td>9.0</td>\n",
       "    </tr>\n",
       "    <tr>\n",
       "      <th>28</th>\n",
       "      <td>133707</td>\n",
       "      <td>182261</td>\n",
       "      <td>1</td>\n",
       "      <td>3</td>\n",
       "      <td>10</td>\n",
       "      <td>NaN</td>\n",
       "    </tr>\n",
       "    <tr>\n",
       "      <th>30</th>\n",
       "      <td>1890318</td>\n",
       "      <td>193501</td>\n",
       "      <td>3</td>\n",
       "      <td>3</td>\n",
       "      <td>15</td>\n",
       "      <td>30.0</td>\n",
       "    </tr>\n",
       "    <tr>\n",
       "      <th>35</th>\n",
       "      <td>125325</td>\n",
       "      <td>106853</td>\n",
       "      <td>6</td>\n",
       "      <td>3</td>\n",
       "      <td>19</td>\n",
       "      <td>30.0</td>\n",
       "    </tr>\n",
       "  </tbody>\n",
       "</table>\n",
       "</div>"
      ],
      "text/plain": [
       "    order_id  user_id  order_number  order_dow  order_hour_of_day  \\\n",
       "6    2511640   148233            40          3                  8   \n",
       "16   3109465    55090            19          3                 15   \n",
       "28    133707   182261             1          3                 10   \n",
       "30   1890318   193501             3          3                 15   \n",
       "35    125325   106853             6          3                 19   \n",
       "\n",
       "    days_since_prior_order  \n",
       "6                      2.0  \n",
       "16                     9.0  \n",
       "28                     NaN  \n",
       "30                    30.0  \n",
       "35                    30.0  "
      ]
     },
     "metadata": {},
     "output_type": "display_data"
    },
    {
     "data": {
      "text/html": [
       "<div>\n",
       "<style scoped>\n",
       "    .dataframe tbody tr th:only-of-type {\n",
       "        vertical-align: middle;\n",
       "    }\n",
       "\n",
       "    .dataframe tbody tr th {\n",
       "        vertical-align: top;\n",
       "    }\n",
       "\n",
       "    .dataframe thead th {\n",
       "        text-align: right;\n",
       "    }\n",
       "</style>\n",
       "<table border=\"1\" class=\"dataframe\">\n",
       "  <thead>\n",
       "    <tr style=\"text-align: right;\">\n",
       "      <th></th>\n",
       "      <th>order_id</th>\n",
       "      <th>user_id</th>\n",
       "      <th>order_number</th>\n",
       "      <th>order_dow</th>\n",
       "      <th>order_hour_of_day</th>\n",
       "      <th>days_since_prior_order</th>\n",
       "    </tr>\n",
       "  </thead>\n",
       "  <tbody>\n",
       "    <tr>\n",
       "      <th>0</th>\n",
       "      <td>1515936</td>\n",
       "      <td>183418</td>\n",
       "      <td>11</td>\n",
       "      <td>6</td>\n",
       "      <td>13</td>\n",
       "      <td>30.0</td>\n",
       "    </tr>\n",
       "    <tr>\n",
       "      <th>11</th>\n",
       "      <td>102585</td>\n",
       "      <td>191558</td>\n",
       "      <td>18</td>\n",
       "      <td>6</td>\n",
       "      <td>16</td>\n",
       "      <td>8.0</td>\n",
       "    </tr>\n",
       "    <tr>\n",
       "      <th>14</th>\n",
       "      <td>2843219</td>\n",
       "      <td>74699</td>\n",
       "      <td>4</td>\n",
       "      <td>6</td>\n",
       "      <td>11</td>\n",
       "      <td>30.0</td>\n",
       "    </tr>\n",
       "    <tr>\n",
       "      <th>20</th>\n",
       "      <td>50934</td>\n",
       "      <td>178510</td>\n",
       "      <td>9</td>\n",
       "      <td>6</td>\n",
       "      <td>9</td>\n",
       "      <td>5.0</td>\n",
       "    </tr>\n",
       "    <tr>\n",
       "      <th>26</th>\n",
       "      <td>1844247</td>\n",
       "      <td>122558</td>\n",
       "      <td>4</td>\n",
       "      <td>6</td>\n",
       "      <td>18</td>\n",
       "      <td>30.0</td>\n",
       "    </tr>\n",
       "  </tbody>\n",
       "</table>\n",
       "</div>"
      ],
      "text/plain": [
       "    order_id  user_id  order_number  order_dow  order_hour_of_day  \\\n",
       "0    1515936   183418            11          6                 13   \n",
       "11    102585   191558            18          6                 16   \n",
       "14   2843219    74699             4          6                 11   \n",
       "20     50934   178510             9          6                  9   \n",
       "26   1844247   122558             4          6                 18   \n",
       "\n",
       "    days_since_prior_order  \n",
       "0                     30.0  \n",
       "11                     8.0  \n",
       "14                    30.0  \n",
       "20                     5.0  \n",
       "26                    30.0  "
      ]
     },
     "metadata": {},
     "output_type": "display_data"
    }
   ],
   "source": [
    "wednesday = df_orders[df_orders['order_dow'] == 3]\n",
    "saturday = df_orders[df_orders['order_dow'] == 6]\n",
    "display(wednesday.head())\n",
    "display(saturday.head())"
   ]
  },
  {
   "cell_type": "code",
   "execution_count": 41,
   "id": "94e54e8a",
   "metadata": {},
   "outputs": [
    {
     "data": {
      "image/png": "[encoded data removed]",
      "text/plain": [
       "<Figure size 640x480 with 1 Axes>"
      ]
     },
     "metadata": {},
     "output_type": "display_data"
    }
   ],
   "source": [
    "wednesday['order_hour_of_day'].plot(kind='hist',\n",
    "                                    bins=24,\n",
    "                                    title='Wednesday Hourly Order Distribution')\n",
    "plt.xlabel('Hours')\n",
    "plt.ylabel('Number of Orders')\n",
    "plt.show()"
   ]
  },
  {
   "cell_type": "code",
   "execution_count": 42,
   "id": "797c90a8",
   "metadata": {},
   "outputs": [
    {
     "data": {
      "image/png": "[encoded data removed]",
      "text/plain": [
       "<Figure size 640x480 with 1 Axes>"
      ]
     },
     "metadata": {},
     "output_type": "display_data"
    }
   ],
   "source": [
    "saturday['order_hour_of_day'].plot(kind='hist',\n",
    "                                   bins=24,\n",
    "                                   title='Saturday Hourly Order Distribution',\n",
    "                                   color='tab:orange')\n",
    "plt.xlabel('Hours')\n",
    "plt.ylabel('Number of Orders')\n",
    "plt.show()"
   ]
  },
  {
   "cell_type": "code",
   "execution_count": 43,
   "id": "35bcea30",
   "metadata": {},
   "outputs": [
    {
     "data": {
      "image/png": "[encoded data removed]",
      "text/plain": [
       "<Figure size 640x480 with 1 Axes>"
      ]
     },
     "metadata": {},
     "output_type": "display_data"
    }
   ],
   "source": [
    "wednesday['order_hour_of_day'].plot(kind='hist',\n",
    "                                    bins=24,\n",
    "                                    title='Order distribution comparison')\n",
    "saturday['order_hour_of_day'].plot(kind='hist',\n",
    "                                   bins=24,\n",
    "                                   alpha=.5)\n",
    "plt.xlabel('Hours')\n",
    "plt.ylabel('Number of Orders')\n",
    "plt.legend(['Wednesday', 'Saturday'])\n",
    "plt.show()"
   ]
  },
  {
   "cell_type": "markdown",
   "id": "charitable-congo",
   "metadata": {},
   "source": [
    "The two days have similar shopping habits however saturday has more shoppers from `2 P.M. - 5 P.M.` likely due to weekday shoppers making orders during lunch hours."
   ]
  },
  {
   "cell_type": "markdown",
   "id": "e3891143",
   "metadata": {},
   "source": [
    "### [B2] What's the distribution for the number of orders per customer?"
   ]
  },
  {
   "cell_type": "code",
   "execution_count": 44,
   "id": "d8c26c23",
   "metadata": {},
   "outputs": [
    {
     "data": {
      "text/plain": [
       "count    157437.000000\n",
       "mean         15.577571\n",
       "std          17.215517\n",
       "min           1.000000\n",
       "25%           4.000000\n",
       "50%           9.000000\n",
       "75%          20.000000\n",
       "max         100.000000\n",
       "Name: order_number, dtype: float64"
      ]
     },
     "metadata": {},
     "output_type": "display_data"
    },
    {
     "data": {
      "text/plain": [
       "user_id\n",
       "2     4\n",
       "4     6\n",
       "5     4\n",
       "6     4\n",
       "7    19\n",
       "Name: order_number, dtype: int64"
      ]
     },
     "execution_count": 44,
     "metadata": {},
     "output_type": "execute_result"
    }
   ],
   "source": [
    "customer_habits = df_orders.groupby('user_id')['order_number'].max()\n",
    "display(customer_habits.describe())\n",
    "customer_habits.head()"
   ]
  },
  {
   "cell_type": "code",
   "execution_count": 45,
   "id": "00e69a66",
   "metadata": {
    "scrolled": true
   },
   "outputs": [
    {
     "data": {
      "image/png": "[encoded data removed]",
      "text/plain": [
       "<Figure size 640x480 with 1 Axes>"
      ]
     },
     "metadata": {},
     "output_type": "display_data"
    }
   ],
   "source": [
    "customer_habits.plot(kind='hist',\n",
    "                     bins=50,\n",
    "                     title='Customer Ordering Habits')\n",
    "plt.xlabel('Total orders per account')\n",
    "plt.ylabel('Number of accounts')\n",
    "plt.show()"
   ]
  },
  {
   "cell_type": "markdown",
   "id": "d2eff7d5",
   "metadata": {},
   "source": [
    "While there are a significant number of users who make a large number of orders, the majority of users have made no more than 10 orders.\n",
    "\n",
    "The large number of customers with low numbers of orders suggests a lot of new accounts."
   ]
  },
  {
   "cell_type": "markdown",
   "id": "54a0319c",
   "metadata": {},
   "source": [
    "### [B3] What are the top 20 popular products (display their id and name)?"
   ]
  },
  {
   "cell_type": "code",
   "execution_count": 46,
   "id": "exterior-arizona",
   "metadata": {
    "scrolled": false
   },
   "outputs": [
    {
     "data": {
      "text/html": [
       "<div>\n",
       "<style scoped>\n",
       "    .dataframe tbody tr th:only-of-type {\n",
       "        vertical-align: middle;\n",
       "    }\n",
       "\n",
       "    .dataframe tbody tr th {\n",
       "        vertical-align: top;\n",
       "    }\n",
       "\n",
       "    .dataframe thead th {\n",
       "        text-align: right;\n",
       "    }\n",
       "</style>\n",
       "<table border=\"1\" class=\"dataframe\">\n",
       "  <thead>\n",
       "    <tr style=\"text-align: right;\">\n",
       "      <th></th>\n",
       "      <th>product_id</th>\n",
       "      <th>order_id</th>\n",
       "    </tr>\n",
       "  </thead>\n",
       "  <tbody>\n",
       "    <tr>\n",
       "      <th>0</th>\n",
       "      <td>24852</td>\n",
       "      <td>66050</td>\n",
       "    </tr>\n",
       "    <tr>\n",
       "      <th>1</th>\n",
       "      <td>13176</td>\n",
       "      <td>53297</td>\n",
       "    </tr>\n",
       "    <tr>\n",
       "      <th>2</th>\n",
       "      <td>21137</td>\n",
       "      <td>37039</td>\n",
       "    </tr>\n",
       "    <tr>\n",
       "      <th>3</th>\n",
       "      <td>21903</td>\n",
       "      <td>33971</td>\n",
       "    </tr>\n",
       "    <tr>\n",
       "      <th>4</th>\n",
       "      <td>47209</td>\n",
       "      <td>29773</td>\n",
       "    </tr>\n",
       "    <tr>\n",
       "      <th>5</th>\n",
       "      <td>47766</td>\n",
       "      <td>24689</td>\n",
       "    </tr>\n",
       "    <tr>\n",
       "      <th>6</th>\n",
       "      <td>47626</td>\n",
       "      <td>21495</td>\n",
       "    </tr>\n",
       "    <tr>\n",
       "      <th>7</th>\n",
       "      <td>16797</td>\n",
       "      <td>20018</td>\n",
       "    </tr>\n",
       "    <tr>\n",
       "      <th>8</th>\n",
       "      <td>26209</td>\n",
       "      <td>19690</td>\n",
       "    </tr>\n",
       "    <tr>\n",
       "      <th>9</th>\n",
       "      <td>27845</td>\n",
       "      <td>19600</td>\n",
       "    </tr>\n",
       "    <tr>\n",
       "      <th>10</th>\n",
       "      <td>27966</td>\n",
       "      <td>19197</td>\n",
       "    </tr>\n",
       "    <tr>\n",
       "      <th>11</th>\n",
       "      <td>22935</td>\n",
       "      <td>15898</td>\n",
       "    </tr>\n",
       "    <tr>\n",
       "      <th>12</th>\n",
       "      <td>24964</td>\n",
       "      <td>15292</td>\n",
       "    </tr>\n",
       "    <tr>\n",
       "      <th>13</th>\n",
       "      <td>45007</td>\n",
       "      <td>14584</td>\n",
       "    </tr>\n",
       "    <tr>\n",
       "      <th>14</th>\n",
       "      <td>39275</td>\n",
       "      <td>13879</td>\n",
       "    </tr>\n",
       "    <tr>\n",
       "      <th>15</th>\n",
       "      <td>49683</td>\n",
       "      <td>13675</td>\n",
       "    </tr>\n",
       "    <tr>\n",
       "      <th>16</th>\n",
       "      <td>28204</td>\n",
       "      <td>12544</td>\n",
       "    </tr>\n",
       "    <tr>\n",
       "      <th>17</th>\n",
       "      <td>5876</td>\n",
       "      <td>12232</td>\n",
       "    </tr>\n",
       "    <tr>\n",
       "      <th>18</th>\n",
       "      <td>8277</td>\n",
       "      <td>11993</td>\n",
       "    </tr>\n",
       "    <tr>\n",
       "      <th>19</th>\n",
       "      <td>40706</td>\n",
       "      <td>11781</td>\n",
       "    </tr>\n",
       "  </tbody>\n",
       "</table>\n",
       "</div>"
      ],
      "text/plain": [
       "    product_id  order_id\n",
       "0        24852     66050\n",
       "1        13176     53297\n",
       "2        21137     37039\n",
       "3        21903     33971\n",
       "4        47209     29773\n",
       "5        47766     24689\n",
       "6        47626     21495\n",
       "7        16797     20018\n",
       "8        26209     19690\n",
       "9        27845     19600\n",
       "10       27966     19197\n",
       "11       22935     15898\n",
       "12       24964     15292\n",
       "13       45007     14584\n",
       "14       39275     13879\n",
       "15       49683     13675\n",
       "16       28204     12544\n",
       "17        5876     12232\n",
       "18        8277     11993\n",
       "19       40706     11781"
      ]
     },
     "metadata": {},
     "output_type": "display_data"
    },
    {
     "name": "stdout",
     "output_type": "stream",
     "text": [
      "[5876, 8277, 13176, 16797, 21137, 21903, 22935, 24852, 24964, 26209, 27845, 27966, 28204, 39275, 40706, 45007, 47209, 47626, 47766, 49683]\n"
     ]
    }
   ],
   "source": [
    "top_20 = df_order_products.groupby('product_id')['order_id'].count().sort_values(ascending=False).reset_index().head(20)\n",
    "display(top_20)\n",
    "print(sorted(top_20['product_id']))"
   ]
  },
  {
   "cell_type": "code",
   "execution_count": 47,
   "id": "universal-facial",
   "metadata": {},
   "outputs": [
    {
     "data": {
      "text/html": [
       "<div>\n",
       "<style scoped>\n",
       "    .dataframe tbody tr th:only-of-type {\n",
       "        vertical-align: middle;\n",
       "    }\n",
       "\n",
       "    .dataframe tbody tr th {\n",
       "        vertical-align: top;\n",
       "    }\n",
       "\n",
       "    .dataframe thead th {\n",
       "        text-align: right;\n",
       "    }\n",
       "</style>\n",
       "<table border=\"1\" class=\"dataframe\">\n",
       "  <thead>\n",
       "    <tr style=\"text-align: right;\">\n",
       "      <th></th>\n",
       "      <th>product_id</th>\n",
       "      <th>product_name</th>\n",
       "      <th>amount_ordered</th>\n",
       "    </tr>\n",
       "  </thead>\n",
       "  <tbody>\n",
       "    <tr>\n",
       "      <th>7</th>\n",
       "      <td>24852</td>\n",
       "      <td>banana</td>\n",
       "      <td>66050</td>\n",
       "    </tr>\n",
       "    <tr>\n",
       "      <th>2</th>\n",
       "      <td>13176</td>\n",
       "      <td>bag of organic bananas</td>\n",
       "      <td>53297</td>\n",
       "    </tr>\n",
       "    <tr>\n",
       "      <th>4</th>\n",
       "      <td>21137</td>\n",
       "      <td>organic strawberries</td>\n",
       "      <td>37039</td>\n",
       "    </tr>\n",
       "    <tr>\n",
       "      <th>5</th>\n",
       "      <td>21903</td>\n",
       "      <td>organic baby spinach</td>\n",
       "      <td>33971</td>\n",
       "    </tr>\n",
       "    <tr>\n",
       "      <th>16</th>\n",
       "      <td>47209</td>\n",
       "      <td>organic hass avocado</td>\n",
       "      <td>29773</td>\n",
       "    </tr>\n",
       "    <tr>\n",
       "      <th>18</th>\n",
       "      <td>47766</td>\n",
       "      <td>organic avocado</td>\n",
       "      <td>24689</td>\n",
       "    </tr>\n",
       "    <tr>\n",
       "      <th>17</th>\n",
       "      <td>47626</td>\n",
       "      <td>large lemon</td>\n",
       "      <td>21495</td>\n",
       "    </tr>\n",
       "    <tr>\n",
       "      <th>3</th>\n",
       "      <td>16797</td>\n",
       "      <td>strawberries</td>\n",
       "      <td>20018</td>\n",
       "    </tr>\n",
       "    <tr>\n",
       "      <th>9</th>\n",
       "      <td>26209</td>\n",
       "      <td>limes</td>\n",
       "      <td>19690</td>\n",
       "    </tr>\n",
       "    <tr>\n",
       "      <th>10</th>\n",
       "      <td>27845</td>\n",
       "      <td>organic whole milk</td>\n",
       "      <td>19600</td>\n",
       "    </tr>\n",
       "    <tr>\n",
       "      <th>11</th>\n",
       "      <td>27966</td>\n",
       "      <td>organic raspberries</td>\n",
       "      <td>19197</td>\n",
       "    </tr>\n",
       "    <tr>\n",
       "      <th>6</th>\n",
       "      <td>22935</td>\n",
       "      <td>organic yellow onion</td>\n",
       "      <td>15898</td>\n",
       "    </tr>\n",
       "    <tr>\n",
       "      <th>8</th>\n",
       "      <td>24964</td>\n",
       "      <td>organic garlic</td>\n",
       "      <td>15292</td>\n",
       "    </tr>\n",
       "    <tr>\n",
       "      <th>15</th>\n",
       "      <td>45007</td>\n",
       "      <td>organic zucchini</td>\n",
       "      <td>14584</td>\n",
       "    </tr>\n",
       "    <tr>\n",
       "      <th>13</th>\n",
       "      <td>39275</td>\n",
       "      <td>organic blueberries</td>\n",
       "      <td>13879</td>\n",
       "    </tr>\n",
       "    <tr>\n",
       "      <th>19</th>\n",
       "      <td>49683</td>\n",
       "      <td>cucumber kirby</td>\n",
       "      <td>13675</td>\n",
       "    </tr>\n",
       "    <tr>\n",
       "      <th>12</th>\n",
       "      <td>28204</td>\n",
       "      <td>organic fuji apple</td>\n",
       "      <td>12544</td>\n",
       "    </tr>\n",
       "    <tr>\n",
       "      <th>0</th>\n",
       "      <td>5876</td>\n",
       "      <td>organic lemon</td>\n",
       "      <td>12232</td>\n",
       "    </tr>\n",
       "    <tr>\n",
       "      <th>1</th>\n",
       "      <td>8277</td>\n",
       "      <td>apple honeycrisp organic</td>\n",
       "      <td>11993</td>\n",
       "    </tr>\n",
       "    <tr>\n",
       "      <th>14</th>\n",
       "      <td>40706</td>\n",
       "      <td>organic grape tomatoes</td>\n",
       "      <td>11781</td>\n",
       "    </tr>\n",
       "  </tbody>\n",
       "</table>\n",
       "</div>"
      ],
      "text/plain": [
       "    product_id              product_name  amount_ordered\n",
       "7        24852                    banana           66050\n",
       "2        13176    bag of organic bananas           53297\n",
       "4        21137      organic strawberries           37039\n",
       "5        21903      organic baby spinach           33971\n",
       "16       47209      organic hass avocado           29773\n",
       "18       47766           organic avocado           24689\n",
       "17       47626               large lemon           21495\n",
       "3        16797              strawberries           20018\n",
       "9        26209                     limes           19690\n",
       "10       27845        organic whole milk           19600\n",
       "11       27966       organic raspberries           19197\n",
       "6        22935      organic yellow onion           15898\n",
       "8        24964            organic garlic           15292\n",
       "15       45007          organic zucchini           14584\n",
       "13       39275       organic blueberries           13879\n",
       "19       49683            cucumber kirby           13675\n",
       "12       28204        organic fuji apple           12544\n",
       "0         5876             organic lemon           12232\n",
       "1         8277  apple honeycrisp organic           11993\n",
       "14       40706    organic grape tomatoes           11781"
      ]
     },
     "execution_count": 47,
     "metadata": {},
     "output_type": "execute_result"
    }
   ],
   "source": [
    "top_products = df_products[df_products['product_id'].isin(top_20['product_id'])][['product_id', 'product_name']]\n",
    "top_products = top_products.merge(top_20, on='product_id').sort_values('order_id', ascending=False)\n",
    "top_products.columns = ['product_id', 'product_name', 'amount_ordered']\n",
    "top_products"
   ]
  },
  {
   "cell_type": "markdown",
   "id": "7df00f47",
   "metadata": {},
   "source": [
    "The top 20 items are all fruits and vegetables with the sole exception of product `27845 - organic whole milk`"
   ]
  },
  {
   "cell_type": "markdown",
   "id": "gross-theme",
   "metadata": {},
   "source": [
    "# [C] Hard (must complete at least two to pass)"
   ]
  },
  {
   "cell_type": "markdown",
   "id": "romantic-deposit",
   "metadata": {},
   "source": [
    "### [C1] How many items do people typically buy in one order? What does the distribution look like?"
   ]
  },
  {
   "cell_type": "code",
   "execution_count": 48,
   "id": "virtual-punch",
   "metadata": {},
   "outputs": [
    {
     "data": {
      "text/plain": [
       "count    450046.000000\n",
       "mean         10.098983\n",
       "std           7.540206\n",
       "min           1.000000\n",
       "25%           5.000000\n",
       "50%           8.000000\n",
       "75%          14.000000\n",
       "max         127.000000\n",
       "Name: add_to_cart_order, dtype: float64"
      ]
     },
     "execution_count": 48,
     "metadata": {},
     "output_type": "execute_result"
    }
   ],
   "source": [
    "items_per_order = df_order_products.groupby('order_id')['add_to_cart_order'].count()\n",
    "items_per_order = items_per_order[items_per_order != 999]\n",
    "items_per_order.describe()"
   ]
  },
  {
   "cell_type": "code",
   "execution_count": 49,
   "id": "sensitive-breathing",
   "metadata": {},
   "outputs": [
    {
     "data": {
      "image/png": "[encoded data removed]",
      "text/plain": [
       "<Figure size 640x480 with 1 Axes>"
      ]
     },
     "metadata": {},
     "output_type": "display_data"
    }
   ],
   "source": [
    "items_per_order.plot(kind='hist',\n",
    "                     bins=20,\n",
    "                     title='Average items per Cart')\n",
    "plt.xlabel('Number of Items')\n",
    "plt.ylabel('Number of Carts')\n",
    "plt.show()"
   ]
  },
  {
   "cell_type": "markdown",
   "id": "designed-mortality",
   "metadata": {},
   "source": [
    "I sorted the `order_products` by order and chose the max value for `add_to_cart_order` as that should be the size of the cart since the minimum value is 1.\n",
    "\n",
    "People tend to have around 8-10 items per order."
   ]
  },
  {
   "cell_type": "markdown",
   "id": "5e6b5537",
   "metadata": {},
   "source": [
    "### [C2] What are the top 20 items that are reordered most frequently (display their names and product IDs)?"
   ]
  },
  {
   "cell_type": "code",
   "execution_count": 50,
   "id": "9374e55a",
   "metadata": {},
   "outputs": [
    {
     "data": {
      "text/plain": [
       "product_id\n",
       "24852    55763\n",
       "13176    44450\n",
       "21137    28639\n",
       "21903    26233\n",
       "47209    23629\n",
       "47766    18743\n",
       "27845    16251\n",
       "47626    15044\n",
       "27966    14748\n",
       "16797    13945\n",
       "26209    13327\n",
       "22935    11145\n",
       "24964    10411\n",
       "45007    10076\n",
       "49683     9538\n",
       "28204     8989\n",
       "8277      8836\n",
       "39275     8799\n",
       "5876      8412\n",
       "49235     8389\n",
       "Name: reordered, dtype: int64"
      ]
     },
     "execution_count": 50,
     "metadata": {},
     "output_type": "execute_result"
    }
   ],
   "source": [
    "most_reordered = df_order_products.groupby('product_id')['reordered'].sum().sort_values(ascending=False).head(20)\n",
    "most_reordered"
   ]
  },
  {
   "cell_type": "code",
   "execution_count": 51,
   "id": "possible-change",
   "metadata": {
    "scrolled": false
   },
   "outputs": [
    {
     "data": {
      "text/html": [
       "<div>\n",
       "<style scoped>\n",
       "    .dataframe tbody tr th:only-of-type {\n",
       "        vertical-align: middle;\n",
       "    }\n",
       "\n",
       "    .dataframe tbody tr th {\n",
       "        vertical-align: top;\n",
       "    }\n",
       "\n",
       "    .dataframe thead th {\n",
       "        text-align: right;\n",
       "    }\n",
       "</style>\n",
       "<table border=\"1\" class=\"dataframe\">\n",
       "  <thead>\n",
       "    <tr style=\"text-align: right;\">\n",
       "      <th></th>\n",
       "      <th>product_id</th>\n",
       "      <th>product_name</th>\n",
       "      <th>reordered</th>\n",
       "    </tr>\n",
       "  </thead>\n",
       "  <tbody>\n",
       "    <tr>\n",
       "      <th>7</th>\n",
       "      <td>24852</td>\n",
       "      <td>banana</td>\n",
       "      <td>55763</td>\n",
       "    </tr>\n",
       "    <tr>\n",
       "      <th>2</th>\n",
       "      <td>13176</td>\n",
       "      <td>bag of organic bananas</td>\n",
       "      <td>44450</td>\n",
       "    </tr>\n",
       "    <tr>\n",
       "      <th>4</th>\n",
       "      <td>21137</td>\n",
       "      <td>organic strawberries</td>\n",
       "      <td>28639</td>\n",
       "    </tr>\n",
       "    <tr>\n",
       "      <th>5</th>\n",
       "      <td>21903</td>\n",
       "      <td>organic baby spinach</td>\n",
       "      <td>26233</td>\n",
       "    </tr>\n",
       "    <tr>\n",
       "      <th>15</th>\n",
       "      <td>47209</td>\n",
       "      <td>organic hass avocado</td>\n",
       "      <td>23629</td>\n",
       "    </tr>\n",
       "    <tr>\n",
       "      <th>17</th>\n",
       "      <td>47766</td>\n",
       "      <td>organic avocado</td>\n",
       "      <td>18743</td>\n",
       "    </tr>\n",
       "    <tr>\n",
       "      <th>10</th>\n",
       "      <td>27845</td>\n",
       "      <td>organic whole milk</td>\n",
       "      <td>16251</td>\n",
       "    </tr>\n",
       "    <tr>\n",
       "      <th>16</th>\n",
       "      <td>47626</td>\n",
       "      <td>large lemon</td>\n",
       "      <td>15044</td>\n",
       "    </tr>\n",
       "    <tr>\n",
       "      <th>11</th>\n",
       "      <td>27966</td>\n",
       "      <td>organic raspberries</td>\n",
       "      <td>14748</td>\n",
       "    </tr>\n",
       "    <tr>\n",
       "      <th>3</th>\n",
       "      <td>16797</td>\n",
       "      <td>strawberries</td>\n",
       "      <td>13945</td>\n",
       "    </tr>\n",
       "    <tr>\n",
       "      <th>9</th>\n",
       "      <td>26209</td>\n",
       "      <td>limes</td>\n",
       "      <td>13327</td>\n",
       "    </tr>\n",
       "    <tr>\n",
       "      <th>6</th>\n",
       "      <td>22935</td>\n",
       "      <td>organic yellow onion</td>\n",
       "      <td>11145</td>\n",
       "    </tr>\n",
       "    <tr>\n",
       "      <th>8</th>\n",
       "      <td>24964</td>\n",
       "      <td>organic garlic</td>\n",
       "      <td>10411</td>\n",
       "    </tr>\n",
       "    <tr>\n",
       "      <th>14</th>\n",
       "      <td>45007</td>\n",
       "      <td>organic zucchini</td>\n",
       "      <td>10076</td>\n",
       "    </tr>\n",
       "    <tr>\n",
       "      <th>19</th>\n",
       "      <td>49683</td>\n",
       "      <td>cucumber kirby</td>\n",
       "      <td>9538</td>\n",
       "    </tr>\n",
       "    <tr>\n",
       "      <th>12</th>\n",
       "      <td>28204</td>\n",
       "      <td>organic fuji apple</td>\n",
       "      <td>8989</td>\n",
       "    </tr>\n",
       "    <tr>\n",
       "      <th>1</th>\n",
       "      <td>8277</td>\n",
       "      <td>apple honeycrisp organic</td>\n",
       "      <td>8836</td>\n",
       "    </tr>\n",
       "    <tr>\n",
       "      <th>13</th>\n",
       "      <td>39275</td>\n",
       "      <td>organic blueberries</td>\n",
       "      <td>8799</td>\n",
       "    </tr>\n",
       "    <tr>\n",
       "      <th>0</th>\n",
       "      <td>5876</td>\n",
       "      <td>organic lemon</td>\n",
       "      <td>8412</td>\n",
       "    </tr>\n",
       "    <tr>\n",
       "      <th>18</th>\n",
       "      <td>49235</td>\n",
       "      <td>organic half &amp; half</td>\n",
       "      <td>8389</td>\n",
       "    </tr>\n",
       "  </tbody>\n",
       "</table>\n",
       "</div>"
      ],
      "text/plain": [
       "    product_id              product_name  reordered\n",
       "7        24852                    banana      55763\n",
       "2        13176    bag of organic bananas      44450\n",
       "4        21137      organic strawberries      28639\n",
       "5        21903      organic baby spinach      26233\n",
       "15       47209      organic hass avocado      23629\n",
       "17       47766           organic avocado      18743\n",
       "10       27845        organic whole milk      16251\n",
       "16       47626               large lemon      15044\n",
       "11       27966       organic raspberries      14748\n",
       "3        16797              strawberries      13945\n",
       "9        26209                     limes      13327\n",
       "6        22935      organic yellow onion      11145\n",
       "8        24964            organic garlic      10411\n",
       "14       45007          organic zucchini      10076\n",
       "19       49683            cucumber kirby       9538\n",
       "12       28204        organic fuji apple       8989\n",
       "1         8277  apple honeycrisp organic       8836\n",
       "13       39275       organic blueberries       8799\n",
       "0         5876             organic lemon       8412\n",
       "18       49235       organic half & half       8389"
      ]
     },
     "execution_count": 51,
     "metadata": {},
     "output_type": "execute_result"
    }
   ],
   "source": [
    "re_products = df_products[df_products['product_id'].isin(most_reordered.index)][['product_id', 'product_name']]\n",
    "re_products = re_products.merge(most_reordered, on='product_id').sort_values('reordered', ascending=False)\n",
    "re_products"
   ]
  },
  {
   "cell_type": "code",
   "execution_count": 52,
   "id": "professional-surfing",
   "metadata": {
    "scrolled": false
   },
   "outputs": [
    {
     "data": {
      "text/html": [
       "<div>\n",
       "<style scoped>\n",
       "    .dataframe tbody tr th:only-of-type {\n",
       "        vertical-align: middle;\n",
       "    }\n",
       "\n",
       "    .dataframe tbody tr th {\n",
       "        vertical-align: top;\n",
       "    }\n",
       "\n",
       "    .dataframe thead th {\n",
       "        text-align: right;\n",
       "    }\n",
       "</style>\n",
       "<table border=\"1\" class=\"dataframe\">\n",
       "  <thead>\n",
       "    <tr style=\"text-align: right;\">\n",
       "      <th></th>\n",
       "      <th>product_id</th>\n",
       "      <th>product_name_most_orderered</th>\n",
       "      <th>amount_ordered</th>\n",
       "      <th>product_name_most_reordered</th>\n",
       "      <th>reordered</th>\n",
       "    </tr>\n",
       "  </thead>\n",
       "  <tbody>\n",
       "    <tr>\n",
       "      <th>0</th>\n",
       "      <td>5876</td>\n",
       "      <td>organic lemon</td>\n",
       "      <td>12232.0</td>\n",
       "      <td>organic lemon</td>\n",
       "      <td>8412.0</td>\n",
       "    </tr>\n",
       "    <tr>\n",
       "      <th>1</th>\n",
       "      <td>8277</td>\n",
       "      <td>apple honeycrisp organic</td>\n",
       "      <td>11993.0</td>\n",
       "      <td>apple honeycrisp organic</td>\n",
       "      <td>8836.0</td>\n",
       "    </tr>\n",
       "    <tr>\n",
       "      <th>2</th>\n",
       "      <td>13176</td>\n",
       "      <td>bag of organic bananas</td>\n",
       "      <td>53297.0</td>\n",
       "      <td>bag of organic bananas</td>\n",
       "      <td>44450.0</td>\n",
       "    </tr>\n",
       "    <tr>\n",
       "      <th>3</th>\n",
       "      <td>16797</td>\n",
       "      <td>strawberries</td>\n",
       "      <td>20018.0</td>\n",
       "      <td>strawberries</td>\n",
       "      <td>13945.0</td>\n",
       "    </tr>\n",
       "    <tr>\n",
       "      <th>4</th>\n",
       "      <td>21137</td>\n",
       "      <td>organic strawberries</td>\n",
       "      <td>37039.0</td>\n",
       "      <td>organic strawberries</td>\n",
       "      <td>28639.0</td>\n",
       "    </tr>\n",
       "    <tr>\n",
       "      <th>5</th>\n",
       "      <td>21903</td>\n",
       "      <td>organic baby spinach</td>\n",
       "      <td>33971.0</td>\n",
       "      <td>organic baby spinach</td>\n",
       "      <td>26233.0</td>\n",
       "    </tr>\n",
       "    <tr>\n",
       "      <th>6</th>\n",
       "      <td>22935</td>\n",
       "      <td>organic yellow onion</td>\n",
       "      <td>15898.0</td>\n",
       "      <td>organic yellow onion</td>\n",
       "      <td>11145.0</td>\n",
       "    </tr>\n",
       "    <tr>\n",
       "      <th>7</th>\n",
       "      <td>24852</td>\n",
       "      <td>banana</td>\n",
       "      <td>66050.0</td>\n",
       "      <td>banana</td>\n",
       "      <td>55763.0</td>\n",
       "    </tr>\n",
       "    <tr>\n",
       "      <th>8</th>\n",
       "      <td>24964</td>\n",
       "      <td>organic garlic</td>\n",
       "      <td>15292.0</td>\n",
       "      <td>organic garlic</td>\n",
       "      <td>10411.0</td>\n",
       "    </tr>\n",
       "    <tr>\n",
       "      <th>9</th>\n",
       "      <td>26209</td>\n",
       "      <td>limes</td>\n",
       "      <td>19690.0</td>\n",
       "      <td>limes</td>\n",
       "      <td>13327.0</td>\n",
       "    </tr>\n",
       "    <tr>\n",
       "      <th>10</th>\n",
       "      <td>27845</td>\n",
       "      <td>organic whole milk</td>\n",
       "      <td>19600.0</td>\n",
       "      <td>organic whole milk</td>\n",
       "      <td>16251.0</td>\n",
       "    </tr>\n",
       "    <tr>\n",
       "      <th>11</th>\n",
       "      <td>27966</td>\n",
       "      <td>organic raspberries</td>\n",
       "      <td>19197.0</td>\n",
       "      <td>organic raspberries</td>\n",
       "      <td>14748.0</td>\n",
       "    </tr>\n",
       "    <tr>\n",
       "      <th>12</th>\n",
       "      <td>28204</td>\n",
       "      <td>organic fuji apple</td>\n",
       "      <td>12544.0</td>\n",
       "      <td>organic fuji apple</td>\n",
       "      <td>8989.0</td>\n",
       "    </tr>\n",
       "    <tr>\n",
       "      <th>13</th>\n",
       "      <td>39275</td>\n",
       "      <td>organic blueberries</td>\n",
       "      <td>13879.0</td>\n",
       "      <td>organic blueberries</td>\n",
       "      <td>8799.0</td>\n",
       "    </tr>\n",
       "    <tr>\n",
       "      <th>14</th>\n",
       "      <td>40706</td>\n",
       "      <td>organic grape tomatoes</td>\n",
       "      <td>11781.0</td>\n",
       "      <td>NaN</td>\n",
       "      <td>NaN</td>\n",
       "    </tr>\n",
       "    <tr>\n",
       "      <th>15</th>\n",
       "      <td>45007</td>\n",
       "      <td>organic zucchini</td>\n",
       "      <td>14584.0</td>\n",
       "      <td>organic zucchini</td>\n",
       "      <td>10076.0</td>\n",
       "    </tr>\n",
       "    <tr>\n",
       "      <th>16</th>\n",
       "      <td>47209</td>\n",
       "      <td>organic hass avocado</td>\n",
       "      <td>29773.0</td>\n",
       "      <td>organic hass avocado</td>\n",
       "      <td>23629.0</td>\n",
       "    </tr>\n",
       "    <tr>\n",
       "      <th>17</th>\n",
       "      <td>47626</td>\n",
       "      <td>large lemon</td>\n",
       "      <td>21495.0</td>\n",
       "      <td>large lemon</td>\n",
       "      <td>15044.0</td>\n",
       "    </tr>\n",
       "    <tr>\n",
       "      <th>18</th>\n",
       "      <td>47766</td>\n",
       "      <td>organic avocado</td>\n",
       "      <td>24689.0</td>\n",
       "      <td>organic avocado</td>\n",
       "      <td>18743.0</td>\n",
       "    </tr>\n",
       "    <tr>\n",
       "      <th>19</th>\n",
       "      <td>49235</td>\n",
       "      <td>NaN</td>\n",
       "      <td>NaN</td>\n",
       "      <td>organic half &amp; half</td>\n",
       "      <td>8389.0</td>\n",
       "    </tr>\n",
       "    <tr>\n",
       "      <th>20</th>\n",
       "      <td>49683</td>\n",
       "      <td>cucumber kirby</td>\n",
       "      <td>13675.0</td>\n",
       "      <td>cucumber kirby</td>\n",
       "      <td>9538.0</td>\n",
       "    </tr>\n",
       "  </tbody>\n",
       "</table>\n",
       "</div>"
      ],
      "text/plain": [
       "    product_id product_name_most_orderered  amount_ordered  \\\n",
       "0         5876               organic lemon         12232.0   \n",
       "1         8277    apple honeycrisp organic         11993.0   \n",
       "2        13176      bag of organic bananas         53297.0   \n",
       "3        16797                strawberries         20018.0   \n",
       "4        21137        organic strawberries         37039.0   \n",
       "5        21903        organic baby spinach         33971.0   \n",
       "6        22935        organic yellow onion         15898.0   \n",
       "7        24852                      banana         66050.0   \n",
       "8        24964              organic garlic         15292.0   \n",
       "9        26209                       limes         19690.0   \n",
       "10       27845          organic whole milk         19600.0   \n",
       "11       27966         organic raspberries         19197.0   \n",
       "12       28204          organic fuji apple         12544.0   \n",
       "13       39275         organic blueberries         13879.0   \n",
       "14       40706      organic grape tomatoes         11781.0   \n",
       "15       45007            organic zucchini         14584.0   \n",
       "16       47209        organic hass avocado         29773.0   \n",
       "17       47626                 large lemon         21495.0   \n",
       "18       47766             organic avocado         24689.0   \n",
       "19       49235                         NaN             NaN   \n",
       "20       49683              cucumber kirby         13675.0   \n",
       "\n",
       "   product_name_most_reordered  reordered  \n",
       "0                organic lemon     8412.0  \n",
       "1     apple honeycrisp organic     8836.0  \n",
       "2       bag of organic bananas    44450.0  \n",
       "3                 strawberries    13945.0  \n",
       "4         organic strawberries    28639.0  \n",
       "5         organic baby spinach    26233.0  \n",
       "6         organic yellow onion    11145.0  \n",
       "7                       banana    55763.0  \n",
       "8               organic garlic    10411.0  \n",
       "9                        limes    13327.0  \n",
       "10          organic whole milk    16251.0  \n",
       "11         organic raspberries    14748.0  \n",
       "12          organic fuji apple     8989.0  \n",
       "13         organic blueberries     8799.0  \n",
       "14                         NaN        NaN  \n",
       "15            organic zucchini    10076.0  \n",
       "16        organic hass avocado    23629.0  \n",
       "17                 large lemon    15044.0  \n",
       "18             organic avocado    18743.0  \n",
       "19         organic half & half     8389.0  \n",
       "20              cucumber kirby     9538.0  "
      ]
     },
     "execution_count": 52,
     "metadata": {},
     "output_type": "execute_result"
    }
   ],
   "source": [
    "top_products.merge(re_products,\n",
    "                  on='product_id',\n",
    "                  how='outer',\n",
    "                  suffixes=['_most_orderered', '_most_reordered'])"
   ]
  },
  {
   "cell_type": "markdown",
   "id": "80e70c74",
   "metadata": {},
   "source": [
    "From my attempt, the two lists are almost identical, showing that customers very often order fruits and vegetables."
   ]
  },
  {
   "cell_type": "markdown",
   "id": "9d312b14",
   "metadata": {},
   "source": [
    "### [C3] For each product, what proportion of its orders are reorders?"
   ]
  },
  {
   "cell_type": "code",
   "execution_count": 55,
   "id": "506008ea",
   "metadata": {
    "scrolled": true
   },
   "outputs": [
    {
     "data": {
      "text/plain": [
       "product_id  product_name                                                     \n",
       "1           chocolate sandwich cookies                                           0.564286\n",
       "2           all-seasons salt                                                     0.000000\n",
       "3           robust golden unsweetened oolong tea                                 0.738095\n",
       "4           smart ones classic favorites mini rigatoni with vodka cream sauce    0.510204\n",
       "7           pure coconut water with orange                                       0.500000\n",
       "                                                                                   ...   \n",
       "49690       high performance energy drink                                        0.800000\n",
       "49691       original pancake & waffle mix                                        0.430556\n",
       "49692       organic instant oatmeal light maple brown sugar                      0.416667\n",
       "49693       spring water body wash                                               0.440000\n",
       "49694       burrito- steak & cheese                                              0.333333\n",
       "Name: reordered, Length: 45573, dtype: float64"
      ]
     },
     "execution_count": 55,
     "metadata": {},
     "output_type": "execute_result"
    }
   ],
   "source": [
    "df_order_products.merge(df_products).groupby(['product_id', 'product_name'])['reordered'].mean()"
   ]
  },
  {
   "cell_type": "markdown",
   "id": "6d5fe83b",
   "metadata": {},
   "source": [
    "From what we can see from the table it looks like most products have a significant amount of reorders."
   ]
  },
  {
   "cell_type": "markdown",
   "id": "subject-boxing",
   "metadata": {},
   "source": [
    "### [C4] For each customer, what proportion of their products ordered are reorders?"
   ]
  },
  {
   "cell_type": "code",
   "execution_count": 61,
   "id": "medical-couple",
   "metadata": {
    "scrolled": false
   },
   "outputs": [
    {
     "data": {
      "text/plain": [
       "order_id  user_id\n",
       "4         178520     0.923077\n",
       "9         139016     0.666667\n",
       "11        143742     1.000000\n",
       "19        83009      1.000000\n",
       "20        182912     0.000000\n",
       "                       ...   \n",
       "3421034   130508     1.000000\n",
       "3421053   32775      1.000000\n",
       "3421071   124485     0.200000\n",
       "3421077   107102     0.000000\n",
       "3421079   108687     0.000000\n",
       "Name: reordered, Length: 450046, dtype: float64"
      ]
     },
     "execution_count": 61,
     "metadata": {},
     "output_type": "execute_result"
    }
   ],
   "source": [
    "df_order_products.merge(df_orders).groupby(['order_id', 'user_id'])['reordered'].mean()"
   ]
  },
  {
   "cell_type": "markdown",
   "id": "86026546",
   "metadata": {},
   "source": [
    "Unlike the products verson of this table, Users seem to not reorder items, with a few exceptions who only order a few of the same products each order."
   ]
  },
  {
   "cell_type": "markdown",
   "id": "92d35137",
   "metadata": {},
   "source": [
    "### [C5] What are the top 20 items that people put in their carts first? "
   ]
  },
  {
   "cell_type": "code",
   "execution_count": 57,
   "id": "0ae57274",
   "metadata": {
    "scrolled": false
   },
   "outputs": [
    {
     "data": {
      "text/html": [
       "<div>\n",
       "<style scoped>\n",
       "    .dataframe tbody tr th:only-of-type {\n",
       "        vertical-align: middle;\n",
       "    }\n",
       "\n",
       "    .dataframe tbody tr th {\n",
       "        vertical-align: top;\n",
       "    }\n",
       "\n",
       "    .dataframe thead th {\n",
       "        text-align: right;\n",
       "    }\n",
       "</style>\n",
       "<table border=\"1\" class=\"dataframe\">\n",
       "  <thead>\n",
       "    <tr style=\"text-align: right;\">\n",
       "      <th></th>\n",
       "      <th>product_id</th>\n",
       "      <th>add_to_cart_order</th>\n",
       "    </tr>\n",
       "  </thead>\n",
       "  <tbody>\n",
       "    <tr>\n",
       "      <th>13414</th>\n",
       "      <td>24852</td>\n",
       "      <td>15562</td>\n",
       "    </tr>\n",
       "    <tr>\n",
       "      <th>7127</th>\n",
       "      <td>13176</td>\n",
       "      <td>11026</td>\n",
       "    </tr>\n",
       "    <tr>\n",
       "      <th>15028</th>\n",
       "      <td>27845</td>\n",
       "      <td>4363</td>\n",
       "    </tr>\n",
       "    <tr>\n",
       "      <th>11384</th>\n",
       "      <td>21137</td>\n",
       "      <td>3946</td>\n",
       "    </tr>\n",
       "    <tr>\n",
       "      <th>25439</th>\n",
       "      <td>47209</td>\n",
       "      <td>3390</td>\n",
       "    </tr>\n",
       "    <tr>\n",
       "      <th>11786</th>\n",
       "      <td>21903</td>\n",
       "      <td>3336</td>\n",
       "    </tr>\n",
       "    <tr>\n",
       "      <th>25732</th>\n",
       "      <td>47766</td>\n",
       "      <td>3044</td>\n",
       "    </tr>\n",
       "    <tr>\n",
       "      <th>10622</th>\n",
       "      <td>19660</td>\n",
       "      <td>2336</td>\n",
       "    </tr>\n",
       "    <tr>\n",
       "      <th>9050</th>\n",
       "      <td>16797</td>\n",
       "      <td>2308</td>\n",
       "    </tr>\n",
       "    <tr>\n",
       "      <th>15102</th>\n",
       "      <td>27966</td>\n",
       "      <td>2024</td>\n",
       "    </tr>\n",
       "    <tr>\n",
       "      <th>24024</th>\n",
       "      <td>44632</td>\n",
       "      <td>1914</td>\n",
       "    </tr>\n",
       "    <tr>\n",
       "      <th>26519</th>\n",
       "      <td>49235</td>\n",
       "      <td>1797</td>\n",
       "    </tr>\n",
       "    <tr>\n",
       "      <th>25658</th>\n",
       "      <td>47626</td>\n",
       "      <td>1737</td>\n",
       "    </tr>\n",
       "    <tr>\n",
       "      <th>115</th>\n",
       "      <td>196</td>\n",
       "      <td>1733</td>\n",
       "    </tr>\n",
       "    <tr>\n",
       "      <th>20853</th>\n",
       "      <td>38689</td>\n",
       "      <td>1397</td>\n",
       "    </tr>\n",
       "    <tr>\n",
       "      <th>14158</th>\n",
       "      <td>26209</td>\n",
       "      <td>1370</td>\n",
       "    </tr>\n",
       "    <tr>\n",
       "      <th>6660</th>\n",
       "      <td>12341</td>\n",
       "      <td>1340</td>\n",
       "    </tr>\n",
       "    <tr>\n",
       "      <th>3153</th>\n",
       "      <td>5785</td>\n",
       "      <td>1310</td>\n",
       "    </tr>\n",
       "    <tr>\n",
       "      <th>14639</th>\n",
       "      <td>27086</td>\n",
       "      <td>1309</td>\n",
       "    </tr>\n",
       "    <tr>\n",
       "      <th>23335</th>\n",
       "      <td>43352</td>\n",
       "      <td>1246</td>\n",
       "    </tr>\n",
       "  </tbody>\n",
       "</table>\n",
       "</div>"
      ],
      "text/plain": [
       "       product_id  add_to_cart_order\n",
       "13414       24852              15562\n",
       "7127        13176              11026\n",
       "15028       27845               4363\n",
       "11384       21137               3946\n",
       "25439       47209               3390\n",
       "11786       21903               3336\n",
       "25732       47766               3044\n",
       "10622       19660               2336\n",
       "9050        16797               2308\n",
       "15102       27966               2024\n",
       "24024       44632               1914\n",
       "26519       49235               1797\n",
       "25658       47626               1737\n",
       "115           196               1733\n",
       "20853       38689               1397\n",
       "14158       26209               1370\n",
       "6660        12341               1340\n",
       "3153         5785               1310\n",
       "14639       27086               1309\n",
       "23335       43352               1246"
      ]
     },
     "execution_count": 57,
     "metadata": {},
     "output_type": "execute_result"
    }
   ],
   "source": [
    "first_items = df_order_products[df_order_products['add_to_cart_order'] == 1]\n",
    "first_items = first_items.groupby('product_id')['add_to_cart_order'].count().reset_index().sort_values('add_to_cart_order', ascending=False).head(20)\n",
    "first_items"
   ]
  },
  {
   "cell_type": "code",
   "execution_count": 58,
   "id": "forty-netherlands",
   "metadata": {
    "scrolled": false
   },
   "outputs": [
    {
     "data": {
      "text/html": [
       "<div>\n",
       "<style scoped>\n",
       "    .dataframe tbody tr th:only-of-type {\n",
       "        vertical-align: middle;\n",
       "    }\n",
       "\n",
       "    .dataframe tbody tr th {\n",
       "        vertical-align: top;\n",
       "    }\n",
       "\n",
       "    .dataframe thead th {\n",
       "        text-align: right;\n",
       "    }\n",
       "</style>\n",
       "<table border=\"1\" class=\"dataframe\">\n",
       "  <thead>\n",
       "    <tr style=\"text-align: right;\">\n",
       "      <th></th>\n",
       "      <th>product_id</th>\n",
       "      <th>product_name</th>\n",
       "    </tr>\n",
       "  </thead>\n",
       "  <tbody>\n",
       "    <tr>\n",
       "      <th>195</th>\n",
       "      <td>196</td>\n",
       "      <td>soda</td>\n",
       "    </tr>\n",
       "    <tr>\n",
       "      <th>5784</th>\n",
       "      <td>5785</td>\n",
       "      <td>organic reduced fat 2% milk</td>\n",
       "    </tr>\n",
       "    <tr>\n",
       "      <th>12340</th>\n",
       "      <td>12341</td>\n",
       "      <td>hass avocados</td>\n",
       "    </tr>\n",
       "    <tr>\n",
       "      <th>13175</th>\n",
       "      <td>13176</td>\n",
       "      <td>bag of organic bananas</td>\n",
       "    </tr>\n",
       "    <tr>\n",
       "      <th>16796</th>\n",
       "      <td>16797</td>\n",
       "      <td>strawberries</td>\n",
       "    </tr>\n",
       "    <tr>\n",
       "      <th>19659</th>\n",
       "      <td>19660</td>\n",
       "      <td>spring water</td>\n",
       "    </tr>\n",
       "    <tr>\n",
       "      <th>21136</th>\n",
       "      <td>21137</td>\n",
       "      <td>organic strawberries</td>\n",
       "    </tr>\n",
       "    <tr>\n",
       "      <th>21902</th>\n",
       "      <td>21903</td>\n",
       "      <td>organic baby spinach</td>\n",
       "    </tr>\n",
       "    <tr>\n",
       "      <th>24851</th>\n",
       "      <td>24852</td>\n",
       "      <td>banana</td>\n",
       "    </tr>\n",
       "    <tr>\n",
       "      <th>26208</th>\n",
       "      <td>26209</td>\n",
       "      <td>limes</td>\n",
       "    </tr>\n",
       "    <tr>\n",
       "      <th>27085</th>\n",
       "      <td>27086</td>\n",
       "      <td>half &amp; half</td>\n",
       "    </tr>\n",
       "    <tr>\n",
       "      <th>27844</th>\n",
       "      <td>27845</td>\n",
       "      <td>organic whole milk</td>\n",
       "    </tr>\n",
       "    <tr>\n",
       "      <th>27965</th>\n",
       "      <td>27966</td>\n",
       "      <td>organic raspberries</td>\n",
       "    </tr>\n",
       "    <tr>\n",
       "      <th>38688</th>\n",
       "      <td>38689</td>\n",
       "      <td>organic reduced fat milk</td>\n",
       "    </tr>\n",
       "    <tr>\n",
       "      <th>43351</th>\n",
       "      <td>43352</td>\n",
       "      <td>raspberries</td>\n",
       "    </tr>\n",
       "    <tr>\n",
       "      <th>44631</th>\n",
       "      <td>44632</td>\n",
       "      <td>sparkling water grapefruit</td>\n",
       "    </tr>\n",
       "    <tr>\n",
       "      <th>47208</th>\n",
       "      <td>47209</td>\n",
       "      <td>organic hass avocado</td>\n",
       "    </tr>\n",
       "    <tr>\n",
       "      <th>47625</th>\n",
       "      <td>47626</td>\n",
       "      <td>large lemon</td>\n",
       "    </tr>\n",
       "    <tr>\n",
       "      <th>47765</th>\n",
       "      <td>47766</td>\n",
       "      <td>organic avocado</td>\n",
       "    </tr>\n",
       "    <tr>\n",
       "      <th>49234</th>\n",
       "      <td>49235</td>\n",
       "      <td>organic half &amp; half</td>\n",
       "    </tr>\n",
       "  </tbody>\n",
       "</table>\n",
       "</div>"
      ],
      "text/plain": [
       "       product_id                 product_name\n",
       "195           196                         soda\n",
       "5784         5785  organic reduced fat 2% milk\n",
       "12340       12341                hass avocados\n",
       "13175       13176       bag of organic bananas\n",
       "16796       16797                 strawberries\n",
       "19659       19660                 spring water\n",
       "21136       21137         organic strawberries\n",
       "21902       21903         organic baby spinach\n",
       "24851       24852                       banana\n",
       "26208       26209                        limes\n",
       "27085       27086                  half & half\n",
       "27844       27845           organic whole milk\n",
       "27965       27966          organic raspberries\n",
       "38688       38689     organic reduced fat milk\n",
       "43351       43352                  raspberries\n",
       "44631       44632   sparkling water grapefruit\n",
       "47208       47209         organic hass avocado\n",
       "47625       47626                  large lemon\n",
       "47765       47766              organic avocado\n",
       "49234       49235          organic half & half"
      ]
     },
     "execution_count": 58,
     "metadata": {},
     "output_type": "execute_result"
    }
   ],
   "source": [
    "first_names = df_products[df_products['product_id'].isin(first_items['product_id'])][['product_id', 'product_name']]\n",
    "first_names"
   ]
  },
  {
   "cell_type": "code",
   "execution_count": 59,
   "id": "08e41ec2",
   "metadata": {},
   "outputs": [
    {
     "data": {
      "text/html": [
       "<div>\n",
       "<style scoped>\n",
       "    .dataframe tbody tr th:only-of-type {\n",
       "        vertical-align: middle;\n",
       "    }\n",
       "\n",
       "    .dataframe tbody tr th {\n",
       "        vertical-align: top;\n",
       "    }\n",
       "\n",
       "    .dataframe thead th {\n",
       "        text-align: right;\n",
       "    }\n",
       "</style>\n",
       "<table border=\"1\" class=\"dataframe\">\n",
       "  <thead>\n",
       "    <tr style=\"text-align: right;\">\n",
       "      <th></th>\n",
       "      <th>product_id</th>\n",
       "      <th>times_added_first</th>\n",
       "      <th>product_name</th>\n",
       "    </tr>\n",
       "  </thead>\n",
       "  <tbody>\n",
       "    <tr>\n",
       "      <th>0</th>\n",
       "      <td>24852</td>\n",
       "      <td>15562</td>\n",
       "      <td>banana</td>\n",
       "    </tr>\n",
       "    <tr>\n",
       "      <th>1</th>\n",
       "      <td>13176</td>\n",
       "      <td>11026</td>\n",
       "      <td>bag of organic bananas</td>\n",
       "    </tr>\n",
       "    <tr>\n",
       "      <th>2</th>\n",
       "      <td>27845</td>\n",
       "      <td>4363</td>\n",
       "      <td>organic whole milk</td>\n",
       "    </tr>\n",
       "    <tr>\n",
       "      <th>3</th>\n",
       "      <td>21137</td>\n",
       "      <td>3946</td>\n",
       "      <td>organic strawberries</td>\n",
       "    </tr>\n",
       "    <tr>\n",
       "      <th>4</th>\n",
       "      <td>47209</td>\n",
       "      <td>3390</td>\n",
       "      <td>organic hass avocado</td>\n",
       "    </tr>\n",
       "    <tr>\n",
       "      <th>5</th>\n",
       "      <td>21903</td>\n",
       "      <td>3336</td>\n",
       "      <td>organic baby spinach</td>\n",
       "    </tr>\n",
       "    <tr>\n",
       "      <th>6</th>\n",
       "      <td>47766</td>\n",
       "      <td>3044</td>\n",
       "      <td>organic avocado</td>\n",
       "    </tr>\n",
       "    <tr>\n",
       "      <th>7</th>\n",
       "      <td>19660</td>\n",
       "      <td>2336</td>\n",
       "      <td>spring water</td>\n",
       "    </tr>\n",
       "    <tr>\n",
       "      <th>8</th>\n",
       "      <td>16797</td>\n",
       "      <td>2308</td>\n",
       "      <td>strawberries</td>\n",
       "    </tr>\n",
       "    <tr>\n",
       "      <th>9</th>\n",
       "      <td>27966</td>\n",
       "      <td>2024</td>\n",
       "      <td>organic raspberries</td>\n",
       "    </tr>\n",
       "    <tr>\n",
       "      <th>10</th>\n",
       "      <td>44632</td>\n",
       "      <td>1914</td>\n",
       "      <td>sparkling water grapefruit</td>\n",
       "    </tr>\n",
       "    <tr>\n",
       "      <th>11</th>\n",
       "      <td>49235</td>\n",
       "      <td>1797</td>\n",
       "      <td>organic half &amp; half</td>\n",
       "    </tr>\n",
       "    <tr>\n",
       "      <th>12</th>\n",
       "      <td>47626</td>\n",
       "      <td>1737</td>\n",
       "      <td>large lemon</td>\n",
       "    </tr>\n",
       "    <tr>\n",
       "      <th>13</th>\n",
       "      <td>196</td>\n",
       "      <td>1733</td>\n",
       "      <td>soda</td>\n",
       "    </tr>\n",
       "    <tr>\n",
       "      <th>14</th>\n",
       "      <td>38689</td>\n",
       "      <td>1397</td>\n",
       "      <td>organic reduced fat milk</td>\n",
       "    </tr>\n",
       "    <tr>\n",
       "      <th>15</th>\n",
       "      <td>26209</td>\n",
       "      <td>1370</td>\n",
       "      <td>limes</td>\n",
       "    </tr>\n",
       "    <tr>\n",
       "      <th>16</th>\n",
       "      <td>12341</td>\n",
       "      <td>1340</td>\n",
       "      <td>hass avocados</td>\n",
       "    </tr>\n",
       "    <tr>\n",
       "      <th>17</th>\n",
       "      <td>5785</td>\n",
       "      <td>1310</td>\n",
       "      <td>organic reduced fat 2% milk</td>\n",
       "    </tr>\n",
       "    <tr>\n",
       "      <th>18</th>\n",
       "      <td>27086</td>\n",
       "      <td>1309</td>\n",
       "      <td>half &amp; half</td>\n",
       "    </tr>\n",
       "    <tr>\n",
       "      <th>19</th>\n",
       "      <td>43352</td>\n",
       "      <td>1246</td>\n",
       "      <td>raspberries</td>\n",
       "    </tr>\n",
       "  </tbody>\n",
       "</table>\n",
       "</div>"
      ],
      "text/plain": [
       "    product_id  times_added_first                 product_name\n",
       "0        24852              15562                       banana\n",
       "1        13176              11026       bag of organic bananas\n",
       "2        27845               4363           organic whole milk\n",
       "3        21137               3946         organic strawberries\n",
       "4        47209               3390         organic hass avocado\n",
       "5        21903               3336         organic baby spinach\n",
       "6        47766               3044              organic avocado\n",
       "7        19660               2336                 spring water\n",
       "8        16797               2308                 strawberries\n",
       "9        27966               2024          organic raspberries\n",
       "10       44632               1914   sparkling water grapefruit\n",
       "11       49235               1797          organic half & half\n",
       "12       47626               1737                  large lemon\n",
       "13         196               1733                         soda\n",
       "14       38689               1397     organic reduced fat milk\n",
       "15       26209               1370                        limes\n",
       "16       12341               1340                hass avocados\n",
       "17        5785               1310  organic reduced fat 2% milk\n",
       "18       27086               1309                  half & half\n",
       "19       43352               1246                  raspberries"
      ]
     },
     "execution_count": 59,
     "metadata": {},
     "output_type": "execute_result"
    }
   ],
   "source": [
    "first_items = first_items.merge(first_names, on='product_id')\n",
    "first_items.columns = ['product_id', 'times_added_first', 'product_name']\n",
    "first_items"
   ]
  },
  {
   "cell_type": "markdown",
   "id": "28ce9872",
   "metadata": {},
   "source": [
    "Filtered the `order_products` dataframe to only include the first item added to carts then found the 20 items that occur the most. \n",
    "\n",
    "\n",
    "\n",
    "\n",
    "Thus concludes the project. We took a large amount of customer data from the application Instacart and have manipulated it in various ways to answer a few questions about what customers are purchasing and when they are making those purchases. We can infer from the data that there is growth happening from the increasing number of orders per customer. Most of those new customers only purchase a few items and the most purchased, repurchased and the first item added to most customer's carts are fruits and vegetables. Most shoppers buy groceries once a week or every 7 days, typically on Sunday or Monday."
   ]
  }
 ],
 "metadata": {
  "kernelspec": {
   "display_name": "base",
   "language": "python",
   "name": "python3"
  },
  "language_info": {
   "codemirror_mode": {
    "name": "ipython",
    "version": 3
   },
   "file_extension": ".py",
   "mimetype": "text/x-python",
   "name": "python",
   "nbconvert_exporter": "python",
   "pygments_lexer": "ipython3",
   "version": "3.12.7"
  },
  "toc": {
   "base_numbering": 1,
   "nav_menu": {},
   "number_sections": true,
   "sideBar": true,
   "skip_h1_title": true,
   "title_cell": "Table of Contents",
   "title_sidebar": "Contents",
   "toc_cell": false,
   "toc_position": {
    "height": "calc(100% - 180px)",
    "left": "10px",
    "top": "150px",
    "width": "368px"
   },
   "toc_section_display": true,
   "toc_window_display": true
  }
 },
 "nbformat": 4,
 "nbformat_minor": 5
}
