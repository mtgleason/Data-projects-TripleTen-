{
 "cells": [
  {
   "cell_type": "markdown",
   "metadata": {},
   "source": [
    "# Integrated Project 2: Gold Mining\n",
    "***\n",
    "\n",
    "In this project we will be training machine learning algorithms to predict the amount of gold that will be recovered from raw gold ore for the heavy industry solutions company Zyfra. They have provided 3 raw CSV datasets from their data warehouse each named:\n",
    "\n",
    "- `gold_recovery_full.csv`\n",
    "- `gold_recovery_train.csv`\n",
    "- `gold_recovery_test.csv`\n",
    "\n",
    "The data has already been split into training and test datasets, while `gold_recovery_full.csv` contains all entries. We will first assess the data for accuracy, then preform preliminary analysis to ensure the accuracy of the various models that will be tested. The company has asked that we use the symmetric Mean Absolute Percentage Error (sMAPE) metric to ensure the validity of the models, the formula for which will be described later in the notebook.\n",
    "\n",
    "Once the data has been assessed and metrics calculated, 4 different learning models will be trained and evaluated using the new metric including:\n",
    "\n",
    "- `LinearRegression`\n",
    "- `DecisionTreeRegressor`\n",
    "- `KNeighborsRegressor`\n",
    "- `RandomForestRegressor`\n",
    "\n",
    "The model with the best average score after cross evaluating the training dataset will be used on the test dataset to ensure the model still preforms well with new data."
   ]
  },
  {
   "cell_type": "markdown",
   "metadata": {},
   "source": [
    "## Loading Data\n",
    "\n",
    "First all necessary libraries will be imported, then the datasets will be loaded."
   ]
  },
  {
   "cell_type": "code",
   "execution_count": 1,
   "metadata": {},
   "outputs": [],
   "source": [
    "import warnings\n",
    "warnings.simplefilter(action='ignore', category=FutureWarning)\n",
    "\n",
    "# Importing all necessary libraries\n",
    "import pandas as pd\n",
    "import numpy as np\n",
    "import matplotlib.pyplot as plt\n",
    "import seaborn as sns\n",
    "from sklearn.metrics import mean_absolute_error, make_scorer\n",
    "from sklearn.model_selection import cross_val_score\n",
    "from sklearn.linear_model import LinearRegression\n",
    "from sklearn.tree import DecisionTreeRegressor\n",
    "from sklearn.neighbors import KNeighborsRegressor\n",
    "from sklearn.ensemble import RandomForestRegressor"
   ]
  },
  {
   "cell_type": "markdown",
   "metadata": {},
   "source": [
    "Loading datasets into DataFrames named `df`, `df_train` and `df_test` respectively."
   ]
  },
  {
   "cell_type": "code",
   "execution_count": 2,
   "metadata": {
    "scrolled": true
   },
   "outputs": [
    {
     "name": "stdout",
     "output_type": "stream",
     "text": [
      "<class 'pandas.core.frame.DataFrame'>\n",
      "RangeIndex: 22716 entries, 0 to 22715\n",
      "Data columns (total 87 columns):\n",
      " #   Column                                              Non-Null Count  Dtype  \n",
      "---  ------                                              --------------  -----  \n",
      " 0   date                                                22716 non-null  object \n",
      " 1   final.output.concentrate_ag                         22627 non-null  float64\n",
      " 2   final.output.concentrate_pb                         22629 non-null  float64\n",
      " 3   final.output.concentrate_sol                        22331 non-null  float64\n",
      " 4   final.output.concentrate_au                         22630 non-null  float64\n",
      " 5   final.output.recovery                               20753 non-null  float64\n",
      " 6   final.output.tail_ag                                22633 non-null  float64\n",
      " 7   final.output.tail_pb                                22516 non-null  float64\n",
      " 8   final.output.tail_sol                               22445 non-null  float64\n",
      " 9   final.output.tail_au                                22635 non-null  float64\n",
      " 10  primary_cleaner.input.sulfate                       21107 non-null  float64\n",
      " 11  primary_cleaner.input.depressant                    21170 non-null  float64\n",
      " 12  primary_cleaner.input.feed_size                     22716 non-null  float64\n",
      " 13  primary_cleaner.input.xanthate                      21565 non-null  float64\n",
      " 14  primary_cleaner.output.concentrate_ag               22618 non-null  float64\n",
      " 15  primary_cleaner.output.concentrate_pb               22268 non-null  float64\n",
      " 16  primary_cleaner.output.concentrate_sol              21918 non-null  float64\n",
      " 17  primary_cleaner.output.concentrate_au               22618 non-null  float64\n",
      " 18  primary_cleaner.output.tail_ag                      22614 non-null  float64\n",
      " 19  primary_cleaner.output.tail_pb                      22594 non-null  float64\n",
      " 20  primary_cleaner.output.tail_sol                     22365 non-null  float64\n",
      " 21  primary_cleaner.output.tail_au                      22617 non-null  float64\n",
      " 22  primary_cleaner.state.floatbank8_a_air              22660 non-null  float64\n",
      " 23  primary_cleaner.state.floatbank8_a_level            22667 non-null  float64\n",
      " 24  primary_cleaner.state.floatbank8_b_air              22660 non-null  float64\n",
      " 25  primary_cleaner.state.floatbank8_b_level            22673 non-null  float64\n",
      " 26  primary_cleaner.state.floatbank8_c_air              22662 non-null  float64\n",
      " 27  primary_cleaner.state.floatbank8_c_level            22673 non-null  float64\n",
      " 28  primary_cleaner.state.floatbank8_d_air              22661 non-null  float64\n",
      " 29  primary_cleaner.state.floatbank8_d_level            22673 non-null  float64\n",
      " 30  rougher.calculation.sulfate_to_au_concentrate       22672 non-null  float64\n",
      " 31  rougher.calculation.floatbank10_sulfate_to_au_feed  22672 non-null  float64\n",
      " 32  rougher.calculation.floatbank11_sulfate_to_au_feed  22672 non-null  float64\n",
      " 33  rougher.calculation.au_pb_ratio                     21089 non-null  float64\n",
      " 34  rougher.input.feed_ag                               22618 non-null  float64\n",
      " 35  rougher.input.feed_pb                               22472 non-null  float64\n",
      " 36  rougher.input.feed_rate                             22163 non-null  float64\n",
      " 37  rougher.input.feed_size                             22277 non-null  float64\n",
      " 38  rougher.input.feed_sol                              22357 non-null  float64\n",
      " 39  rougher.input.feed_au                               22617 non-null  float64\n",
      " 40  rougher.input.floatbank10_sulfate                   21415 non-null  float64\n",
      " 41  rougher.input.floatbank10_xanthate                  22247 non-null  float64\n",
      " 42  rougher.input.floatbank11_sulfate                   22038 non-null  float64\n",
      " 43  rougher.input.floatbank11_xanthate                  20459 non-null  float64\n",
      " 44  rougher.output.concentrate_ag                       22618 non-null  float64\n",
      " 45  rougher.output.concentrate_pb                       22618 non-null  float64\n",
      " 46  rougher.output.concentrate_sol                      22526 non-null  float64\n",
      " 47  rougher.output.concentrate_au                       22618 non-null  float64\n",
      " 48  rougher.output.recovery                             19597 non-null  float64\n",
      " 49  rougher.output.tail_ag                              19979 non-null  float64\n",
      " 50  rougher.output.tail_pb                              22618 non-null  float64\n",
      " 51  rougher.output.tail_sol                             19980 non-null  float64\n",
      " 52  rougher.output.tail_au                              19980 non-null  float64\n",
      " 53  rougher.state.floatbank10_a_air                     22646 non-null  float64\n",
      " 54  rougher.state.floatbank10_a_level                   22647 non-null  float64\n",
      " 55  rougher.state.floatbank10_b_air                     22646 non-null  float64\n",
      " 56  rougher.state.floatbank10_b_level                   22647 non-null  float64\n",
      " 57  rougher.state.floatbank10_c_air                     22646 non-null  float64\n",
      " 58  rougher.state.floatbank10_c_level                   22654 non-null  float64\n",
      " 59  rougher.state.floatbank10_d_air                     22641 non-null  float64\n",
      " 60  rougher.state.floatbank10_d_level                   22649 non-null  float64\n",
      " 61  rougher.state.floatbank10_e_air                     22096 non-null  float64\n",
      " 62  rougher.state.floatbank10_e_level                   22649 non-null  float64\n",
      " 63  rougher.state.floatbank10_f_air                     22641 non-null  float64\n",
      " 64  rougher.state.floatbank10_f_level                   22642 non-null  float64\n",
      " 65  secondary_cleaner.output.tail_ag                    22616 non-null  float64\n",
      " 66  secondary_cleaner.output.tail_pb                    22600 non-null  float64\n",
      " 67  secondary_cleaner.output.tail_sol                   20501 non-null  float64\n",
      " 68  secondary_cleaner.output.tail_au                    22618 non-null  float64\n",
      " 69  secondary_cleaner.state.floatbank2_a_air            22333 non-null  float64\n",
      " 70  secondary_cleaner.state.floatbank2_a_level          22591 non-null  float64\n",
      " 71  secondary_cleaner.state.floatbank2_b_air            22538 non-null  float64\n",
      " 72  secondary_cleaner.state.floatbank2_b_level          22588 non-null  float64\n",
      " 73  secondary_cleaner.state.floatbank3_a_air            22585 non-null  float64\n",
      " 74  secondary_cleaner.state.floatbank3_a_level          22587 non-null  float64\n",
      " 75  secondary_cleaner.state.floatbank3_b_air            22592 non-null  float64\n",
      " 76  secondary_cleaner.state.floatbank3_b_level          22590 non-null  float64\n",
      " 77  secondary_cleaner.state.floatbank4_a_air            22571 non-null  float64\n",
      " 78  secondary_cleaner.state.floatbank4_a_level          22587 non-null  float64\n",
      " 79  secondary_cleaner.state.floatbank4_b_air            22608 non-null  float64\n",
      " 80  secondary_cleaner.state.floatbank4_b_level          22607 non-null  float64\n",
      " 81  secondary_cleaner.state.floatbank5_a_air            22615 non-null  float64\n",
      " 82  secondary_cleaner.state.floatbank5_a_level          22615 non-null  float64\n",
      " 83  secondary_cleaner.state.floatbank5_b_air            22615 non-null  float64\n",
      " 84  secondary_cleaner.state.floatbank5_b_level          22616 non-null  float64\n",
      " 85  secondary_cleaner.state.floatbank6_a_air            22597 non-null  float64\n",
      " 86  secondary_cleaner.state.floatbank6_a_level          22615 non-null  float64\n",
      "dtypes: float64(86), object(1)\n",
      "memory usage: 15.1+ MB\n",
      "<class 'pandas.core.frame.DataFrame'>\n",
      "RangeIndex: 16860 entries, 0 to 16859\n",
      "Data columns (total 87 columns):\n",
      " #   Column                                              Non-Null Count  Dtype  \n",
      "---  ------                                              --------------  -----  \n",
      " 0   date                                                16860 non-null  object \n",
      " 1   final.output.concentrate_ag                         16788 non-null  float64\n",
      " 2   final.output.concentrate_pb                         16788 non-null  float64\n",
      " 3   final.output.concentrate_sol                        16490 non-null  float64\n",
      " 4   final.output.concentrate_au                         16789 non-null  float64\n",
      " 5   final.output.recovery                               15339 non-null  float64\n",
      " 6   final.output.tail_ag                                16794 non-null  float64\n",
      " 7   final.output.tail_pb                                16677 non-null  float64\n",
      " 8   final.output.tail_sol                               16715 non-null  float64\n",
      " 9   final.output.tail_au                                16794 non-null  float64\n",
      " 10  primary_cleaner.input.sulfate                       15553 non-null  float64\n",
      " 11  primary_cleaner.input.depressant                    15598 non-null  float64\n",
      " 12  primary_cleaner.input.feed_size                     16860 non-null  float64\n",
      " 13  primary_cleaner.input.xanthate                      15875 non-null  float64\n",
      " 14  primary_cleaner.output.concentrate_ag               16778 non-null  float64\n",
      " 15  primary_cleaner.output.concentrate_pb               16502 non-null  float64\n",
      " 16  primary_cleaner.output.concentrate_sol              16224 non-null  float64\n",
      " 17  primary_cleaner.output.concentrate_au               16778 non-null  float64\n",
      " 18  primary_cleaner.output.tail_ag                      16777 non-null  float64\n",
      " 19  primary_cleaner.output.tail_pb                      16761 non-null  float64\n",
      " 20  primary_cleaner.output.tail_sol                     16579 non-null  float64\n",
      " 21  primary_cleaner.output.tail_au                      16777 non-null  float64\n",
      " 22  primary_cleaner.state.floatbank8_a_air              16820 non-null  float64\n",
      " 23  primary_cleaner.state.floatbank8_a_level            16827 non-null  float64\n",
      " 24  primary_cleaner.state.floatbank8_b_air              16820 non-null  float64\n",
      " 25  primary_cleaner.state.floatbank8_b_level            16833 non-null  float64\n",
      " 26  primary_cleaner.state.floatbank8_c_air              16822 non-null  float64\n",
      " 27  primary_cleaner.state.floatbank8_c_level            16833 non-null  float64\n",
      " 28  primary_cleaner.state.floatbank8_d_air              16821 non-null  float64\n",
      " 29  primary_cleaner.state.floatbank8_d_level            16833 non-null  float64\n",
      " 30  rougher.calculation.sulfate_to_au_concentrate       16833 non-null  float64\n",
      " 31  rougher.calculation.floatbank10_sulfate_to_au_feed  16833 non-null  float64\n",
      " 32  rougher.calculation.floatbank11_sulfate_to_au_feed  16833 non-null  float64\n",
      " 33  rougher.calculation.au_pb_ratio                     15618 non-null  float64\n",
      " 34  rougher.input.feed_ag                               16778 non-null  float64\n",
      " 35  rougher.input.feed_pb                               16632 non-null  float64\n",
      " 36  rougher.input.feed_rate                             16347 non-null  float64\n",
      " 37  rougher.input.feed_size                             16443 non-null  float64\n",
      " 38  rougher.input.feed_sol                              16568 non-null  float64\n",
      " 39  rougher.input.feed_au                               16777 non-null  float64\n",
      " 40  rougher.input.floatbank10_sulfate                   15816 non-null  float64\n",
      " 41  rougher.input.floatbank10_xanthate                  16514 non-null  float64\n",
      " 42  rougher.input.floatbank11_sulfate                   16237 non-null  float64\n",
      " 43  rougher.input.floatbank11_xanthate                  14956 non-null  float64\n",
      " 44  rougher.output.concentrate_ag                       16778 non-null  float64\n",
      " 45  rougher.output.concentrate_pb                       16778 non-null  float64\n",
      " 46  rougher.output.concentrate_sol                      16698 non-null  float64\n",
      " 47  rougher.output.concentrate_au                       16778 non-null  float64\n",
      " 48  rougher.output.recovery                             14287 non-null  float64\n",
      " 49  rougher.output.tail_ag                              14610 non-null  float64\n",
      " 50  rougher.output.tail_pb                              16778 non-null  float64\n",
      " 51  rougher.output.tail_sol                             14611 non-null  float64\n",
      " 52  rougher.output.tail_au                              14611 non-null  float64\n",
      " 53  rougher.state.floatbank10_a_air                     16807 non-null  float64\n",
      " 54  rougher.state.floatbank10_a_level                   16807 non-null  float64\n",
      " 55  rougher.state.floatbank10_b_air                     16807 non-null  float64\n",
      " 56  rougher.state.floatbank10_b_level                   16807 non-null  float64\n",
      " 57  rougher.state.floatbank10_c_air                     16807 non-null  float64\n",
      " 58  rougher.state.floatbank10_c_level                   16814 non-null  float64\n",
      " 59  rougher.state.floatbank10_d_air                     16802 non-null  float64\n",
      " 60  rougher.state.floatbank10_d_level                   16809 non-null  float64\n",
      " 61  rougher.state.floatbank10_e_air                     16257 non-null  float64\n",
      " 62  rougher.state.floatbank10_e_level                   16809 non-null  float64\n",
      " 63  rougher.state.floatbank10_f_air                     16802 non-null  float64\n",
      " 64  rougher.state.floatbank10_f_level                   16802 non-null  float64\n",
      " 65  secondary_cleaner.output.tail_ag                    16776 non-null  float64\n",
      " 66  secondary_cleaner.output.tail_pb                    16764 non-null  float64\n",
      " 67  secondary_cleaner.output.tail_sol                   14874 non-null  float64\n",
      " 68  secondary_cleaner.output.tail_au                    16778 non-null  float64\n",
      " 69  secondary_cleaner.state.floatbank2_a_air            16497 non-null  float64\n",
      " 70  secondary_cleaner.state.floatbank2_a_level          16751 non-null  float64\n",
      " 71  secondary_cleaner.state.floatbank2_b_air            16705 non-null  float64\n",
      " 72  secondary_cleaner.state.floatbank2_b_level          16748 non-null  float64\n",
      " 73  secondary_cleaner.state.floatbank3_a_air            16763 non-null  float64\n",
      " 74  secondary_cleaner.state.floatbank3_a_level          16747 non-null  float64\n",
      " 75  secondary_cleaner.state.floatbank3_b_air            16752 non-null  float64\n",
      " 76  secondary_cleaner.state.floatbank3_b_level          16750 non-null  float64\n",
      " 77  secondary_cleaner.state.floatbank4_a_air            16731 non-null  float64\n",
      " 78  secondary_cleaner.state.floatbank4_a_level          16747 non-null  float64\n",
      " 79  secondary_cleaner.state.floatbank4_b_air            16768 non-null  float64\n",
      " 80  secondary_cleaner.state.floatbank4_b_level          16767 non-null  float64\n",
      " 81  secondary_cleaner.state.floatbank5_a_air            16775 non-null  float64\n",
      " 82  secondary_cleaner.state.floatbank5_a_level          16775 non-null  float64\n",
      " 83  secondary_cleaner.state.floatbank5_b_air            16775 non-null  float64\n",
      " 84  secondary_cleaner.state.floatbank5_b_level          16776 non-null  float64\n",
      " 85  secondary_cleaner.state.floatbank6_a_air            16757 non-null  float64\n",
      " 86  secondary_cleaner.state.floatbank6_a_level          16775 non-null  float64\n",
      "dtypes: float64(86), object(1)\n",
      "memory usage: 11.2+ MB\n",
      "<class 'pandas.core.frame.DataFrame'>\n",
      "RangeIndex: 5856 entries, 0 to 5855\n",
      "Data columns (total 53 columns):\n",
      " #   Column                                      Non-Null Count  Dtype  \n",
      "---  ------                                      --------------  -----  \n",
      " 0   date                                        5856 non-null   object \n",
      " 1   primary_cleaner.input.sulfate               5554 non-null   float64\n",
      " 2   primary_cleaner.input.depressant            5572 non-null   float64\n",
      " 3   primary_cleaner.input.feed_size             5856 non-null   float64\n",
      " 4   primary_cleaner.input.xanthate              5690 non-null   float64\n",
      " 5   primary_cleaner.state.floatbank8_a_air      5840 non-null   float64\n",
      " 6   primary_cleaner.state.floatbank8_a_level    5840 non-null   float64\n",
      " 7   primary_cleaner.state.floatbank8_b_air      5840 non-null   float64\n",
      " 8   primary_cleaner.state.floatbank8_b_level    5840 non-null   float64\n",
      " 9   primary_cleaner.state.floatbank8_c_air      5840 non-null   float64\n",
      " 10  primary_cleaner.state.floatbank8_c_level    5840 non-null   float64\n",
      " 11  primary_cleaner.state.floatbank8_d_air      5840 non-null   float64\n",
      " 12  primary_cleaner.state.floatbank8_d_level    5840 non-null   float64\n",
      " 13  rougher.input.feed_ag                       5840 non-null   float64\n",
      " 14  rougher.input.feed_pb                       5840 non-null   float64\n",
      " 15  rougher.input.feed_rate                     5816 non-null   float64\n",
      " 16  rougher.input.feed_size                     5834 non-null   float64\n",
      " 17  rougher.input.feed_sol                      5789 non-null   float64\n",
      " 18  rougher.input.feed_au                       5840 non-null   float64\n",
      " 19  rougher.input.floatbank10_sulfate           5599 non-null   float64\n",
      " 20  rougher.input.floatbank10_xanthate          5733 non-null   float64\n",
      " 21  rougher.input.floatbank11_sulfate           5801 non-null   float64\n",
      " 22  rougher.input.floatbank11_xanthate          5503 non-null   float64\n",
      " 23  rougher.state.floatbank10_a_air             5839 non-null   float64\n",
      " 24  rougher.state.floatbank10_a_level           5840 non-null   float64\n",
      " 25  rougher.state.floatbank10_b_air             5839 non-null   float64\n",
      " 26  rougher.state.floatbank10_b_level           5840 non-null   float64\n",
      " 27  rougher.state.floatbank10_c_air             5839 non-null   float64\n",
      " 28  rougher.state.floatbank10_c_level           5840 non-null   float64\n",
      " 29  rougher.state.floatbank10_d_air             5839 non-null   float64\n",
      " 30  rougher.state.floatbank10_d_level           5840 non-null   float64\n",
      " 31  rougher.state.floatbank10_e_air             5839 non-null   float64\n",
      " 32  rougher.state.floatbank10_e_level           5840 non-null   float64\n",
      " 33  rougher.state.floatbank10_f_air             5839 non-null   float64\n",
      " 34  rougher.state.floatbank10_f_level           5840 non-null   float64\n",
      " 35  secondary_cleaner.state.floatbank2_a_air    5836 non-null   float64\n",
      " 36  secondary_cleaner.state.floatbank2_a_level  5840 non-null   float64\n",
      " 37  secondary_cleaner.state.floatbank2_b_air    5833 non-null   float64\n",
      " 38  secondary_cleaner.state.floatbank2_b_level  5840 non-null   float64\n",
      " 39  secondary_cleaner.state.floatbank3_a_air    5822 non-null   float64\n",
      " 40  secondary_cleaner.state.floatbank3_a_level  5840 non-null   float64\n",
      " 41  secondary_cleaner.state.floatbank3_b_air    5840 non-null   float64\n",
      " 42  secondary_cleaner.state.floatbank3_b_level  5840 non-null   float64\n",
      " 43  secondary_cleaner.state.floatbank4_a_air    5840 non-null   float64\n",
      " 44  secondary_cleaner.state.floatbank4_a_level  5840 non-null   float64\n",
      " 45  secondary_cleaner.state.floatbank4_b_air    5840 non-null   float64\n",
      " 46  secondary_cleaner.state.floatbank4_b_level  5840 non-null   float64\n",
      " 47  secondary_cleaner.state.floatbank5_a_air    5840 non-null   float64\n",
      " 48  secondary_cleaner.state.floatbank5_a_level  5840 non-null   float64\n",
      " 49  secondary_cleaner.state.floatbank5_b_air    5840 non-null   float64\n",
      " 50  secondary_cleaner.state.floatbank5_b_level  5840 non-null   float64\n",
      " 51  secondary_cleaner.state.floatbank6_a_air    5840 non-null   float64\n",
      " 52  secondary_cleaner.state.floatbank6_a_level  5840 non-null   float64\n",
      "dtypes: float64(52), object(1)\n",
      "memory usage: 2.4+ MB\n"
     ]
    }
   ],
   "source": [
    "# Loading data\n",
    "df = pd.read_csv('gold_recovery_full.csv')\n",
    "df_train = pd.read_csv('gold_recovery_train.csv')\n",
    "df_test = pd.read_csv('gold_recovery_test.csv')\n",
    "\n",
    "# Displaying info \n",
    "df.info()\n",
    "df_train.info()\n",
    "df_test.info()"
   ]
  },
  {
   "cell_type": "markdown",
   "metadata": {},
   "source": [
    "The full dataset contains 22716 entries and 87 columns, the data from both the training set and test set. The data includes parameters that were measured and/or calculated later in the process, which will be excluded from the training data, which has 16860 entries and also 87 columns.\n",
    "\n",
    "The test dataset has the remaining 5856 entries and only 53 columns including the `date` column that serves as the index value for the data. \n",
    "\n",
    "The columns are grouped by the stage of the cleaning process:\n",
    "1. `rougher` — flotation\n",
    "2. `primary_cleaner` — primary purification\n",
    "3. `secondary_cleaner` — secondary purification\n",
    "4. `final` — final characteristics\n",
    "\n",
    "The stages are then further split into parameter types:\n",
    "1. `input` — raw material parameters\n",
    "2. `output` — product parameters\n",
    "3. `state` — parameters characterizing the current state of the stage\n",
    "4. `calculation` — calculation characteristics\n",
    "\n",
    "After the stage and parameter type is the parameter name including `concentrate`, `tail` and `floatbank` parameters."
   ]
  },
  {
   "cell_type": "markdown",
   "metadata": {},
   "source": [
    "## Data Preprocessing\n",
    "\n",
    "The 53 columns in the test dataset will be saved to train the ML algorithms."
   ]
  },
  {
   "cell_type": "code",
   "execution_count": 3,
   "metadata": {
    "scrolled": true
   },
   "outputs": [
    {
     "data": {
      "text/plain": [
       "53"
      ]
     },
     "metadata": {},
     "output_type": "display_data"
    },
    {
     "data": {
      "text/plain": [
       "['date',\n",
       " 'primary_cleaner.input.sulfate',\n",
       " 'primary_cleaner.input.depressant',\n",
       " 'primary_cleaner.input.feed_size',\n",
       " 'primary_cleaner.input.xanthate',\n",
       " 'primary_cleaner.state.floatbank8_a_air',\n",
       " 'primary_cleaner.state.floatbank8_a_level',\n",
       " 'primary_cleaner.state.floatbank8_b_air',\n",
       " 'primary_cleaner.state.floatbank8_b_level',\n",
       " 'primary_cleaner.state.floatbank8_c_air',\n",
       " 'primary_cleaner.state.floatbank8_c_level',\n",
       " 'primary_cleaner.state.floatbank8_d_air',\n",
       " 'primary_cleaner.state.floatbank8_d_level',\n",
       " 'rougher.input.feed_ag',\n",
       " 'rougher.input.feed_pb',\n",
       " 'rougher.input.feed_rate',\n",
       " 'rougher.input.feed_size',\n",
       " 'rougher.input.feed_sol',\n",
       " 'rougher.input.feed_au',\n",
       " 'rougher.input.floatbank10_sulfate',\n",
       " 'rougher.input.floatbank10_xanthate',\n",
       " 'rougher.input.floatbank11_sulfate',\n",
       " 'rougher.input.floatbank11_xanthate',\n",
       " 'rougher.state.floatbank10_a_air',\n",
       " 'rougher.state.floatbank10_a_level',\n",
       " 'rougher.state.floatbank10_b_air',\n",
       " 'rougher.state.floatbank10_b_level',\n",
       " 'rougher.state.floatbank10_c_air',\n",
       " 'rougher.state.floatbank10_c_level',\n",
       " 'rougher.state.floatbank10_d_air',\n",
       " 'rougher.state.floatbank10_d_level',\n",
       " 'rougher.state.floatbank10_e_air',\n",
       " 'rougher.state.floatbank10_e_level',\n",
       " 'rougher.state.floatbank10_f_air',\n",
       " 'rougher.state.floatbank10_f_level',\n",
       " 'secondary_cleaner.state.floatbank2_a_air',\n",
       " 'secondary_cleaner.state.floatbank2_a_level',\n",
       " 'secondary_cleaner.state.floatbank2_b_air',\n",
       " 'secondary_cleaner.state.floatbank2_b_level',\n",
       " 'secondary_cleaner.state.floatbank3_a_air',\n",
       " 'secondary_cleaner.state.floatbank3_a_level',\n",
       " 'secondary_cleaner.state.floatbank3_b_air',\n",
       " 'secondary_cleaner.state.floatbank3_b_level',\n",
       " 'secondary_cleaner.state.floatbank4_a_air',\n",
       " 'secondary_cleaner.state.floatbank4_a_level',\n",
       " 'secondary_cleaner.state.floatbank4_b_air',\n",
       " 'secondary_cleaner.state.floatbank4_b_level',\n",
       " 'secondary_cleaner.state.floatbank5_a_air',\n",
       " 'secondary_cleaner.state.floatbank5_a_level',\n",
       " 'secondary_cleaner.state.floatbank5_b_air',\n",
       " 'secondary_cleaner.state.floatbank5_b_level',\n",
       " 'secondary_cleaner.state.floatbank6_a_air',\n",
       " 'secondary_cleaner.state.floatbank6_a_level']"
      ]
     },
     "metadata": {},
     "output_type": "display_data"
    }
   ],
   "source": [
    "# Saving feature_names\n",
    "feature_names = list(df_test.columns)\n",
    "display(len(feature_names))\n",
    "display(feature_names)"
   ]
  },
  {
   "cell_type": "markdown",
   "metadata": {},
   "source": [
    "In order to ensure the models are trained only on relevant data, all rows missing target values will be removed."
   ]
  },
  {
   "cell_type": "code",
   "execution_count": 4,
   "metadata": {},
   "outputs": [],
   "source": [
    "# Removing missing target values\n",
    "targets = ['rougher.output.recovery', 'final.output.recovery']\n",
    "if set(targets).issubset(df_train.columns):\n",
    "    df_train = df_train.dropna(subset=targets)\n",
    "if set(targets).issubset(df_test.columns):\n",
    "    df_test = test_data.dropna(subset=targets)\n",
    "if set(targets).issubset(df.columns):\n",
    "    df = df.dropna(subset=targets)"
   ]
  },
  {
   "cell_type": "markdown",
   "metadata": {},
   "source": [
    "Due to the nature of the data, parameters that are next to each other in terms of time are often similar. Using this information, we will use the `ffill` method of the `fillna` function to fill the remaining missing data."
   ]
  },
  {
   "cell_type": "code",
   "execution_count": 5,
   "metadata": {},
   "outputs": [
    {
     "name": "stdout",
     "output_type": "stream",
     "text": [
      "0 0 0\n"
     ]
    }
   ],
   "source": [
    "# Filling remaining missing values\n",
    "df = df.ffill()\n",
    "df_train = df_train.ffill()\n",
    "df_test = df_test.ffill()\n",
    "print(df.isna().sum().sum(), df_train.isna().sum().sum(), df_test.isna().sum().sum())"
   ]
  },
  {
   "cell_type": "markdown",
   "metadata": {},
   "source": [
    "Checking for duplicates to ensure accuracy:"
   ]
  },
  {
   "cell_type": "code",
   "execution_count": 6,
   "metadata": {},
   "outputs": [
    {
     "name": "stdout",
     "output_type": "stream",
     "text": [
      "0 0 0\n"
     ]
    }
   ],
   "source": [
    "print(df.duplicated().sum(), df_train.duplicated().sum(), df_test.duplicated().sum())"
   ]
  },
  {
   "cell_type": "markdown",
   "metadata": {},
   "source": [
    "The customer has requested that the `rougher.output.recovery` value be verified for accuracy. In order to do this, I will write a program that calculates the recovery according to the formula: \n",
    "\n",
    "$$\n",
    "Recovery = \\frac{C * (F - T)}{F * (C - T)} * 100\\%\n",
    "$$\n",
    "\n",
    "Where:\n",
    "- C = share of gold in the concentrate right after flotation\n",
    "- F = share of gold in the feed before flotation\n",
    "- T = share of gold in the rougher tails right after flotation\n",
    "\n",
    "After that, a program that calculates the Mean Absolute Error of the previous program's calculations will be written, then both will be used."
   ]
  },
  {
   "cell_type": "code",
   "execution_count": 7,
   "metadata": {},
   "outputs": [
    {
     "data": {
      "text/plain": [
       "'Mean Abolute Error for rougher.output.recovery: 9.317053768151204e-15'"
      ]
     },
     "metadata": {},
     "output_type": "display_data"
    }
   ],
   "source": [
    "# Setting variable names for recovery calculation\n",
    "rougher_var = ['rougher.output.concentrate_au',\n",
    "               'rougher.input.feed_au',\n",
    "               'rougher.output.tail_au',\n",
    "               'rougher.output.recovery'] \n",
    "\n",
    "# Writing a function to calculate recovery\n",
    "def calculate_recovery(data, var_names):\n",
    "    \n",
    "    c = data[var_names[0]]\n",
    "    f = data[var_names[1]]\n",
    "    t = data[var_names[2]]\n",
    "    \n",
    "    num = c * (f - t)\n",
    "    denom = f * (c - t)\n",
    "    recovery = (num/denom) * 100\n",
    "    \n",
    "    return recovery\n",
    "\n",
    "# Writing a function to calculate MAE of recovery\n",
    "def calculate_mae(data, var_names):\n",
    "    \n",
    "    predicted_recovery = calculate_recovery(data, var_names)\n",
    "    recorded_recovery = data[var_names[3]]\n",
    "    mae = mean_absolute_error(recorded_recovery, predicted_recovery)\n",
    "    return mae\n",
    "\n",
    "\n",
    "rougher_mae = calculate_mae(df_train, rougher_var)\n",
    "display(f'Mean Abolute Error for rougher.output.recovery: {rougher_mae}')"
   ]
  },
  {
   "cell_type": "markdown",
   "metadata": {},
   "source": [
    "The MAE for the recovery is $9.32 * 10 ^{-15}$, showing that the error is very small, verifying the accuracy of the data."
   ]
  },
  {
   "cell_type": "markdown",
   "metadata": {},
   "source": [
    "## Data Analysis\n",
    "\n",
    "Now that the data has been cleaned and verified for accuracy, we will plot a few graphs to ensure that the models don't run into any issues before training begins.\n",
    "\n",
    "The following graph looks at the concentration levels of all metals at each stage of the purification process:"
   ]
  },
  {
   "cell_type": "code",
   "execution_count": 8,
   "metadata": {},
   "outputs": [
    {
     "data": {
      "image/png": "[encoded data removed]",
      "text/plain": [
       "<Figure size 1000x1500 with 3 Axes>"
      ]
     },
     "metadata": {},
     "output_type": "display_data"
    }
   ],
   "source": [
    "# Isolating metal concentration values\n",
    "ag_concentration = ['rougher.input.feed_ag', 'rougher.output.concentrate_ag', 'primary_cleaner.output.concentrate_ag', 'final.output.concentrate_ag']\n",
    "au_concentration = ['rougher.input.feed_au', 'rougher.output.concentrate_au', 'primary_cleaner.output.concentrate_au', 'final.output.concentrate_au']\n",
    "pb_concentration = ['rougher.input.feed_pb', 'rougher.output.concentrate_pb', 'primary_cleaner.output.concentrate_pb', 'final.output.concentrate_pb']\n",
    "color_map = ['blue', 'green', 'yellow', 'red']\n",
    "labels = ['Rougher Input', 'Rougher Output', 'Primary Cleaner Output', 'Final Output']\n",
    "\n",
    "# Plotting histograms\n",
    "plt.figure(figsize=(10,15))\n",
    "\n",
    "ag_bins = np.arange(0, 25, .5)\n",
    "plt.subplot(3, 1, 1)\n",
    "for i in range(len(ag_concentration)):\n",
    "    sns.histplot(df[ag_concentration[i]], bins=ag_bins, kde=True, label=labels[i], color=color_map[i])\n",
    "plt.legend(loc='upper right')\n",
    "plt.title('Gold Concentration Distribution')\n",
    "plt.xlabel('Total Concentration')\n",
    "plt.ylabel('Frequency')\n",
    "\n",
    "au_bins = np.arange(0, 52, 1)\n",
    "plt.subplot(3, 1, 2)\n",
    "for i in range(len(au_concentration)):\n",
    "    sns.histplot(df[au_concentration[i]], bins=au_bins, kde=True, label=labels[i], color=color_map[i])\n",
    "plt.legend(loc='upper right')\n",
    "plt.title('Silver Concentration Distribution')\n",
    "plt.xlabel('Total Concentration')\n",
    "plt.ylabel('Frequency')\n",
    "\n",
    "pb_bins = np.arange(0, 17.5, .5)\n",
    "plt.subplot(3, 1, 3)\n",
    "for i in range(len(pb_concentration)):\n",
    "    sns.histplot(df[pb_concentration[i]], bins=pb_bins, kde=True, label=labels[i], color=color_map[i])\n",
    "plt.legend(loc='upper right')\n",
    "plt.title('Lead Concentration Distribution')\n",
    "plt.xlabel('Total Concentration')\n",
    "plt.ylabel('Frequency')\n",
    "\n",
    "plt.show()"
   ]
  },
  {
   "cell_type": "markdown",
   "metadata": {},
   "source": [
    "This graph shows that as the raw material reaches each new purification step the concentration of metals gradually increases, however at all steps there are values of 0, most significantly the Rougher Output step. \n",
    "\n",
    "The next histogram compares the `feed_size` columns in the train and test dataset for the `rougher` stage and the `primary_cleaner` stage respectively. This ensures that the training and test datasets have similar distrubutions to ensure the model can make accurate predictions."
   ]
  },
  {
   "cell_type": "code",
   "execution_count": 9,
   "metadata": {},
   "outputs": [
    {
     "data": {
      "image/png": "[encoded data removed]",
      "text/plain": [
       "<Figure size 1000x1000 with 2 Axes>"
      ]
     },
     "metadata": {},
     "output_type": "display_data"
    }
   ],
   "source": [
    "# Selecting feed_size columns\n",
    "feed_size = [col for col in df_train if 'feed_size' in col]\n",
    "\n",
    "# Create figure for plots\n",
    "plt.figure(figsize=(10,10))\n",
    "\n",
    "# Histogram for Rougher Feed Size\n",
    "rougher_bins = np.arange(0, 150, 2)\n",
    "plt.subplot(2, 1, 1)\n",
    "sns.histplot(df_train[feed_size[1]], bins=rougher_bins, kde=True, label='Train Set', stat='density')\n",
    "sns.histplot(df_test[feed_size[1]], bins=rougher_bins, kde=True, label='Test Set', color='red', stat='density')\n",
    "plt.legend(loc='upper right')\n",
    "plt.xlim(0, 170)\n",
    "plt.title('Rougher Particle Input Feed Size Distribution')\n",
    "plt.xlabel('Feed Particle Size')\n",
    "plt.ylabel('Frequency')\n",
    "\n",
    "# Histogram for Primary Cleaner Feed Size\n",
    "cleaner_bins = np.arange(0, 16, 0.2)\n",
    "plt.subplot(2, 1, 2)\n",
    "sns.histplot(df_train[feed_size[0]], bins=cleaner_bins, kde=True, label='Train Set', stat='density')\n",
    "sns.histplot(df_test[feed_size[0]], bins=cleaner_bins, kde=True, label='Test Set', color='red', stat='density')\n",
    "plt.legend(loc='upper right')\n",
    "plt.title('Primary Cleaner Input Feed Size Distribution')\n",
    "plt.xlabel('Feed Particle Size')\n",
    "plt.ylabel('Frequency')\n",
    "\n",
    "plt.show()"
   ]
  },
  {
   "cell_type": "markdown",
   "metadata": {},
   "source": [
    "The Rougher Feed Size datasets both have a similar mean with a similar skew to the right.\n",
    "\n",
    "The Primary Cleaner Feed Size datasets both have a more normal distribution with a mean of approximately 7.5.\n",
    "\n",
    "The plot clearly shows that both datasets have similiar `feed_size` distributions, therefore the algorithms can be tested on this data.\n",
    "\n",
    "The final graph looks at the total concentration of all substances at all stages:"
   ]
  },
  {
   "cell_type": "code",
   "execution_count": 10,
   "metadata": {
    "scrolled": false
   },
   "outputs": [
    {
     "data": {
      "image/png": "[encoded data removed]",
      "text/plain": [
       "<Figure size 1000x600 with 1 Axes>"
      ]
     },
     "metadata": {},
     "output_type": "display_data"
    }
   ],
   "source": [
    "# Selecting the stages\n",
    "rougher_input = ['rougher.input.feed_ag', 'rougher.input.feed_au', 'rougher.input.feed_pb', 'rougher.input.feed_sol']\n",
    "rougher_concentrate = [col for col in df_train if 'rougher.output.concentrate' in col]\n",
    "primary_concentrate = [col for col in df_train if 'primary_cleaner.output.concentrate' in col]\n",
    "final_concentrate = [col for col in df_train if 'final.output.concentrate' in col]\n",
    "\n",
    "# Plotting histograms\n",
    "binz = np.arange(0, 90, 1)\n",
    "plt.figure(figsize=(10, 6))\n",
    "sns.histplot(df[rougher_input].sum(axis=1), bins=binz, kde=True, color='orange', label='Initial Feed', alpha=.5)\n",
    "sns.histplot(df[rougher_concentrate].sum(axis=1), bins=binz, kde=True, color='blue', label='Initial Concentration', alpha=.5)\n",
    "sns.histplot(df[primary_concentrate].sum(axis=1), bins=binz, kde=True, color='green', label='Primary Cleaning Concentration', alpha=.5)\n",
    "sns.histplot(df[final_concentrate].sum(axis=1), bins=binz, kde=True, color='red', label='Final Concentration', alpha=.5)\n",
    "\n",
    "# Labeling plot\n",
    "plt.title('Total Concentration Distribution For All Substances')\n",
    "plt.xlabel('Total Concentration')\n",
    "plt.ylabel('Frequency')\n",
    "plt.legend()\n",
    "plt.show()"
   ]
  },
  {
   "cell_type": "markdown",
   "metadata": {},
   "source": [
    "This graph shows an abnormal amount of 0 values in all of the stages with the exception of Initial Feed. The outliers will be kept in the dataset as even if certain stages have low output, there is still ore elsewhere in the purification process."
   ]
  },
  {
   "cell_type": "markdown",
   "metadata": {},
   "source": [
    "## Preparing for Training\n",
    "\n",
    "Zyfra wants the models to be trained on the symmetric Mean Absolute Percentage Error (sMAPE) metric, which is calculated via the following formula:\n",
    "\n",
    "$$\n",
    "sMAPE = \\frac{1}{N} \\sum_{i=1}^N \\frac{|y_i - \\hat{y_i}|}{(|y_i| + |\\hat{y_i}|) / 2} * 100\\%\n",
    "$$\n",
    "\n",
    "Where:\n",
    "- $N$ = Number of observations\n",
    "- $y_i$ = Target Value\n",
    "- $\\hat{y_i}$ = Predicted Value\n",
    "- $i$ = Index Value\n",
    "\n",
    "The models will be predicting 2 separate values, `'rougher.output.recovery'` and `'final.output.recovery'`.\n",
    "\n",
    "The final sMAPE value for each model is calculated via the following formula:\n",
    "\n",
    "Final sMAPE = (25% * sMAPE(rougher) + (75% * sMAPE(final))\n",
    "\n",
    "A function that calculates both the rougher sMAPE and final sMAPE and then combines them as required. Then the function will be used with the `make_scorer` function from sklearn so that the models can be cross validated."
   ]
  },
  {
   "cell_type": "code",
   "execution_count": 11,
   "metadata": {},
   "outputs": [],
   "source": [
    "# Defining a function to calculate the sMAPE metric\n",
    "def smape(target, pred):\n",
    "    N = len(target)\n",
    "    smape = (1 / N) * np.sum(2 * np.abs(pred - target) / (np.abs(target) + np.abs(pred))) * 100\n",
    "    final_smape = (smape[0] * .25) + (smape[1] * .75)\n",
    "    return final_smape\n",
    "\n",
    "# Defining the scorer for the cross_val_score function \n",
    "smape_scorer = make_scorer(smape, greater_is_better=False)"
   ]
  },
  {
   "cell_type": "markdown",
   "metadata": {},
   "source": [
    "Now the data will be split into features and targets to fully prepare the data for training and final testing.\n",
    "\n",
    "The `feature_names` variable will be used to select only the features avalible in the test dataset and the `date` column is dropped as the data is not relevant for our purposes. \n",
    "\n",
    "The `targets` variable will be used to select the targets for the learning algorithms, however the test dataset is missing the target values. This is corrected by merging the test dataset and the full dataset via the `date` column then selecting the targets from the new DataFrame."
   ]
  },
  {
   "cell_type": "code",
   "execution_count": 12,
   "metadata": {
    "scrolled": false
   },
   "outputs": [
    {
     "data": {
      "text/plain": [
       "(14149, 52)"
      ]
     },
     "metadata": {},
     "output_type": "display_data"
    },
    {
     "data": {
      "text/plain": [
       "(14149, 2)"
      ]
     },
     "metadata": {},
     "output_type": "display_data"
    },
    {
     "data": {
      "text/plain": [
       "(5856, 52)"
      ]
     },
     "metadata": {},
     "output_type": "display_data"
    },
    {
     "data": {
      "text/plain": [
       "(5856, 2)"
      ]
     },
     "metadata": {},
     "output_type": "display_data"
    }
   ],
   "source": [
    "# Training data\n",
    "features_train = df_train[feature_names].drop('date', axis=1)\n",
    "target_train = df_train[targets] \n",
    "\n",
    "# Test data\n",
    "features_test = df_test[feature_names].drop('date', axis=1)\n",
    "df_test_target = pd.merge(df_test, df[['date', 'rougher.output.recovery', 'final.output.recovery']], on='date', how='left')\n",
    "target_test = df_test_target[targets]\n",
    "\n",
    "display(features_train.shape, target_train.shape)\n",
    "display(features_test.shape, target_test.shape)"
   ]
  },
  {
   "cell_type": "markdown",
   "metadata": {},
   "source": [
    "## Training models\n",
    "\n",
    "We will now train and validate the models using the `cross_val_score` function, using the `smape_scorer` that was created earlier as the evaluation metric. \n",
    "\n",
    "The average of the smape values is displayed, then the model that preformed the best in cross validation will be used for the final test."
   ]
  },
  {
   "cell_type": "code",
   "execution_count": 13,
   "metadata": {
    "scrolled": true
   },
   "outputs": [
    {
     "data": {
      "text/plain": [
       "'Average sMAPE: 12.384596104847033'"
      ]
     },
     "metadata": {},
     "output_type": "display_data"
    }
   ],
   "source": [
    "linereg = LinearRegression()\n",
    "trial_score = -cross_val_score(linereg, features_train, target_train, cv=5, scoring=smape_scorer).mean()\n",
    "display(f'Average sMAPE: {trial_score.mean()}')"
   ]
  },
  {
   "cell_type": "markdown",
   "metadata": {},
   "source": [
    "The Linear Regression model had a mean sMAPE of 12.385."
   ]
  },
  {
   "cell_type": "code",
   "execution_count": 14,
   "metadata": {},
   "outputs": [
    {
     "data": {
      "text/plain": [
       "'Best Number of Neighbors: 400 - sMAPE: 11.446089348797853'"
      ]
     },
     "metadata": {},
     "output_type": "display_data"
    }
   ],
   "source": [
    "top_neighbor_score = 100\n",
    "best_neigh_num = 0\n",
    "for n in range(20, 401, 20):\n",
    "    k_model = KNeighborsRegressor(n_neighbors=n)\n",
    "    k_score = -cross_val_score(k_model, features_train, target_train, cv=5, scoring=smape_scorer).mean()\n",
    "    if k_score < top_neighbor_score:\n",
    "        top_neighbor_score = k_score\n",
    "        top_model = k_model\n",
    "        best_neigh_num = n\n",
    "display(f'Best Number of Neighbors: {best_neigh_num} - sMAPE: {top_neighbor_score}')"
   ]
  },
  {
   "cell_type": "markdown",
   "metadata": {},
   "source": [
    "The best K-Neighbors Regressor had 400 neighbors and a mean sMAPE of 11.446."
   ]
  },
  {
   "cell_type": "code",
   "execution_count": 15,
   "metadata": {},
   "outputs": [
    {
     "data": {
      "text/plain": [
       "'Best Depth: 4 - sMAPE: 11.008386560119698'"
      ]
     },
     "metadata": {},
     "output_type": "display_data"
    }
   ],
   "source": [
    "top_tree_score = 100\n",
    "top_depth = 0\n",
    "for depth in range(1, 11):\n",
    "    tree = DecisionTreeRegressor(max_depth=depth, random_state=888)\n",
    "    tree_score = -cross_val_score(tree, features_train, target_train, cv=5, scoring=smape_scorer).mean()\n",
    "    if tree_score < top_tree_score:\n",
    "        top_tree_score = tree_score\n",
    "        top_tree = tree\n",
    "        top_depth = depth\n",
    "display(f'Best Depth: {top_depth} - sMAPE: {top_tree_score}')"
   ]
  },
  {
   "cell_type": "markdown",
   "metadata": {},
   "source": [
    "The best Decision Tree Regressor model had a depth of 4 with a mean sMAPE of 11.008, preforming better than both of the previous models."
   ]
  },
  {
   "cell_type": "code",
   "execution_count": 17,
   "metadata": {},
   "outputs": [
    {
     "data": {
      "text/plain": [
       "'Best Depth: 6 - sMAPE: 10.334911901115918'"
      ]
     },
     "metadata": {},
     "output_type": "display_data"
    }
   ],
   "source": [
    "top_forest_score = 100\n",
    "best_est = 0\n",
    "forest_depth = 0\n",
    "\n",
    "for depth in range(1, 10):\n",
    "    for est in range(10, 101, 10):\n",
    "        forest = RandomForestRegressor(max_depth=depth, n_estimators=est, random_state=888)\n",
    "        forest_score = -cross_val_score(forest, features_train, target_train, cv=5, scoring=smape_scorer).mean()\n",
    "        if forest_score < top_forest_score:\n",
    "            top_forest_score = forest_score\n",
    "            top_forest = forest\n",
    "            forest_depth = depth\n",
    "display(f'Best Depth: {forest_depth} - sMAPE: {top_forest_score}')"
   ]
  },
  {
   "cell_type": "markdown",
   "metadata": {},
   "source": [
    "The best Random Forest Regressor model had a depth of 6 and a mean sMAPE of 10.335, preforming the best out of all the models."
   ]
  },
  {
   "cell_type": "markdown",
   "metadata": {},
   "source": [
    "## Final Test\n",
    "\n",
    "Now the best preforming model, the Random Forest Regressor, will be used for the final test using the test dataset."
   ]
  },
  {
   "cell_type": "code",
   "execution_count": 18,
   "metadata": {},
   "outputs": [
    {
     "data": {
      "text/plain": [
       "'Test sMAPE: 8.219471398935315'"
      ]
     },
     "metadata": {},
     "output_type": "display_data"
    },
    {
     "data": {
      "text/plain": [
       "'Sanity Check: 8.030300192954662'"
      ]
     },
     "metadata": {},
     "output_type": "display_data"
    }
   ],
   "source": [
    "# Final Test\n",
    "top_forest.fit(features_train, target_train)\n",
    "test_predict = top_forest.predict(features_test)\n",
    "test_score = smape(target_test, test_predict)\n",
    "display(f'Test sMAPE: {test_score}')\n",
    "\n",
    "# Preforming Sanity Check\n",
    "sanity = np.array([target_test.median() for i in target_test.index])\n",
    "sanity_check = smape(target_test, sanity)\n",
    "display(f'Sanity Check: {sanity_check}')"
   ]
  },
  {
   "cell_type": "markdown",
   "metadata": {},
   "source": [
    "The best model preformed exceedingly well with the test dataset, with an sMAPE score of 8.220.\n",
    "\n",
    "The models have been succesfully trained with errors being minimized."
   ]
  }
 ],
 "metadata": {
  "ExecuteTimeLog": [
   {
    "duration": 1298,
    "start_time": "2024-07-19T23:22:45.778Z"
   },
   {
    "duration": 1020,
    "start_time": "2024-07-19T23:24:51.994Z"
   },
   {
    "duration": 979,
    "start_time": "2024-07-19T23:25:19.950Z"
   },
   {
    "duration": 822,
    "start_time": "2024-07-19T23:25:24.464Z"
   },
   {
    "duration": 830,
    "start_time": "2024-07-19T23:25:49.046Z"
   },
   {
    "duration": 786,
    "start_time": "2024-07-19T23:31:04.023Z"
   },
   {
    "duration": 20,
    "start_time": "2024-07-20T00:58:51.179Z"
   },
   {
    "duration": 13,
    "start_time": "2024-07-20T01:00:10.717Z"
   },
   {
    "duration": 886,
    "start_time": "2024-07-20T01:00:55.483Z"
   },
   {
    "duration": 912,
    "start_time": "2024-07-20T01:01:16.766Z"
   },
   {
    "duration": 1078,
    "start_time": "2024-07-20T01:06:10.071Z"
   },
   {
    "duration": 115,
    "start_time": "2024-07-20T01:07:50.979Z"
   },
   {
    "duration": 75,
    "start_time": "2024-07-20T01:08:24.258Z"
   },
   {
    "duration": 8,
    "start_time": "2024-07-20T01:27:31.125Z"
   },
   {
    "duration": 11,
    "start_time": "2024-07-20T01:27:36.937Z"
   },
   {
    "duration": 17,
    "start_time": "2024-07-20T01:28:06.611Z"
   },
   {
    "duration": 10,
    "start_time": "2024-07-20T01:31:01.804Z"
   },
   {
    "duration": 14,
    "start_time": "2024-07-20T01:31:11.369Z"
   },
   {
    "duration": 15,
    "start_time": "2024-07-20T01:31:19.041Z"
   },
   {
    "duration": 38,
    "start_time": "2024-07-20T01:48:47.417Z"
   },
   {
    "duration": 5,
    "start_time": "2024-07-20T01:48:53.431Z"
   },
   {
    "duration": 290,
    "start_time": "2024-07-20T01:48:58.102Z"
   },
   {
    "duration": 316,
    "start_time": "2024-07-20T04:42:44.266Z"
   },
   {
    "duration": 1202,
    "start_time": "2024-07-20T04:42:50.601Z"
   },
   {
    "duration": 4,
    "start_time": "2024-07-20T04:42:52.721Z"
   },
   {
    "duration": 1028,
    "start_time": "2024-07-20T04:42:53.249Z"
   },
   {
    "duration": 279,
    "start_time": "2024-07-20T04:42:54.967Z"
   },
   {
    "duration": 146,
    "start_time": "2024-07-20T04:43:14.843Z"
   },
   {
    "duration": 86,
    "start_time": "2024-07-20T04:43:53.980Z"
   },
   {
    "duration": 4255,
    "start_time": "2024-07-20T05:17:33.430Z"
   },
   {
    "duration": 142,
    "start_time": "2024-07-20T05:24:53.720Z"
   },
   {
    "duration": 16,
    "start_time": "2024-07-20T05:31:36.220Z"
   },
   {
    "duration": 14,
    "start_time": "2024-07-20T05:32:37.266Z"
   },
   {
    "duration": 18,
    "start_time": "2024-07-20T05:33:32.310Z"
   },
   {
    "duration": 19,
    "start_time": "2024-07-20T05:33:37.942Z"
   },
   {
    "duration": 116,
    "start_time": "2024-07-20T05:36:48.879Z"
   },
   {
    "duration": 176,
    "start_time": "2024-07-20T05:37:04.971Z"
   },
   {
    "duration": 46,
    "start_time": "2024-07-20T05:45:09.990Z"
   },
   {
    "duration": 20,
    "start_time": "2024-07-20T05:45:21.477Z"
   },
   {
    "duration": 20,
    "start_time": "2024-07-20T05:46:17.412Z"
   },
   {
    "duration": 179,
    "start_time": "2024-07-20T05:47:23.286Z"
   },
   {
    "duration": 344,
    "start_time": "2024-07-20T07:14:09.080Z"
   },
   {
    "duration": 5381,
    "start_time": "2024-07-20T07:14:15.077Z"
   },
   {
    "duration": 1028,
    "start_time": "2024-07-20T07:14:20.461Z"
   },
   {
    "duration": 463,
    "start_time": "2024-07-20T07:14:21.492Z"
   },
   {
    "duration": 163,
    "start_time": "2024-07-20T07:15:06.769Z"
   },
   {
    "duration": 37,
    "start_time": "2024-07-20T07:18:00.699Z"
   },
   {
    "duration": 304,
    "start_time": "2024-07-22T15:09:52.550Z"
   },
   {
    "duration": 5146,
    "start_time": "2024-07-22T15:09:55.786Z"
   },
   {
    "duration": 1009,
    "start_time": "2024-07-22T15:10:01.531Z"
   },
   {
    "duration": 242,
    "start_time": "2024-07-22T15:18:41.401Z"
   },
   {
    "duration": 284,
    "start_time": "2024-07-22T15:18:49.795Z"
   },
   {
    "duration": 153,
    "start_time": "2024-07-22T15:20:20.288Z"
   },
   {
    "duration": 160,
    "start_time": "2024-07-22T15:20:47.985Z"
   },
   {
    "duration": 218,
    "start_time": "2024-07-22T15:22:08.965Z"
   },
   {
    "duration": 166,
    "start_time": "2024-07-22T15:22:44.029Z"
   },
   {
    "duration": 31,
    "start_time": "2024-07-22T15:23:13.996Z"
   },
   {
    "duration": 33,
    "start_time": "2024-07-22T15:23:24.986Z"
   },
   {
    "duration": 709,
    "start_time": "2024-07-22T15:23:39.108Z"
   },
   {
    "duration": 35,
    "start_time": "2024-07-22T15:24:17.504Z"
   },
   {
    "duration": 34,
    "start_time": "2024-07-22T15:24:23.859Z"
   },
   {
    "duration": 146,
    "start_time": "2024-07-22T15:24:43.703Z"
   },
   {
    "duration": 34,
    "start_time": "2024-07-22T15:24:49.594Z"
   },
   {
    "duration": 33,
    "start_time": "2024-07-22T15:25:46.652Z"
   },
   {
    "duration": 17,
    "start_time": "2024-07-22T15:26:35.615Z"
   },
   {
    "duration": 6,
    "start_time": "2024-07-22T16:04:11.583Z"
   },
   {
    "duration": 4,
    "start_time": "2024-07-22T16:36:24.003Z"
   },
   {
    "duration": 9,
    "start_time": "2024-07-22T16:36:32.055Z"
   },
   {
    "duration": 197,
    "start_time": "2024-07-22T17:02:49.974Z"
   },
   {
    "duration": 185,
    "start_time": "2024-07-22T17:03:02.965Z"
   },
   {
    "duration": 180,
    "start_time": "2024-07-22T17:03:13.750Z"
   },
   {
    "duration": 194,
    "start_time": "2024-07-22T17:03:22.597Z"
   },
   {
    "duration": 1678,
    "start_time": "2024-07-22T17:03:28.947Z"
   },
   {
    "duration": 542,
    "start_time": "2024-07-22T17:06:36.774Z"
   },
   {
    "duration": 481,
    "start_time": "2024-07-22T17:09:23.056Z"
   },
   {
    "duration": 487,
    "start_time": "2024-07-22T17:10:38.358Z"
   },
   {
    "duration": 503,
    "start_time": "2024-07-22T17:10:44.660Z"
   },
   {
    "duration": 547,
    "start_time": "2024-07-22T17:12:05.304Z"
   },
   {
    "duration": 529,
    "start_time": "2024-07-22T17:13:41.399Z"
   },
   {
    "duration": 174,
    "start_time": "2024-07-22T17:17:43.543Z"
   },
   {
    "duration": 1436,
    "start_time": "2024-07-22T17:18:26.783Z"
   },
   {
    "duration": 1792,
    "start_time": "2024-07-22T17:19:26.865Z"
   },
   {
    "duration": 1276,
    "start_time": "2024-07-22T17:19:36.027Z"
   },
   {
    "duration": 1859,
    "start_time": "2024-07-22T17:19:44.198Z"
   },
   {
    "duration": 1752,
    "start_time": "2024-07-22T17:21:43.188Z"
   },
   {
    "duration": 1687,
    "start_time": "2024-07-22T17:22:48.927Z"
   },
   {
    "duration": 2030,
    "start_time": "2024-07-22T17:24:01.725Z"
   },
   {
    "duration": 2132,
    "start_time": "2024-07-22T17:28:14.968Z"
   },
   {
    "duration": 1866,
    "start_time": "2024-07-22T17:29:37.789Z"
   },
   {
    "duration": 5,
    "start_time": "2024-07-22T17:30:04.126Z"
   },
   {
    "duration": 1832,
    "start_time": "2024-07-22T17:30:08.462Z"
   },
   {
    "duration": 2041,
    "start_time": "2024-07-22T17:30:39.174Z"
   },
   {
    "duration": 2123,
    "start_time": "2024-07-22T17:30:51.353Z"
   },
   {
    "duration": 1910,
    "start_time": "2024-07-22T17:32:33.678Z"
   },
   {
    "duration": 2127,
    "start_time": "2024-07-22T18:04:37.287Z"
   },
   {
    "duration": 1954,
    "start_time": "2024-07-22T18:05:26.386Z"
   },
   {
    "duration": 1858,
    "start_time": "2024-07-22T18:05:35.023Z"
   },
   {
    "duration": 2093,
    "start_time": "2024-07-22T18:05:46.545Z"
   },
   {
    "duration": 1832,
    "start_time": "2024-07-22T18:12:12.594Z"
   },
   {
    "duration": 1769,
    "start_time": "2024-07-22T18:41:10.511Z"
   },
   {
    "duration": 2049,
    "start_time": "2024-07-22T18:41:23.111Z"
   },
   {
    "duration": 1927,
    "start_time": "2024-07-22T18:42:17.999Z"
   },
   {
    "duration": 1625,
    "start_time": "2024-07-22T18:42:26.745Z"
   },
   {
    "duration": 1879,
    "start_time": "2024-07-22T18:42:45.249Z"
   },
   {
    "duration": 6,
    "start_time": "2024-07-22T18:45:57.313Z"
   },
   {
    "duration": 6,
    "start_time": "2024-07-22T18:46:10.224Z"
   },
   {
    "duration": 1187,
    "start_time": "2024-07-22T18:47:32.769Z"
   },
   {
    "duration": 882,
    "start_time": "2024-07-22T18:47:58.063Z"
   },
   {
    "duration": 9,
    "start_time": "2024-07-22T18:48:08.752Z"
   },
   {
    "duration": 341,
    "start_time": "2024-07-22T18:48:11.496Z"
   },
   {
    "duration": 343,
    "start_time": "2024-07-22T18:48:18.264Z"
   },
   {
    "duration": 938,
    "start_time": "2024-07-22T18:48:24.483Z"
   },
   {
    "duration": 494,
    "start_time": "2024-07-22T18:48:42.317Z"
   },
   {
    "duration": 723,
    "start_time": "2024-07-22T18:49:24.439Z"
   },
   {
    "duration": 771,
    "start_time": "2024-07-22T18:49:30.000Z"
   },
   {
    "duration": 731,
    "start_time": "2024-07-22T18:50:01.931Z"
   },
   {
    "duration": 782,
    "start_time": "2024-07-22T18:50:30.724Z"
   },
   {
    "duration": 2190,
    "start_time": "2024-07-22T18:51:28.944Z"
   },
   {
    "duration": 1855,
    "start_time": "2024-07-22T18:52:48.427Z"
   },
   {
    "duration": 1944,
    "start_time": "2024-07-22T18:54:04.983Z"
   },
   {
    "duration": 554,
    "start_time": "2024-07-22T18:55:58.393Z"
   },
   {
    "duration": 328,
    "start_time": "2024-07-22T18:57:17.490Z"
   },
   {
    "duration": 340,
    "start_time": "2024-07-22T18:57:35.002Z"
   },
   {
    "duration": 388,
    "start_time": "2024-07-22T18:57:58.624Z"
   },
   {
    "duration": 489,
    "start_time": "2024-07-22T18:58:09.421Z"
   },
   {
    "duration": 355,
    "start_time": "2024-07-22T18:58:18.486Z"
   },
   {
    "duration": 336,
    "start_time": "2024-07-22T18:58:27.085Z"
   },
   {
    "duration": 393,
    "start_time": "2024-07-22T18:58:35.222Z"
   },
   {
    "duration": 390,
    "start_time": "2024-07-22T19:01:21.207Z"
   },
   {
    "duration": 22,
    "start_time": "2024-07-22T19:11:27.813Z"
   },
   {
    "duration": 19,
    "start_time": "2024-07-22T19:11:33.623Z"
   },
   {
    "duration": 19,
    "start_time": "2024-07-22T19:16:04.287Z"
   },
   {
    "duration": 1573,
    "start_time": "2024-07-22T19:16:09.760Z"
   },
   {
    "duration": 855,
    "start_time": "2024-07-22T19:16:11.337Z"
   },
   {
    "duration": 39,
    "start_time": "2024-07-22T19:16:12.196Z"
   },
   {
    "duration": 23,
    "start_time": "2024-07-22T19:16:12.238Z"
   },
   {
    "duration": 696,
    "start_time": "2024-07-22T19:16:12.266Z"
   },
   {
    "duration": 0,
    "start_time": "2024-07-22T19:16:12.965Z"
   },
   {
    "duration": 0,
    "start_time": "2024-07-22T19:16:12.968Z"
   },
   {
    "duration": 0,
    "start_time": "2024-07-22T19:16:12.970Z"
   },
   {
    "duration": 0,
    "start_time": "2024-07-22T19:16:12.973Z"
   },
   {
    "duration": 1600,
    "start_time": "2024-07-22T19:16:34.502Z"
   },
   {
    "duration": 883,
    "start_time": "2024-07-22T19:16:36.105Z"
   },
   {
    "duration": 23,
    "start_time": "2024-07-22T19:16:36.992Z"
   },
   {
    "duration": 22,
    "start_time": "2024-07-22T19:16:37.034Z"
   },
   {
    "duration": 12,
    "start_time": "2024-07-22T19:16:37.059Z"
   },
   {
    "duration": 1989,
    "start_time": "2024-07-22T19:16:37.074Z"
   },
   {
    "duration": 386,
    "start_time": "2024-07-22T19:16:39.066Z"
   },
   {
    "duration": 526,
    "start_time": "2024-07-22T19:16:39.455Z"
   },
   {
    "duration": 247,
    "start_time": "2024-07-22T19:18:53.769Z"
   },
   {
    "duration": 22,
    "start_time": "2024-07-22T19:20:24.389Z"
   },
   {
    "duration": 21,
    "start_time": "2024-07-22T19:20:25.590Z"
   },
   {
    "duration": 13,
    "start_time": "2024-07-22T19:20:31.460Z"
   },
   {
    "duration": 26,
    "start_time": "2024-07-22T19:20:58.085Z"
   },
   {
    "duration": 29,
    "start_time": "2024-07-22T19:21:16.727Z"
   },
   {
    "duration": 27,
    "start_time": "2024-07-22T19:21:36.907Z"
   },
   {
    "duration": 31,
    "start_time": "2024-07-22T19:21:51.575Z"
   },
   {
    "duration": 1586,
    "start_time": "2024-07-22T19:22:37.223Z"
   },
   {
    "duration": 859,
    "start_time": "2024-07-22T19:22:38.812Z"
   },
   {
    "duration": 40,
    "start_time": "2024-07-22T19:22:39.674Z"
   },
   {
    "duration": 24,
    "start_time": "2024-07-22T19:22:39.737Z"
   },
   {
    "duration": 682,
    "start_time": "2024-07-22T19:22:39.764Z"
   },
   {
    "duration": 0,
    "start_time": "2024-07-22T19:22:40.449Z"
   },
   {
    "duration": 0,
    "start_time": "2024-07-22T19:22:40.451Z"
   },
   {
    "duration": 0,
    "start_time": "2024-07-22T19:22:40.455Z"
   },
   {
    "duration": 136,
    "start_time": "2024-07-22T19:23:27.837Z"
   },
   {
    "duration": 831,
    "start_time": "2024-07-22T19:23:39.256Z"
   },
   {
    "duration": 20,
    "start_time": "2024-07-22T19:23:40.091Z"
   },
   {
    "duration": 18,
    "start_time": "2024-07-22T19:23:40.700Z"
   },
   {
    "duration": 8,
    "start_time": "2024-07-22T19:24:33.860Z"
   },
   {
    "duration": 2049,
    "start_time": "2024-07-22T19:24:38.130Z"
   },
   {
    "duration": 387,
    "start_time": "2024-07-22T19:24:40.182Z"
   },
   {
    "duration": 628,
    "start_time": "2024-07-22T19:32:23.791Z"
   },
   {
    "duration": 425,
    "start_time": "2024-07-22T19:34:51.940Z"
   },
   {
    "duration": 447,
    "start_time": "2024-07-22T19:36:25.044Z"
   },
   {
    "duration": 37,
    "start_time": "2024-07-22T19:37:12.324Z"
   },
   {
    "duration": 1221,
    "start_time": "2024-07-22T19:37:51.055Z"
   },
   {
    "duration": 1055,
    "start_time": "2024-07-22T19:38:04.489Z"
   },
   {
    "duration": 1062,
    "start_time": "2024-07-22T19:39:13.238Z"
   },
   {
    "duration": 1242,
    "start_time": "2024-07-22T19:39:27.637Z"
   },
   {
    "duration": 1097,
    "start_time": "2024-07-22T19:40:22.645Z"
   },
   {
    "duration": 1191,
    "start_time": "2024-07-22T19:40:29.798Z"
   },
   {
    "duration": 1194,
    "start_time": "2024-07-22T19:41:02.060Z"
   },
   {
    "duration": 1139,
    "start_time": "2024-07-22T19:41:09.428Z"
   },
   {
    "duration": 1307,
    "start_time": "2024-07-22T19:41:25.309Z"
   },
   {
    "duration": 1176,
    "start_time": "2024-07-22T19:42:20.022Z"
   },
   {
    "duration": 1136,
    "start_time": "2024-07-22T19:42:39.095Z"
   },
   {
    "duration": 1308,
    "start_time": "2024-07-22T19:42:51.389Z"
   },
   {
    "duration": 1472,
    "start_time": "2024-07-22T19:43:08.464Z"
   },
   {
    "duration": 622,
    "start_time": "2024-07-22T19:45:16.469Z"
   },
   {
    "duration": 1176,
    "start_time": "2024-07-22T20:10:01.875Z"
   },
   {
    "duration": 930,
    "start_time": "2024-07-22T20:10:21.380Z"
   },
   {
    "duration": 631,
    "start_time": "2024-07-22T20:11:49.323Z"
   },
   {
    "duration": 631,
    "start_time": "2024-07-22T20:12:08.964Z"
   },
   {
    "duration": 612,
    "start_time": "2024-07-22T20:12:59.876Z"
   },
   {
    "duration": 269,
    "start_time": "2024-07-22T20:13:18.741Z"
   },
   {
    "duration": 644,
    "start_time": "2024-07-22T20:13:47.631Z"
   },
   {
    "duration": 640,
    "start_time": "2024-07-22T20:14:39.830Z"
   },
   {
    "duration": 761,
    "start_time": "2024-07-22T20:16:47.213Z"
   },
   {
    "duration": 8,
    "start_time": "2024-07-22T20:17:41.720Z"
   },
   {
    "duration": 8,
    "start_time": "2024-07-22T20:17:52.579Z"
   },
   {
    "duration": 924,
    "start_time": "2024-07-22T20:18:25.426Z"
   },
   {
    "duration": 1933,
    "start_time": "2024-07-22T20:19:12.579Z"
   },
   {
    "duration": 629,
    "start_time": "2024-07-22T20:20:16.500Z"
   },
   {
    "duration": 955,
    "start_time": "2024-07-22T20:20:56.339Z"
   },
   {
    "duration": 1074,
    "start_time": "2024-07-22T20:21:06.538Z"
   },
   {
    "duration": 1009,
    "start_time": "2024-07-22T20:21:19.343Z"
   },
   {
    "duration": 1005,
    "start_time": "2024-07-22T20:21:31.523Z"
   },
   {
    "duration": 1533,
    "start_time": "2024-07-22T20:21:50.126Z"
   },
   {
    "duration": 1901,
    "start_time": "2024-07-22T20:22:46.221Z"
   },
   {
    "duration": 1668,
    "start_time": "2024-07-22T20:22:55.208Z"
   },
   {
    "duration": 1425,
    "start_time": "2024-07-22T20:23:08.640Z"
   },
   {
    "duration": 1374,
    "start_time": "2024-07-22T20:23:45.154Z"
   },
   {
    "duration": 1149,
    "start_time": "2024-07-22T20:24:51.461Z"
   },
   {
    "duration": 1556,
    "start_time": "2024-07-22T20:42:01.773Z"
   },
   {
    "duration": 827,
    "start_time": "2024-07-22T20:42:03.333Z"
   },
   {
    "duration": 24,
    "start_time": "2024-07-22T20:42:04.163Z"
   },
   {
    "duration": 21,
    "start_time": "2024-07-22T20:42:04.189Z"
   },
   {
    "duration": 8,
    "start_time": "2024-07-22T20:42:04.237Z"
   },
   {
    "duration": 2055,
    "start_time": "2024-07-22T20:42:04.248Z"
   },
   {
    "duration": 675,
    "start_time": "2024-07-22T20:42:06.306Z"
   },
   {
    "duration": 0,
    "start_time": "2024-07-22T20:42:06.984Z"
   },
   {
    "duration": 1200,
    "start_time": "2024-07-22T20:46:52.904Z"
   },
   {
    "duration": 4,
    "start_time": "2024-07-22T20:47:00.585Z"
   },
   {
    "duration": 1334,
    "start_time": "2024-07-22T20:53:18.651Z"
   },
   {
    "duration": 1131,
    "start_time": "2024-07-22T20:53:28.183Z"
   },
   {
    "duration": 1269,
    "start_time": "2024-07-22T20:53:37.158Z"
   },
   {
    "duration": 1067,
    "start_time": "2024-07-22T20:53:50.625Z"
   },
   {
    "duration": 1218,
    "start_time": "2024-07-22T20:54:02.010Z"
   },
   {
    "duration": 1114,
    "start_time": "2024-07-22T20:54:08.307Z"
   },
   {
    "duration": 319,
    "start_time": "2024-07-22T23:27:41.259Z"
   },
   {
    "duration": 5275,
    "start_time": "2024-07-22T23:27:47.299Z"
   },
   {
    "duration": 994,
    "start_time": "2024-07-22T23:27:53.255Z"
   },
   {
    "duration": 25,
    "start_time": "2024-07-22T23:27:54.893Z"
   },
   {
    "duration": 19,
    "start_time": "2024-07-22T23:28:00.551Z"
   },
   {
    "duration": 7,
    "start_time": "2024-07-22T23:28:03.359Z"
   },
   {
    "duration": 2001,
    "start_time": "2024-07-22T23:28:06.031Z"
   },
   {
    "duration": 1271,
    "start_time": "2024-07-22T23:28:11.269Z"
   },
   {
    "duration": 1325,
    "start_time": "2024-07-22T23:29:10.924Z"
   },
   {
    "duration": 7,
    "start_time": "2024-07-23T00:35:14.754Z"
   },
   {
    "duration": 7,
    "start_time": "2024-07-23T00:35:21.963Z"
   },
   {
    "duration": 7,
    "start_time": "2024-07-23T00:35:27.571Z"
   },
   {
    "duration": 2001,
    "start_time": "2024-07-23T00:37:09.841Z"
   },
   {
    "duration": 1690,
    "start_time": "2024-07-23T00:38:18.278Z"
   },
   {
    "duration": 449,
    "start_time": "2024-07-23T00:38:31.918Z"
   },
   {
    "duration": 1142,
    "start_time": "2024-07-23T00:39:17.946Z"
   },
   {
    "duration": 1110,
    "start_time": "2024-07-23T00:39:35.944Z"
   },
   {
    "duration": 403,
    "start_time": "2024-07-23T00:39:51.894Z"
   },
   {
    "duration": 462,
    "start_time": "2024-07-23T00:40:22.955Z"
   },
   {
    "duration": 1818,
    "start_time": "2024-07-23T00:41:01.384Z"
   },
   {
    "duration": 1217,
    "start_time": "2024-07-23T00:41:53.081Z"
   },
   {
    "duration": 615,
    "start_time": "2024-07-23T00:44:42.801Z"
   },
   {
    "duration": 488,
    "start_time": "2024-07-23T00:45:09.168Z"
   },
   {
    "duration": 5180,
    "start_time": "2024-07-23T23:17:35.262Z"
   },
   {
    "duration": 1026,
    "start_time": "2024-07-23T23:17:40.446Z"
   },
   {
    "duration": 25,
    "start_time": "2024-07-23T23:17:41.475Z"
   },
   {
    "duration": 33,
    "start_time": "2024-07-23T23:17:41.503Z"
   },
   {
    "duration": 8,
    "start_time": "2024-07-23T23:17:41.541Z"
   },
   {
    "duration": 2091,
    "start_time": "2024-07-23T23:17:41.553Z"
   },
   {
    "duration": 1240,
    "start_time": "2024-07-23T23:17:43.647Z"
   },
   {
    "duration": 557,
    "start_time": "2024-07-23T23:17:44.891Z"
   },
   {
    "duration": 5,
    "start_time": "2024-07-23T23:17:45.451Z"
   },
   {
    "duration": 563,
    "start_time": "2024-07-23T23:19:14.942Z"
   },
   {
    "duration": 318,
    "start_time": "2024-07-24T02:46:49.831Z"
   },
   {
    "duration": 5236,
    "start_time": "2024-07-24T02:47:34.478Z"
   },
   {
    "duration": 1007,
    "start_time": "2024-07-24T02:47:39.718Z"
   },
   {
    "duration": 24,
    "start_time": "2024-07-24T02:47:40.728Z"
   },
   {
    "duration": 21,
    "start_time": "2024-07-24T02:47:40.756Z"
   },
   {
    "duration": 7,
    "start_time": "2024-07-24T02:47:40.780Z"
   },
   {
    "duration": 2084,
    "start_time": "2024-07-24T02:47:40.791Z"
   },
   {
    "duration": 1207,
    "start_time": "2024-07-24T02:47:42.879Z"
   },
   {
    "duration": 1067,
    "start_time": "2024-07-24T02:47:44.090Z"
   },
   {
    "duration": 5,
    "start_time": "2024-07-24T02:47:45.160Z"
   },
   {
    "duration": 5180,
    "start_time": "2024-07-24T04:15:38.710Z"
   },
   {
    "duration": 988,
    "start_time": "2024-07-24T04:15:43.894Z"
   },
   {
    "duration": 24,
    "start_time": "2024-07-24T04:15:44.885Z"
   },
   {
    "duration": 31,
    "start_time": "2024-07-24T04:15:44.913Z"
   },
   {
    "duration": 7,
    "start_time": "2024-07-24T04:15:44.947Z"
   },
   {
    "duration": 2101,
    "start_time": "2024-07-24T04:15:44.958Z"
   },
   {
    "duration": 1221,
    "start_time": "2024-07-24T04:15:47.063Z"
   },
   {
    "duration": 1112,
    "start_time": "2024-07-24T04:15:48.287Z"
   },
   {
    "duration": 5,
    "start_time": "2024-07-24T04:15:49.402Z"
   },
   {
    "duration": 1266,
    "start_time": "2024-07-24T04:20:15.958Z"
   },
   {
    "duration": 1003,
    "start_time": "2024-07-24T04:20:30.699Z"
   },
   {
    "duration": 11,
    "start_time": "2024-07-24T04:20:46.802Z"
   },
   {
    "duration": 1384,
    "start_time": "2024-07-24T04:20:50.605Z"
   },
   {
    "duration": 1810,
    "start_time": "2024-07-24T04:22:08.660Z"
   },
   {
    "duration": 2078,
    "start_time": "2024-07-24T04:25:40.734Z"
   },
   {
    "duration": 2077,
    "start_time": "2024-07-24T04:27:51.701Z"
   },
   {
    "duration": 4,
    "start_time": "2024-07-24T04:36:18.072Z"
   },
   {
    "duration": 6,
    "start_time": "2024-07-24T04:50:24.864Z"
   },
   {
    "duration": 6,
    "start_time": "2024-07-24T04:50:32.721Z"
   },
   {
    "duration": 10,
    "start_time": "2024-07-24T04:50:36.504Z"
   },
   {
    "duration": 530,
    "start_time": "2024-07-24T04:50:50.746Z"
   },
   {
    "duration": 24,
    "start_time": "2024-07-24T05:03:06.704Z"
   },
   {
    "duration": 13253,
    "start_time": "2024-07-24T05:03:57.584Z"
   },
   {
    "duration": 36,
    "start_time": "2024-07-24T05:04:29.392Z"
   },
   {
    "duration": 1592,
    "start_time": "2024-07-24T05:07:09.130Z"
   },
   {
    "duration": 822,
    "start_time": "2024-07-24T05:07:10.725Z"
   },
   {
    "duration": 26,
    "start_time": "2024-07-24T05:07:11.551Z"
   },
   {
    "duration": 20,
    "start_time": "2024-07-24T05:07:11.581Z"
   },
   {
    "duration": 9,
    "start_time": "2024-07-24T05:07:11.631Z"
   },
   {
    "duration": 2244,
    "start_time": "2024-07-24T05:07:11.643Z"
   },
   {
    "duration": 2173,
    "start_time": "2024-07-24T05:07:13.890Z"
   },
   {
    "duration": 1785,
    "start_time": "2024-07-24T05:07:16.065Z"
   },
   {
    "duration": 13546,
    "start_time": "2024-07-24T05:07:17.853Z"
   },
   {
    "duration": 4,
    "start_time": "2024-07-24T05:07:31.405Z"
   },
   {
    "duration": 7,
    "start_time": "2024-07-24T05:07:31.429Z"
   },
   {
    "duration": 158,
    "start_time": "2024-07-24T05:07:31.439Z"
   },
   {
    "duration": 6,
    "start_time": "2024-07-24T05:12:14.655Z"
   },
   {
    "duration": 135,
    "start_time": "2024-07-24T05:12:15.262Z"
   },
   {
    "duration": 14092,
    "start_time": "2024-07-24T05:13:59.976Z"
   },
   {
    "duration": 14171,
    "start_time": "2024-07-24T05:14:28.000Z"
   },
   {
    "duration": 134,
    "start_time": "2024-07-24T05:15:50.214Z"
   },
   {
    "duration": 1518,
    "start_time": "2024-07-24T05:15:58.471Z"
   },
   {
    "duration": 826,
    "start_time": "2024-07-24T05:15:59.993Z"
   },
   {
    "duration": 24,
    "start_time": "2024-07-24T05:16:00.830Z"
   },
   {
    "duration": 20,
    "start_time": "2024-07-24T05:16:00.858Z"
   },
   {
    "duration": 8,
    "start_time": "2024-07-24T05:16:00.881Z"
   },
   {
    "duration": 2063,
    "start_time": "2024-07-24T05:16:00.892Z"
   },
   {
    "duration": 2092,
    "start_time": "2024-07-24T05:16:02.958Z"
   },
   {
    "duration": 1779,
    "start_time": "2024-07-24T05:16:05.054Z"
   },
   {
    "duration": 4,
    "start_time": "2024-07-24T05:16:06.837Z"
   },
   {
    "duration": 6,
    "start_time": "2024-07-24T05:16:06.846Z"
   },
   {
    "duration": 455,
    "start_time": "2024-07-24T05:16:06.855Z"
   },
   {
    "duration": 907,
    "start_time": "2024-07-24T05:17:17.527Z"
   },
   {
    "duration": 40,
    "start_time": "2024-07-24T05:21:52.249Z"
   },
   {
    "duration": 1202,
    "start_time": "2024-07-24T05:22:07.942Z"
   },
   {
    "duration": 23,
    "start_time": "2024-07-24T05:22:37.402Z"
   },
   {
    "duration": 7,
    "start_time": "2024-07-24T05:23:23.168Z"
   },
   {
    "duration": 207,
    "start_time": "2024-07-24T05:23:30.223Z"
   },
   {
    "duration": 5249,
    "start_time": "2024-07-25T18:48:29.900Z"
   },
   {
    "duration": 1010,
    "start_time": "2024-07-25T18:48:35.154Z"
   },
   {
    "duration": 22,
    "start_time": "2024-07-25T18:48:36.167Z"
   },
   {
    "duration": 33,
    "start_time": "2024-07-25T18:48:36.193Z"
   },
   {
    "duration": 7,
    "start_time": "2024-07-25T18:48:36.229Z"
   },
   {
    "duration": 2142,
    "start_time": "2024-07-25T18:48:36.239Z"
   },
   {
    "duration": 2081,
    "start_time": "2024-07-25T18:48:38.384Z"
   },
   {
    "duration": 1944,
    "start_time": "2024-07-25T18:48:40.468Z"
   },
   {
    "duration": 5,
    "start_time": "2024-07-25T18:48:42.416Z"
   },
   {
    "duration": 6,
    "start_time": "2024-07-25T18:48:42.426Z"
   },
   {
    "duration": 484,
    "start_time": "2024-07-25T18:48:42.435Z"
   },
   {
    "duration": 13,
    "start_time": "2024-07-25T18:56:48.985Z"
   },
   {
    "duration": 851,
    "start_time": "2024-07-25T18:57:19.306Z"
   },
   {
    "duration": 897,
    "start_time": "2024-07-25T18:59:28.519Z"
   },
   {
    "duration": 1545,
    "start_time": "2024-07-25T18:59:35.942Z"
   },
   {
    "duration": 817,
    "start_time": "2024-07-25T18:59:37.491Z"
   },
   {
    "duration": 23,
    "start_time": "2024-07-25T18:59:38.314Z"
   },
   {
    "duration": 20,
    "start_time": "2024-07-25T18:59:38.340Z"
   },
   {
    "duration": 47,
    "start_time": "2024-07-25T18:59:38.365Z"
   },
   {
    "duration": 2062,
    "start_time": "2024-07-25T18:59:38.415Z"
   },
   {
    "duration": 2174,
    "start_time": "2024-07-25T18:59:40.480Z"
   },
   {
    "duration": 1844,
    "start_time": "2024-07-25T18:59:42.657Z"
   },
   {
    "duration": 14,
    "start_time": "2024-07-25T18:59:44.506Z"
   },
   {
    "duration": 826,
    "start_time": "2024-07-25T18:59:44.524Z"
   },
   {
    "duration": 245,
    "start_time": "2024-07-25T19:00:17.548Z"
   },
   {
    "duration": 16,
    "start_time": "2024-07-25T19:00:40.924Z"
   },
   {
    "duration": 50,
    "start_time": "2024-07-25T19:01:05.818Z"
   },
   {
    "duration": 48,
    "start_time": "2024-07-25T19:02:22.224Z"
   },
   {
    "duration": 20,
    "start_time": "2024-07-25T19:02:28.773Z"
   },
   {
    "duration": 27,
    "start_time": "2024-07-25T19:04:06.084Z"
   },
   {
    "duration": 581,
    "start_time": "2024-07-25T19:05:04.141Z"
   },
   {
    "duration": 23,
    "start_time": "2024-07-25T19:05:19.171Z"
   },
   {
    "duration": 19,
    "start_time": "2024-07-25T19:06:46.737Z"
   },
   {
    "duration": 21,
    "start_time": "2024-07-25T19:07:13.489Z"
   },
   {
    "duration": 139,
    "start_time": "2024-07-25T19:08:13.985Z"
   },
   {
    "duration": 20,
    "start_time": "2024-07-25T19:13:36.404Z"
   },
   {
    "duration": 22,
    "start_time": "2024-07-25T19:14:01.272Z"
   },
   {
    "duration": 9,
    "start_time": "2024-07-25T19:14:06.512Z"
   },
   {
    "duration": 23,
    "start_time": "2024-07-25T19:14:45.304Z"
   },
   {
    "duration": 5269,
    "start_time": "2024-07-25T21:44:00.117Z"
   },
   {
    "duration": 1036,
    "start_time": "2024-07-25T21:44:05.390Z"
   },
   {
    "duration": 27,
    "start_time": "2024-07-25T21:44:06.429Z"
   },
   {
    "duration": 22,
    "start_time": "2024-07-25T21:44:06.461Z"
   },
   {
    "duration": 13,
    "start_time": "2024-07-25T21:44:06.511Z"
   },
   {
    "duration": 2158,
    "start_time": "2024-07-25T21:44:06.527Z"
   },
   {
    "duration": 2112,
    "start_time": "2024-07-25T21:44:08.688Z"
   },
   {
    "duration": 1838,
    "start_time": "2024-07-25T21:44:10.803Z"
   },
   {
    "duration": 8,
    "start_time": "2024-07-25T21:44:12.644Z"
   },
   {
    "duration": 19,
    "start_time": "2024-07-25T21:44:12.658Z"
   },
   {
    "duration": 2121,
    "start_time": "2024-07-25T21:59:35.386Z"
   },
   {
    "duration": 2326,
    "start_time": "2024-07-25T21:59:59.861Z"
   },
   {
    "duration": 2535,
    "start_time": "2024-07-25T22:00:16.619Z"
   },
   {
    "duration": 1867,
    "start_time": "2024-07-25T22:00:32.950Z"
   },
   {
    "duration": 29,
    "start_time": "2024-07-25T22:25:24.292Z"
   },
   {
    "duration": 22,
    "start_time": "2024-07-25T22:25:28.239Z"
   },
   {
    "duration": 28,
    "start_time": "2024-07-25T22:25:51.827Z"
   },
   {
    "duration": 12,
    "start_time": "2024-07-25T22:25:56.172Z"
   },
   {
    "duration": 1625,
    "start_time": "2024-07-25T22:26:00.987Z"
   },
   {
    "duration": 858,
    "start_time": "2024-07-25T22:26:02.616Z"
   },
   {
    "duration": 42,
    "start_time": "2024-07-25T22:26:03.478Z"
   },
   {
    "duration": 22,
    "start_time": "2024-07-25T22:26:03.523Z"
   },
   {
    "duration": 30,
    "start_time": "2024-07-25T22:26:03.549Z"
   },
   {
    "duration": 42,
    "start_time": "2024-07-25T22:26:03.583Z"
   },
   {
    "duration": 2149,
    "start_time": "2024-07-25T22:26:03.628Z"
   },
   {
    "duration": 2004,
    "start_time": "2024-07-25T22:26:05.779Z"
   },
   {
    "duration": 1749,
    "start_time": "2024-07-25T22:26:07.786Z"
   },
   {
    "duration": 8,
    "start_time": "2024-07-25T22:26:09.539Z"
   },
   {
    "duration": 24,
    "start_time": "2024-07-25T22:26:09.550Z"
   },
   {
    "duration": 128,
    "start_time": "2024-07-25T22:30:45.890Z"
   },
   {
    "duration": 283,
    "start_time": "2024-07-25T22:31:06.550Z"
   },
   {
    "duration": 2189,
    "start_time": "2024-07-25T23:36:50.319Z"
   },
   {
    "duration": 26,
    "start_time": "2024-07-26T00:01:10.921Z"
   },
   {
    "duration": 2136,
    "start_time": "2024-07-26T00:01:11.472Z"
   },
   {
    "duration": 1112,
    "start_time": "2024-07-26T00:03:11.247Z"
   },
   {
    "duration": 88,
    "start_time": "2024-07-26T00:03:24.161Z"
   },
   {
    "duration": 87,
    "start_time": "2024-07-26T00:03:30.087Z"
   },
   {
    "duration": 26,
    "start_time": "2024-07-26T00:03:35.059Z"
   },
   {
    "duration": 62,
    "start_time": "2024-07-26T00:04:26.305Z"
   },
   {
    "duration": 2309,
    "start_time": "2024-07-26T00:04:34.179Z"
   },
   {
    "duration": 52,
    "start_time": "2024-07-26T00:05:19.623Z"
   },
   {
    "duration": 2464,
    "start_time": "2024-07-26T00:05:24.699Z"
   },
   {
    "duration": 2168,
    "start_time": "2024-07-26T00:05:36.170Z"
   },
   {
    "duration": 1631,
    "start_time": "2024-07-26T00:06:05.514Z"
   },
   {
    "duration": 860,
    "start_time": "2024-07-26T00:06:07.149Z"
   },
   {
    "duration": 26,
    "start_time": "2024-07-26T00:06:08.014Z"
   },
   {
    "duration": 23,
    "start_time": "2024-07-26T00:06:08.043Z"
   },
   {
    "duration": 65,
    "start_time": "2024-07-26T00:06:08.070Z"
   },
   {
    "duration": 306,
    "start_time": "2024-07-26T00:06:08.138Z"
   },
   {
    "duration": 13,
    "start_time": "2024-07-26T00:06:08.446Z"
   },
   {
    "duration": 2112,
    "start_time": "2024-07-26T00:06:08.461Z"
   },
   {
    "duration": 1927,
    "start_time": "2024-07-26T00:06:10.576Z"
   },
   {
    "duration": 2295,
    "start_time": "2024-07-26T00:06:12.513Z"
   },
   {
    "duration": 52,
    "start_time": "2024-07-26T00:06:14.813Z"
   },
   {
    "duration": 2172,
    "start_time": "2024-07-26T00:06:14.868Z"
   },
   {
    "duration": 8,
    "start_time": "2024-07-26T00:06:17.043Z"
   },
   {
    "duration": 21,
    "start_time": "2024-07-26T00:06:17.055Z"
   },
   {
    "duration": 5203,
    "start_time": "2024-07-30T05:24:29.138Z"
   },
   {
    "duration": 1059,
    "start_time": "2024-07-30T05:24:34.345Z"
   },
   {
    "duration": 27,
    "start_time": "2024-07-30T05:24:35.407Z"
   },
   {
    "duration": 48,
    "start_time": "2024-07-30T05:24:35.437Z"
   },
   {
    "duration": 30,
    "start_time": "2024-07-30T05:24:35.489Z"
   },
   {
    "duration": 315,
    "start_time": "2024-07-30T05:24:35.522Z"
   },
   {
    "duration": 28,
    "start_time": "2024-07-30T05:24:35.840Z"
   },
   {
    "duration": 2069,
    "start_time": "2024-07-30T05:24:35.871Z"
   },
   {
    "duration": 1887,
    "start_time": "2024-07-30T05:24:37.946Z"
   },
   {
    "duration": 2304,
    "start_time": "2024-07-30T05:24:39.836Z"
   },
   {
    "duration": 73,
    "start_time": "2024-07-30T05:24:42.144Z"
   },
   {
    "duration": 8,
    "start_time": "2024-07-30T05:24:42.220Z"
   },
   {
    "duration": 42,
    "start_time": "2024-07-30T05:24:42.231Z"
   },
   {
    "duration": 1930,
    "start_time": "2024-07-30T05:26:10.152Z"
   },
   {
    "duration": 62,
    "start_time": "2024-07-30T05:27:25.740Z"
   },
   {
    "duration": 2126,
    "start_time": "2024-07-30T05:27:26.215Z"
   },
   {
    "duration": 22,
    "start_time": "2024-07-30T05:52:17.973Z"
   },
   {
    "duration": 25,
    "start_time": "2024-07-30T05:52:37.958Z"
   },
   {
    "duration": 752,
    "start_time": "2024-07-30T05:57:36.165Z"
   },
   {
    "duration": 20,
    "start_time": "2024-07-30T05:59:20.484Z"
   },
   {
    "duration": 21,
    "start_time": "2024-07-30T05:59:31.048Z"
   },
   {
    "duration": 1658,
    "start_time": "2024-07-30T05:59:37.579Z"
   },
   {
    "duration": 834,
    "start_time": "2024-07-30T05:59:39.241Z"
   },
   {
    "duration": 30,
    "start_time": "2024-07-30T05:59:40.079Z"
   },
   {
    "duration": 24,
    "start_time": "2024-07-30T05:59:40.113Z"
   },
   {
    "duration": 29,
    "start_time": "2024-07-30T05:59:40.167Z"
   },
   {
    "duration": 308,
    "start_time": "2024-07-30T05:59:40.200Z"
   },
   {
    "duration": 12,
    "start_time": "2024-07-30T05:59:40.512Z"
   },
   {
    "duration": 2125,
    "start_time": "2024-07-30T05:59:40.527Z"
   },
   {
    "duration": 1984,
    "start_time": "2024-07-30T05:59:42.656Z"
   },
   {
    "duration": 2219,
    "start_time": "2024-07-30T05:59:44.643Z"
   },
   {
    "duration": 9,
    "start_time": "2024-07-30T05:59:46.870Z"
   },
   {
    "duration": 24,
    "start_time": "2024-07-30T05:59:46.882Z"
   },
   {
    "duration": 1141,
    "start_time": "2024-07-30T06:02:56.861Z"
   },
   {
    "duration": 140,
    "start_time": "2024-07-30T06:05:16.397Z"
   },
   {
    "duration": 141,
    "start_time": "2024-07-30T06:05:35.917Z"
   },
   {
    "duration": 219,
    "start_time": "2024-07-30T06:05:49.125Z"
   },
   {
    "duration": 22,
    "start_time": "2024-07-30T06:06:26.685Z"
   },
   {
    "duration": 89,
    "start_time": "2024-07-30T06:06:59.288Z"
   },
   {
    "duration": 41,
    "start_time": "2024-07-30T06:07:10.743Z"
   },
   {
    "duration": 20,
    "start_time": "2024-07-30T06:07:16.630Z"
   },
   {
    "duration": 26,
    "start_time": "2024-07-30T06:10:26.701Z"
   },
   {
    "duration": 27,
    "start_time": "2024-07-30T06:16:47.349Z"
   },
   {
    "duration": 28,
    "start_time": "2024-07-30T06:16:59.940Z"
   },
   {
    "duration": 36,
    "start_time": "2024-07-30T06:17:02.171Z"
   },
   {
    "duration": 204,
    "start_time": "2024-07-30T06:19:22.398Z"
   },
   {
    "duration": 220,
    "start_time": "2024-07-30T06:20:01.429Z"
   },
   {
    "duration": 25,
    "start_time": "2024-07-30T06:20:34.196Z"
   },
   {
    "duration": 123,
    "start_time": "2024-07-30T06:20:44.349Z"
   },
   {
    "duration": 1569,
    "start_time": "2024-07-30T06:21:04.607Z"
   },
   {
    "duration": 876,
    "start_time": "2024-07-30T06:21:06.180Z"
   },
   {
    "duration": 16,
    "start_time": "2024-07-30T06:21:07.059Z"
   },
   {
    "duration": 26,
    "start_time": "2024-07-30T06:21:07.080Z"
   },
   {
    "duration": 65,
    "start_time": "2024-07-30T06:21:07.109Z"
   },
   {
    "duration": 330,
    "start_time": "2024-07-30T06:21:07.177Z"
   },
   {
    "duration": 12,
    "start_time": "2024-07-30T06:21:07.509Z"
   },
   {
    "duration": 2204,
    "start_time": "2024-07-30T06:21:07.524Z"
   },
   {
    "duration": 2002,
    "start_time": "2024-07-30T06:21:09.731Z"
   },
   {
    "duration": 2094,
    "start_time": "2024-07-30T06:21:11.738Z"
   },
   {
    "duration": 9,
    "start_time": "2024-07-30T06:21:13.835Z"
   },
   {
    "duration": 569,
    "start_time": "2024-07-30T06:21:13.847Z"
   },
   {
    "duration": 0,
    "start_time": "2024-07-30T06:21:14.419Z"
   },
   {
    "duration": 38,
    "start_time": "2024-07-30T06:21:37.195Z"
   },
   {
    "duration": 86,
    "start_time": "2024-07-30T06:21:39.621Z"
   },
   {
    "duration": 42,
    "start_time": "2024-07-30T06:22:27.853Z"
   },
   {
    "duration": 402,
    "start_time": "2024-07-30T06:22:34.287Z"
   },
   {
    "duration": 7,
    "start_time": "2024-07-30T06:25:18.352Z"
   },
   {
    "duration": 40,
    "start_time": "2024-07-30T06:25:22.221Z"
   },
   {
    "duration": 612,
    "start_time": "2024-07-30T06:25:23.597Z"
   },
   {
    "duration": 151,
    "start_time": "2024-07-30T06:46:45.027Z"
   },
   {
    "duration": 107,
    "start_time": "2024-07-30T06:48:05.375Z"
   },
   {
    "duration": 9,
    "start_time": "2024-07-30T06:48:08.915Z"
   },
   {
    "duration": 85,
    "start_time": "2024-07-30T06:48:11.285Z"
   },
   {
    "duration": 85,
    "start_time": "2024-07-30T06:49:22.989Z"
   },
   {
    "duration": 7,
    "start_time": "2024-07-30T06:49:26.420Z"
   },
   {
    "duration": 55,
    "start_time": "2024-07-30T06:49:28.635Z"
   },
   {
    "duration": 5,
    "start_time": "2024-07-30T06:52:29.717Z"
   },
   {
    "duration": 851,
    "start_time": "2024-07-30T06:52:36.933Z"
   },
   {
    "duration": 569,
    "start_time": "2024-07-30T06:52:49.317Z"
   },
   {
    "duration": 196,
    "start_time": "2024-07-30T06:53:00.493Z"
   },
   {
    "duration": 1577,
    "start_time": "2024-07-30T06:53:18.945Z"
   },
   {
    "duration": 829,
    "start_time": "2024-07-30T06:53:20.525Z"
   },
   {
    "duration": 17,
    "start_time": "2024-07-30T06:53:21.357Z"
   },
   {
    "duration": 23,
    "start_time": "2024-07-30T06:53:21.377Z"
   },
   {
    "duration": 34,
    "start_time": "2024-07-30T06:53:21.403Z"
   },
   {
    "duration": 308,
    "start_time": "2024-07-30T06:53:21.468Z"
   },
   {
    "duration": 14,
    "start_time": "2024-07-30T06:53:21.779Z"
   },
   {
    "duration": 2071,
    "start_time": "2024-07-30T06:53:21.797Z"
   },
   {
    "duration": 1962,
    "start_time": "2024-07-30T06:53:23.871Z"
   },
   {
    "duration": 2320,
    "start_time": "2024-07-30T06:53:25.836Z"
   },
   {
    "duration": 10,
    "start_time": "2024-07-30T06:53:28.159Z"
   },
   {
    "duration": 41,
    "start_time": "2024-07-30T06:53:28.173Z"
   },
   {
    "duration": 1249,
    "start_time": "2024-07-30T06:53:28.218Z"
   },
   {
    "duration": 50,
    "start_time": "2024-07-30T06:55:28.020Z"
   },
   {
    "duration": 5,
    "start_time": "2024-07-30T06:56:26.851Z"
   },
   {
    "duration": 35,
    "start_time": "2024-07-30T06:56:29.011Z"
   },
   {
    "duration": 42,
    "start_time": "2024-07-30T06:56:31.227Z"
   },
   {
    "duration": 545,
    "start_time": "2024-07-30T06:57:56.944Z"
   },
   {
    "duration": 870,
    "start_time": "2024-07-30T06:58:09.699Z"
   },
   {
    "duration": 691,
    "start_time": "2024-07-30T06:58:15.285Z"
   },
   {
    "duration": 705,
    "start_time": "2024-07-30T06:58:17.964Z"
   },
   {
    "duration": 19750,
    "start_time": "2024-07-30T07:01:54.117Z"
   },
   {
    "duration": 73076,
    "start_time": "2024-07-30T07:02:34.306Z"
   },
   {
    "duration": 53346,
    "start_time": "2024-07-30T07:05:45.317Z"
   },
   {
    "duration": 53308,
    "start_time": "2024-07-30T07:10:29.140Z"
   },
   {
    "duration": 53322,
    "start_time": "2024-07-30T07:12:15.421Z"
   },
   {
    "duration": 53277,
    "start_time": "2024-07-30T07:13:40.045Z"
   },
   {
    "duration": 53328,
    "start_time": "2024-07-30T07:15:23.340Z"
   },
   {
    "duration": 53317,
    "start_time": "2024-07-30T07:16:23.366Z"
   },
   {
    "duration": 9,
    "start_time": "2024-07-30T07:17:34.620Z"
   },
   {
    "duration": 53234,
    "start_time": "2024-07-30T07:18:24.668Z"
   },
   {
    "duration": 29,
    "start_time": "2024-07-30T07:24:17.218Z"
   },
   {
    "duration": 55152,
    "start_time": "2024-07-30T07:25:17.828Z"
   },
   {
    "duration": 688331,
    "start_time": "2024-07-30T07:33:00.965Z"
   },
   {
    "duration": 5464,
    "start_time": "2024-07-30T22:32:58.147Z"
   },
   {
    "duration": 1046,
    "start_time": "2024-07-30T22:33:03.619Z"
   },
   {
    "duration": 12,
    "start_time": "2024-07-30T22:33:04.671Z"
   },
   {
    "duration": 26,
    "start_time": "2024-07-30T22:33:04.687Z"
   },
   {
    "duration": 41,
    "start_time": "2024-07-30T22:33:04.733Z"
   },
   {
    "duration": 316,
    "start_time": "2024-07-30T22:33:04.777Z"
   },
   {
    "duration": 15,
    "start_time": "2024-07-30T22:33:05.097Z"
   },
   {
    "duration": 2332,
    "start_time": "2024-07-30T22:33:05.133Z"
   },
   {
    "duration": 1980,
    "start_time": "2024-07-30T22:33:07.469Z"
   },
   {
    "duration": 2538,
    "start_time": "2024-07-30T22:33:09.455Z"
   },
   {
    "duration": 7,
    "start_time": "2024-07-30T22:33:11.996Z"
   },
   {
    "duration": 56,
    "start_time": "2024-07-30T22:33:12.007Z"
   },
   {
    "duration": 897,
    "start_time": "2024-07-30T22:33:12.066Z"
   },
   {
    "duration": 61338,
    "start_time": "2024-07-30T22:33:13.034Z"
   },
   {
    "duration": 54073,
    "start_time": "2024-07-30T22:34:14.375Z"
   },
   {
    "duration": 119982,
    "start_time": "2024-07-30T22:35:08.451Z"
   },
   {
    "duration": 1613602,
    "start_time": "2024-07-30T22:38:02.309Z"
   },
   {
    "duration": 790,
    "start_time": "2024-07-30T23:06:00.161Z"
   },
   {
    "duration": 10,
    "start_time": "2024-07-30T23:06:31.075Z"
   },
   {
    "duration": 1183430,
    "start_time": "2024-07-30T23:06:34.685Z"
   },
   {
    "duration": 1760,
    "start_time": "2024-07-30T23:43:11.911Z"
   },
   {
    "duration": 873,
    "start_time": "2024-07-30T23:43:13.676Z"
   },
   {
    "duration": 10,
    "start_time": "2024-07-30T23:43:14.552Z"
   },
   {
    "duration": 23,
    "start_time": "2024-07-30T23:43:14.565Z"
   },
   {
    "duration": 64,
    "start_time": "2024-07-30T23:43:14.592Z"
   },
   {
    "duration": 316,
    "start_time": "2024-07-30T23:43:14.660Z"
   },
   {
    "duration": 13,
    "start_time": "2024-07-30T23:43:14.978Z"
   },
   {
    "duration": 2103,
    "start_time": "2024-07-30T23:43:14.994Z"
   },
   {
    "duration": 1997,
    "start_time": "2024-07-30T23:43:17.101Z"
   },
   {
    "duration": 2106,
    "start_time": "2024-07-30T23:43:19.102Z"
   },
   {
    "duration": 5,
    "start_time": "2024-07-30T23:43:21.211Z"
   },
   {
    "duration": 37,
    "start_time": "2024-07-30T23:43:21.232Z"
   },
   {
    "duration": 670,
    "start_time": "2024-07-30T23:43:21.272Z"
   },
   {
    "duration": 54875,
    "start_time": "2024-07-30T23:43:21.955Z"
   },
   {
    "duration": 59980,
    "start_time": "2024-07-30T23:44:16.833Z"
   },
   {
    "duration": 1184039,
    "start_time": "2024-07-30T23:45:16.817Z"
   },
   {
    "duration": 519,
    "start_time": "2024-07-31T00:51:09.045Z"
   },
   {
    "duration": 215,
    "start_time": "2024-07-31T00:51:18.293Z"
   },
   {
    "duration": 53,
    "start_time": "2024-07-31T00:51:37.213Z"
   },
   {
    "duration": 33954,
    "start_time": "2024-07-31T00:52:20.812Z"
   },
   {
    "duration": 1552,
    "start_time": "2024-07-31T01:40:00.487Z"
   },
   {
    "duration": 866,
    "start_time": "2024-07-31T01:40:02.043Z"
   },
   {
    "duration": 23,
    "start_time": "2024-07-31T01:40:02.912Z"
   },
   {
    "duration": 23,
    "start_time": "2024-07-31T01:40:02.939Z"
   },
   {
    "duration": 34,
    "start_time": "2024-07-31T01:40:02.966Z"
   },
   {
    "duration": 304,
    "start_time": "2024-07-31T01:40:03.032Z"
   },
   {
    "duration": 12,
    "start_time": "2024-07-31T01:40:03.339Z"
   },
   {
    "duration": 2043,
    "start_time": "2024-07-31T01:40:03.354Z"
   },
   {
    "duration": 2015,
    "start_time": "2024-07-31T01:40:05.400Z"
   },
   {
    "duration": 2053,
    "start_time": "2024-07-31T01:40:07.432Z"
   },
   {
    "duration": 5,
    "start_time": "2024-07-31T01:40:09.489Z"
   },
   {
    "duration": 58,
    "start_time": "2024-07-31T01:40:09.497Z"
   },
   {
    "duration": 892,
    "start_time": "2024-07-31T01:40:09.558Z"
   },
   {
    "duration": 82402,
    "start_time": "2024-07-31T01:40:10.452Z"
   },
   {
    "duration": 23795,
    "start_time": "2024-07-31T01:41:32.858Z"
   },
   {
    "duration": 1200693,
    "start_time": "2024-07-31T01:41:56.655Z"
   },
   {
    "duration": 35395,
    "start_time": "2024-07-31T02:01:57.351Z"
   },
   {
    "duration": 12,
    "start_time": "2024-07-31T08:11:33.249Z"
   },
   {
    "duration": 5184,
    "start_time": "2024-08-01T11:53:03.201Z"
   },
   {
    "duration": 1014,
    "start_time": "2024-08-01T11:53:08.389Z"
   },
   {
    "duration": 20,
    "start_time": "2024-08-01T11:53:09.407Z"
   },
   {
    "duration": 24,
    "start_time": "2024-08-01T11:53:09.431Z"
   },
   {
    "duration": 63,
    "start_time": "2024-08-01T11:53:09.460Z"
   },
   {
    "duration": 317,
    "start_time": "2024-08-01T11:53:09.525Z"
   },
   {
    "duration": 14,
    "start_time": "2024-08-01T11:53:09.846Z"
   },
   {
    "duration": 1647,
    "start_time": "2024-08-01T11:53:09.863Z"
   },
   {
    "duration": 1922,
    "start_time": "2024-08-01T11:53:11.513Z"
   },
   {
    "duration": 2348,
    "start_time": "2024-08-01T11:53:13.438Z"
   },
   {
    "duration": 7,
    "start_time": "2024-08-01T11:53:15.790Z"
   },
   {
    "duration": 53,
    "start_time": "2024-08-01T11:53:15.800Z"
   },
   {
    "duration": 770,
    "start_time": "2024-08-01T11:53:15.855Z"
   },
   {
    "duration": 163116,
    "start_time": "2024-08-01T11:53:16.637Z"
   },
   {
    "duration": 24671,
    "start_time": "2024-08-01T11:55:59.756Z"
   },
   {
    "duration": 863728,
    "start_time": "2024-08-01T11:56:24.431Z"
   },
   {
    "duration": 0,
    "start_time": "2024-08-01T12:10:48.163Z"
   },
   {
    "duration": 0,
    "start_time": "2024-08-01T12:10:48.166Z"
   },
   {
    "duration": 1060,
    "start_time": "2024-08-01T12:13:56.122Z"
   },
   {
    "duration": 1677,
    "start_time": "2024-08-01T12:16:29.810Z"
   },
   {
    "duration": 5209,
    "start_time": "2024-08-01T12:17:28.494Z"
   },
   {
    "duration": 2299,
    "start_time": "2024-08-01T12:21:33.888Z"
   },
   {
    "duration": 14,
    "start_time": "2024-08-01T12:34:44.626Z"
   },
   {
    "duration": 262,
    "start_time": "2024-08-01T12:34:49.312Z"
   },
   {
    "duration": 1772,
    "start_time": "2024-08-01T12:35:20.906Z"
   },
   {
    "duration": 4827,
    "start_time": "2024-08-01T12:37:26.898Z"
   },
   {
    "duration": 4474,
    "start_time": "2024-08-01T12:38:41.841Z"
   },
   {
    "duration": 4887,
    "start_time": "2024-08-01T12:39:27.000Z"
   },
   {
    "duration": 4564,
    "start_time": "2024-08-01T12:41:58.704Z"
   },
   {
    "duration": 4520,
    "start_time": "2024-08-01T12:45:00.313Z"
   },
   {
    "duration": 4689,
    "start_time": "2024-08-01T12:53:06.056Z"
   },
   {
    "duration": 4989,
    "start_time": "2024-08-01T12:53:43.400Z"
   },
   {
    "duration": 2102,
    "start_time": "2024-08-01T13:42:21.133Z"
   },
   {
    "duration": 55208,
    "start_time": "2024-08-01T13:45:02.255Z"
   },
   {
    "duration": 44659,
    "start_time": "2024-08-01T13:47:12.856Z"
   },
   {
    "duration": 56305,
    "start_time": "2024-08-01T13:49:10.721Z"
   },
   {
    "duration": 39413,
    "start_time": "2024-08-01T14:05:36.751Z"
   },
   {
    "duration": 1557,
    "start_time": "2024-08-01T14:15:26.035Z"
   },
   {
    "duration": 823,
    "start_time": "2024-08-01T14:15:27.596Z"
   },
   {
    "duration": 11,
    "start_time": "2024-08-01T14:15:28.424Z"
   },
   {
    "duration": 22,
    "start_time": "2024-08-01T14:15:28.438Z"
   },
   {
    "duration": 64,
    "start_time": "2024-08-01T14:15:28.464Z"
   },
   {
    "duration": 313,
    "start_time": "2024-08-01T14:15:28.531Z"
   },
   {
    "duration": 13,
    "start_time": "2024-08-01T14:15:28.847Z"
   },
   {
    "duration": 4954,
    "start_time": "2024-08-01T14:15:28.863Z"
   },
   {
    "duration": 2008,
    "start_time": "2024-08-01T14:15:33.821Z"
   },
   {
    "duration": 2076,
    "start_time": "2024-08-01T14:15:35.833Z"
   },
   {
    "duration": 6,
    "start_time": "2024-08-01T14:15:37.922Z"
   },
   {
    "duration": 35,
    "start_time": "2024-08-01T14:15:37.932Z"
   },
   {
    "duration": 868,
    "start_time": "2024-08-01T14:15:37.970Z"
   },
   {
    "duration": 118168,
    "start_time": "2024-08-01T14:15:38.844Z"
   },
   {
    "duration": 23762,
    "start_time": "2024-08-01T14:17:37.015Z"
   },
   {
    "duration": 1582,
    "start_time": "2024-08-01T17:02:17.396Z"
   },
   {
    "duration": 831,
    "start_time": "2024-08-01T17:02:18.982Z"
   },
   {
    "duration": 16,
    "start_time": "2024-08-01T17:02:19.824Z"
   },
   {
    "duration": 25,
    "start_time": "2024-08-01T17:02:19.845Z"
   },
   {
    "duration": 73,
    "start_time": "2024-08-01T17:02:19.874Z"
   },
   {
    "duration": 313,
    "start_time": "2024-08-01T17:02:19.950Z"
   },
   {
    "duration": 14,
    "start_time": "2024-08-01T17:02:20.266Z"
   },
   {
    "duration": 4992,
    "start_time": "2024-08-01T17:02:20.283Z"
   },
   {
    "duration": 2044,
    "start_time": "2024-08-01T17:02:25.279Z"
   },
   {
    "duration": 2360,
    "start_time": "2024-08-01T17:02:27.328Z"
   },
   {
    "duration": 6,
    "start_time": "2024-08-01T17:02:29.692Z"
   },
   {
    "duration": 52,
    "start_time": "2024-08-01T17:02:29.705Z"
   },
   {
    "duration": 764,
    "start_time": "2024-08-01T17:02:29.760Z"
   },
   {
    "duration": 117621,
    "start_time": "2024-08-01T17:02:30.528Z"
   },
   {
    "duration": 24025,
    "start_time": "2024-08-01T17:04:28.152Z"
   }
  ],
  "kernelspec": {
   "display_name": "base",
   "language": "python",
   "name": "python3"
  },
  "language_info": {
   "codemirror_mode": {
    "name": "ipython",
    "version": 3
   },
   "file_extension": ".py",
   "mimetype": "text/x-python",
   "name": "python",
   "nbconvert_exporter": "python",
   "pygments_lexer": "ipython3",
   "version": "3.12.7"
  },
  "toc": {
   "base_numbering": 1,
   "nav_menu": {
    "height": "306px",
    "width": "160px"
   },
   "number_sections": true,
   "sideBar": true,
   "skip_h1_title": true,
   "title_cell": "Table of Contents",
   "title_sidebar": "Contents",
   "toc_cell": false,
   "toc_position": {},
   "toc_section_display": true,
   "toc_window_display": false
  }
 },
 "nbformat": 4,
 "nbformat_minor": 2
}
